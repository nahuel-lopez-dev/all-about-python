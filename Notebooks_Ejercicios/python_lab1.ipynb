{
 "cells": [
  {
   "cell_type": "markdown",
   "metadata": {},
   "source": [
    "<div align=\"center\">\n",
    "    <h1>Python Lab 1</h1>\n",
    "    <h2>Código Facilito</h2>\n",
    "</div>"
   ]
  },
  {
   "cell_type": "markdown",
   "metadata": {},
   "source": [
    "## Ejercicios de Código Facilito"
   ]
  },
  {
   "cell_type": "markdown",
   "metadata": {},
   "source": [
    "## Parte 1"
   ]
  },
  {
   "cell_type": "markdown",
   "metadata": {},
   "source": [
    "### Ejercicio 1"
   ]
  },
  {
   "cell_type": "markdown",
   "metadata": {},
   "source": [
    "Define una variable llamada celcius que guarde un valor entero para la temperatura en grados Celsius.\n",
    "\n",
    "Calcula la temperatura en grados Fahrenheit usando la fórmula:\n",
    "Fahrenheit = Celsius * 9/5 + 32\n",
    "\n",
    "Imprime la temperatura en Farenheit"
   ]
  },
  {
   "cell_type": "code",
   "execution_count": 4,
   "metadata": {},
   "outputs": [
    {
     "name": "stdout",
     "output_type": "stream",
     "text": [
      "77.0\n"
     ]
    }
   ],
   "source": [
    "celsius = 25  \n",
    "fahrenheit = celsius * 9/5 + 32\n",
    "print(fahrenheit)"
   ]
  },
  {
   "cell_type": "code",
   "execution_count": 1,
   "metadata": {},
   "outputs": [
    {
     "name": "stdout",
     "output_type": "stream",
     "text": [
      "La temperatura en Fahrenheit es: 77.0\n"
     ]
    }
   ],
   "source": [
    "celsius = 25  \n",
    "\n",
    "fahrenheit = celsius * 9/5 + 32\n",
    "\n",
    "print(f'La temperatura en Fahrenheit es: {fahrenheit}')"
   ]
  },
  {
   "cell_type": "markdown",
   "metadata": {},
   "source": [
    "### Ejercicio 2"
   ]
  },
  {
   "cell_type": "markdown",
   "metadata": {},
   "source": [
    "Define 2 variables n1, y n2 ya asígnales un números.\n",
    "\n",
    "Compara los valores de n1 y n2 para determinar qué variable contiene el valor más alto.\n",
    "\n",
    "Si n1 es mayor imprime: “n1 es mayor”\n",
    "Si n2 es mayor imprime: “n2 es mayor”\n",
    "Si son iguales imprime: “Son iguales”"
   ]
  },
  {
   "cell_type": "code",
   "execution_count": 2,
   "metadata": {},
   "outputs": [
    {
     "name": "stdout",
     "output_type": "stream",
     "text": [
      "n2 es mayor\n"
     ]
    }
   ],
   "source": [
    "n1 = 10 \n",
    "n2 = 15 \n",
    "\n",
    "if n1 > n2:\n",
    "    print(\"n1 es mayor\")\n",
    "elif n2 > n1:\n",
    "    print(\"n2 es mayor\")\n",
    "else:\n",
    "    print(\"Son iguales\")"
   ]
  },
  {
   "cell_type": "markdown",
   "metadata": {},
   "source": [
    "### Ejercicio 3"
   ]
  },
  {
   "cell_type": "markdown",
   "metadata": {},
   "source": [
    "Crea una variable de nombre limite, y asignale un valor entero.\n",
    "\n",
    "Usando un ciclo for, imprime todos los números pares entre 1 y el valor de la variable limite.\n",
    "\n",
    "Por ejemplo, si limite es 5, el programa deberá imprimir:\n",
    "\n",
    "2\n",
    "\n",
    "4"
   ]
  },
  {
   "cell_type": "code",
   "execution_count": 3,
   "metadata": {},
   "outputs": [
    {
     "name": "stdout",
     "output_type": "stream",
     "text": [
      "2\n",
      "4\n"
     ]
    }
   ],
   "source": [
    "limite = 5\n",
    "\n",
    "for num in range(1, limite + 1):\n",
    "    if num % 2 == 0:\n",
    "        print(num)"
   ]
  },
  {
   "cell_type": "markdown",
   "metadata": {},
   "source": [
    "### Ejercicio 4"
   ]
  },
  {
   "cell_type": "markdown",
   "metadata": {},
   "source": [
    "Escribe un programa que sume todos los elementos de una lista de números.\n",
    "\n",
    "Pasos:\n",
    "\n",
    "Define una lista de números en una variable llamada números\n",
    "Usa un bucle for para iterar sobre los elementos de la lista y sumarlos.\n",
    "Imprime la suma total.\n",
    "\n",
    "Asegúrate de usar un ciclo for en tu solución"
   ]
  },
  {
   "cell_type": "code",
   "execution_count": 5,
   "metadata": {},
   "outputs": [
    {
     "name": "stdout",
     "output_type": "stream",
     "text": [
      "La suma total es: 15\n"
     ]
    }
   ],
   "source": [
    "numeros = [1, 2, 3, 4, 5]\n",
    "\n",
    "suma_total = 0\n",
    "\n",
    "for num in numeros:\n",
    "    suma_total += num\n",
    "\n",
    "print(suma_total)"
   ]
  },
  {
   "cell_type": "markdown",
   "metadata": {},
   "source": [
    "### Ejercicio 5"
   ]
  },
  {
   "cell_type": "markdown",
   "metadata": {},
   "source": [
    "El factorial de un número es el resultado de multiplicar todos los números entre 1 y el número.\n",
    "\n",
    "Por ejemplo, el factorial de 5 es el resultado de multiplicar 1 * 2 * 3 * 4 * 5 = 120\n",
    "\n",
    "El factorial de 7 es el resultado de multiplicar 1 * 2 * 3 * 4 * 5 * 6 * 7 = 5040\n",
    "\n",
    "Usando Python puedes calcular el factorial de un número, para eso escribe un programa que defina una variable numero_base que contenga un número entero.\n",
    "\n",
    "Usando un ciclo for, calcula el factorial de dicho número e imprímelo en pantalla"
   ]
  },
  {
   "cell_type": "code",
   "execution_count": 6,
   "metadata": {},
   "outputs": [
    {
     "name": "stdout",
     "output_type": "stream",
     "text": [
      "120\n"
     ]
    }
   ],
   "source": [
    "numero_base = 5 \n",
    "\n",
    "factorial = 1\n",
    "\n",
    "for num in range(1, numero_base + 1):\n",
    "    factorial *= num\n",
    "\n",
    "print(factorial)"
   ]
  },
  {
   "cell_type": "markdown",
   "metadata": {},
   "source": [
    "## Parte 2"
   ]
  },
  {
   "cell_type": "markdown",
   "metadata": {},
   "source": [
    "### Ejercicio 6"
   ]
  },
  {
   "cell_type": "markdown",
   "metadata": {},
   "source": [
    "Define una función en Python que permita sumar 2 números enteros.\n",
    "La función debe tener por nombre my_sum_function y debe poseer 2 parámetros con los siguientes nombre: number1 y number2.\n",
    "La función debe retornar la suma de ambos parámetros."
   ]
  },
  {
   "cell_type": "code",
   "execution_count": 8,
   "metadata": {},
   "outputs": [
    {
     "name": "stdout",
     "output_type": "stream",
     "text": [
      "25\n"
     ]
    }
   ],
   "source": [
    "def my_sum_function(number1, number2):\n",
    "    return number1 + number2\n",
    "\n",
    "resultado = my_sum_function(10, 15)\n",
    "\n",
    "print(resultado)\n"
   ]
  },
  {
   "cell_type": "markdown",
   "metadata": {},
   "source": [
    "### Ejercicio 7"
   ]
  },
  {
   "cell_type": "markdown",
   "metadata": {},
   "source": [
    "Define una función en Python llamada average. La función debe poseer un parámetros llamado items, que será una colección de números enteros positivos.\n",
    "\n",
    "La función debe retornar la el promedio de los números en la colección.\n",
    "\n",
    "Por ejemplo, el promedio de los números 1, 2, 3, 4, 5 es 3."
   ]
  },
  {
   "cell_type": "code",
   "execution_count": 10,
   "metadata": {},
   "outputs": [],
   "source": [
    "def average(items):\n",
    "    if not items:\n",
    "        return 0 \n",
    "    \n",
    "    total = sum(items)\n",
    "    return total / len(items)\n"
   ]
  },
  {
   "cell_type": "code",
   "execution_count": 11,
   "metadata": {},
   "outputs": [
    {
     "name": "stdout",
     "output_type": "stream",
     "text": [
      "El promedio de los números [1, 2, 3, 4, 5] es: 3.0\n"
     ]
    }
   ],
   "source": [
    "# Ejemplo de uso:\n",
    "numeros = [1, 2, 3, 4, 5]\n",
    "promedio = average(numeros)\n",
    "print(f'El promedio de los números {numeros} es: {promedio}')\n"
   ]
  },
  {
   "cell_type": "markdown",
   "metadata": {},
   "source": [
    "### Ejercicio 8"
   ]
  },
  {
   "cell_type": "markdown",
   "metadata": {},
   "source": [
    "Crea una clase Estadisticas con la que podrás hacer cálculos básicos sobre una lista de números.\n",
    "\n",
    "Comienza por definir una clase Estadisticas que tenga un atributo público datos."
   ]
  },
  {
   "cell_type": "code",
   "execution_count": 12,
   "metadata": {},
   "outputs": [],
   "source": [
    "class Estadisticas:\n",
    "    def __init__(self, datos):\n",
    "        self.datos = datos \n",
    "\n",
    "    def promedio(self):\n",
    "        if not self.datos:\n",
    "            return 0 \n",
    "        return sum(self.datos) / len(self.datos)\n",
    "\n",
    "    def suma_total(self):\n",
    "        return sum(self.datos)\n",
    "\n",
    "    def cantidad_elementos(self):\n",
    "        return len(self.datos)\n",
    "\n",
    "    def valor_maximo(self):\n",
    "        if not self.datos:\n",
    "            return None\n",
    "        return max(self.datos)\n",
    "\n",
    "    def valor_minimo(self):\n",
    "        if not self.datos:\n",
    "            return None\n",
    "        return min(self.datos)\n"
   ]
  },
  {
   "cell_type": "code",
   "execution_count": 13,
   "metadata": {},
   "outputs": [
    {
     "name": "stdout",
     "output_type": "stream",
     "text": [
      "Promedio: 3.0\n",
      "Suma total: 15\n",
      "Cantidad de elementos: 5\n",
      "Valor máximo: 5\n",
      "Valor mínimo: 1\n"
     ]
    }
   ],
   "source": [
    "# Crear una instancia de la clase Estadisticas con una lista de números\n",
    "mis_datos = Estadisticas([1, 2, 3, 4, 5])\n",
    "\n",
    "# Usar los métodos para calcular estadísticas\n",
    "print(f'Promedio: {mis_datos.promedio()}')\n",
    "print(f'Suma total: {mis_datos.suma_total()}')\n",
    "print(f'Cantidad de elementos: {mis_datos.cantidad_elementos()}')\n",
    "print(f'Valor máximo: {mis_datos.valor_maximo()}')\n",
    "print(f'Valor mínimo: {mis_datos.valor_minimo()}')\n"
   ]
  },
  {
   "cell_type": "markdown",
   "metadata": {},
   "source": [
    "### Ejercicio 9"
   ]
  },
  {
   "cell_type": "markdown",
   "metadata": {},
   "source": [
    "Ahora define 2 métodos calcular_promedio y calcular_mediana, estos deberán usar el atributo datos de la clase para retornar el resultado apropiado.\n",
    "\n",
    "Asegúrate de implementar el código en cada método para que:\n",
    "\n",
    "La función calcular_promedio retorne el promedio (media) de la lista del atributo datos de la clase\n",
    "La función calcular_mediana retorne la median"
   ]
  },
  {
   "cell_type": "code",
   "execution_count": 14,
   "metadata": {},
   "outputs": [
    {
     "name": "stdout",
     "output_type": "stream",
     "text": [
      "Promedio: 3.5\n",
      "Mediana: 3.5\n"
     ]
    }
   ],
   "source": [
    "class Estadisticas:\n",
    "    def __init__(self, datos):\n",
    "        self.datos = datos\n",
    "\n",
    "    def calcular_promedio(self):\n",
    "        if not self.datos:\n",
    "            return 0 \n",
    "        return sum(self.datos) / len(self.datos)\n",
    "\n",
    "    def calcular_mediana(self):\n",
    "        if not self.datos:\n",
    "            return None\n",
    "        \n",
    "        sorted_datos = sorted(self.datos)\n",
    "        n = len(sorted_datos)\n",
    "\n",
    "        if n % 2 == 0:\n",
    "            return (sorted_datos[n//2 - 1] + sorted_datos[n//2]) / 2\n",
    "        else:\n",
    "            return sorted_datos[n//2]a\n",
    "\n",
    "mis_datos = Estadisticas([1, 2, 3, 4, 5, 6])\n",
    "\n",
    "print(f'Promedio: {mis_datos.calcular_promedio()}')\n",
    "print(f'Mediana: {mis_datos.calcular_mediana()}')\n"
   ]
  },
  {
   "cell_type": "markdown",
   "metadata": {},
   "source": [
    "### **Fin Notebook**"
   ]
  }
 ],
 "metadata": {
  "kernelspec": {
   "display_name": "Python 3",
   "language": "python",
   "name": "python3"
  },
  "language_info": {
   "codemirror_mode": {
    "name": "ipython",
    "version": 3
   },
   "file_extension": ".py",
   "mimetype": "text/x-python",
   "name": "python",
   "nbconvert_exporter": "python",
   "pygments_lexer": "ipython3",
   "version": "3.11.1"
  }
 },
 "nbformat": 4,
 "nbformat_minor": 2
}
