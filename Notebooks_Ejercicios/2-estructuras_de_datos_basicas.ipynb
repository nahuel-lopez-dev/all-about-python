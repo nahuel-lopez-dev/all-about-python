{
 "cells": [
  {
   "cell_type": "markdown",
   "metadata": {},
   "source": [
    "<div align=\"center\">\n",
    "    <h1>Ejercicios sobre Estructuras de Datos Básicas</h1>\n",
    "</div>\n"
   ]
  },
  {
   "cell_type": "markdown",
   "metadata": {},
   "source": [
    "- Listas\n",
    "- Tuplas\n",
    "- Diccionarios\n",
    "- Conjuntos"
   ]
  },
  {
   "cell_type": "markdown",
   "metadata": {},
   "source": [
    "## Listas"
   ]
  },
  {
   "cell_type": "markdown",
   "metadata": {},
   "source": [
    "Ejercicio: operaciones con listas\n",
    "\n",
    "Crear una función que reciba como parámetro una lista de números y devuelva una lista con los valores siguientes:\n",
    "\n",
    "- Suma de los elementos de la lista\n",
    "- El valor máximo de la lista\n",
    "- El valor mínimo de la lista\n",
    "- La lista de números ordenada de forma ascendente\n",
    "- La lista con los cuadrados de cada número de la lista\n",
    "\n",
    "def operaciones_con_listas(numeros):\n",
    "\n",
    "Ejemplo de uso\n",
    "\n",
    "numeros = [5, 2, 9, 1, 7]\n",
    "resultados = operaciones_con_listas(numeros)\n",
    "- print(\"Resultados:\")\n",
    "- print(\"Suma:\", resultados[0])\n",
    "- print(\"Número máximo:\", resultados[1])\n",
    "- print(\"Número mínimo:\", resultados[2])\n",
    "- print(\"Lista ordenada ascendente:\", resultados[3])\n",
    "- print(\"Cuadrados de los números:\", resultados[4])\n",
    "\n",
    "Resultados:\n",
    "- Suma: 24\n",
    "- Número máximo: 9\n",
    "- Número mínimo: 1\n",
    "- Lista ordenada ascendente: [1, 2, 5, 7, 9]\n",
    "- Cuadrados de los números: [25, 4, 81, 1, 49]\n"
   ]
  },
  {
   "cell_type": "code",
   "execution_count": 1,
   "metadata": {},
   "outputs": [
    {
     "name": "stdout",
     "output_type": "stream",
     "text": [
      "Resultados:\n",
      "Suma: 24\n",
      "Número máximo: 9\n",
      "Número mínimo: 1\n",
      "Lista ordenada ascendente: [1, 2, 5, 7, 9]\n",
      "Cuadrados de los números: [25, 4, 81, 1, 49]\n"
     ]
    }
   ],
   "source": [
    "def operaciones_con_listas(numeros):\n",
    "    # Suma de los elementos de la lista\n",
    "    suma = sum(numeros)\n",
    "    \n",
    "    # El valor máximo de la lista\n",
    "    maximo = max(numeros)\n",
    "    \n",
    "    # El valor mínimo de la lista\n",
    "    minimo = min(numeros)\n",
    "    \n",
    "    # La lista de números ordenada de forma ascendente\n",
    "    ordenada = sorted(numeros)\n",
    "    \n",
    "    # La lista con los cuadrados de cada número de la lista\n",
    "    cuadrados = [x ** 2 for x in numeros]\n",
    "    \n",
    "    # Devolvemos una lista con todos los resultados\n",
    "    return [suma, maximo, minimo, ordenada, cuadrados]\n",
    "\n",
    "# Ejemplo de uso\n",
    "numeros = [5, 2, 9, 1, 7]\n",
    "resultados = operaciones_con_listas(numeros)\n",
    "print(\"Resultados:\")\n",
    "print(\"Suma:\", resultados[0])\n",
    "print(\"Número máximo:\", resultados[1])\n",
    "print(\"Número mínimo:\", resultados[2])\n",
    "print(\"Lista ordenada ascendente:\", resultados[3])\n",
    "print(\"Cuadrados de los números:\", resultados[4])\n"
   ]
  },
  {
   "cell_type": "markdown",
   "metadata": {},
   "source": [
    "## Tuplas"
   ]
  },
  {
   "cell_type": "markdown",
   "metadata": {},
   "source": [
    "Ejercicio: operaciones con tuplas\n",
    "\n",
    "Se pide crear una función que reciba como parámetro una tupla y devuelva otra tupla con los siguientes resultados:\n",
    "\n",
    "- Primer elemento de la tupla\n",
    "- Tercer elemento de la tupla\n",
    "- Longitud de la tupla\n",
    "- Verificar si el número 3 está en la tupla\n",
    "\n",
    "def operaciones_con_tuplas(tupla):\n",
    "\n",
    "\n",
    "Ejemplo de uso\n",
    "\n",
    "tupla = (1, 2, 3, 4, 5)\n",
    "resultados = operaciones_con_tuplas(tupla)\n",
    "\n",
    "- print(\"Resultados:\")\n",
    "- print(\"Primer elemento:\", resultados[0])\n",
    "- print(\"Tercer elemento:\", resultados[1])\n",
    "- print(\"Longitud:\", resultados[2])\n",
    "- print(\"El número 3 está en la tupla:\", resultados[3])\n",
    "\n",
    "Resultados:\n",
    "- Primer elemento: 1\n",
    "- Tercer elemento: 3\n",
    "- Longitud: 5\n",
    "- El número 3 está en la tupla: True"
   ]
  },
  {
   "cell_type": "code",
   "execution_count": 2,
   "metadata": {},
   "outputs": [
    {
     "name": "stdout",
     "output_type": "stream",
     "text": [
      "Resultados:\n",
      "Primer elemento: 1\n",
      "Tercer elemento: 3\n",
      "Longitud: 5\n",
      "El número 3 está en la tupla: True\n"
     ]
    }
   ],
   "source": [
    "def operaciones_con_tuplas(tupla):\n",
    "    # Primer elemento de la tupla\n",
    "    primer_elemento = tupla[0]\n",
    "    \n",
    "    # Tercer elemento de la tupla\n",
    "    tercer_elemento = tupla[2]\n",
    "    \n",
    "    # Longitud de la tupla\n",
    "    longitud_tupla = len(tupla)\n",
    "    \n",
    "    # Verificar si el número 3 está en la tupla\n",
    "    numero_tres_en_tupla = 3 in tupla\n",
    "    \n",
    "    # Devolver una nueva tupla con los resultados\n",
    "    return (primer_elemento, tercer_elemento, longitud_tupla, numero_tres_en_tupla)\n",
    "\n",
    "# Ejemplo de uso\n",
    "tupla = (1, 2, 3, 4, 5)\n",
    "resultados = operaciones_con_tuplas(tupla)\n",
    "print(\"Resultados:\")\n",
    "print(\"Primer elemento:\", resultados[0])\n",
    "print(\"Tercer elemento:\", resultados[1])\n",
    "print(\"Longitud:\", resultados[2])\n",
    "print(\"El número 3 está en la tupla:\", resultados[3])\n"
   ]
  },
  {
   "cell_type": "markdown",
   "metadata": {},
   "source": [
    "## Sets o Conjuntos"
   ]
  },
  {
   "cell_type": "markdown",
   "metadata": {},
   "source": [
    "Ejercicio: operaciones con conjuntos\n",
    "\n",
    "Crear una función que reciba como parámetro un conjunto de números y devuelva un diccionario con los siguientes resultados:\n",
    "\n",
    "- Longitud del conjunto\n",
    "- Valor máximo del conjunto\n",
    "- Valor mínimo del conjunto\n",
    "- Verificar que el elemento con valor 3 existe en el conjunto\n",
    "- Hacer la intersección con el conjunto {2,3,6}\n",
    "\n",
    "def operaciones_con_conjuntos(conjunto):\n",
    "\n",
    "Ejemplo de uso\n",
    "\n",
    "conjunto = {1, 2, 3, 4, 5}\n",
    "\n",
    "resultados = operaciones_con_conjuntos(conjunto)\n",
    "for clave, valor in resultados.items():\n",
    "    print(f\"{clave}: {valor}\")\n",
    "\n",
    "\n",
    "Resultados:\n",
    "\n",
    "- Longitud: 5\n",
    "- Maximo: 5\n",
    "- Minimo: 1\n",
    "- Existe: False\n",
    "- Intersección: {2, 3}"
   ]
  },
  {
   "cell_type": "code",
   "execution_count": 3,
   "metadata": {},
   "outputs": [
    {
     "name": "stdout",
     "output_type": "stream",
     "text": [
      "Longitud: 5\n",
      "Maximo: 5\n",
      "Minimo: 1\n",
      "Existe: True\n",
      "Intersección: {2, 3}\n"
     ]
    }
   ],
   "source": [
    "def operaciones_con_conjuntos(conjunto):\n",
    "    # Longitud del conjunto\n",
    "    longitud_conjunto = len(conjunto)\n",
    "    \n",
    "    # Valor máximo del conjunto\n",
    "    maximo_conjunto = max(conjunto)\n",
    "    \n",
    "    # Valor mínimo del conjunto\n",
    "    minimo_conjunto = min(conjunto)\n",
    "    \n",
    "    # Verificar que el elemento con valor 3 existe en el conjunto\n",
    "    existe_tres = 3 in conjunto\n",
    "    \n",
    "    # Hacer la intersección con el conjunto {2, 3, 6}\n",
    "    interseccion_conjunto = conjunto.intersection({2, 3, 6})\n",
    "    \n",
    "    # Devolver un diccionario con los resultados\n",
    "    return {\n",
    "        \"Longitud\": longitud_conjunto,\n",
    "        \"Maximo\": maximo_conjunto,\n",
    "        \"Minimo\": minimo_conjunto,\n",
    "        \"Existe\": existe_tres,\n",
    "        \"Intersección\": interseccion_conjunto\n",
    "    }\n",
    "\n",
    "# Ejemplo de uso\n",
    "conjunto = {1, 2, 3, 4, 5}\n",
    "resultados = operaciones_con_conjuntos(conjunto)\n",
    "for clave, valor in resultados.items():\n",
    "    print(f\"{clave}: {valor}\")\n"
   ]
  },
  {
   "cell_type": "markdown",
   "metadata": {},
   "source": [
    "## Diccionarios"
   ]
  },
  {
   "cell_type": "markdown",
   "metadata": {},
   "source": [
    "Ejercicio: operaciones con diccionarios\n",
    "\n",
    "Crear una función que reciba como parámetro un diccionario, y que devuelva otro diccionario con estos calculos realizados:\n",
    "\n",
    "- Calcular la cantidad de elementos en el diccionario.\n",
    "- Encontrar las claves y valores máximos y mínimos en el diccionario.\n",
    "- Calcular la suma de todos los valores en el diccionario.\n",
    "- Crear un nuevo diccionario con las claves en mayúsculas y los valores al cuadrado.\n",
    "\n",
    "def operaciones_con_diccionarios(diccionario):\n",
    "   \n",
    "\n",
    "Ejemplo de uso\n",
    "\n",
    "mi_diccionario = {\n",
    "    \"a\": 3,\n",
    "    \"b\": 8,\n",
    "    \"c\": 1,\n",
    "    \"d\": 6\n",
    "}\n",
    " \n",
    "resultados = operaciones_con_diccionarios(mi_diccionario)\n",
    "print(\"Resultados:\")\n",
    "for clave, valor in resultados.items():\n",
    "    print(f\"{clave}: {valor}\")\n",
    "   \n",
    "\n",
    "Resultados:\n",
    "\n",
    "- Cantidad de elementos: 4\n",
    "- Clave máxima: b\n",
    "- Valor máximo: 8\n",
    "- Clave mínima: c\n",
    "- Valor mínimo: 1\n",
    "- Suma de valores: 18\n",
    "- Diccionario modificado: {'A': 9, 'B': 64, 'C': 1, 'D': 36}"
   ]
  },
  {
   "cell_type": "code",
   "execution_count": 4,
   "metadata": {},
   "outputs": [
    {
     "name": "stdout",
     "output_type": "stream",
     "text": [
      "Resultados:\n",
      "Cantidad de elementos: 4\n",
      "Clave máxima: b\n",
      "Valor máximo: 8\n",
      "Clave mínima: c\n",
      "Valor mínimo: 1\n",
      "Suma de valores: 18\n",
      "Diccionario modificado: {'A': 9, 'B': 64, 'C': 1, 'D': 36}\n"
     ]
    }
   ],
   "source": [
    "def operaciones_con_diccionarios(diccionario):\n",
    "    # Calcular la cantidad de elementos en el diccionario\n",
    "    cantidad_elementos = len(diccionario)\n",
    "    \n",
    "    # Encontrar la clave del valor máximo y mínimo en el diccionario\n",
    "    clave_maxima = max(diccionario, key=diccionario.get)\n",
    "    valor_maximo = diccionario[clave_maxima]\n",
    "    \n",
    "    clave_minima = min(diccionario, key=diccionario.get)\n",
    "    valor_minimo = diccionario[clave_minima]\n",
    "    \n",
    "    # Calcular la suma de todos los valores en el diccionario\n",
    "    suma_valores = sum(diccionario.values())\n",
    "    \n",
    "    # Crear un nuevo diccionario con las claves en mayúsculas y los valores al cuadrado\n",
    "    diccionario_modificado = {clave.upper(): valor**2 for clave, valor in diccionario.items()}\n",
    "    \n",
    "    # Devolver un diccionario con los resultados\n",
    "    return {\n",
    "        \"Cantidad de elementos\": cantidad_elementos,\n",
    "        \"Clave máxima\": clave_maxima,\n",
    "        \"Valor máximo\": valor_maximo,\n",
    "        \"Clave mínima\": clave_minima,\n",
    "        \"Valor mínimo\": valor_minimo,\n",
    "        \"Suma de valores\": suma_valores,\n",
    "        \"Diccionario modificado\": diccionario_modificado\n",
    "    }\n",
    "\n",
    "# Ejemplo de uso\n",
    "mi_diccionario = {\n",
    "    \"a\": 3,\n",
    "    \"b\": 8,\n",
    "    \"c\": 1,\n",
    "    \"d\": 6\n",
    "}\n",
    " \n",
    "resultados = operaciones_con_diccionarios(mi_diccionario)\n",
    "print(\"Resultados:\")\n",
    "for clave, valor in resultados.items():\n",
    "    print(f\"{clave}: {valor}\")\n"
   ]
  },
  {
   "cell_type": "markdown",
   "metadata": {},
   "source": [
    "## Combinación de estructuras"
   ]
  },
  {
   "cell_type": "markdown",
   "metadata": {},
   "source": [
    "#### Ejercicios\n",
    "\n",
    "1. Eliminar los espacios en blanco de un string y devolver una lista con los caracteres restantes\n",
    "\n",
    "2. Contar en un diccionario cuánto se repiten los caracteres de un string\n",
    "\n",
    "3. Ordenar las llaves de un diccionario por el valor que tienen y devolver una lista que contiene tuplas [(\"a\", 3), (\"b\", 2), (\"c\", 4), (\"d\", 4) ]\n",
    "\n",
    "4. De un listado de tuplas, devolver las tuplas que tengan el mayor valor. [(\"a\", 3), (\"b\", 2), (\"c\", 4)] -> [(\"c\", 4)]\n",
    "\n",
    "5. Crear un mensaje que diga: Los caracteres que más se repiten con 4 repeticiones son:\n",
    "   - C\n",
    "   - D\n",
    "\n",
    "6. Juntar la solución de los ejercicios anteriores para encontrar los caracteres que más se repiten de un string."
   ]
  },
  {
   "cell_type": "code",
   "execution_count": null,
   "metadata": {},
   "outputs": [],
   "source": [
    "# para mejorar el formato de los iterables\n",
    "from pprint import pprint\n",
    "# Para  agregar caracteres especiales, como los acentos en los print\n",
    "import sys\n",
    "sys.stdout.reconfigure(encoding='utf-8')"
   ]
  },
  {
   "cell_type": "code",
   "execution_count": null,
   "metadata": {},
   "outputs": [],
   "source": [
    "# Ejercicio 1\n",
    "string = \"Hola mundo este es mi string\"\n",
    "def quita_espacios(texto):\n",
    "    # usando comprensión de listas\n",
    "    return [char for char in texto if char != \" \"]\n",
    "\n",
    "\n",
    "sin_espacios = quita_espacios(string)\n",
    "print(\"Ejercicio 1:\", sin_espacios)"
   ]
  },
  {
   "cell_type": "code",
   "execution_count": null,
   "metadata": {},
   "outputs": [],
   "source": [
    "# Ejercicio 2\n",
    "# reutiliza código del ejercicio 1\n",
    "def cuenta_caracteres(lista):\n",
    "    chars_dict = {}\n",
    "    for char in lista:\n",
    "        if char in chars_dict:\n",
    "            chars_dict[char] += 1\n",
    "        else:\n",
    "            chars_dict[char] = 1\n",
    "    return chars_dict\n",
    "\n",
    "\n",
    "contados = cuenta_caracteres(sin_espacios)\n",
    "print(\"Ejercicio 2:\")\n",
    "pprint(contados, width=1) # para este caso el width se puede sacar"
   ]
  },
  {
   "cell_type": "code",
   "execution_count": null,
   "metadata": {},
   "outputs": [],
   "source": [
    "# Ejercicio 3\n",
    "# reutiliza código del ejercicio 2\n",
    "def ordena(dict):\n",
    "    # retorna una lista de tuplas con los caracteres que más se repiten al comienzo\n",
    "    return sorted(\n",
    "        dict.items(),\n",
    "        key=lambda key: key[1],\n",
    "        reverse=True, \n",
    "    )\n",
    "    \n",
    "    \n",
    "ordenados = ordena(contados)\n",
    "print(\"Ejercicio 3:\")\n",
    "pprint(ordenados)"
   ]
  },
  {
   "cell_type": "code",
   "execution_count": null,
   "metadata": {},
   "outputs": [],
   "source": [
    "# Ejercicio 4\n",
    "# reutiliza código del ejercicio 3\n",
    "def mayores_tuplas(lista):\n",
    "    maximo = lista[0][1]\n",
    "    respuesta = {}\n",
    "    for orden in lista:\n",
    "        if maximo > orden[1]:\n",
    "            break\n",
    "        respuesta[orden[0]] = orden[1]\n",
    "    return respuesta   \n",
    "    \n",
    "mayores = mayores_tuplas(ordenados)\n",
    "print(\"Ejercicio 4:\\n\", mayores)"
   ]
  },
  {
   "cell_type": "code",
   "execution_count": null,
   "metadata": {},
   "outputs": [],
   "source": [
    "# Ejercicio 5 \n",
    "# reutiliza código del ejercicio 4\n",
    "def crea_mensaje(diccionario):\n",
    "    mensaje = \"Los que más se repiten son: \\n\"\n",
    "    for key, value in diccionario.items():\n",
    "        mensaje += f\"- {key} con {value} repeticiones \\n\"\n",
    "    return mensaje\n",
    "    \n",
    "mensaje = crea_mensaje(mayores)\n",
    "print(\"Ejercicio 5\")\n",
    "print(mensaje)"
   ]
  },
  {
   "cell_type": "markdown",
   "metadata": {},
   "source": []
  },
  {
   "cell_type": "code",
   "execution_count": null,
   "metadata": {},
   "outputs": [],
   "source": []
  },
  {
   "cell_type": "markdown",
   "metadata": {},
   "source": []
  },
  {
   "cell_type": "code",
   "execution_count": null,
   "metadata": {},
   "outputs": [],
   "source": []
  },
  {
   "cell_type": "markdown",
   "metadata": {},
   "source": []
  },
  {
   "cell_type": "code",
   "execution_count": null,
   "metadata": {},
   "outputs": [],
   "source": []
  },
  {
   "cell_type": "markdown",
   "metadata": {},
   "source": []
  },
  {
   "cell_type": "code",
   "execution_count": null,
   "metadata": {},
   "outputs": [],
   "source": []
  },
  {
   "cell_type": "markdown",
   "metadata": {},
   "source": []
  },
  {
   "cell_type": "code",
   "execution_count": null,
   "metadata": {},
   "outputs": [],
   "source": []
  },
  {
   "cell_type": "markdown",
   "metadata": {},
   "source": []
  },
  {
   "cell_type": "code",
   "execution_count": null,
   "metadata": {},
   "outputs": [],
   "source": []
  },
  {
   "cell_type": "markdown",
   "metadata": {},
   "source": []
  },
  {
   "cell_type": "code",
   "execution_count": null,
   "metadata": {},
   "outputs": [],
   "source": []
  },
  {
   "cell_type": "markdown",
   "metadata": {},
   "source": []
  },
  {
   "cell_type": "code",
   "execution_count": null,
   "metadata": {},
   "outputs": [],
   "source": []
  },
  {
   "cell_type": "markdown",
   "metadata": {},
   "source": []
  },
  {
   "cell_type": "code",
   "execution_count": null,
   "metadata": {},
   "outputs": [],
   "source": []
  },
  {
   "cell_type": "markdown",
   "metadata": {},
   "source": []
  },
  {
   "cell_type": "code",
   "execution_count": null,
   "metadata": {},
   "outputs": [],
   "source": []
  },
  {
   "cell_type": "markdown",
   "metadata": {},
   "source": []
  },
  {
   "cell_type": "code",
   "execution_count": null,
   "metadata": {},
   "outputs": [],
   "source": []
  }
 ],
 "metadata": {
  "kernelspec": {
   "display_name": "Python 3",
   "language": "python",
   "name": "python3"
  },
  "language_info": {
   "codemirror_mode": {
    "name": "ipython",
    "version": 3
   },
   "file_extension": ".py",
   "mimetype": "text/x-python",
   "name": "python",
   "nbconvert_exporter": "python",
   "pygments_lexer": "ipython3",
   "version": "3.11.1"
  }
 },
 "nbformat": 4,
 "nbformat_minor": 2
}
