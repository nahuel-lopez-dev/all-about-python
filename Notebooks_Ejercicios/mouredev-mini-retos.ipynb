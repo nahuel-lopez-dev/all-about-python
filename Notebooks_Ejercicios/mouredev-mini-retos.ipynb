{
 "cells": [
  {
   "cell_type": "markdown",
   "metadata": {},
   "source": [
    "<div align=\"center\">\n",
    "    <h1>Mouredev</h1>\n",
    "    <h2>Mini retos resueltos</h2>\n",
    "</div>\n"
   ]
  },
  {
   "cell_type": "markdown",
   "metadata": {},
   "source": [
    "### De la plataforma de Moure:\n",
    "- [Mouredev Mini retos](https://retosdeprogramacion.com/mini/)\n",
    "\n",
    "Para practicar la lógica de programación de una manera rápida."
   ]
  },
  {
   "cell_type": "markdown",
   "metadata": {},
   "source": [
    "## Ejercicios"
   ]
  },
  {
   "cell_type": "markdown",
   "metadata": {},
   "source": [
    "### Contador de vocales:\n",
    "Crea un programa que cuente cuantas vocales tiene una cadena de texto."
   ]
  },
  {
   "cell_type": "code",
   "execution_count": 8,
   "metadata": {},
   "outputs": [
    {
     "name": "stdout",
     "output_type": "stream",
     "text": [
      "PaLAbRA tiene un total de 3 vocales\n"
     ]
    }
   ],
   "source": [
    "vowels = \"aeiou\"\n",
    "counter = 0\n",
    "\n",
    "text = input(\"Introduce una cadena de texto: \")\n",
    "\n",
    "for char in text.lower():\n",
    "    if char in vowels:\n",
    "        counter += 1\n",
    "\n",
    "print(f\"{text} tiene un total de {counter} vocales\")"
   ]
  },
  {
   "cell_type": "markdown",
   "metadata": {},
   "source": [
    "### Par o Impar:\n",
    "Crea un programa que compruebe si un número entero es par o impar."
   ]
  },
  {
   "cell_type": "code",
   "execution_count": 4,
   "metadata": {},
   "outputs": [
    {
     "name": "stdout",
     "output_type": "stream",
     "text": [
      "5 es impar\n"
     ]
    }
   ],
   "source": [
    "try: \n",
    "    number = int(input(\"Introduce un número entero:\"))\n",
    "\n",
    "    if number % 2 == 0:\n",
    "        print(f\"{number} es par\")\n",
    "    else:\n",
    "        print(f\"{number} es impar\")\n",
    "        \n",
    "except ValueError:\n",
    "    print(\"Entrada no válida\")"
   ]
  },
  {
   "cell_type": "markdown",
   "metadata": {},
   "source": [
    "### EL FAMOSO \"FIZZ BUZZ”:\n",
    "Escribe un programa que muestre por consola (con un print) los\n",
    "números de 1 a 100 (ambos incluidos y con un salto de línea entre\n",
    "cada impresión), sustituyendo los siguientes:\n",
    "- Múltiplos de 3 por la palabra \"fizz\".\n",
    "- Múltiplos de 5 por la palabra \"buzz\".\n",
    "- Múltiplos de 3 y de 5 a la vez por la palabra \"fizzbuzz\"."
   ]
  },
  {
   "cell_type": "code",
   "execution_count": 1,
   "metadata": {},
   "outputs": [
    {
     "name": "stdout",
     "output_type": "stream",
     "text": [
      "1\n",
      "2\n",
      "fizz\n",
      "4\n",
      "buzz\n",
      "fizz\n",
      "7\n",
      "8\n",
      "fizz\n",
      "buzz\n",
      "11\n",
      "fizz\n",
      "13\n",
      "14\n",
      "fizzbuz\n",
      "16\n",
      "17\n",
      "fizz\n",
      "19\n",
      "buzz\n",
      "fizz\n",
      "22\n",
      "23\n",
      "fizz\n",
      "buzz\n",
      "26\n",
      "fizz\n",
      "28\n",
      "29\n",
      "fizzbuz\n",
      "31\n",
      "32\n",
      "fizz\n",
      "34\n",
      "buzz\n",
      "fizz\n",
      "37\n",
      "38\n",
      "fizz\n",
      "buzz\n",
      "41\n",
      "fizz\n",
      "43\n",
      "44\n",
      "fizzbuz\n",
      "46\n",
      "47\n",
      "fizz\n",
      "49\n",
      "buzz\n",
      "fizz\n",
      "52\n",
      "53\n",
      "fizz\n",
      "buzz\n",
      "56\n",
      "fizz\n",
      "58\n",
      "59\n",
      "fizzbuz\n",
      "61\n",
      "62\n",
      "fizz\n",
      "64\n",
      "buzz\n",
      "fizz\n",
      "67\n",
      "68\n",
      "fizz\n",
      "buzz\n",
      "71\n",
      "fizz\n",
      "73\n",
      "74\n",
      "fizzbuz\n",
      "76\n",
      "77\n",
      "fizz\n",
      "79\n",
      "buzz\n",
      "fizz\n",
      "82\n",
      "83\n",
      "fizz\n",
      "buzz\n",
      "86\n",
      "fizz\n",
      "88\n",
      "89\n",
      "fizzbuz\n",
      "91\n",
      "92\n",
      "fizz\n",
      "94\n",
      "buzz\n",
      "fizz\n",
      "97\n",
      "98\n",
      "fizz\n",
      "buzz\n"
     ]
    }
   ],
   "source": [
    "def fizzbuzz():\n",
    "    for number in range(1, 101):\n",
    "        if number % 3 == 0 and number % 5 == 0:\n",
    "            print(\"fizzbuz\")\n",
    "        elif number % 3 == 0:\n",
    "            print(\"fizz\")\n",
    "        elif number % 5 == 0:\n",
    "            print(\"buzz\")\n",
    "        else:\n",
    "            print(number)\n",
    "\n",
    "fizzbuzz()"
   ]
  },
  {
   "cell_type": "markdown",
   "metadata": {},
   "source": [
    "### Índice de Masa Corporal (IMC):\n",
    "Crea una calculadora del índice de masa corporal."
   ]
  },
  {
   "cell_type": "code",
   "execution_count": 11,
   "metadata": {},
   "outputs": [
    {
     "name": "stdout",
     "output_type": "stream",
     "text": [
      "IMC: 28.41\n",
      "Sobrepeso\n"
     ]
    }
   ],
   "source": [
    "weight = float(input(\"Peso en kg: \"))\n",
    "height = float(input(\"Altura en m: \"))\n",
    "\n",
    "imc = weight / (height ** 2)\n",
    "\n",
    "print(f\"IMC: {imc:.2f}\")\n",
    "\n",
    "if imc < 18.5:\n",
    "    print(\"Peso bajo\")\n",
    "elif 18.5 <= imc < 24.9:\n",
    "    print(\"Peso normal\")\n",
    "elif 25 <= imc < 29.9:\n",
    "    print(\"Sobrepeso\")\n",
    "else:\n",
    "    print(\"Obesidad\")"
   ]
  },
  {
   "cell_type": "markdown",
   "metadata": {},
   "source": [
    "### Anagramas:\n",
    "Escribe una función que reciba dos palabras (String) y retorne\n",
    "verdadero o falso (Bool) según sean o no anagramas.\n",
    "- Un Anagrama consiste en formar una palabra reordenando TODAS\n",
    "  las letras de otra palabra inicial.\n",
    "- NO hace falta comprobar que ambas palabras existan.\n",
    "- Dos palabras exactamente iguales no son anagrama."
   ]
  },
  {
   "cell_type": "code",
   "execution_count": 15,
   "metadata": {},
   "outputs": [
    {
     "name": "stdout",
     "output_type": "stream",
     "text": [
      "True\n",
      "True\n",
      "False\n"
     ]
    }
   ],
   "source": [
    "def is_anagram(string1, string2):\n",
    "    if string1.lower() == string2.lower():\n",
    "        return False\n",
    "    return sorted(string1.lower()) == sorted(string2.lower())\n",
    "\n",
    "\n",
    "print(is_anagram(\"Amor\", \"Roma\"))\n",
    "print(is_anagram(\"Amiga\", \"Magia\"))\n",
    "print(is_anagram(\"Hola\", \"Mundo\"))"
   ]
  },
  {
   "cell_type": "markdown",
   "metadata": {},
   "source": [
    "### Conversor de temperaturas:\n",
    "Crea un conversor entre grados Celsius y Fahrenheit. "
   ]
  },
  {
   "cell_type": "code",
   "execution_count": null,
   "metadata": {},
   "outputs": [],
   "source": [
    "print(\"Conversor de Temperaturas:\")\n",
    "print(\"1. Celsius a Fahrenheit\")\n",
    "print(\"2. Fahrenheit a Celsius\")\n",
    "\n",
    "choice = input(\"Elige una opción: \")\n",
    "\n",
    "degrees = float(input(\"Temperatura: \"))\n",
    "\n",
    "if choice == \"1\":\n",
    "    fahrenheit = (degrees * 9/5) + 32\n",
    "    print(f\"{degrees}°C son {fahrenheit}°F.\")\n",
    "elif choice == \"2\":\n",
    "    celsius = (degrees - 32) * 5/9\n",
    "    print(f\"{degrees}°F son {celsius}°C.\")\n",
    "else:\n",
    "    print(\"Opción no válida.\")"
   ]
  },
  {
   "cell_type": "markdown",
   "metadata": {},
   "source": [
    "### Decimal a binario:\n",
    "Crea un programa se encargue de\n",
    "transformar un número decimal a binario."
   ]
  },
  {
   "cell_type": "code",
   "execution_count": 5,
   "metadata": {},
   "outputs": [
    {
     "name": "stdout",
     "output_type": "stream",
     "text": [
      "110000011\n"
     ]
    }
   ],
   "source": [
    "def decimal_to_binary(decimal):\n",
    "\n",
    "    binary = \"\"\n",
    "\n",
    "    while decimal > 0:\n",
    "        binary = f\"{decimal % 2}{binary}\"\n",
    "        decimal //= 2\n",
    "\n",
    "    return \"0\" if binary == \"\" else binary\n",
    "\n",
    "print(decimal_to_binary(387))"
   ]
  },
  {
   "cell_type": "markdown",
   "metadata": {},
   "source": [
    "### Inversión de cadenas:\n",
    "Crea un programa que invierta el orden de una cadena de texto\n",
    "sin usar funciones propias del lenguaje que lo hagan de forma automática.\n",
    "- Si le pasamos \"Hola mundo\" nos retornaría \"odnum aloH\""
   ]
  },
  {
   "cell_type": "code",
   "execution_count": 17,
   "metadata": {},
   "outputs": [
    {
     "name": "stdout",
     "output_type": "stream",
     "text": [
      "!odnum aloH\n",
      "!odnum aloH\n"
     ]
    }
   ],
   "source": [
    "def reverse(text):\n",
    "    text_len = len(text)\n",
    "    reversed_text = \"\"\n",
    "    for index in range(0, text_len):\n",
    "        reversed_text += text[text_len - index - 1]\n",
    "    return reversed_text\n",
    "\n",
    "\n",
    "print(reverse(\"Hola mundo!\"))\n",
    "\n",
    "# Solución de Moure\n",
    "\"\"\"\n",
    "INVERSIÓN DE CADENAS\n",
    "Crea una función que invierta\n",
    "una cadena de texto.\n",
    "\"\"\"\n",
    "\n",
    "def reverse_string(text):\n",
    "    reversed_string = \"\"\n",
    "    for char in text:\n",
    "        reversed_string = char + reversed_string\n",
    "    return reversed_string\n",
    "\n",
    "print(reverse_string(\"Hola mundo!\"))"
   ]
  },
  {
   "cell_type": "markdown",
   "metadata": {},
   "source": [
    "### LA SUCESIÓN DE FIBONACCI\n",
    "Escribe un programa que imprima los 50 primeros números de la sucesión\n",
    "de Fibonacci empezando en 0.\n",
    "- La serie Fibonacci se compone por una sucesión de números en\n",
    "  la que el siguiente siempre es la suma de los dos anteriores.\n",
    "  0, 1, 1, 2, 3, 5, 8, 13..."
   ]
  },
  {
   "cell_type": "code",
   "execution_count": null,
   "metadata": {},
   "outputs": [],
   "source": [
    "def fibonacci():\n",
    "\n",
    "    prev = 0\n",
    "    next = 1\n",
    "\n",
    "    for index in range(0, 50):\n",
    "        print(prev)\n",
    "        fib = prev + next\n",
    "        prev = next\n",
    "        next = fib\n",
    "\n",
    "\n",
    "fibonacci()"
   ]
  },
  {
   "cell_type": "markdown",
   "metadata": {},
   "source": [
    "### ¿ES UN NÚMERO PRIMO?\n",
    "Escribe un programa que se encargue de comprobar si un número es o no primo.\n",
    "Hecho esto, imprime los números primos entre 1 y 100."
   ]
  },
  {
   "cell_type": "code",
   "execution_count": null,
   "metadata": {},
   "outputs": [],
   "source": [
    "def is_prime():\n",
    "\n",
    "    for number in range(1, 101):\n",
    "\n",
    "        if number >= 2:\n",
    "\n",
    "            is_divisible = False\n",
    "\n",
    "            for index in range(2, number):\n",
    "                if number % index == 0:\n",
    "                    is_divisible = True\n",
    "                    break\n",
    "\n",
    "            if not is_divisible:\n",
    "                print(number)\n",
    "\n",
    "\n",
    "is_prime()"
   ]
  },
  {
   "cell_type": "markdown",
   "metadata": {},
   "source": []
  },
  {
   "cell_type": "code",
   "execution_count": null,
   "metadata": {},
   "outputs": [],
   "source": []
  },
  {
   "cell_type": "markdown",
   "metadata": {},
   "source": []
  },
  {
   "cell_type": "code",
   "execution_count": null,
   "metadata": {},
   "outputs": [],
   "source": []
  },
  {
   "cell_type": "markdown",
   "metadata": {},
   "source": []
  },
  {
   "cell_type": "code",
   "execution_count": null,
   "metadata": {},
   "outputs": [],
   "source": []
  },
  {
   "cell_type": "markdown",
   "metadata": {},
   "source": []
  },
  {
   "cell_type": "code",
   "execution_count": null,
   "metadata": {},
   "outputs": [],
   "source": []
  },
  {
   "cell_type": "markdown",
   "metadata": {},
   "source": []
  },
  {
   "cell_type": "code",
   "execution_count": null,
   "metadata": {},
   "outputs": [],
   "source": []
  },
  {
   "cell_type": "markdown",
   "metadata": {},
   "source": []
  },
  {
   "cell_type": "code",
   "execution_count": null,
   "metadata": {},
   "outputs": [],
   "source": []
  },
  {
   "cell_type": "markdown",
   "metadata": {},
   "source": []
  },
  {
   "cell_type": "code",
   "execution_count": null,
   "metadata": {},
   "outputs": [],
   "source": []
  },
  {
   "cell_type": "markdown",
   "metadata": {},
   "source": []
  },
  {
   "cell_type": "code",
   "execution_count": null,
   "metadata": {},
   "outputs": [],
   "source": []
  },
  {
   "cell_type": "markdown",
   "metadata": {},
   "source": []
  },
  {
   "cell_type": "code",
   "execution_count": null,
   "metadata": {},
   "outputs": [],
   "source": []
  },
  {
   "cell_type": "markdown",
   "metadata": {},
   "source": []
  },
  {
   "cell_type": "code",
   "execution_count": null,
   "metadata": {},
   "outputs": [],
   "source": []
  },
  {
   "cell_type": "markdown",
   "metadata": {},
   "source": []
  },
  {
   "cell_type": "code",
   "execution_count": null,
   "metadata": {},
   "outputs": [],
   "source": []
  },
  {
   "cell_type": "markdown",
   "metadata": {},
   "source": []
  },
  {
   "cell_type": "code",
   "execution_count": null,
   "metadata": {},
   "outputs": [],
   "source": []
  }
 ],
 "metadata": {
  "kernelspec": {
   "display_name": "Python 3",
   "language": "python",
   "name": "python3"
  },
  "language_info": {
   "codemirror_mode": {
    "name": "ipython",
    "version": 3
   },
   "file_extension": ".py",
   "mimetype": "text/x-python",
   "name": "python",
   "nbconvert_exporter": "python",
   "pygments_lexer": "ipython3",
   "version": "3.11.1"
  }
 },
 "nbformat": 4,
 "nbformat_minor": 2
}
