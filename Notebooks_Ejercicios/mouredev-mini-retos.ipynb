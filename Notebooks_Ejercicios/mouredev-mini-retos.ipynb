{
 "cells": [
  {
   "cell_type": "markdown",
   "metadata": {},
   "source": [
    "<div align=\"center\">\n",
    "    <h1>Mouredev</h1>\n",
    "    <h2>Mini retos resueltos</h2>\n",
    "</div>\n"
   ]
  },
  {
   "cell_type": "markdown",
   "metadata": {},
   "source": [
    "### De la plataforma de Moure:\n",
    "- [Mouredev Mini retos](https://retosdeprogramacion.com/mini/)\n",
    "\n",
    "Para practicar la lógica de programación de una manera rápida."
   ]
  },
  {
   "cell_type": "markdown",
   "metadata": {},
   "source": [
    "## Ejercicios"
   ]
  },
  {
   "cell_type": "markdown",
   "metadata": {},
   "source": [
    "### Contador de vocales:\n",
    "Crea un programa que cuente cuantas vocales tiene una cadena de texto."
   ]
  },
  {
   "cell_type": "code",
   "execution_count": 8,
   "metadata": {},
   "outputs": [
    {
     "name": "stdout",
     "output_type": "stream",
     "text": [
      "PaLAbRA tiene un total de 3 vocales\n"
     ]
    }
   ],
   "source": [
    "vowels = \"aeiou\"\n",
    "counter = 0\n",
    "\n",
    "text = input(\"Introduce una cadena de texto: \")\n",
    "\n",
    "for char in text.lower():\n",
    "    if char in vowels:\n",
    "        counter += 1\n",
    "\n",
    "print(f\"{text} tiene un total de {counter} vocales\")"
   ]
  },
  {
   "cell_type": "markdown",
   "metadata": {},
   "source": [
    "### Par o Impar:\n",
    "Crea un programa que compruebe si un número entero es par o impar."
   ]
  },
  {
   "cell_type": "code",
   "execution_count": 4,
   "metadata": {},
   "outputs": [
    {
     "name": "stdout",
     "output_type": "stream",
     "text": [
      "5 es impar\n"
     ]
    }
   ],
   "source": [
    "try: \n",
    "    number = int(input(\"Introduce un número entero:\"))\n",
    "\n",
    "    if number % 2 == 0:\n",
    "        print(f\"{number} es par\")\n",
    "    else:\n",
    "        print(f\"{number} es impar\")\n",
    "        \n",
    "except ValueError:\n",
    "    print(\"Entrada no válida\")"
   ]
  },
  {
   "cell_type": "markdown",
   "metadata": {},
   "source": [
    "### El famoso \"fizz buzz”:\n",
    "Escribe un programa que muestre por consola (con un print) los\n",
    "números de 1 a 100 (ambos incluidos y con un salto de línea entre\n",
    "cada impresión), sustituyendo los siguientes:\n",
    "- Múltiplos de 3 por la palabra \"fizz\".\n",
    "- Múltiplos de 5 por la palabra \"buzz\".\n",
    "- Múltiplos de 3 y de 5 a la vez por la palabra \"fizzbuzz\"."
   ]
  },
  {
   "cell_type": "code",
   "execution_count": 1,
   "metadata": {},
   "outputs": [
    {
     "name": "stdout",
     "output_type": "stream",
     "text": [
      "1\n",
      "2\n",
      "fizz\n",
      "4\n",
      "buzz\n",
      "fizz\n",
      "7\n",
      "8\n",
      "fizz\n",
      "buzz\n",
      "11\n",
      "fizz\n",
      "13\n",
      "14\n",
      "fizzbuz\n",
      "16\n",
      "17\n",
      "fizz\n",
      "19\n",
      "buzz\n",
      "fizz\n",
      "22\n",
      "23\n",
      "fizz\n",
      "buzz\n",
      "26\n",
      "fizz\n",
      "28\n",
      "29\n",
      "fizzbuz\n",
      "31\n",
      "32\n",
      "fizz\n",
      "34\n",
      "buzz\n",
      "fizz\n",
      "37\n",
      "38\n",
      "fizz\n",
      "buzz\n",
      "41\n",
      "fizz\n",
      "43\n",
      "44\n",
      "fizzbuz\n",
      "46\n",
      "47\n",
      "fizz\n",
      "49\n",
      "buzz\n",
      "fizz\n",
      "52\n",
      "53\n",
      "fizz\n",
      "buzz\n",
      "56\n",
      "fizz\n",
      "58\n",
      "59\n",
      "fizzbuz\n",
      "61\n",
      "62\n",
      "fizz\n",
      "64\n",
      "buzz\n",
      "fizz\n",
      "67\n",
      "68\n",
      "fizz\n",
      "buzz\n",
      "71\n",
      "fizz\n",
      "73\n",
      "74\n",
      "fizzbuz\n",
      "76\n",
      "77\n",
      "fizz\n",
      "79\n",
      "buzz\n",
      "fizz\n",
      "82\n",
      "83\n",
      "fizz\n",
      "buzz\n",
      "86\n",
      "fizz\n",
      "88\n",
      "89\n",
      "fizzbuz\n",
      "91\n",
      "92\n",
      "fizz\n",
      "94\n",
      "buzz\n",
      "fizz\n",
      "97\n",
      "98\n",
      "fizz\n",
      "buzz\n"
     ]
    }
   ],
   "source": [
    "def fizzbuzz():\n",
    "    for number in range(1, 101):\n",
    "        if number % 3 == 0 and number % 5 == 0:\n",
    "            print(\"fizzbuz\")\n",
    "        elif number % 3 == 0:\n",
    "            print(\"fizz\")\n",
    "        elif number % 5 == 0:\n",
    "            print(\"buzz\")\n",
    "        else:\n",
    "            print(number)\n",
    "\n",
    "fizzbuzz()"
   ]
  },
  {
   "cell_type": "markdown",
   "metadata": {},
   "source": [
    "### Índice de Masa Corporal (IMC):\n",
    "Crea una calculadora del índice de masa corporal."
   ]
  },
  {
   "cell_type": "code",
   "execution_count": 11,
   "metadata": {},
   "outputs": [
    {
     "name": "stdout",
     "output_type": "stream",
     "text": [
      "IMC: 28.41\n",
      "Sobrepeso\n"
     ]
    }
   ],
   "source": [
    "weight = float(input(\"Peso en kg: \"))\n",
    "height = float(input(\"Altura en m: \"))\n",
    "\n",
    "imc = weight / (height ** 2)\n",
    "\n",
    "print(f\"IMC: {imc:.2f}\")\n",
    "\n",
    "if imc < 18.5:\n",
    "    print(\"Peso bajo\")\n",
    "elif 18.5 <= imc < 24.9:\n",
    "    print(\"Peso normal\")\n",
    "elif 25 <= imc < 29.9:\n",
    "    print(\"Sobrepeso\")\n",
    "else:\n",
    "    print(\"Obesidad\")"
   ]
  },
  {
   "cell_type": "markdown",
   "metadata": {},
   "source": [
    "### Tablas de multiplicar:\n",
    "Imprime todas las tablas de multiplicar de 1 al 10."
   ]
  },
  {
   "cell_type": "code",
   "execution_count": 18,
   "metadata": {},
   "outputs": [
    {
     "name": "stdout",
     "output_type": "stream",
     "text": [
      "Tabla del 1\n",
      "1 x 1 = 1\n",
      "2 x 1 = 2\n",
      "3 x 1 = 3\n",
      "4 x 1 = 4\n",
      "5 x 1 = 5\n",
      "6 x 1 = 6\n",
      "7 x 1 = 7\n",
      "8 x 1 = 8\n",
      "9 x 1 = 9\n",
      "10 x 1 = 10\n",
      "\n",
      "Tabla del 2\n",
      "1 x 2 = 2\n",
      "2 x 2 = 4\n",
      "3 x 2 = 6\n",
      "4 x 2 = 8\n",
      "5 x 2 = 10\n",
      "6 x 2 = 12\n",
      "7 x 2 = 14\n",
      "8 x 2 = 16\n",
      "9 x 2 = 18\n",
      "10 x 2 = 20\n",
      "\n",
      "Tabla del 3\n",
      "1 x 3 = 3\n",
      "2 x 3 = 6\n",
      "3 x 3 = 9\n",
      "4 x 3 = 12\n",
      "5 x 3 = 15\n",
      "6 x 3 = 18\n",
      "7 x 3 = 21\n",
      "8 x 3 = 24\n",
      "9 x 3 = 27\n",
      "10 x 3 = 30\n",
      "\n",
      "Tabla del 4\n",
      "1 x 4 = 4\n",
      "2 x 4 = 8\n",
      "3 x 4 = 12\n",
      "4 x 4 = 16\n",
      "5 x 4 = 20\n",
      "6 x 4 = 24\n",
      "7 x 4 = 28\n",
      "8 x 4 = 32\n",
      "9 x 4 = 36\n",
      "10 x 4 = 40\n",
      "\n",
      "Tabla del 5\n",
      "1 x 5 = 5\n",
      "2 x 5 = 10\n",
      "3 x 5 = 15\n",
      "4 x 5 = 20\n",
      "5 x 5 = 25\n",
      "6 x 5 = 30\n",
      "7 x 5 = 35\n",
      "8 x 5 = 40\n",
      "9 x 5 = 45\n",
      "10 x 5 = 50\n",
      "\n",
      "Tabla del 6\n",
      "1 x 6 = 6\n",
      "2 x 6 = 12\n",
      "3 x 6 = 18\n",
      "4 x 6 = 24\n",
      "5 x 6 = 30\n",
      "6 x 6 = 36\n",
      "7 x 6 = 42\n",
      "8 x 6 = 48\n",
      "9 x 6 = 54\n",
      "10 x 6 = 60\n",
      "\n",
      "Tabla del 7\n",
      "1 x 7 = 7\n",
      "2 x 7 = 14\n",
      "3 x 7 = 21\n",
      "4 x 7 = 28\n",
      "5 x 7 = 35\n",
      "6 x 7 = 42\n",
      "7 x 7 = 49\n",
      "8 x 7 = 56\n",
      "9 x 7 = 63\n",
      "10 x 7 = 70\n",
      "\n",
      "Tabla del 8\n",
      "1 x 8 = 8\n",
      "2 x 8 = 16\n",
      "3 x 8 = 24\n",
      "4 x 8 = 32\n",
      "5 x 8 = 40\n",
      "6 x 8 = 48\n",
      "7 x 8 = 56\n",
      "8 x 8 = 64\n",
      "9 x 8 = 72\n",
      "10 x 8 = 80\n",
      "\n",
      "Tabla del 9\n",
      "1 x 9 = 9\n",
      "2 x 9 = 18\n",
      "3 x 9 = 27\n",
      "4 x 9 = 36\n",
      "5 x 9 = 45\n",
      "6 x 9 = 54\n",
      "7 x 9 = 63\n",
      "8 x 9 = 72\n",
      "9 x 9 = 81\n",
      "10 x 9 = 90\n",
      "\n",
      "Tabla del 10\n",
      "1 x 10 = 10\n",
      "2 x 10 = 20\n",
      "3 x 10 = 30\n",
      "4 x 10 = 40\n",
      "5 x 10 = 50\n",
      "6 x 10 = 60\n",
      "7 x 10 = 70\n",
      "8 x 10 = 80\n",
      "9 x 10 = 90\n",
      "10 x 10 = 100\n",
      "\n"
     ]
    }
   ],
   "source": [
    "for table_number in range(1, 11):\n",
    "    print(f\"Tabla del {table_number}\")\n",
    "    for number in range(1, 11):\n",
    "        print(f\"{number} x {table_number} = {number * table_number}\")\n",
    "    print()"
   ]
  },
  {
   "cell_type": "markdown",
   "metadata": {},
   "source": [
    "### Media aritmética:\n",
    "Calcula la media de un listado de números."
   ]
  },
  {
   "cell_type": "code",
   "execution_count": 22,
   "metadata": {},
   "outputs": [
    {
     "name": "stdout",
     "output_type": "stream",
     "text": [
      "Media Kim: 10.1\n",
      "Media Yusuf: 10.1\n"
     ]
    }
   ],
   "source": [
    "# Solución Moure\n",
    "kim_yeji = [9.8, 10.4, 10.5, 9.3, 9.7, 10.7, 10.4, 9.9, 10.4, 10.4, 10.0, 10.3, 9.9, 10.2, 9.8, 10.1, 10.2, 9.7, 10.2, 10.0, 9.4, 10.5, 9.7, 9.8]\n",
    "yusuf_dikec = [9.0, 10.3, 10.2, 10.6, 10.1, 10.6, 9.9, 10.5, 9.2, 9.5, 10.8, 10.7, 10.4, 10.6, 9.1]\n",
    "\n",
    "def mean(numbers):\n",
    "    return sum(numbers) / len(numbers)\n",
    "\n",
    "kim_mean = mean(kim_yeji)\n",
    "yusuf_mean = mean(yusuf_dikec)\\\n",
    "\n",
    "print(f\"Media Kim: {kim_mean:.1f}\")\n",
    "print(f\"Media Yusuf: {yusuf_mean:.1f}\")"
   ]
  },
  {
   "cell_type": "markdown",
   "metadata": {},
   "source": [
    "### Factorial:\n",
    "Crea una función que calcule el factorial de un número."
   ]
  },
  {
   "cell_type": "code",
   "execution_count": 19,
   "metadata": {},
   "outputs": [
    {
     "name": "stdout",
     "output_type": "stream",
     "text": [
      "120\n"
     ]
    }
   ],
   "source": [
    "def factorial(n: int) -> int:\n",
    "\n",
    "    if n < 0:\n",
    "        raise ValueError(\"El número debe ser un entero no negativo.\")\n",
    "    \n",
    "    if n == 0 or n == 1:\n",
    "        return 1\n",
    "    \n",
    "    result = 1\n",
    "    for i in range(2, n + 1):\n",
    "        result = result * i\n",
    "\n",
    "    return result\n",
    "\n",
    "print(factorial(5))"
   ]
  },
  {
   "cell_type": "markdown",
   "metadata": {},
   "source": [
    "### Reto viral 12345678:\n",
    "Simula el reto viral 12345678. Crea una función que cuente de 1 a 8, eliminando cada vez un dígito y mostrando un espacio en blanco en su lugar, de manera ascendente y descendente."
   ]
  },
  {
   "cell_type": "code",
   "execution_count": 23,
   "metadata": {},
   "outputs": [
    {
     "name": "stdout",
     "output_type": "stream",
     "text": [
      "12345678\n",
      " 2345678\n",
      "  345678\n",
      "   45678\n",
      "    5678\n",
      "     678\n",
      "      78\n",
      "       8\n",
      "       8\n",
      "      78\n",
      "     678\n",
      "    5678\n",
      "   45678\n",
      "  345678\n",
      " 2345678\n",
      "12345678\n"
     ]
    }
   ],
   "source": [
    "for i in range(1, 9):\n",
    "    print(\" \" * (i - 1), end=\"\")\n",
    "    for j in range(i, 9):\n",
    "        print(j, end=\"\")\n",
    "    print()\n",
    "\n",
    "for i in range(8, 0, -1):\n",
    "    print(\" \" * (i - 1), end=\"\")\n",
    "    for j in range(i, 9):\n",
    "        print(j, end=\"\")\n",
    "    print()"
   ]
  },
  {
   "cell_type": "markdown",
   "metadata": {},
   "source": [
    "### Anagramas:\n",
    "Escribe una función que reciba dos palabras (String) y retorne\n",
    "verdadero o falso (Bool) según sean o no anagramas.\n",
    "- Un Anagrama consiste en formar una palabra reordenando TODAS\n",
    "  las letras de otra palabra inicial.\n",
    "- NO hace falta comprobar que ambas palabras existan.\n",
    "- Dos palabras exactamente iguales no son anagrama."
   ]
  },
  {
   "cell_type": "code",
   "execution_count": 15,
   "metadata": {},
   "outputs": [
    {
     "name": "stdout",
     "output_type": "stream",
     "text": [
      "True\n",
      "True\n",
      "False\n"
     ]
    }
   ],
   "source": [
    "def is_anagram(string1, string2):\n",
    "    if string1.lower() == string2.lower():\n",
    "        return False\n",
    "    return sorted(string1.lower()) == sorted(string2.lower())\n",
    "\n",
    "\n",
    "print(is_anagram(\"Amor\", \"Roma\"))\n",
    "print(is_anagram(\"Amiga\", \"Magia\"))\n",
    "print(is_anagram(\"Hola\", \"Mundo\"))"
   ]
  },
  {
   "cell_type": "markdown",
   "metadata": {},
   "source": [
    "### Conversor de temperaturas:\n",
    "Crea un conversor entre grados Celsius y Fahrenheit. "
   ]
  },
  {
   "cell_type": "code",
   "execution_count": null,
   "metadata": {},
   "outputs": [],
   "source": [
    "print(\"Conversor de Temperaturas:\")\n",
    "print(\"1. Celsius a Fahrenheit\")\n",
    "print(\"2. Fahrenheit a Celsius\")\n",
    "\n",
    "choice = input(\"Elige una opción: \")\n",
    "\n",
    "degrees = float(input(\"Temperatura: \"))\n",
    "\n",
    "if choice == \"1\":\n",
    "    fahrenheit = (degrees * 9/5) + 32\n",
    "    print(f\"{degrees}°C son {fahrenheit}°F.\")\n",
    "elif choice == \"2\":\n",
    "    celsius = (degrees - 32) * 5/9\n",
    "    print(f\"{degrees}°F son {celsius}°C.\")\n",
    "else:\n",
    "    print(\"Opción no válida.\")"
   ]
  },
  {
   "cell_type": "markdown",
   "metadata": {},
   "source": [
    "### Decimal a binario:\n",
    "Crea un programa se encargue de\n",
    "transformar un número decimal a binario."
   ]
  },
  {
   "cell_type": "code",
   "execution_count": 5,
   "metadata": {},
   "outputs": [
    {
     "name": "stdout",
     "output_type": "stream",
     "text": [
      "110000011\n"
     ]
    }
   ],
   "source": [
    "def decimal_to_binary(decimal):\n",
    "\n",
    "    binary = \"\"\n",
    "\n",
    "    while decimal > 0:\n",
    "        binary = f\"{decimal % 2}{binary}\"\n",
    "        decimal //= 2\n",
    "\n",
    "    return \"0\" if binary == \"\" else binary\n",
    "\n",
    "print(decimal_to_binary(387))"
   ]
  },
  {
   "cell_type": "markdown",
   "metadata": {},
   "source": [
    "### Inversión de cadenas:\n",
    "Crea un programa que invierta el orden de una cadena de texto\n",
    "sin usar funciones propias del lenguaje que lo hagan de forma automática.\n",
    "- Si le pasamos \"Hola mundo\" nos retornaría \"odnum aloH\""
   ]
  },
  {
   "cell_type": "code",
   "execution_count": 17,
   "metadata": {},
   "outputs": [
    {
     "name": "stdout",
     "output_type": "stream",
     "text": [
      "!odnum aloH\n",
      "!odnum aloH\n"
     ]
    }
   ],
   "source": [
    "def reverse(text):\n",
    "    text_len = len(text)\n",
    "    reversed_text = \"\"\n",
    "    for index in range(0, text_len):\n",
    "        reversed_text += text[text_len - index - 1]\n",
    "    return reversed_text\n",
    "\n",
    "\n",
    "print(reverse(\"Hola mundo!\"))\n",
    "\n",
    "# Solución de Moure\n",
    "\"\"\"\n",
    "INVERSIÓN DE CADENAS\n",
    "Crea una función que invierta\n",
    "una cadena de texto.\n",
    "\"\"\"\n",
    "\n",
    "def reverse_string(text):\n",
    "    reversed_string = \"\"\n",
    "    for char in text:\n",
    "        reversed_string = char + reversed_string\n",
    "    return reversed_string\n",
    "\n",
    "print(reverse_string(\"Hola mundo!\"))"
   ]
  },
  {
   "cell_type": "markdown",
   "metadata": {},
   "source": [
    "### La sucesión de Fibonacci:\n",
    "\n",
    "Escribe un programa que imprima los 50 primeros números de la sucesión\n",
    "de Fibonacci empezando en 0.\n",
    "- La serie Fibonacci se compone por una sucesión de números en\n",
    "  la que el siguiente siempre es la suma de los dos anteriores.\n",
    "  0, 1, 1, 2, 3, 5, 8, 13..."
   ]
  },
  {
   "cell_type": "code",
   "execution_count": 26,
   "metadata": {},
   "outputs": [
    {
     "name": "stdout",
     "output_type": "stream",
     "text": [
      "0\n",
      "1\n",
      "1\n",
      "2\n",
      "3\n",
      "5\n",
      "8\n",
      "13\n",
      "21\n",
      "34\n",
      "55\n",
      "89\n",
      "144\n",
      "233\n",
      "377\n",
      "610\n",
      "987\n",
      "1597\n",
      "2584\n",
      "4181\n",
      "6765\n",
      "10946\n",
      "17711\n",
      "28657\n",
      "46368\n",
      "75025\n",
      "121393\n",
      "196418\n",
      "317811\n",
      "514229\n",
      "832040\n",
      "1346269\n",
      "2178309\n",
      "3524578\n",
      "5702887\n",
      "9227465\n",
      "14930352\n",
      "24157817\n",
      "39088169\n",
      "63245986\n",
      "102334155\n",
      "165580141\n",
      "267914296\n",
      "433494437\n",
      "701408733\n",
      "1134903170\n",
      "1836311903\n",
      "2971215073\n",
      "4807526976\n",
      "7778742049\n"
     ]
    }
   ],
   "source": [
    "def fibonacci():\n",
    "\n",
    "    prev = 0\n",
    "    next = 1\n",
    "\n",
    "    for index in range(0, 50):\n",
    "        print(prev)\n",
    "        fib = prev + next\n",
    "        prev = next\n",
    "        next = fib\n",
    "\n",
    "\n",
    "fibonacci()"
   ]
  },
  {
   "cell_type": "markdown",
   "metadata": {},
   "source": [
    "### ¿Es un número primo?:\n",
    "\n",
    "Escribe un programa que se encargue de comprobar si un número es o no primo.\\\n",
    "Hecho esto, imprime los números primos entre 1 y 100."
   ]
  },
  {
   "cell_type": "code",
   "execution_count": 25,
   "metadata": {},
   "outputs": [
    {
     "name": "stdout",
     "output_type": "stream",
     "text": [
      "2\n",
      "3\n",
      "5\n",
      "7\n",
      "11\n",
      "13\n",
      "17\n",
      "19\n",
      "23\n",
      "29\n",
      "31\n",
      "37\n",
      "41\n",
      "43\n",
      "47\n",
      "53\n",
      "59\n",
      "61\n",
      "67\n",
      "71\n",
      "73\n",
      "79\n",
      "83\n",
      "89\n",
      "97\n"
     ]
    }
   ],
   "source": [
    "def is_prime():\n",
    "\n",
    "    for number in range(1, 101):\n",
    "\n",
    "        if number >= 2:\n",
    "\n",
    "            is_divisible = False\n",
    "\n",
    "            for index in range(2, number):\n",
    "                if number % index == 0:\n",
    "                    is_divisible = True\n",
    "                    break\n",
    "\n",
    "            if not is_divisible:\n",
    "                print(number)\n",
    "\n",
    "\n",
    "is_prime()"
   ]
  },
  {
   "cell_type": "markdown",
   "metadata": {},
   "source": [
    "### Lista Pokémon:\n",
    "\n",
    "Lista los 151 primeros Pokémon utilizando la PokéAPI."
   ]
  },
  {
   "cell_type": "code",
   "execution_count": 24,
   "metadata": {},
   "outputs": [
    {
     "name": "stdout",
     "output_type": "stream",
     "text": [
      "bulbasaur\n",
      "ivysaur\n",
      "venusaur\n",
      "charmander\n",
      "charmeleon\n",
      "charizard\n",
      "squirtle\n",
      "wartortle\n",
      "blastoise\n",
      "caterpie\n",
      "metapod\n",
      "butterfree\n",
      "weedle\n",
      "kakuna\n",
      "beedrill\n",
      "pidgey\n",
      "pidgeotto\n",
      "pidgeot\n",
      "rattata\n",
      "raticate\n",
      "spearow\n",
      "fearow\n",
      "ekans\n",
      "arbok\n",
      "pikachu\n",
      "raichu\n",
      "sandshrew\n",
      "sandslash\n",
      "nidoran-f\n",
      "nidorina\n",
      "nidoqueen\n",
      "nidoran-m\n",
      "nidorino\n",
      "nidoking\n",
      "clefairy\n",
      "clefable\n",
      "vulpix\n",
      "ninetales\n",
      "jigglypuff\n",
      "wigglytuff\n",
      "zubat\n",
      "golbat\n",
      "oddish\n",
      "gloom\n",
      "vileplume\n",
      "paras\n",
      "parasect\n",
      "venonat\n",
      "venomoth\n",
      "diglett\n",
      "dugtrio\n",
      "meowth\n",
      "persian\n",
      "psyduck\n",
      "golduck\n",
      "mankey\n",
      "primeape\n",
      "growlithe\n",
      "arcanine\n",
      "poliwag\n",
      "poliwhirl\n",
      "poliwrath\n",
      "abra\n",
      "kadabra\n",
      "alakazam\n",
      "machop\n",
      "machoke\n",
      "machamp\n",
      "bellsprout\n",
      "weepinbell\n",
      "victreebel\n",
      "tentacool\n",
      "tentacruel\n",
      "geodude\n",
      "graveler\n",
      "golem\n",
      "ponyta\n",
      "rapidash\n",
      "slowpoke\n",
      "slowbro\n",
      "magnemite\n",
      "magneton\n",
      "farfetchd\n",
      "doduo\n",
      "dodrio\n",
      "seel\n",
      "dewgong\n",
      "grimer\n",
      "muk\n",
      "shellder\n",
      "cloyster\n",
      "gastly\n",
      "haunter\n",
      "gengar\n",
      "onix\n",
      "drowzee\n",
      "hypno\n",
      "krabby\n",
      "kingler\n",
      "voltorb\n",
      "electrode\n",
      "exeggcute\n",
      "exeggutor\n",
      "cubone\n",
      "marowak\n",
      "hitmonlee\n",
      "hitmonchan\n",
      "lickitung\n",
      "koffing\n",
      "weezing\n",
      "rhyhorn\n",
      "rhydon\n",
      "chansey\n",
      "tangela\n",
      "kangaskhan\n",
      "horsea\n",
      "seadra\n",
      "goldeen\n",
      "seaking\n",
      "staryu\n",
      "starmie\n",
      "mr-mime\n",
      "scyther\n",
      "jynx\n",
      "electabuzz\n",
      "magmar\n",
      "pinsir\n",
      "tauros\n",
      "magikarp\n",
      "gyarados\n",
      "lapras\n",
      "ditto\n",
      "eevee\n",
      "vaporeon\n",
      "jolteon\n",
      "flareon\n",
      "porygon\n",
      "omanyte\n",
      "omastar\n",
      "kabuto\n",
      "kabutops\n",
      "aerodactyl\n",
      "snorlax\n",
      "articuno\n",
      "zapdos\n",
      "moltres\n",
      "dratini\n",
      "dragonair\n",
      "dragonite\n",
      "mewtwo\n",
      "mew\n"
     ]
    }
   ],
   "source": [
    "import requests\n",
    "\n",
    "url = \"https://pokeapi.co/api/v2/pokemon?limit=151\"\n",
    "\n",
    "response = requests.get(url)\n",
    "\n",
    "list = response.json()[\"results\"]\n",
    "\n",
    "for pokemon in list:\n",
    "    print(pokemon[\"name\"])"
   ]
  },
  {
   "cell_type": "markdown",
   "metadata": {},
   "source": []
  },
  {
   "cell_type": "code",
   "execution_count": null,
   "metadata": {},
   "outputs": [],
   "source": []
  },
  {
   "cell_type": "markdown",
   "metadata": {},
   "source": []
  },
  {
   "cell_type": "code",
   "execution_count": null,
   "metadata": {},
   "outputs": [],
   "source": []
  },
  {
   "cell_type": "markdown",
   "metadata": {},
   "source": []
  },
  {
   "cell_type": "code",
   "execution_count": null,
   "metadata": {},
   "outputs": [],
   "source": []
  },
  {
   "cell_type": "markdown",
   "metadata": {},
   "source": []
  },
  {
   "cell_type": "code",
   "execution_count": null,
   "metadata": {},
   "outputs": [],
   "source": []
  },
  {
   "cell_type": "markdown",
   "metadata": {},
   "source": []
  },
  {
   "cell_type": "code",
   "execution_count": null,
   "metadata": {},
   "outputs": [],
   "source": []
  },
  {
   "cell_type": "markdown",
   "metadata": {},
   "source": []
  },
  {
   "cell_type": "code",
   "execution_count": null,
   "metadata": {},
   "outputs": [],
   "source": []
  },
  {
   "cell_type": "markdown",
   "metadata": {},
   "source": []
  },
  {
   "cell_type": "code",
   "execution_count": null,
   "metadata": {},
   "outputs": [],
   "source": []
  },
  {
   "cell_type": "markdown",
   "metadata": {},
   "source": []
  },
  {
   "cell_type": "code",
   "execution_count": null,
   "metadata": {},
   "outputs": [],
   "source": []
  },
  {
   "cell_type": "markdown",
   "metadata": {},
   "source": []
  },
  {
   "cell_type": "code",
   "execution_count": null,
   "metadata": {},
   "outputs": [],
   "source": []
  },
  {
   "cell_type": "markdown",
   "metadata": {},
   "source": []
  },
  {
   "cell_type": "code",
   "execution_count": null,
   "metadata": {},
   "outputs": [],
   "source": []
  },
  {
   "cell_type": "markdown",
   "metadata": {},
   "source": []
  },
  {
   "cell_type": "code",
   "execution_count": null,
   "metadata": {},
   "outputs": [],
   "source": []
  }
 ],
 "metadata": {
  "kernelspec": {
   "display_name": "Python 3",
   "language": "python",
   "name": "python3"
  },
  "language_info": {
   "codemirror_mode": {
    "name": "ipython",
    "version": 3
   },
   "file_extension": ".py",
   "mimetype": "text/x-python",
   "name": "python",
   "nbconvert_exporter": "python",
   "pygments_lexer": "ipython3",
   "version": "3.11.1"
  }
 },
 "nbformat": 4,
 "nbformat_minor": 2
}
