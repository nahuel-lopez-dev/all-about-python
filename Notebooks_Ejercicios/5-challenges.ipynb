{
 "cells": [
  {
   "cell_type": "markdown",
   "metadata": {},
   "source": [
    "<div align=\"center\">\n",
    "    <h1>Challenges</h1>\n",
    "    <h2>Entrevistas técnicas y desafíos</h2>\n",
    "</div>\n"
   ]
  },
  {
   "cell_type": "markdown",
   "metadata": {},
   "source": [
    "### Sugeridos\n",
    "- Mouredev: [GitHub Moure](https://github.com/mouredev/Code-Challenges)\n",
    "- otro\n",
    "- otro\n",
    "- otro\n",
    "- y así seguir agregando"
   ]
  },
  {
   "cell_type": "markdown",
   "metadata": {},
   "source": [
    "### Clase en video: [youtube](https://youtu.be/TbcEqkabAWU?t=4142)"
   ]
  },
  {
   "cell_type": "markdown",
   "metadata": {},
   "source": [
    "### EL FAMOSO \"FIZZ BUZZ”:\n",
    "Escribe un programa que muestre por consola (con un print) los\n",
    "números de 1 a 100 (ambos incluidos y con un salto de línea entre\n",
    "cada impresión), sustituyendo los siguientes:\n",
    "- Múltiplos de 3 por la palabra \"fizz\".\n",
    "- Múltiplos de 5 por la palabra \"buzz\".\n",
    "- Múltiplos de 3 y de 5 a la vez por la palabra \"fizzbuzz\"."
   ]
  },
  {
   "cell_type": "code",
   "execution_count": null,
   "metadata": {},
   "outputs": [],
   "source": [
    "def fizzbuzz():\n",
    "    for index in range(1, 101):\n",
    "        if index % 3 == 0 and index % 5 == 0:\n",
    "            print(\"fizzbuz\")\n",
    "        elif index % 3 == 0:\n",
    "            print(\"fizz\")\n",
    "        elif index % 5 == 0:\n",
    "            print(\"buzz\")\n",
    "        else:\n",
    "            print(index)\n",
    "\n",
    "\n",
    "fizzbuzz()"
   ]
  },
  {
   "cell_type": "markdown",
   "metadata": {},
   "source": [
    "### INVIRTIENDO CADENAS\n",
    "Crea un programa que invierta el orden de una cadena de texto\n",
    "sin usar funciones propias del lenguaje que lo hagan de forma automática.\n",
    "- Si le pasamos \"Hola mundo\" nos retornaría \"odnum aloH\""
   ]
  },
  {
   "cell_type": "code",
   "execution_count": null,
   "metadata": {},
   "outputs": [],
   "source": [
    "def reverse(text):\n",
    "    text_len = len(text)\n",
    "    reversed_text = \"\"\n",
    "    for index in range(0, text_len):\n",
    "        reversed_text += text[text_len - index - 1]\n",
    "    return reversed_text\n",
    "\n",
    "\n",
    "print(reverse(\"Hola mundo\"))"
   ]
  },
  {
   "cell_type": "markdown",
   "metadata": {},
   "source": [
    "### ¿ES UN ANAGRAMA?\n",
    "Escribe una función que reciba dos palabras (String) y retorne\n",
    "verdadero o falso (Bool) según sean o no anagramas.\n",
    "- Un Anagrama consiste en formar una palabra reordenando TODAS\n",
    "  las letras de otra palabra inicial.\n",
    "- NO hace falta comprobar que ambas palabras existan.\n",
    "- Dos palabras exactamente iguales no son anagrama."
   ]
  },
  {
   "cell_type": "code",
   "execution_count": null,
   "metadata": {},
   "outputs": [],
   "source": [
    "def is_anagram(word_one, word_two):\n",
    "    if word_one.lower() == word_two.lower():\n",
    "        return False\n",
    "    return sorted(word_one.lower()) == sorted(word_two.lower())\n",
    "\n",
    "\n",
    "print(is_anagram(\"Amor\", \"Roma\"))"
   ]
  },
  {
   "cell_type": "markdown",
   "metadata": {},
   "source": [
    "### LA SUCESIÓN DE FIBONACCI\n",
    "Escribe un programa que imprima los 50 primeros números de la sucesión\n",
    "de Fibonacci empezando en 0.\n",
    "- La serie Fibonacci se compone por una sucesión de números en\n",
    "  la que el siguiente siempre es la suma de los dos anteriores.\n",
    "  0, 1, 1, 2, 3, 5, 8, 13..."
   ]
  },
  {
   "cell_type": "code",
   "execution_count": null,
   "metadata": {},
   "outputs": [],
   "source": [
    "def fibonacci():\n",
    "\n",
    "    prev = 0\n",
    "    next = 1\n",
    "\n",
    "    for index in range(0, 50):\n",
    "        print(prev)\n",
    "        fib = prev + next\n",
    "        prev = next\n",
    "        next = fib\n",
    "\n",
    "\n",
    "fibonacci()"
   ]
  },
  {
   "cell_type": "markdown",
   "metadata": {},
   "source": [
    "### ¿ES UN NÚMERO PRIMO?\n",
    "Escribe un programa que se encargue de comprobar si un número es o no primo.\n",
    "Hecho esto, imprime los números primos entre 1 y 100."
   ]
  },
  {
   "cell_type": "code",
   "execution_count": null,
   "metadata": {},
   "outputs": [],
   "source": [
    "def is_prime():\n",
    "\n",
    "    for number in range(1, 101):\n",
    "\n",
    "        if number >= 2:\n",
    "\n",
    "            is_divisible = False\n",
    "\n",
    "            for index in range(2, number):\n",
    "                if number % index == 0:\n",
    "                    is_divisible = True\n",
    "                    break\n",
    "\n",
    "            if not is_divisible:\n",
    "                print(number)\n",
    "\n",
    "\n",
    "is_prime()"
   ]
  },
  {
   "cell_type": "markdown",
   "metadata": {},
   "source": []
  },
  {
   "cell_type": "code",
   "execution_count": null,
   "metadata": {},
   "outputs": [],
   "source": []
  },
  {
   "cell_type": "markdown",
   "metadata": {},
   "source": []
  },
  {
   "cell_type": "code",
   "execution_count": null,
   "metadata": {},
   "outputs": [],
   "source": []
  },
  {
   "cell_type": "markdown",
   "metadata": {},
   "source": []
  },
  {
   "cell_type": "code",
   "execution_count": null,
   "metadata": {},
   "outputs": [],
   "source": []
  },
  {
   "cell_type": "markdown",
   "metadata": {},
   "source": []
  },
  {
   "cell_type": "code",
   "execution_count": null,
   "metadata": {},
   "outputs": [],
   "source": []
  },
  {
   "cell_type": "markdown",
   "metadata": {},
   "source": []
  },
  {
   "cell_type": "code",
   "execution_count": null,
   "metadata": {},
   "outputs": [],
   "source": []
  },
  {
   "cell_type": "markdown",
   "metadata": {},
   "source": []
  },
  {
   "cell_type": "code",
   "execution_count": null,
   "metadata": {},
   "outputs": [],
   "source": []
  },
  {
   "cell_type": "markdown",
   "metadata": {},
   "source": []
  },
  {
   "cell_type": "code",
   "execution_count": null,
   "metadata": {},
   "outputs": [],
   "source": []
  },
  {
   "cell_type": "markdown",
   "metadata": {},
   "source": []
  },
  {
   "cell_type": "code",
   "execution_count": null,
   "metadata": {},
   "outputs": [],
   "source": []
  },
  {
   "cell_type": "markdown",
   "metadata": {},
   "source": []
  },
  {
   "cell_type": "code",
   "execution_count": null,
   "metadata": {},
   "outputs": [],
   "source": []
  },
  {
   "cell_type": "markdown",
   "metadata": {},
   "source": []
  },
  {
   "cell_type": "code",
   "execution_count": null,
   "metadata": {},
   "outputs": [],
   "source": []
  },
  {
   "cell_type": "markdown",
   "metadata": {},
   "source": []
  },
  {
   "cell_type": "code",
   "execution_count": null,
   "metadata": {},
   "outputs": [],
   "source": []
  },
  {
   "cell_type": "markdown",
   "metadata": {},
   "source": []
  },
  {
   "cell_type": "code",
   "execution_count": null,
   "metadata": {},
   "outputs": [],
   "source": []
  }
 ],
 "metadata": {
  "kernelspec": {
   "display_name": "Python 3",
   "language": "python",
   "name": "python3"
  },
  "language_info": {
   "codemirror_mode": {
    "name": "ipython",
    "version": 3
   },
   "file_extension": ".py",
   "mimetype": "text/x-python",
   "name": "python",
   "nbconvert_exporter": "python",
   "pygments_lexer": "ipython3",
   "version": "3.11.1"
  }
 },
 "nbformat": 4,
 "nbformat_minor": 2
}
