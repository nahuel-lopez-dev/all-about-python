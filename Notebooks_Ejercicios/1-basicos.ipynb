{
 "cells": [
  {
   "cell_type": "markdown",
   "metadata": {},
   "source": [
    "<div align=\"center\">\n",
    "    <h1>Ejercicios Básicos</h1>\n",
    "</div>\n"
   ]
  },
  {
   "cell_type": "markdown",
   "metadata": {},
   "source": [
    "## Introducción práctica de conceptos"
   ]
  },
  {
   "cell_type": "markdown",
   "metadata": {},
   "source": []
  },
  {
   "cell_type": "code",
   "execution_count": null,
   "metadata": {},
   "outputs": [],
   "source": []
  },
  {
   "cell_type": "markdown",
   "metadata": {},
   "source": []
  },
  {
   "cell_type": "code",
   "execution_count": null,
   "metadata": {},
   "outputs": [],
   "source": []
  },
  {
   "cell_type": "markdown",
   "metadata": {},
   "source": []
  },
  {
   "cell_type": "code",
   "execution_count": null,
   "metadata": {},
   "outputs": [],
   "source": []
  },
  {
   "cell_type": "markdown",
   "metadata": {},
   "source": []
  },
  {
   "cell_type": "code",
   "execution_count": null,
   "metadata": {},
   "outputs": [],
   "source": []
  },
  {
   "cell_type": "markdown",
   "metadata": {},
   "source": []
  },
  {
   "cell_type": "code",
   "execution_count": null,
   "metadata": {},
   "outputs": [],
   "source": []
  },
  {
   "cell_type": "markdown",
   "metadata": {},
   "source": []
  },
  {
   "cell_type": "code",
   "execution_count": null,
   "metadata": {},
   "outputs": [],
   "source": []
  },
  {
   "cell_type": "markdown",
   "metadata": {},
   "source": []
  },
  {
   "cell_type": "code",
   "execution_count": null,
   "metadata": {},
   "outputs": [],
   "source": []
  },
  {
   "cell_type": "markdown",
   "metadata": {},
   "source": []
  },
  {
   "cell_type": "code",
   "execution_count": null,
   "metadata": {},
   "outputs": [],
   "source": []
  },
  {
   "cell_type": "markdown",
   "metadata": {},
   "source": []
  },
  {
   "cell_type": "code",
   "execution_count": null,
   "metadata": {},
   "outputs": [],
   "source": []
  },
  {
   "cell_type": "markdown",
   "metadata": {},
   "source": []
  },
  {
   "cell_type": "code",
   "execution_count": null,
   "metadata": {},
   "outputs": [],
   "source": []
  },
  {
   "cell_type": "markdown",
   "metadata": {},
   "source": []
  },
  {
   "cell_type": "code",
   "execution_count": null,
   "metadata": {},
   "outputs": [],
   "source": []
  },
  {
   "cell_type": "markdown",
   "metadata": {},
   "source": []
  },
  {
   "cell_type": "code",
   "execution_count": null,
   "metadata": {},
   "outputs": [],
   "source": []
  },
  {
   "cell_type": "markdown",
   "metadata": {},
   "source": []
  },
  {
   "cell_type": "code",
   "execution_count": null,
   "metadata": {},
   "outputs": [],
   "source": []
  },
  {
   "cell_type": "markdown",
   "metadata": {},
   "source": []
  },
  {
   "cell_type": "code",
   "execution_count": null,
   "metadata": {},
   "outputs": [],
   "source": []
  },
  {
   "cell_type": "markdown",
   "metadata": {},
   "source": []
  },
  {
   "cell_type": "code",
   "execution_count": null,
   "metadata": {},
   "outputs": [],
   "source": []
  },
  {
   "cell_type": "markdown",
   "metadata": {},
   "source": []
  },
  {
   "cell_type": "code",
   "execution_count": null,
   "metadata": {},
   "outputs": [],
   "source": []
  },
  {
   "cell_type": "markdown",
   "metadata": {},
   "source": [
    "## Ejercicios y problemas"
   ]
  },
  {
   "cell_type": "markdown",
   "metadata": {},
   "source": [
    "### 1. Anagrama\n",
    "\n",
    "Verificar si una palabra es un anagrama de otra.       \n",
    "\n",
    "    Una palabra es anagrama de otra si tiene las mismas letras, el mismo número de veces, pero en distinto orden.\n",
    "\n",
    "Por ejemplo: ('paris', 'prisa')"
   ]
  },
  {
   "cell_type": "code",
   "execution_count": null,
   "metadata": {},
   "outputs": [],
   "source": [
    "def anagrama(s1, s2):\n",
    "    s1 = s1.replace(' ', '').lower()\n",
    "    s2 = s2.replace(' ', '').lower()\n",
    "    \n",
    "    if s1 == s2:\n",
    "        return False\n",
    "    \n",
    "    if len(s1) != len(s2):\n",
    "        return False\n",
    "    \n",
    "    contador = {}\n",
    "    \n",
    "    for letra in s1:\n",
    "        if letra in contador:\n",
    "            contador[letra] +=1\n",
    "        else:\n",
    "            contador[letra] = 1\n",
    "    \n",
    "    for letra in s2:\n",
    "        if letra in contador:\n",
    "            contador[letra] -= 1\n",
    "        else:\n",
    "            contador[letra] = 1\n",
    "            \n",
    "    for elemento in contador:\n",
    "        if contador[elemento] != 0:\n",
    "            return False\n",
    "        \n",
    "    return True    "
   ]
  },
  {
   "cell_type": "code",
   "execution_count": null,
   "metadata": {},
   "outputs": [],
   "source": [
    "anagrama('paris', 'prisa')"
   ]
  },
  {
   "cell_type": "markdown",
   "metadata": {},
   "source": [
    "### 2. Suma de pares de números\n",
    "\n",
    "- Paramétros: lista de números, valor.\n",
    "Dada una lista de números, mostrar los pares de números que sumados obtienen el valor pasado como parámetro.\n",
    "- La función además de mostrar los pares de números, devolverá el número de pares de números que suman ese valor\n",
    "\n",
    "Por ejemplo: \n",
    "\n",
    "suma_pares([1,3,2,2], 4) --> (1,3) (2,2)"
   ]
  },
  {
   "cell_type": "code",
   "execution_count": null,
   "metadata": {},
   "outputs": [],
   "source": [
    "def suma_pares(numeros, suma):\n",
    "    if len(numeros) < 2:\n",
    "        return\n",
    "    \n",
    "    vistos = set()\n",
    "    salida = set()\n",
    "    \n",
    "    for numero in numeros:\n",
    "        objetivo = suma - numero\n",
    "        \n",
    "        if objetivo not in vistos:\n",
    "            vistos.add(numero)\n",
    "        else:\n",
    "            salida.add((min(numero, objetivo), max(numero, objetivo)))\n",
    "    \n",
    "    for elemento in salida:\n",
    "        print(elemento)\n",
    "        \n",
    "    return len(salida)        "
   ]
  },
  {
   "cell_type": "code",
   "execution_count": null,
   "metadata": {},
   "outputs": [],
   "source": [
    "suma_pares([1,3,2,2], 4)"
   ]
  },
  {
   "cell_type": "markdown",
   "metadata": {},
   "source": [
    "### 3. Suma continua de mayor valor de una lista de números\n",
    "\n",
    "Dado una lista de números positivos y negativos, encontrar la suma continua de mayor valor.\n",
    "\n",
    "Ejemplo, maxima_suma_continua([4,8,6,-3,2,-4,1,-1]) --> 18 "
   ]
  },
  {
   "cell_type": "code",
   "execution_count": 1,
   "metadata": {},
   "outputs": [],
   "source": [
    "def maxima_suma_continua(numeros):\n",
    "    if len(numeros) == 0:\n",
    "        return 0\n",
    "    \n",
    "    maximo = numeros[0]\n",
    "    suma = numeros[0]\n",
    "    \n",
    "    for numero in numeros[1:]:\n",
    "        suma = max(suma+numero, numero)     \n",
    "        maximo = max(maximo, suma)   \n",
    "    \n",
    "    return maximo  \n",
    "    # maximo = suma = 4\n",
    "    # numero = 8\n",
    "    # suma = max(4+8,8) = 12    \n",
    "    # maximo = max(4, 12) = 12\n",
    "    \n",
    "    # numero = 6\n",
    "    # suma = max(12+6,6) = 18    \n",
    "    # maximo = max(12, 18) = 18 \n",
    "    \n",
    "    # numero = -3\n",
    "    # suma = max(18-3,-3) = 15    \n",
    "    # maximo = max(18, 15) = 18\n",
    "    # ... y así sucesivamente\n",
    "    # retorna 18"
   ]
  },
  {
   "cell_type": "code",
   "execution_count": 2,
   "metadata": {},
   "outputs": [
    {
     "data": {
      "text/plain": [
       "18"
      ]
     },
     "execution_count": 2,
     "metadata": {},
     "output_type": "execute_result"
    }
   ],
   "source": [
    "maxima_suma_continua([4,8,6,-3,2,-4,1,-1])"
   ]
  },
  {
   "cell_type": "code",
   "execution_count": 3,
   "metadata": {},
   "outputs": [
    {
     "name": "stdout",
     "output_type": "stream",
     "text": [
      "Collecting nose\n",
      "  Downloading nose-1.3.7-py3-none-any.whl.metadata (1.7 kB)\n",
      "Downloading nose-1.3.7-py3-none-any.whl (154 kB)\n",
      "   ---------------------------------------- 0.0/154.7 kB ? eta -:--:--\n",
      "   -------------------------- ------------- 102.4/154.7 kB 3.0 MB/s eta 0:00:01\n",
      "   ---------------------------------------- 154.7/154.7 kB 2.3 MB/s eta 0:00:00\n",
      "Installing collected packages: nose\n",
      "Successfully installed nose-1.3.7\n",
      "Note: you may need to restart the kernel to use updated packages.\n"
     ]
    },
    {
     "name": "stderr",
     "output_type": "stream",
     "text": [
      "\n",
      "[notice] A new release of pip is available: 24.1.1 -> 24.2\n",
      "[notice] To update, run: python.exe -m pip install --upgrade pip\n"
     ]
    }
   ],
   "source": [
    "%pip install nose\n",
    "# Si es necesario, en una terminal:\n",
    "# python.exe -m pip install --upgrade pip"
   ]
  },
  {
   "cell_type": "code",
   "execution_count": 4,
   "metadata": {},
   "outputs": [],
   "source": [
    "# Clase de prueba de la función anterior \"maxima_suma_continua\"\n",
    "from nose.tools import assert_equal\n",
    "\n",
    "class ProbarMaximoSumaContinua(object):\n",
    "    def prueba1(self):\n",
    "        assert_equal(maxima_suma_continua([4, 8, 6, -3, 2, -4, 1, -1]), 18)\n",
    "        assert_equal(maxima_suma_continua([1, 5, -2, 4, -3, 2]), 8)\n",
    "        assert_equal(maxima_suma_continua([1, -1, 2, -3]), 2)\n",
    "        print(\"Todas las pruebas se han ejecutado correctamente\")"
   ]
  },
  {
   "cell_type": "code",
   "execution_count": 5,
   "metadata": {},
   "outputs": [
    {
     "name": "stdout",
     "output_type": "stream",
     "text": [
      "Todas las pruebas se han ejecutado correctamente\n"
     ]
    }
   ],
   "source": [
    "# Crear una instancia de la clase\n",
    "prueba = ProbarMaximoSumaContinua()\n",
    "prueba.prueba1()"
   ]
  },
  {
   "cell_type": "markdown",
   "metadata": {},
   "source": [
    "### 4. otro"
   ]
  },
  {
   "cell_type": "code",
   "execution_count": null,
   "metadata": {},
   "outputs": [],
   "source": []
  },
  {
   "cell_type": "markdown",
   "metadata": {},
   "source": [
    "### 5. otro"
   ]
  },
  {
   "cell_type": "code",
   "execution_count": null,
   "metadata": {},
   "outputs": [],
   "source": []
  },
  {
   "cell_type": "markdown",
   "metadata": {},
   "source": [
    "### 6. otro"
   ]
  },
  {
   "cell_type": "code",
   "execution_count": null,
   "metadata": {},
   "outputs": [],
   "source": []
  },
  {
   "cell_type": "markdown",
   "metadata": {},
   "source": [
    "### 7. otro"
   ]
  },
  {
   "cell_type": "code",
   "execution_count": null,
   "metadata": {},
   "outputs": [],
   "source": []
  },
  {
   "cell_type": "markdown",
   "metadata": {},
   "source": [
    "### 8. otro"
   ]
  },
  {
   "cell_type": "code",
   "execution_count": null,
   "metadata": {},
   "outputs": [],
   "source": []
  },
  {
   "cell_type": "markdown",
   "metadata": {},
   "source": [
    "### 9. otro"
   ]
  },
  {
   "cell_type": "code",
   "execution_count": null,
   "metadata": {},
   "outputs": [],
   "source": []
  },
  {
   "cell_type": "markdown",
   "metadata": {},
   "source": [
    "### 10. otro"
   ]
  },
  {
   "cell_type": "code",
   "execution_count": null,
   "metadata": {},
   "outputs": [],
   "source": []
  }
 ],
 "metadata": {
  "kernelspec": {
   "display_name": "Python 3",
   "language": "python",
   "name": "python3"
  },
  "language_info": {
   "codemirror_mode": {
    "name": "ipython",
    "version": 3
   },
   "file_extension": ".py",
   "mimetype": "text/x-python",
   "name": "python",
   "nbconvert_exporter": "python",
   "pygments_lexer": "ipython3",
   "version": "3.11.1"
  }
 },
 "nbformat": 4,
 "nbformat_minor": 2
}
