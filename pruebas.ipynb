{
 "cells": [
  {
   "attachments": {},
   "cell_type": "markdown",
   "metadata": {},
   "source": [
    "<div align=\"center\">\n",
    "    <h1>Notebook de Pruebas</h1>\n",
    "    <p>Para probar rápidamente ejercicios en vivo o corroborar soluciones</p>\n",
    "</div>"
   ]
  },
  {
   "cell_type": "markdown",
   "metadata": {},
   "source": [
    "### Prueba 1\n",
    "\n",
    "Definir la prueba o caso de uso a resolver"
   ]
  },
  {
   "cell_type": "code",
   "execution_count": null,
   "metadata": {},
   "outputs": [],
   "source": []
  },
  {
   "attachments": {},
   "cell_type": "markdown",
   "metadata": {},
   "source": [
    "### Prueba 2\n",
    "\n",
    "Definir la prueba o caso de uso a resolver"
   ]
  },
  {
   "cell_type": "code",
   "execution_count": null,
   "metadata": {},
   "outputs": [],
   "source": []
  },
  {
   "cell_type": "markdown",
   "metadata": {},
   "source": [
    "### Ejemplos"
   ]
  },
  {
   "cell_type": "markdown",
   "metadata": {},
   "source": [
    "### Función para obtener la media\n",
    "\n",
    "Obtener la media a partir de una lista de números"
   ]
  },
  {
   "cell_type": "code",
   "execution_count": 11,
   "metadata": {},
   "outputs": [
    {
     "name": "stdout",
     "output_type": "stream",
     "text": [
      "La media es: 2.5\n"
     ]
    }
   ],
   "source": [
    "def media(lista):\n",
    "    if not lista:\n",
    "        raise ValueError(\"La lista de muestra está vacía\")\n",
    "    \n",
    "    total = sum(lista)\n",
    "    media = total / len(lista)\n",
    "    return media\n",
    "\n",
    "lista = [1,2,3,4]\n",
    "calculo_media = media(lista)\n",
    "print(f\"La media es: {calculo_media}\")"
   ]
  },
  {
   "cell_type": "code",
   "execution_count": 5,
   "metadata": {},
   "outputs": [
    {
     "name": "stdout",
     "output_type": "stream",
     "text": [
      "2.5\n"
     ]
    }
   ],
   "source": [
    "def media(lista):\n",
    "    media = sum(lista)/len(lista)\n",
    "    return media\n",
    "\n",
    "print(media([1,2,3,4]))"
   ]
  },
  {
   "cell_type": "markdown",
   "metadata": {},
   "source": [
    "### Verificar si es múltiplo\n",
    "\n",
    "Crea un programa que le pida dos números enteros al usuario y diga por consola, si alguno de ellos es múltiplo del otro. La función debe llamarse es_multiplo().\n"
   ]
  },
  {
   "cell_type": "code",
   "execution_count": 13,
   "metadata": {},
   "outputs": [
    {
     "name": "stdout",
     "output_type": "stream",
     "text": [
      "¡Al menos uno de los números es múltiplo del otro!\n"
     ]
    }
   ],
   "source": [
    "def es_multiplo(numero1, numero2):\n",
    "    if numero1 % numero2 == 0 or numero2 % numero1 == 0:\n",
    "        return True\n",
    "    else:\n",
    "        return False\n",
    "\n",
    "numero1 = int(input(\"Ingresa el primer número entero: \"))\n",
    "numero2 = int(input(\"Ingresa el segundo número entero: \"))\n",
    "\n",
    "if es_multiplo(numero1, numero2):\n",
    "    print(\"¡Al menos uno de los números es múltiplo del otro!\")\n",
    "else:\n",
    "    print(\"Ninguno de los números es múltiplo del otro.\")"
   ]
  }
 ],
 "metadata": {
  "kernelspec": {
   "display_name": "Python 3",
   "language": "python",
   "name": "python3"
  },
  "language_info": {
   "codemirror_mode": {
    "name": "ipython",
    "version": 3
   },
   "file_extension": ".py",
   "mimetype": "text/x-python",
   "name": "python",
   "nbconvert_exporter": "python",
   "pygments_lexer": "ipython3",
   "version": "3.11.1"
  },
  "orig_nbformat": 4
 },
 "nbformat": 4,
 "nbformat_minor": 2
}
