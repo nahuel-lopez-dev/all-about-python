{
 "cells": [
  {
   "attachments": {},
   "cell_type": "markdown",
   "metadata": {},
   "source": [
    "# ⚡ *`Strings o cadena de caracteres`* ⚡"
   ]
  },
  {
   "attachments": {},
   "cell_type": "markdown",
   "metadata": {},
   "source": [
    "### `Trabajando con el tipo de dato Strings, utilidades:`"
   ]
  },
  {
   "cell_type": "code",
   "execution_count": 8,
   "metadata": {},
   "outputs": [
    {
     "name": "stdout",
     "output_type": "stream",
     "text": [
      "Nahuel Lopez\n",
      "Nahuel Lopez\n",
      "Nahuel-Lopez\n",
      "Nahuel | Lopez\n",
      "<class 'str'>\n"
     ]
    }
   ],
   "source": [
    "### Strings ###\n",
    "# son inmutables. \n",
    "\n",
    "# Imprimiendo strings\n",
    "nombre = 'Nahuel'\n",
    "apellido = 'Lopez'\n",
    "\n",
    "print(nombre, apellido)\n",
    "print(nombre, apellido, sep=' ') # por defecto el sep=' ', por lo que en este caso no hay diferencia entre ponerlo o no.\n",
    "print(nombre, apellido, sep='-')\n",
    "print(nombre, apellido, sep=' | ')\n",
    "print(type(nombre))"
   ]
  },
  {
   "attachments": {},
   "cell_type": "markdown",
   "metadata": {},
   "source": [
    "#### `Métodos split y join:`"
   ]
  },
  {
   "attachments": {},
   "cell_type": "markdown",
   "metadata": {},
   "source": [
    "#### `split, para pasar de string a lista`\n",
    "Otra forma de crear una lista a partir de una cadena de caracteres. Por ejemplo, si exportamos datos desde una planilla de cálculo, con valores estarán separados por comas, y entonces los podemos separar usando el método `split()`:"
   ]
  },
  {
   "cell_type": "code",
   "execution_count": 11,
   "metadata": {},
   "outputs": [
    {
     "name": "stdout",
     "output_type": "stream",
     "text": [
      "lenguajes_string: Python Ruby Java Rust C++ C\n",
      "lenguajes_string_diagonal: Python,Ruby,Java,Rust,C++,C\n",
      "lenguajes_string_guion: Python-Ruby-Java-Rust-C++-C\n",
      "Usando split\n",
      "['Python', 'Ruby', 'Java', 'Rust', 'C++', 'C']\n",
      "['Python', 'Ruby', 'Java', 'Rust', 'C++', 'C']\n",
      "['Python', 'Ruby', 'Java', 'Rust', 'C++', 'C']\n",
      "\n",
      "lenguajes_lista: ['Python', 'Ruby', 'Java', 'Rust']\n",
      "Usando join:\n",
      "Python-Ruby-Java-Rust\n",
      "Python - Ruby - Java - Rust\n",
      "Python|Ruby|Java|Rust\n",
      "Python, Ruby, Java, Rust\n",
      "<class 'str'>\n"
     ]
    }
   ],
   "source": [
    "# Método split\n",
    "# Parte la cadena en subcadenas según la separación indicada en split y las retorna en una lista\n",
    "\n",
    "lenguajes_string_espacio = 'Python Ruby Java Rust C++ C'\n",
    "lenguajes_string_diagonal = 'Python,Ruby,Java,Rust,C++,C'\n",
    "lenguajes_string_guion = 'Python-Ruby-Java-Rust-C++-C'\n",
    "print('lenguajes_string_espacio:', lenguajes_string_espacio)\n",
    "print('lenguajes_string_diagonal:', lenguajes_string_diagonal)\n",
    "print('lenguajes_string_guion:', lenguajes_string_guion)\n",
    "print('Usando split')\n",
    "\n",
    "# usando split\n",
    "listado_lenguajes1 = lenguajes_string_espacio.split(' ') # espacios \n",
    "listado_lenguajes2 = lenguajes_string_diagonal.split(',') # coma \n",
    "listado_lenguajes3 = lenguajes_string_guion.split('-') # guion medio \n",
    "print(listado_lenguajes1)\n",
    "print(listado_lenguajes2)\n",
    "print(listado_lenguajes2)"
   ]
  },
  {
   "attachments": {},
   "cell_type": "markdown",
   "metadata": {},
   "source": [
    "#### `join, para pasar de lista a string`"
   ]
  },
  {
   "cell_type": "code",
   "execution_count": 15,
   "metadata": {},
   "outputs": [
    {
     "name": "stdout",
     "output_type": "stream",
     "text": [
      "lenguajes_lista: ['Python', 'Ruby', 'Java', 'Rust']\n",
      "Usando join:\n",
      "Python-Ruby-Java-Rust\n",
      "Python - Ruby - Java - Rust\n",
      "Python|Ruby|Java|Rust\n",
      "Python, Ruby, Java, Rust\n",
      "hi my name is Nahuel\n"
     ]
    }
   ],
   "source": [
    "# Método join\n",
    "# convierte una lista en strings, separados según la forma indicada\n",
    "\n",
    "lenguajes_lista = ['Python', 'Ruby', 'Java', 'Rust']\n",
    "print('lenguajes_lista:', lenguajes_lista)\n",
    "print('Usando join:')\n",
    "\n",
    "string_lenguajes1 = '-'.join(lenguajes_lista)\n",
    "string_lenguajes2 = ' - '.join(lenguajes_lista)\n",
    "string_lenguajes3 = '|'.join(lenguajes_lista)\n",
    "string_lenguajes4 = ', '.join(lenguajes_lista)\n",
    "\n",
    "print(string_lenguajes1)\n",
    "print(string_lenguajes2)\n",
    "print(string_lenguajes3)\n",
    "print(string_lenguajes4)\n",
    "\n",
    "# de otra manera\n",
    "array_saludo = ['hi', 'my', 'name', 'is', 'Nahuel']\n",
    "sentence = ' '\n",
    "new_sentence = sentence.join(array_saludo)\n",
    "print(new_sentence)"
   ]
  },
  {
   "attachments": {},
   "cell_type": "markdown",
   "metadata": {},
   "source": [
    "#### `Formatos`"
   ]
  },
  {
   "cell_type": "code",
   "execution_count": 20,
   "metadata": {},
   "outputs": [
    {
     "name": "stdout",
     "output_type": "stream",
     "text": [
      "   Curso profesional de Python, donde aprenderemos Python.   \n",
      "   CURSO PROFESIONAL DE PYTHON, DONDE APRENDEREMOS PYTHON.   \n",
      "   curso profesional de python, donde aprenderemos python.   \n",
      "---Curso-profesional-de-Python,-donde-aprenderemos-Python.---\n",
      "Curso profesional de Python, donde aprenderemos Python.\n"
     ]
    }
   ],
   "source": [
    "mensaje = '   Curso profesional de Python, donde aprenderemos Python.   '\n",
    "print(mensaje)\n",
    "\n",
    "mensaje_upper = mensaje.upper() # convierte toda la cadena a mayúsculas\n",
    "print(mensaje_upper)\n",
    "\n",
    "mensaje_lower = mensaje.lower() # convierte toda la cadena a minúsculas\n",
    "print(mensaje_lower)\n",
    "\n",
    "mensaje = mensaje.replace(' ', '-') # reemplaza los espacios por guion medio\n",
    "print(mensaje)\n",
    "\n",
    "mensaje = '   Curso profesional de Python, donde aprenderemos Python.   '\n",
    "mensaje = mensaje.strip() # borra los espacios de izquiera y derecha\n",
    "print(mensaje)\n",
    "\n",
    "# print(mensaje.islower()) # isupper() o islower()"
   ]
  },
  {
   "attachments": {},
   "cell_type": "markdown",
   "metadata": {},
   "source": [
    "#### `Concatenamiento`"
   ]
  },
  {
   "cell_type": "code",
   "execution_count": 26,
   "metadata": {},
   "outputs": [
    {
     "name": "stdout",
     "output_type": "stream",
     "text": [
      "Desarrollador Full Stack: Nahuel DevOne 1\n"
     ]
    }
   ],
   "source": [
    "nombre = 'Nahuel'\n",
    "alias = 'DevOne'\n",
    "\n",
    "# nombre_completo = 'Mr.' +  nombre + ' ' + apellido + '.'\n",
    "\n",
    "# nombre_completo = 'Mr. %s %s %s.' %(nombre, apellido, 'Pérez')\n",
    "\n",
    "\"\"\"\n",
    "nombre_completo = 'Mr. {nombre} {primer_apellido} {segundo_apellido}.'.format(\n",
    "    nombre=nombre,\n",
    "    primer_apellido=apellido,\n",
    "    segundo_apellido='Pérez'\n",
    ")\n",
    "\"\"\"\n",
    "##### f-strings la forma más práctica de concatenar\n",
    "nombre_completo = f'Desarrollador Full Stack: {nombre} {alias} { int(10 / 10) }'\n",
    "print(nombre_completo)"
   ]
  },
  {
   "attachments": {},
   "cell_type": "markdown",
   "metadata": {},
   "source": [
    "### `Búsquedas`"
   ]
  },
  {
   "cell_type": "code",
   "execution_count": 28,
   "metadata": {},
   "outputs": [
    {
     "name": "stdout",
     "output_type": "stream",
     "text": [
      "False\n",
      "True\n",
      "True\n"
     ]
    }
   ],
   "source": [
    "titulo_curso = 'Curso profesional de Python, donde aprenderemos Python'\n",
    "\n",
    "\"\"\"\n",
    "contador = titulo_curso.count('a')\n",
    "\n",
    "print(contador)\n",
    "\"\"\"\n",
    "\n",
    "# startswith\n",
    "# endswith\n",
    "\n",
    "print(titulo_curso.startswith('curso'))\n",
    "print(titulo_curso.lower().startswith('curso')) # encadenamiento o chaining\n",
    "print(titulo_curso.endswith('Python'))"
   ]
  },
  {
   "cell_type": "markdown",
   "metadata": {},
   "source": [
    "#### `Alineación`"
   ]
  },
  {
   "cell_type": "code",
   "execution_count": 29,
   "metadata": {},
   "outputs": [
    {
     "name": "stdout",
     "output_type": "stream",
     "text": [
      "    Hola mundo!     \n"
     ]
    }
   ],
   "source": [
    "mensaje = 'Hola mundo!'\n",
    "\n",
    "# ljust -> Justificar a la Izquierda\n",
    "# rjust -> Justificar a la Derecha\n",
    "# center -> Centrar\n",
    "\n",
    "mensaje = mensaje.center(20)\n",
    "\n",
    "print(mensaje)"
   ]
  },
  {
   "attachments": {},
   "cell_type": "markdown",
   "metadata": {},
   "source": [
    "#### `slicing`"
   ]
  },
  {
   "cell_type": "code",
   "execution_count": 30,
   "metadata": {},
   "outputs": [
    {
     "name": "stdout",
     "output_type": "stream",
     "text": [
      "He\n"
     ]
    }
   ],
   "source": [
    "# más sobre slicing, que es muy útil\n",
    "# [inicio, fin, valor en el que avanza]\n",
    "string = 'Hellooo' # se puede usar para strings que son cadenas de caracteres\n",
    "print(string[0:2:1]) # He\n",
    "#string[0] = 'z' # da error, porque los strings son inmutables"
   ]
  }
 ],
 "metadata": {
  "kernelspec": {
   "display_name": "Python 3",
   "language": "python",
   "name": "python3"
  },
  "language_info": {
   "codemirror_mode": {
    "name": "ipython",
    "version": 3
   },
   "file_extension": ".py",
   "mimetype": "text/x-python",
   "name": "python",
   "nbconvert_exporter": "python",
   "pygments_lexer": "ipython3",
   "version": "3.11.1"
  },
  "orig_nbformat": 4
 },
 "nbformat": 4,
 "nbformat_minor": 2
}
