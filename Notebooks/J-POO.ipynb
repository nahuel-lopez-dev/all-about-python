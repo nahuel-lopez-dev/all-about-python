{
 "cells": [
  {
   "cell_type": "markdown",
   "metadata": {},
   "source": [
    "# ⚡ *`POO: Programación Orientada a Objetos`* ⚡"
   ]
  },
  {
   "cell_type": "markdown",
   "metadata": {},
   "source": [
    "## Clases"
   ]
  },
  {
   "cell_type": "markdown",
   "metadata": {},
   "source": [
    "### Programación orientada a objetos"
   ]
  },
  {
   "cell_type": "markdown",
   "metadata": {},
   "source": [
    "Vamos a ver el concepto de clase, cómo crear nuevos tipos de objetos, su utilidad, y las ventajas de esa forma de organizar los programas.\n",
    "\n",
    "**¿Qué es una clase y qué es un objeto?**\n",
    "\n",
    "Se puede decir que la Clase es el plano de construcción para crear objetos, el molde con el que se los crea.\\\n",
    "Un Objeto es una instancia de una clase, una entidad creada a partir de ese molde.\\\n",
    "Ejemplo:\\\n",
    "Una Clase sería el plano de construcción de una casa, mientras que el Objeto sería la casa construída.\n",
    "\n",
    "La programación orientada a objetos es uno de los paradigmas más utilizados en programación, y es una forma de organizar el código. Así como un algoritmo suele estar asociado a una estructura de datos particular, la programación orientada a objetos \"empaqueta\" los datos junto con los métodos usados para tratarlos.\n",
    "\n",
    "Cada uno de esos objetos consiste en\n",
    "\n",
    "* Propiedades (atributos de los objetos).\n",
    "* Comportamiento (métodos de los objetos: son funciones que actúan sobre los atributos del objeto)."
   ]
  },
  {
   "cell_type": "markdown",
   "metadata": {},
   "source": [
    "En este punto, ya se han utilizado muchas veces objetos, por ejemplo, cuando se manipula una lista."
   ]
  },
  {
   "cell_type": "code",
   "execution_count": 3,
   "metadata": {},
   "outputs": [
    {
     "data": {
      "text/plain": [
       "[1, 10, 2, 3, 4]"
      ]
     },
     "execution_count": 3,
     "metadata": {},
     "output_type": "execute_result"
    }
   ],
   "source": [
    "nums = [1, 2, 3]\n",
    "nums.append(4)      # Esto es un método de la lista\n",
    "nums.insert(1,10)   # aquí otro método\n",
    "nums"
   ]
  },
  {
   "cell_type": "markdown",
   "metadata": {},
   "source": [
    "- *nums* es una variable de tipo lista. Equivalentemente, podemos decir que *nums* es una instancia de la clase *list*. Cada variable de tipo lista es una instancia de la misma clase. Al hablar de 'instancia' nos referimos a un 'objeto': un objeto es una instancia de una clase.\n",
    "  \n",
    "- Un objeto de tipo lista tiene atributos (datos) y métodos. Los métodos, como *append()* o *insert()*, se definen cuando se define la clase, pero se usan para manipular los datos de un objeto concreto (*nums* en este caso)."
   ]
  },
  {
   "cell_type": "markdown",
   "metadata": {},
   "source": [
    "### La instrucción Class"
   ]
  },
  {
   "cell_type": "markdown",
   "metadata": {},
   "source": [
    "- Para definir un tipo nuevo de objeto, usamos la instrucción *class* seguido del nombre que le queremos poner a la clase.  \n",
    "  Por convención los nombres de las clases son en UpperCamelCase (llamado también PascalCase).\n",
    "\n",
    "- **Clase**: nuestro molde o plantilla para hacer objetos\n",
    "  \n",
    "- **Objeto**: una instancia de la clase    \n",
    "\n",
    "- **Métodos**: son las funciones que se encuentran dentro de la clase  \n",
    "\n",
    "- `__init__()`: es palabra reservada para un método especial, también conocido como constructor, que se llama automáticamente al crear una nueva instancia de una clase.  \n",
    "Su propósito principal es inicializar los atributos del objeto recién creado. Inicializa los datos locales para cada instancia, durante la ejecución del método de la clase.\n",
    "\n",
    "- **self**: palabra reservada para un método de instancia, se refiere a la instancia actual, cambia dependiendo de cada instancia, y es convención que se llame así  \n",
    "\n",
    "- **Atributos de clase**: son variables que pertenecen a la clase en sí misma, y son compartidas por todas las instancias. Se definen directamente dentro del cuerpo de la clase, pero fuera de los métodos.  \n",
    "\n",
    "- **Atributos de objeto**: son variables que pertenecen a cada instancia individual de la clase. Se definen dentro del método constructor `__init__` usando `self`, y pueden tener distintos valores para cada objeto.  \n",
    "\n",
    "- `__main__`: es el módulo desde donde se está creando la instancia del objeto\n"
   ]
  },
  {
   "cell_type": "markdown",
   "metadata": {},
   "source": [
    "#### Clase CuentaBancaria"
   ]
  },
  {
   "cell_type": "code",
   "execution_count": null,
   "metadata": {},
   "outputs": [],
   "source": [
    "class CuentaBancaria:\n",
    "    # Atributo de clase, compartido por todas las instancias\n",
    "    banco = \"Fulanito\" # Todas las cuentas tendrán este valor por defecto, a menos que se sobrescriba\n",
    "    \n",
    "    # El método __init__ es el constructor de la clase\n",
    "    # Se ejecuta al crear una nueva instancia\n",
    "    def __init__(self, titular):\n",
    "        # Atributos de objeto (instancia), específicos de cada cuenta\n",
    "        self.titular = titular\n",
    "        self.saldo = 0\n",
    "\n",
    "    # Métodos de instancia\n",
    "    # Actúan sobre los atributos específicos de cada objeto\n",
    "    def depositar(self, monto):\n",
    "        self.saldo += monto  # Modifica el saldo de esta instancia\n",
    "\n",
    "    def retirar(self, monto):\n",
    "        if monto <= self.saldo:\n",
    "            self.saldo -= monto\n",
    "        else:\n",
    "            print(\"Fondos insuficientes\")\n",
    "\n",
    "    def mostrar_saldo(self):\n",
    "        print(f'{self.titular} tiene ${self.saldo}')\n"
   ]
  },
  {
   "cell_type": "markdown",
   "metadata": {},
   "source": [
    "Un objeto del tipo CuentaBancaria tiene como atributos: \n",
    "\n",
    "- titular\n",
    "- saldo. \n",
    "\n",
    "Sus métodos son:\n",
    "\n",
    "- depositar() \n",
    "- retirar() \n",
    "- mostrar_saldo()\n",
    "\n",
    "Podemos decir que una clase es la definición formal de las relaciones entre los datos y los métodos que los manipulan. Un objeto es una instancia particular de la clase a la cual pertenece, con datos propios pero los mismos métodos que los demás objetos de esa clase.\n",
    "\n",
    "- Por convención siempre llamamos *self* a la instancia actual, y ésta es siempre pasada como primer argumento a todos los métodos. En realidad el nombre real de la variable no importa, pero es una convención en Python llamar al primer argumento self.\n",
    "\n",
    "- No hay restricciones en la cantidad o el tipo de atributos que puede tener una clase."
   ]
  },
  {
   "cell_type": "markdown",
   "metadata": {},
   "source": [
    "#### Instancias"
   ]
  },
  {
   "cell_type": "markdown",
   "metadata": {},
   "source": [
    "Los programas manipulan instancias individuales de las clases. Cada instancia es un objeto, y es en cada objeto que uno puede manipular los datos y llamar a sus métodos.\n",
    "Podemos crear un objeto mediante un llamado a la clase como si fuera una función."
   ]
  },
  {
   "cell_type": "code",
   "execution_count": null,
   "metadata": {},
   "outputs": [
    {
     "name": "stdout",
     "output_type": "stream",
     "text": [
      "Nahuel tiene $500\n",
      "Nahuel tiene $300\n",
      "Daniela tiene $1000\n"
     ]
    }
   ],
   "source": [
    "# Creamos una instancia (objeto) de la clase CuentaBancaria\n",
    "cuenta1 = CuentaBancaria(\"Nahuel\")\n",
    "\n",
    "# Llamamos a métodos sobre esa instancia\n",
    "cuenta1.depositar(500)\n",
    "cuenta1.mostrar_saldo()   # Nahuel tiene $500\n",
    "\n",
    "cuenta1.retirar(200)\n",
    "cuenta1.mostrar_saldo()   # Nahuel tiene $300\n",
    "\n",
    "# Podemos crear otra instancia independiente\n",
    "cuenta2 = CuentaBancaria(\"Daniela\")\n",
    "cuenta2.depositar(1000)\n",
    "cuenta2.mostrar_saldo()   # Carla tiene $1000"
   ]
  },
  {
   "cell_type": "markdown",
   "metadata": {},
   "source": [
    "cuenta1 y cuenta2 son instancias de la clase CuentaBancaria que fue definida más arriba. Es decir, cuenta1 y cuenta2 son objetos de la clase CuentaBancaria.\n",
    "\n",
    "**Importante:** La instrucción class es solamente la definición de una clase, no hace nada por sí misma. **Es similar a la definición de una función.**"
   ]
  },
  {
   "cell_type": "markdown",
   "metadata": {},
   "source": [
    "#### Propiedades de un objeto (Datos de una instancia) "
   ]
  },
  {
   "cell_type": "markdown",
   "metadata": {},
   "source": [
    "Cada instancia tiene sus propios datos locales (sus atributos). Acá pedimos ver el atributo titular y saldo de cada instancia:"
   ]
  },
  {
   "cell_type": "code",
   "execution_count": 6,
   "metadata": {},
   "outputs": [
    {
     "name": "stdout",
     "output_type": "stream",
     "text": [
      "El titular de la cuenta1 es: Nahuel\n",
      "El saldo de la cuenta1 es: 300\n",
      "El titular de la cuenta2 es: Daniela\n",
      "El saldo de la cuenta2 es: 1000\n"
     ]
    }
   ],
   "source": [
    "print(f\"El titular de la cuenta1 es: {cuenta1.titular}\")\n",
    "print(f\"El saldo de la cuenta1 es: {cuenta1.saldo}\")\n",
    "print(f\"El titular de la cuenta2 es: {cuenta2.titular}\")\n",
    "print(f\"El saldo de la cuenta2 es: {cuenta2.saldo}\")"
   ]
  },
  {
   "cell_type": "code",
   "execution_count": 7,
   "metadata": {},
   "outputs": [
    {
     "data": {
      "text/plain": [
       "'Nahuel'"
      ]
     },
     "execution_count": 7,
     "metadata": {},
     "output_type": "execute_result"
    }
   ],
   "source": [
    "cuenta1.titular"
   ]
  },
  {
   "cell_type": "code",
   "execution_count": 8,
   "metadata": {},
   "outputs": [
    {
     "data": {
      "text/plain": [
       "300"
      ]
     },
     "execution_count": 8,
     "metadata": {},
     "output_type": "execute_result"
    }
   ],
   "source": [
    "cuenta1.saldo"
   ]
  },
  {
   "cell_type": "markdown",
   "metadata": {},
   "source": [
    "Estos datos locales se inicializan, para cada instancia, durante la ejecución del método *__ init __()* de la clase."
   ]
  },
  {
   "cell_type": "markdown",
   "metadata": {},
   "source": [
    "Para saber si un objeto es una instancia de una clase"
   ]
  },
  {
   "cell_type": "code",
   "execution_count": 9,
   "metadata": {},
   "outputs": [
    {
     "name": "stdout",
     "output_type": "stream",
     "text": [
      "True\n"
     ]
    }
   ],
   "source": [
    "print(isinstance(cuenta1, CuentaBancaria))  # True, cuenta1 es una instancia de CuentaBancaria"
   ]
  },
  {
   "cell_type": "markdown",
   "metadata": {},
   "source": [
    "#### Métodos de una instancia."
   ]
  },
  {
   "cell_type": "markdown",
   "metadata": {},
   "source": [
    "Los métodos de una instancia son los métodos y funciones que actúan sobre los datos almacenados en esa instancia."
   ]
  },
  {
   "cell_type": "markdown",
   "metadata": {},
   "source": [
    "Llamando métodos:"
   ]
  },
  {
   "cell_type": "code",
   "execution_count": 52,
   "metadata": {},
   "outputs": [
    {
     "name": "stdout",
     "output_type": "stream",
     "text": [
      "Nahuel tiene $300\n"
     ]
    }
   ],
   "source": [
    "cuenta1.mostrar_saldo()   # Nahuel tiene $300"
   ]
  },
  {
   "cell_type": "code",
   "execution_count": 53,
   "metadata": {},
   "outputs": [],
   "source": [
    "cuenta1.depositar(300000)"
   ]
  },
  {
   "cell_type": "code",
   "execution_count": null,
   "metadata": {},
   "outputs": [
    {
     "name": "stdout",
     "output_type": "stream",
     "text": [
      "Nahuel tiene $300300\n"
     ]
    }
   ],
   "source": [
    "cuenta1.mostrar_saldo()   # Nahuel tiene $300300"
   ]
  },
  {
   "cell_type": "code",
   "execution_count": 55,
   "metadata": {},
   "outputs": [],
   "source": [
    "cuenta1.retirar(100300)"
   ]
  },
  {
   "cell_type": "code",
   "execution_count": null,
   "metadata": {},
   "outputs": [
    {
     "name": "stdout",
     "output_type": "stream",
     "text": [
      "Nahuel tiene $200000\n"
     ]
    }
   ],
   "source": [
    "cuenta1.mostrar_saldo()   # Nahuel tiene $200000"
   ]
  },
  {
   "cell_type": "markdown",
   "metadata": {},
   "source": [
    "#### Métodos especiales"
   ]
  },
  {
   "cell_type": "markdown",
   "metadata": {},
   "source": [
    "Podemos modificar muchos comportamientos de objetos de Python definiendo lo que se conoce como \"métodos especiales\".\n",
    "\n",
    "Una clase puede tener definidos métodos especiales. Estos métodos tienen un significado particular para el intérprete de Python. Sus nombres empiezan y terminan en `__` (doble guión bajo). Por ejemplo `__init__`. Hay decenas de métodos especiales pero sólo vamos a tratar algunos ejemplos específicos acá."
   ]
  },
  {
   "cell_type": "code",
   "execution_count": 13,
   "metadata": {},
   "outputs": [
    {
     "name": "stdout",
     "output_type": "stream",
     "text": [
      "2020-12-21\n"
     ]
    },
    {
     "data": {
      "text/plain": [
       "'datetime.date(2020, 12, 21)'"
      ]
     },
     "execution_count": 13,
     "metadata": {},
     "output_type": "execute_result"
    }
   ],
   "source": [
    "from datetime import date\n",
    "\n",
    "# Creo un objeto Date del módulo datetime\n",
    "d = date(2020, 12, 21)\n",
    "print(d) # Print\n",
    "repr(d) # Repr"
   ]
  },
  {
   "cell_type": "markdown",
   "metadata": {},
   "source": [
    "Las funciones `str()` y `repr()` llaman a métodos especiales de la clase para generar la cadena de caracteres que se va a mostrar."
   ]
  },
  {
   "cell_type": "code",
   "execution_count": 12,
   "metadata": {},
   "outputs": [],
   "source": [
    "class Date(object):\n",
    "    def __init__(self, year, month, day):\n",
    "        self.year = year\n",
    "        self.month = month\n",
    "        self.day = day\n",
    "\n",
    "    # Con `str()`\n",
    "    def __str__(self):\n",
    "        return f'{self.year}-{self.month}-{self.day}'\n",
    "\n",
    "    # Con `repr()`\n",
    "    def __repr__(self):\n",
    "        return f'Date({self.year},{self.month},{self.day})'"
   ]
  },
  {
   "cell_type": "markdown",
   "metadata": {},
   "source": [
    "#### Métodos matemáticos especiales"
   ]
  },
  {
   "cell_type": "markdown",
   "metadata": {},
   "source": [
    "Las operaciones matemáticas sobre los objetos involucran llamados a los siguientes métodos:"
   ]
  },
  {
   "cell_type": "code",
   "execution_count": 5,
   "metadata": {},
   "outputs": [],
   "source": [
    "# a + b      # a.__add__(b)\n",
    "# a - b      # a.__sub__(b)\n",
    "# a * b      # a.__mul__(b)\n",
    "# a / b      # a.__truediv__(b)\n",
    "# a // b     # a.__floordiv__(b)\n",
    "# a % b      # a.__mod__(b)\n",
    "# a << b     # a.__lshift__(b)\n",
    "# a >> b     # a.__rshift__(b)\n",
    "# a & b      # a.__and__(b)\n",
    "# a | b      # a.__or__(b)\n",
    "# a ^ b      # a.__xor__(b)\n",
    "# a ** b     # a.__pow__(b)\n",
    "# -a         # a.__neg__()\n",
    "# ~a         # a.__invert__()\n",
    "# abs(a)     # a.__abs__()"
   ]
  },
  {
   "cell_type": "markdown",
   "metadata": {},
   "source": [
    "#### Métodos especiales para acceder a elementos"
   ]
  },
  {
   "cell_type": "markdown",
   "metadata": {},
   "source": [
    "Los siguientes métodos se usan para implementar contenedores:\n",
    "\n",
    "| Operación      | Método especial equivalente         |\n",
    "|----------------|-------------------------------------|\n",
    "| `len(x)`       | `x.__len__()`                       |\n",
    "| `x[i]`         | `x.__getitem__(i)`                  |\n",
    "| `x[i] = v`     | `x.__setitem__(i, v)`               |\n",
    "| `del x[i]`     | `x.__delitem__(i)`                  |\n"
   ]
  },
  {
   "cell_type": "code",
   "execution_count": 17,
   "metadata": {},
   "outputs": [
    {
     "name": "stdout",
     "output_type": "stream",
     "text": [
      "4\n",
      "4\n",
      "2\n",
      "2\n",
      "[1, 99, 3, 4]\n",
      "[1, 88, 3, 4]\n",
      "[1, 88, 4]\n",
      "[1, 4]\n"
     ]
    }
   ],
   "source": [
    "lista = [1, 2, 3, 4]\n",
    "\n",
    "# len(x) es lo mismo que:\n",
    "print(len(lista))           # 4\n",
    "print(lista.__len__())      # 4\n",
    "\n",
    "# Acceder al índice 1\n",
    "primer_elemento = 1\n",
    "print(lista[primer_elemento])             # 2\n",
    "print(lista.__getitem__(primer_elemento)) # 2\n",
    "\n",
    "# Modificar el valor en la posición 1\n",
    "nuevo_valor = 99\n",
    "lista[primer_elemento] = nuevo_valor\n",
    "print(lista)                     # [1, 99, 3, 4]\n",
    "lista.__setitem__(primer_elemento, 88)\n",
    "print(lista)                     # [1, 88, 3, 4]\n",
    "\n",
    "# Eliminar el valor en la posición 2\n",
    "del lista[2]\n",
    "print(lista)                     # [1, 88, 4]\n",
    "lista.__delitem__(1)\n",
    "print(lista)                     # [1, 4]\n"
   ]
  },
  {
   "cell_type": "markdown",
   "metadata": {},
   "source": [
    "Así se puede implementar en una clase:"
   ]
  },
  {
   "cell_type": "code",
   "execution_count": null,
   "metadata": {},
   "outputs": [],
   "source": [
    "class Secuencia:\n",
    "    def __len__(self):\n",
    "        ...\n",
    "    def __getitem__(self,a):\n",
    "        ...\n",
    "    def __setitem__(self,a,v):\n",
    "        ...\n",
    "    def __delitem__(self,a):\n",
    "        ..."
   ]
  },
  {
   "cell_type": "markdown",
   "metadata": {},
   "source": [
    "#### Decoradores"
   ]
  },
  {
   "cell_type": "markdown",
   "metadata": {},
   "source": [
    "#### Método de clase: decorador @classmethod\n",
    "\n",
    "Con el decorador `@classmethod` se va a poder utilizar el método de clase sin necesidad de instanciarlo.\n",
    "\n",
    "- Define un método que recibe la clase (cls) como primer parámetro.\n",
    "\n",
    "- Se puede usar para crear objetos alternativos o modificar atributos de clase.\n",
    "\n",
    "- Accede a los atributos de clase sin necesidad de una instancia."
   ]
  },
  {
   "cell_type": "code",
   "execution_count": 1,
   "metadata": {},
   "outputs": [
    {
     "name": "stdout",
     "output_type": "stream",
     "text": [
      "615.752032\n"
     ]
    }
   ],
   "source": [
    "class Circulo:\n",
    "\n",
    "    pi = 3.141592\n",
    "\n",
    "    @classmethod\n",
    "    def area(cls, radio):\n",
    "        return cls.pi * (radio ** 2)\n",
    "\n",
    "resultado = Circulo.area(14)\n",
    "print(resultado)"
   ]
  },
  {
   "cell_type": "markdown",
   "metadata": {},
   "source": [
    "Aplicando este decorado al ejemplo de CuentaBancaria:"
   ]
  },
  {
   "cell_type": "code",
   "execution_count": 13,
   "metadata": {},
   "outputs": [
    {
     "name": "stdout",
     "output_type": "stream",
     "text": [
      "SuperMengano\n"
     ]
    }
   ],
   "source": [
    "class Cuenta:\n",
    "    banco = \"SuperFulano\"\n",
    "\n",
    "    def __init__(self, titular):\n",
    "        self.titular = titular\n",
    "\n",
    "    @classmethod\n",
    "    def cambiar_banco(cls, nuevo_banco):\n",
    "        cls.banco = nuevo_banco\n",
    "\n",
    "Cuenta.cambiar_banco(\"SuperMengano\")\n",
    "print(Cuenta.banco)\n"
   ]
  },
  {
   "cell_type": "markdown",
   "metadata": {},
   "source": [
    "#### Método estático: decorador @staticmethod\n",
    "\n",
    "El decorador `@staticmethod` se utiliza para definir un método dentro de una clase que **no depende de la instancia (`self`) ni de la clase (`cls`)**.\n",
    "\n",
    "- Se accede directamente desde la clase o desde la instancia.\n",
    "\n",
    "- Se usa generalmente para operaciones auxiliares relacionadas con la clase, pero que no modifican ni el estado del objeto ni el de la clase.\n",
    "\n",
    "> Es útil cuando el método tiene una lógica relacionada conceptualmente con la clase, pero no necesita acceder a sus datos internos.\n"
   ]
  },
  {
   "cell_type": "code",
   "execution_count": 14,
   "metadata": {},
   "outputs": [
    {
     "name": "stdout",
     "output_type": "stream",
     "text": [
      "True\n",
      "False\n"
     ]
    }
   ],
   "source": [
    "class CuentaBancaria:\n",
    "    banco = \"SuperBanco\"\n",
    "\n",
    "    def __init__(self, titular, saldo=0):\n",
    "        self.titular = titular\n",
    "        self.saldo = saldo\n",
    "\n",
    "    def mostrar_saldo(self):\n",
    "        print(f\"{self.titular} tiene ${self.saldo}\")\n",
    "\n",
    "    @staticmethod\n",
    "    def validar_monto(monto):\n",
    "        return monto > 0\n",
    "\n",
    "# Se puede usar desde la clase sin instanciar\n",
    "print(CuentaBancaria.validar_monto(100))  # True\n",
    "print(CuentaBancaria.validar_monto(-50))  # False\n"
   ]
  },
  {
   "cell_type": "markdown",
   "metadata": {},
   "source": [
    "#### Propiedades: decorador @property y @<prop>.setter\n",
    "\n",
    "El decorador `@property` permite **acceder a métodos como si fueran atributos**, de forma más limpia y elegante.\n",
    "\n",
    "- Se utiliza para **encapsular atributos** que queremos proteger, pero que deseamos acceder de forma sencilla.\n",
    "\n",
    "- `@<prop>.setter` se usa para permitir modificar ese atributo con validación, manteniendo la misma interfaz.\n",
    "\n",
    "> Se usa comúnmente para aplicar validaciones o cálculos automáticos al acceder o modificar valores.\n"
   ]
  },
  {
   "cell_type": "code",
   "execution_count": 23,
   "metadata": {},
   "outputs": [
    {
     "name": "stdout",
     "output_type": "stream",
     "text": [
      "Ana\n",
      "Carlos\n",
      "El nombre del titular no puede estar vacío\n",
      "4000000\n",
      "El saldo de cuenta Carlos es: 4000000\n"
     ]
    }
   ],
   "source": [
    "class CuentaBancaria:\n",
    "    def __init__(self, titular):\n",
    "        self.__titular = titular\n",
    "        self._saldo = 4000000\n",
    "\n",
    "    @property\n",
    "    def titular(self):\n",
    "        return self.__titular\n",
    "\n",
    "    @titular.setter\n",
    "    def titular(self, nuevo_titular):\n",
    "        if nuevo_titular:\n",
    "            self.__titular = nuevo_titular\n",
    "        else:\n",
    "            print(\"El nombre del titular no puede estar vacío\")\n",
    "\n",
    "    @property\n",
    "    def saldo(self):\n",
    "        return self._saldo\n",
    "\n",
    "    def depositar(self, monto):\n",
    "        if monto > 0:\n",
    "            self._saldo += monto\n",
    "\n",
    "# Uso\n",
    "cuenta = CuentaBancaria(\"Ana\")\n",
    "print(cuenta.titular)  # Ana\n",
    "\n",
    "cuenta.titular = \"Carlos\"\n",
    "print(cuenta.titular)  # Carlos\n",
    "\n",
    "cuenta.titular = \"\"    # El nombre del titular no puede estar vacío\n",
    "\n",
    "# Aunque saldo está definido como un método, se puede acceder a saldo como si fuera un atributo\n",
    "# print(cuenta.saldo()) # si se quisiera llamar como un método, daría error\n",
    "\n",
    "# Esto es porque se usa el decorador @property\n",
    "print(cuenta.saldo)\n",
    "\n",
    "print(f'El saldo de cuenta {cuenta.titular} es: {cuenta.saldo}')\n",
    "\n"
   ]
  },
  {
   "cell_type": "markdown",
   "metadata": {},
   "source": [
    "#### Clase de datos: decorador @dataclass\n",
    "\n",
    "El decorador `@dataclass` permite crear clases que **solo almacenan datos** con menos código.\n",
    "\n",
    "- Genera automáticamente `__init__`, `__repr__`, `__eq__`, y otros métodos útiles.\n",
    "\n",
    "- Es útil para modelos o estructuras que representan entidades simples.\n",
    "\n",
    "> Requiere importar desde el módulo `dataclasses`.\n"
   ]
  },
  {
   "cell_type": "code",
   "execution_count": 16,
   "metadata": {},
   "outputs": [
    {
     "name": "stdout",
     "output_type": "stream",
     "text": [
      "CuentaSimple(titular='Laura', saldo=1000)\n"
     ]
    }
   ],
   "source": [
    "from dataclasses import dataclass\n",
    "\n",
    "@dataclass\n",
    "class CuentaSimple:\n",
    "    titular: str\n",
    "    saldo: float = 0.0\n",
    "\n",
    "cuenta = CuentaSimple(\"Laura\", 1000)\n",
    "print(cuenta)  # CuentaSimple(titular='Laura', saldo=1000)\n"
   ]
  },
  {
   "cell_type": "markdown",
   "metadata": {},
   "source": [
    "#### Visibilidad en clases (Scoping)"
   ]
  },
  {
   "cell_type": "markdown",
   "metadata": {},
   "source": [
    "Las clases no definen ni limitan (como los módulos) un entorno de visibilidad."
   ]
  },
  {
   "cell_type": "code",
   "execution_count": null,
   "metadata": {},
   "outputs": [],
   "source": [
    "class Jugador:\n",
    "    def __init__(self, x, y):\n",
    "        # Todo dato guardado en `self` es propio de esa instancia\n",
    "        self.x = x\n",
    "        self.y = y\n",
    "        self.salud = 100\n",
    "\n",
    "    # `mover` es un método\n",
    "    def mover(self, dx, dy):\n",
    "        self.x += dx\n",
    "        self.y += dy\n",
    "\n",
    "    def lastimar(self, pts):\n",
    "        self.salud -= pts\n",
    "\n",
    "    def izquierda(self, dist):\n",
    "        #mover(-dist,0)            # NO! si la llamanos asi, se refiere a una funcion global mover\n",
    "        self.mover(-dist,0)       # Si! aqui llama al método mover que definimos antes"
   ]
  },
  {
   "cell_type": "code",
   "execution_count": null,
   "metadata": {},
   "outputs": [],
   "source": [
    "a = Jugador(2,3)\n",
    "a.izquierda(1)\n",
    "print(a.x)"
   ]
  },
  {
   "cell_type": "markdown",
   "metadata": {},
   "source": [
    "**Importante**: Si se necesita referir a un dato o un método de una clase, se tiene que hacer una referencia explícita (agregando el self), sino se está refiriendo a otra cosa como en el ejemplo anterior."
   ]
  },
  {
   "cell_type": "markdown",
   "metadata": {},
   "source": [
    "#### Clase Usuario: por poner otro ejemplo de Clase"
   ]
  },
  {
   "cell_type": "code",
   "execution_count": 1,
   "metadata": {},
   "outputs": [
    {
     "name": "stdout",
     "output_type": "stream",
     "text": [
      "Hola, Cody te saluda\n"
     ]
    }
   ],
   "source": [
    "##### class <UpperCamelCase o PascalCase>\n",
    "class Usuario:\n",
    "    # object\n",
    "    def __init__(self, username='', password=''):\n",
    "        self.username = username\n",
    "        self.password = password\n",
    "    \n",
    "    def saludar(self):\n",
    "        mensaje = self.obtener_mensaje()\n",
    "        print(mensaje)\n",
    "        \n",
    "    def obtener_mensaje(self):\n",
    "        return f'Hola, {self.username} te saluda'\n",
    "    \n",
    "cody = Usuario('Cody')\n",
    "cody.saludar()"
   ]
  },
  {
   "cell_type": "markdown",
   "metadata": {},
   "source": [
    "## Herencia"
   ]
  },
  {
   "cell_type": "markdown",
   "metadata": {},
   "source": [
    "La herencia entre clases es una herramienta muy usada para escribir programas extensibles. \n",
    "\n",
    "Usamos herencia para crear objetos más personalizados a partir de objetos existentes."
   ]
  },
  {
   "cell_type": "code",
   "execution_count": null,
   "metadata": {},
   "outputs": [],
   "source": [
    "class Padre:\n",
    "    pass\n",
    "\n",
    "\n",
    "class Hijo(Padre):\n",
    "    pass"
   ]
  },
  {
   "cell_type": "markdown",
   "metadata": {},
   "source": [
    "Decimos que el *Hijo* es una clase derivada o subclase. La clase *Padre* es conocida como la clase base, o superclase. La expresión *class Hijo(Padre):* significa que estamos creando una clase llamada *Hijo* que es derivada de la clase *Padre*."
   ]
  },
  {
   "cell_type": "markdown",
   "metadata": {},
   "source": [
    "#### Uso de herencia"
   ]
  },
  {
   "cell_type": "markdown",
   "metadata": {},
   "source": [
    "Uno de los usos de definir una clase como heredera de otra es organizar jerárquicamente objetos que están relacionados.\n",
    "\n",
    "Un ejemplo: Las figuras geométricas pueden tener ciertos métodos y atributos que luego son refinados en casos concretos como círculos o rectángulos."
   ]
  },
  {
   "cell_type": "code",
   "execution_count": null,
   "metadata": {},
   "outputs": [],
   "source": [
    "class FiguraGeom:\n",
    "    pass\n",
    "\n",
    "class Circulo(FiguraGeom):\n",
    "    pass\n",
    "\n",
    "class Rectangulo(FiguraGeom):\n",
    "    pass"
   ]
  },
  {
   "cell_type": "markdown",
   "metadata": {},
   "source": [
    "Imaginate por ejemplo su uso en una jerarquía lógica, o taxonómica, en la que las clases tienen una relación natural tal que hace intuitivo derivar una de otra.\n",
    "\n",
    "Una aplicación más común, y tal vez más práctica, consiste en escribir código que es reutilizable y/o extensible."
   ]
  },
  {
   "cell_type": "markdown",
   "metadata": {},
   "source": [
    "#### Extensiones"
   ]
  },
  {
   "cell_type": "markdown",
   "metadata": {},
   "source": [
    "Al usar herencia podemos tomar una clase existente y ...\n",
    "\n",
    "*   Agregarle métodos\n",
    "*   Redifinir métodos existentes\n",
    "*   Agregar nuevos atributos\n",
    "\n",
    "Podemos verlo como una forma de extender nuestro código existente. Darle nuevos comportamientos, abarcar un abanico más amplio de posibilidades ó aumentar su compatibilidad."
   ]
  },
  {
   "cell_type": "code",
   "execution_count": null,
   "metadata": {},
   "outputs": [],
   "source": [
    "class Lote:\n",
    "  def __init__(self, nombre, cajones, precio):\n",
    "    self.nombre = nombre\n",
    "    self.cajones = cajones\n",
    "    self.precio = precio\n",
    "  # Método costo\n",
    "  def costo(self):\n",
    "    costo = self.cajones*self.precio\n",
    "    return costo\n",
    "  def vender(self, N):\n",
    "    self.cajones -=N"
   ]
  },
  {
   "cell_type": "markdown",
   "metadata": {},
   "source": [
    "Podemos modificar lo que necesitamos mediante herencia.\n",
    "Vamos a agregar un método nuevo."
   ]
  },
  {
   "cell_type": "code",
   "execution_count": null,
   "metadata": {},
   "outputs": [],
   "source": [
    "class MiLote(Lote):\n",
    "  def rematar(self):\n",
    "    self.vender(self.cajones)"
   ]
  },
  {
   "cell_type": "markdown",
   "metadata": {},
   "source": [
    "y lo podemos usar así:"
   ]
  },
  {
   "cell_type": "code",
   "execution_count": null,
   "metadata": {},
   "outputs": [],
   "source": [
    "p = MiLote('Pera',100, 4901.1)\n",
    "p.vender(25)                    # conoce el método vender() porque lo heredó de Lote\n",
    "p.cajones"
   ]
  },
  {
   "cell_type": "code",
   "execution_count": null,
   "metadata": {},
   "outputs": [],
   "source": [
    "p.rematar()                     # extendió con un nuevo método rematar()\n",
    "p.cajones"
   ]
  },
  {
   "cell_type": "markdown",
   "metadata": {},
   "source": [
    "La clase *MiLote* heredó los atributos y métodos de *Lote* y la extrendió con un nuevo método: `rematar()`"
   ]
  },
  {
   "cell_type": "markdown",
   "metadata": {},
   "source": [
    "#### Redefinir un método existente"
   ]
  },
  {
   "cell_type": "code",
   "execution_count": null,
   "metadata": {},
   "outputs": [],
   "source": [
    "class MiLote(Lote):\n",
    "    def costo(self):\n",
    "        return 1.25 * self.cajones * self.precio"
   ]
  },
  {
   "cell_type": "markdown",
   "metadata": {},
   "source": [
    "y se puede usar así:"
   ]
  },
  {
   "cell_type": "code",
   "execution_count": null,
   "metadata": {},
   "outputs": [],
   "source": [
    "p = MiLote('Pera', 100, 490.1)\n",
    "p.costo()"
   ]
  },
  {
   "cell_type": "markdown",
   "metadata": {},
   "source": [
    "El método nuevo simplemente reemplaza al definido en la clase base. Los demás métodos y atributos no son afectados."
   ]
  },
  {
   "cell_type": "code",
   "execution_count": null,
   "metadata": {},
   "outputs": [],
   "source": [
    "p.vender(10)\n",
    "p.costo()"
   ]
  },
  {
   "cell_type": "markdown",
   "metadata": {},
   "source": [
    "Y no se pierde el método costo de Lote. Podemos verificarlo."
   ]
  },
  {
   "cell_type": "code",
   "execution_count": null,
   "metadata": {},
   "outputs": [],
   "source": [
    "q = Lote('Pera', 100, 490.1)\n",
    "q.costo()"
   ]
  },
  {
   "cell_type": "markdown",
   "metadata": {},
   "source": [
    "#### Utilizar un método prevalente: super"
   ]
  },
  {
   "cell_type": "markdown",
   "metadata": {},
   "source": [
    "Hay veces en que una clase extiende el método de la superclase a la que pertenece, pero necesita ejecutar el método original como parte de la redefinición del método nuevo. Para referirte a la superclase, entonces usamos *super()*:"
   ]
  },
  {
   "cell_type": "code",
   "execution_count": null,
   "metadata": {},
   "outputs": [],
   "source": [
    "# creamos la clase Lote\n",
    "class Lote:\n",
    "  def __init__(self, nombre, cajones, precio):\n",
    "    self.nombre = nombre\n",
    "    self.cajones = cajones\n",
    "    self.precio = precio\n",
    "  # Método costo\n",
    "  def costo(self):\n",
    "    costo = self.cajones*self.precio\n",
    "    return costo\n",
    "  def vender(self, N):\n",
    "    self.cajones -=N"
   ]
  },
  {
   "cell_type": "code",
   "execution_count": null,
   "metadata": {},
   "outputs": [],
   "source": [
    "class MiLote(Lote):\n",
    "    def costo(self):\n",
    "        # Fijate cómo usamos `super`\n",
    "        costo_orig = super().costo()\n",
    "        return 1.25 * costo_orig"
   ]
  },
  {
   "cell_type": "markdown",
   "metadata": {},
   "source": [
    "Usamos *super()* para llamar al método de la clase base (del la cual ésta es heredera)."
   ]
  },
  {
   "cell_type": "markdown",
   "metadata": {},
   "source": [
    "#### El método *__ init __* y herencia"
   ]
  },
  {
   "cell_type": "markdown",
   "metadata": {},
   "source": [
    "Al crear cada instancia se ejecuta *__ init __*. Ahí reside el código importante para la creación de una instancia nueva. Si redefinimos *__ init __* siempre incluimos un llamado al método *__ init __* de la clase base para inicializarla también.\n",
    "\n",
    "Por ejemplo, queremos que en MiLote el factor de multiplicación en el costo sea una instancia."
   ]
  },
  {
   "cell_type": "code",
   "execution_count": null,
   "metadata": {},
   "outputs": [],
   "source": [
    "class MiLote(Lote):\n",
    "    def __init__(self, nombre, cajones, precio, factor):\n",
    "        # Fijate como es el llamado a `super().__init__()`\n",
    "        super().__init__(nombre, cajones, precio)\n",
    "        self.factor = factor\n",
    "\n",
    "    def costo(self):\n",
    "        return self.factor * super().costo()"
   ]
  },
  {
   "cell_type": "markdown",
   "metadata": {},
   "source": [
    "Es necesario llamar al método *__ init __()* en la clase base. Es una forma de ejecutar la versión previa del método que estamos redefiniendo, como mostramos recién."
   ]
  },
  {
   "cell_type": "markdown",
   "metadata": {},
   "source": [
    "#### Relación \"isinstance\""
   ]
  },
  {
   "cell_type": "markdown",
   "metadata": {},
   "source": [
    "La herencia establece una relación de clases. Para saber si una instancia es de una determinada clase usamos la función *isintance*"
   ]
  },
  {
   "cell_type": "code",
   "execution_count": null,
   "metadata": {},
   "outputs": [],
   "source": [
    "p = MiLote('Pera', 100, 490.1, 3.)\n",
    "isinstance(p, Lote)"
   ]
  },
  {
   "cell_type": "markdown",
   "metadata": {},
   "source": [
    "#### Herencia Multiple"
   ]
  },
  {
   "cell_type": "markdown",
   "metadata": {},
   "source": [
    "Podemos heredar de varias clases simultáneamente si los especificás en la definición de clase."
   ]
  },
  {
   "cell_type": "code",
   "execution_count": null,
   "metadata": {},
   "outputs": [],
   "source": [
    "class Madre:\n",
    "  # definicion de Madre\n",
    "  pass\n",
    "\n",
    "class Padre:\n",
    "  # definicion de Padre\n",
    "  pass\n",
    "\n",
    "class Hijo(Madre, Padre):\n",
    "  # definicion de Hijo, que hereda de Madre y Padre\n",
    "  pass"
   ]
  },
  {
   "cell_type": "markdown",
   "metadata": {},
   "source": [
    "La clase *Hijo* hereda características de ambos padres. Algunos detalles son un poco delicados y no vamos a usar esa forma de heredar clases en este curso."
   ]
  },
  {
   "cell_type": "markdown",
   "metadata": {},
   "source": [
    "#### La clase base *object*"
   ]
  },
  {
   "cell_type": "markdown",
   "metadata": {},
   "source": [
    "Si una clase no tiene superclase, a veces se escribe *object* como clase base."
   ]
  },
  {
   "cell_type": "code",
   "execution_count": null,
   "metadata": {},
   "outputs": [],
   "source": [
    "class Padre(object):\n",
    "    pass"
   ]
  },
  {
   "cell_type": "markdown",
   "metadata": {},
   "source": [
    "**object** es la superclase de todo objeto en Python."
   ]
  },
  {
   "cell_type": "markdown",
   "metadata": {},
   "source": [
    "#### Ejemplo de herencia múltiple + MRO"
   ]
  },
  {
   "cell_type": "markdown",
   "metadata": {},
   "source": [
    "¿Qué es el MRO?\n",
    "\n",
    "MRO (Method Resolution Order) es el orden en que Python busca los métodos o atributos en una jerarquía de clases.\n",
    "Cuando usás super() o accedés a un método, Python sigue el orden definido por __mro__ para decidir qué método ejecutar primero."
   ]
  },
  {
   "cell_type": "code",
   "execution_count": 3,
   "metadata": {},
   "outputs": [
    {
     "name": "stdout",
     "output_type": "stream",
     "text": [
      "El animal come.\n",
      "<class 'super'>\n",
      "La mascota come.\n",
      "Patricio come.\n",
      "El ser duerme.\n",
      "\n",
      "MRO (Method Resolution Order):\n",
      "<class '__main__.Gato'>\n",
      "<class '__main__.Mascota'>\n",
      "<class '__main__.Animal'>\n",
      "<class '__main__.SerVivo'>\n",
      "<class '__main__.Felino'>\n",
      "<class 'object'>\n"
     ]
    }
   ],
   "source": [
    "# Clase base\n",
    "class SerVivo:\n",
    "    def dormir(self):\n",
    "        print('El ser duerme.')\n",
    "\n",
    "# Hereda de SerVivo\n",
    "class Animal(SerVivo):\n",
    "    def comer(self):\n",
    "        print('El animal come.')\n",
    "\n",
    "# Hereda de Animal\n",
    "class Mascota(Animal):\n",
    "    def comer(self):\n",
    "        super().comer()  # Llama a Animal.comer()\n",
    "        print(type(super()))  # Muestra que super() devuelve un proxy al padre\n",
    "        print('La mascota come.')\n",
    "\n",
    "# Clase independiente\n",
    "class Felino:\n",
    "    def cazar(self):\n",
    "        print('El felino caza.')\n",
    "\n",
    "# Herencia múltiple: hereda de Mascota y Felino\n",
    "class Gato(Mascota, Felino):\n",
    "    def __init__(self, nombre):\n",
    "        self.nombre = nombre\n",
    "\n",
    "    def comer(self):\n",
    "        super().comer()  # Llama a Mascota.comer(), que a su vez llama a Animal.comer()\n",
    "        print(f'{self.nombre} come.')\n",
    "\n",
    "\n",
    "# Crear instancia\n",
    "patricio = Gato('Patricio')\n",
    "\n",
    "# Ejecutar método sobrescrito\n",
    "patricio.comer()\n",
    "\n",
    "# Método heredado desde SerVivo (a través de Animal → Mascota → Gato)\n",
    "patricio.dormir()\n",
    "\n",
    "# Mostrar orden de resolución de métodos (MRO)\n",
    "print(\"\\nMRO (Method Resolution Order):\")\n",
    "for clase in Gato.__mro__:\n",
    "    print(clase)\n"
   ]
  },
  {
   "cell_type": "markdown",
   "metadata": {},
   "source": [
    "Eso significa que si llamás a comer() desde un objeto Gato, Python buscará en este orden:\n",
    "\n",
    "1. Gato\n",
    "\n",
    "1. Mascota\n",
    "\n",
    "1. Animal\n",
    "\n",
    "1. SerVivo\n",
    "\n",
    "1. Felino\n",
    "\n",
    "1. object (clase base universal en Python)"
   ]
  },
  {
   "cell_type": "markdown",
   "metadata": {},
   "source": [
    "## Encapsulamiento"
   ]
  },
  {
   "cell_type": "markdown",
   "metadata": {},
   "source": [
    "### `Encapsulamiento en Python`\n",
    "\n",
    "- **Encapsulamiento**: es un principio de la Programación Orientada a Objetos (POO) que consiste en ocultar los atributos internos de una clase, de modo que solo puedan ser accedidos o modificados a través de métodos específicos (getters y setters). Esto ayuda a proteger el estado interno del objeto.\n",
    "\n",
    "- **Atributos privados**: en Python se declaran anteponiendo doble guión bajo `__` al nombre del atributo. Esto no los vuelve completamente inaccesibles, pero los oculta parcialmente mediante un mecanismo llamado *name mangling*.\n",
    "\n",
    "- **Getter**: método que devuelve el valor de un atributo privado.  \n",
    "- **Setter**: método que permite modificar el valor de un atributo privado.  \n",
    "\n",
    "> ⚠️ En Python no existe el concepto de \"privado\" estricto como en otros lenguajes (Java, C++). El uso de `__` es una convención para indicar que no debería accederse directamente desde fuera de la clase.\n",
    "\n",
    "> ✔️ También se puede usar `@property` para definir getters y setters de forma más elegante y legible.\n"
   ]
  },
  {
   "cell_type": "code",
   "execution_count": null,
   "metadata": {},
   "outputs": [],
   "source": [
    "class CuentaBancaria:\n",
    "    banco = \"SuperBanco\"  # Atributo de clase\n",
    "\n",
    "    def __init__(self, titular):\n",
    "        self.__titular = titular  # Atributo privado\n",
    "        self.saldo = 0  # Atributo público\n",
    "\n",
    "    # Getter: devuelve el valor del titular\n",
    "    def get_titular(self):\n",
    "        return self.__titular\n",
    "\n",
    "    # Setter: permite modificar el titular\n",
    "    def set_titular(self, nuevo_titular):\n",
    "        self.__titular = nuevo_titular\n",
    "\n",
    "    def depositar(self, monto):\n",
    "        self.saldo += monto\n",
    "\n",
    "    def retirar(self, monto):\n",
    "        if monto <= self.saldo:\n",
    "            self.saldo -= monto\n",
    "        else:\n",
    "            print(\"Fondos insuficientes\")\n",
    "\n",
    "    def mostrar_saldo(self):\n",
    "        print(f'{self.__titular} tiene ${self.saldo}')\n"
   ]
  },
  {
   "cell_type": "code",
   "execution_count": null,
   "metadata": {},
   "outputs": [],
   "source": [
    "# Ejemplo de uso\n",
    "cuenta = CuentaBancaria(\"Fulano\")\n",
    "\n",
    "# Mostrar titular usando getter\n",
    "print(\"Titular:\", cuenta.get_titular())  # Titular: Fulano\n",
    "\n",
    "# Cambiar el titular usando setter\n",
    "cuenta.set_titular(\"Mengano\")\n",
    "\n",
    "# Ver el nuevo titular\n",
    "print(\"Nuevo titular:\", cuenta.get_titular())  # Nuevo titular: Mengano\n",
    "\n",
    "# Operaciones normales\n",
    "cuenta.depositar(2000)\n",
    "cuenta.retirar(500)\n",
    "cuenta.mostrar_saldo()  # Mengano tiene $1500\n"
   ]
  },
  {
   "cell_type": "markdown",
   "metadata": {},
   "source": [
    "### Nota sobre encapsulamiento en Python"
   ]
  },
  {
   "cell_type": "markdown",
   "metadata": {},
   "source": [
    "- Los atributos precedidos por `__` (doble guión bajo) se transforman internamente por Python a `_Clase__atributo`.  \n",
    "  Este mecanismo se llama *name mangling* y sirve para evitar accesos accidentales desde fuera de la clase.\n",
    "\n",
    "- Esto no representa una seguridad real, pero es una forma de indicar que el atributo es interno.\n",
    "\n",
    "- Para un acceso más elegante y controlado, Python permite definir propiedades usando `@property`."
   ]
  },
  {
   "cell_type": "markdown",
   "metadata": {},
   "source": [
    "#### Uso de @property en Python\n",
    "\n",
    "- `@property` es una forma más elegante y \"pythónica\" de definir métodos getter y setter.\n",
    "- Permite acceder a métodos como si fueran atributos, ocultando la lógica interna y haciendo el código más limpio.\n",
    "- Internamente, sigue siendo un método, pero se usa con la sintaxis de atributo.\n",
    "\n",
    "#### Ventajas de usar `@property`:\n",
    "- Mejora la legibilidad del código.\n",
    "- Permite agregar validaciones o lógica sin cambiar la interfaz externa.\n",
    "- Mantiene el principio de encapsulamiento.\n",
    "\n",
    "> 🔁 La propiedad debe tener el mismo nombre tanto en el getter como en el setter.\n"
   ]
  },
  {
   "cell_type": "code",
   "execution_count": null,
   "metadata": {},
   "outputs": [],
   "source": [
    "class CuentaBancaria:\n",
    "    banco = \"Maravilla\"\n",
    "\n",
    "    def __init__(self, titular):\n",
    "        self.__titular = titular\n",
    "        self.saldo = 0\n",
    "\n",
    "    # Getter como propiedad\n",
    "    @property\n",
    "    def titular(self):\n",
    "        return self.__titular\n",
    "\n",
    "    # Setter asociado a la propiedad\n",
    "    @titular.setter\n",
    "    def titular(self, nuevo_titular):\n",
    "        if isinstance(nuevo_titular, str) and nuevo_titular.strip():\n",
    "            self.__titular = nuevo_titular\n",
    "        else:\n",
    "            print(\"El titular debe ser un nombre válido.\")\n",
    "\n",
    "    def depositar(self, monto):\n",
    "        self.saldo += monto\n",
    "\n",
    "    def retirar(self, monto):\n",
    "        if monto <= self.saldo:\n",
    "            self.saldo -= monto\n",
    "        else:\n",
    "            print(\"Fondos insuficientes\")\n",
    "\n",
    "    def mostrar_saldo(self):\n",
    "        print(f'{self.__titular} tiene ${self.saldo}')\n"
   ]
  },
  {
   "cell_type": "code",
   "execution_count": null,
   "metadata": {},
   "outputs": [],
   "source": [
    "cuenta = CuentaBancaria(\"Fulano\")\n",
    "\n",
    "# Usamos titular como si fuera un atributo (getter)\n",
    "print(\"Titular:\", cuenta.titular)\n",
    "\n",
    "# Cambiamos el titular (setter)\n",
    "cuenta.titular = \"Mengano\"\n",
    "print(\"Nuevo titular:\", cuenta.titular)\n",
    "\n",
    "# Intentamos poner un valor inválido\n",
    "cuenta.titular = \"\"  # Mostrará mensaje de error\n",
    "\n",
    "# Operaciones normales\n",
    "cuenta.depositar(1000)\n",
    "cuenta.mostrar_saldo()  # Mengano tiene $1000\n"
   ]
  },
  {
   "cell_type": "markdown",
   "metadata": {},
   "source": [
    "## Polimorfismo"
   ]
  },
  {
   "cell_type": "markdown",
   "metadata": {},
   "source": [
    "### `Polimorfismo en Python`\n",
    "\n",
    "- **Polimorfismo** significa \"muchas formas\". En programación orientada a objetos, se refiere a la capacidad que tienen distintos objetos de responder al mismo mensaje (método), cada uno a su manera.\n",
    "\n",
    "- En Python, el polimorfismo se da de forma natural gracias al *duck typing*:\n",
    "  > \"Si camina como un pato y grazna como un pato, entonces probablemente sea un pato.\"\n",
    "\n",
    "- Esto permite definir funciones o métodos que pueden trabajar con distintos tipos de objetos, siempre que implementen el método correspondiente.\n",
    "\n",
    "#### Tipos de polimorfismo:\n",
    "\n",
    "- **Polimorfismo por herencia**: las clases hijas sobrescriben (override) métodos de la clase base.\n",
    "- **Polimorfismo por interfaces comunes**: diferentes clases no relacionadas pueden tener métodos con el mismo nombre y ser usadas de forma intercambiable.\n",
    "- **Sobrecarga de métodos (no típica en Python)**: Python no permite sobrecarga por firma como en Java o C++; se puede simular usando argumentos opcionales o `*args`, `**kwargs`.\n",
    "\n",
    "#### Ventajas:\n",
    "- Permite escribir código más flexible y reutilizable.\n",
    "- Reduce el acoplamiento entre clases.\n",
    "- Favorece el principio de *abierto/cerrado* (Open/Closed Principle): el código está abierto a extensión, pero cerrado a modificación.\n"
   ]
  },
  {
   "cell_type": "markdown",
   "metadata": {},
   "source": [
    "#### Polimorfismo con herencia\n",
    "En este ejemplo, creamos una clase base CuentaBancaria, y luego dos clases hijas: CuentaAhorro y CuentaCorriente. Ambas redefinen el método mostrar_saldo(), pero lo hacen de forma diferente."
   ]
  },
  {
   "cell_type": "code",
   "execution_count": null,
   "metadata": {},
   "outputs": [],
   "source": [
    "# Clase base\n",
    "class CuentaBancaria:\n",
    "    def __init__(self, titular):\n",
    "        self.titular = titular\n",
    "        self.saldo = 0\n",
    "\n",
    "    def depositar(self, monto):\n",
    "        self.saldo += monto\n",
    "\n",
    "    def retirar(self, monto):\n",
    "        if monto <= self.saldo:\n",
    "            self.saldo -= monto\n",
    "        else:\n",
    "            print(\"Fondos insuficientes\")\n",
    "\n",
    "    def mostrar_saldo(self):\n",
    "        print(f'{self.titular} tiene ${self.saldo}')\n",
    "\n",
    "# Subclase 1\n",
    "class CuentaAhorro(CuentaBancaria):\n",
    "    def mostrar_saldo(self):\n",
    "        print(f'[Ahorro] {self.titular} tiene un saldo de ahorro de ${self.saldo}')\n",
    "\n",
    "# Subclase 2\n",
    "class CuentaCorriente(CuentaBancaria):\n",
    "    def mostrar_saldo(self):\n",
    "        print(f'[Corriente] {self.titular} dispone de ${self.saldo} en su cuenta corriente')\n"
   ]
  },
  {
   "cell_type": "markdown",
   "metadata": {},
   "source": [
    "Uso polimórfico:"
   ]
  },
  {
   "cell_type": "code",
   "execution_count": null,
   "metadata": {},
   "outputs": [],
   "source": [
    "cuentas = [\n",
    "    CuentaAhorro(\"Ana\"),\n",
    "    CuentaCorriente(\"Juan\"),\n",
    "    CuentaAhorro(\"Pedro\"),\n",
    "]\n",
    "\n",
    "for cuenta in cuentas:\n",
    "    cuenta.depositar(1000)\n",
    "    cuenta.mostrar_saldo()  # Cada objeto responde a su forma del método\n"
   ]
  },
  {
   "cell_type": "markdown",
   "metadata": {},
   "source": [
    "#### Polimorfismo sin herencia directa (duck typing)\n",
    "\n",
    "En este segundo ejemplo, creamos tres clases totalmente distintas, pero tienen el mismo método mostrar_saldo(). Python permite tratarlas de forma intercambiable si implementan la misma interfaz (mismo método)."
   ]
  },
  {
   "cell_type": "code",
   "execution_count": 10,
   "metadata": {},
   "outputs": [],
   "source": [
    "class BilleteraVirtual:\n",
    "    def __init__(self, usuario):\n",
    "        self.usuario = usuario\n",
    "        self.credito = 500\n",
    "\n",
    "    def mostrar_saldo(self):\n",
    "        print(f'{self.usuario} tiene ${self.credito} en su billetera virtual')\n",
    "\n",
    "\n",
    "class CuentaInversion:\n",
    "    def __init__(self, titular):\n",
    "        self.titular = titular\n",
    "        self.capital = 15000\n",
    "\n",
    "    def mostrar_saldo(self):\n",
    "        print(f'{self.titular} tiene ${self.capital} invertidos')\n",
    "\n",
    "\n",
    "class PrestamoPersonal:\n",
    "    def __init__(self, cliente):\n",
    "        self.cliente = cliente\n",
    "        self.deuda = 2000\n",
    "\n",
    "    def mostrar_saldo(self):\n",
    "        print(f'{self.cliente} tiene una deuda de ${self.deuda}')"
   ]
  },
  {
   "cell_type": "markdown",
   "metadata": {},
   "source": [
    "Uso polimórfico (sin herencia):"
   ]
  },
  {
   "cell_type": "code",
   "execution_count": 11,
   "metadata": {},
   "outputs": [
    {
     "name": "stdout",
     "output_type": "stream",
     "text": [
      "Lucía tiene $500 en su billetera virtual\n",
      "Marcos tiene $15000 invertidos\n",
      "Sofía tiene una deuda de $2000\n"
     ]
    }
   ],
   "source": [
    "servicios = [\n",
    "    BilleteraVirtual(\"Lucía\"),\n",
    "    CuentaInversion(\"Marcos\"),\n",
    "    PrestamoPersonal(\"Sofía\")\n",
    "]\n",
    "\n",
    "for servicio in servicios:\n",
    "    servicio.mostrar_saldo()\n"
   ]
  },
  {
   "cell_type": "markdown",
   "metadata": {},
   "source": [
    "## Ejemplo completo de cierre\n",
    "\n",
    "### Herencia múltiple + MRO + Encapsulamiento + Composición"
   ]
  },
  {
   "cell_type": "code",
   "execution_count": 58,
   "metadata": {},
   "outputs": [
    {
     "name": "stdout",
     "output_type": "stream",
     "text": [
      "El animal come.\n",
      "La mascota come.\n",
      "Patricio come.\n",
      "El felino caza.\n",
      "El ser duerme.\n",
      "Patricio tiene 3 años y su dueño es Juan\n",
      "\n",
      "🔍 MRO (Method Resolution Order):\n",
      "<class '__main__.Gato'>\n",
      "<class '__main__.Mascota'>\n",
      "<class '__main__.Animal'>\n",
      "<class '__main__.SerVivo'>\n",
      "<class '__main__.Felino'>\n",
      "<class 'object'>\n"
     ]
    }
   ],
   "source": [
    "class SerVivo:\n",
    "    def __init__(self, edad):\n",
    "        self.__edad = edad  # Atributo privado (encapsulado)\n",
    "\n",
    "    def dormir(self):\n",
    "        print('El ser duerme.')\n",
    "\n",
    "    def get_edad(self):\n",
    "        return self.__edad\n",
    "\n",
    "    def set_edad(self, nueva_edad):\n",
    "        if nueva_edad > 0:\n",
    "            self.__edad = nueva_edad\n",
    "\n",
    "\n",
    "class Animal(SerVivo):  # Clase intermedia\n",
    "    def comer(self):\n",
    "        print('El animal come.')\n",
    "\n",
    "\n",
    "class Mascota(Animal):  # Otra clase intermedia\n",
    "    def __init__(self, edad):\n",
    "        super().__init__(edad)\n",
    "\n",
    "    def comer(self):\n",
    "        super().comer()\n",
    "        print('La mascota come.')\n",
    "\n",
    "\n",
    "class Felino:\n",
    "    def cazar(self):\n",
    "        print('El felino caza.')\n",
    "\n",
    "\n",
    "class Duenio:\n",
    "    def __init__(self, nombre):\n",
    "        self.nombre = nombre\n",
    "\n",
    "\n",
    "class Gato(Mascota, Felino):  # Herencia múltiple\n",
    "    def __init__(self, nombre, edad, duenio):\n",
    "        super().__init__(edad)\n",
    "        self.nombre = nombre\n",
    "        self.duenio = duenio  # Composición: el gato \"tiene un\" dueño\n",
    "\n",
    "    def comer(self):\n",
    "        super().comer()  # Llama a comer() de Mascota → Animal\n",
    "        print(f'{self.nombre} come.')\n",
    "\n",
    "    def mostrar_info(self):\n",
    "        print(f\"{self.nombre} tiene {self.get_edad()} años y su dueño es {self.duenio.nombre}\")\n",
    "\n",
    "\n",
    "# Prueba\n",
    "juan = Duenio(\"Juan\")\n",
    "patricio = Gato(\"Patricio\", 3, juan)\n",
    "\n",
    "patricio.comer()\n",
    "patricio.cazar()\n",
    "patricio.dormir()\n",
    "patricio.mostrar_info()\n",
    "\n",
    "# Mostrar orden de resolución de métodos\n",
    "print(\"\\n🔍 MRO (Method Resolution Order):\")\n",
    "for clase in Gato.__mro__:\n",
    "    print(clase)\n"
   ]
  },
  {
   "cell_type": "markdown",
   "metadata": {},
   "source": [
    "Qué conceptos se muestran:\n",
    "\n",
    "- Encapsulamiento: __edad es privado, accedido con get_edad().\n",
    "- Herencia múltiple: Gato hereda de Mascota y Felino.\n",
    "- Polimorfismo: comer() tiene diferentes implementaciones.\n",
    "- Uso de super(): para mantener la cadena de llamadas entre clases.\n",
    "- Composición: Gato contiene una instancia de Duenio.\n",
    "- MRO: muestra el orden en que Python busca métodos en clases con herencia múltiple."
   ]
  },
  {
   "cell_type": "markdown",
   "metadata": {},
   "source": [
    "### Resumen general de conceptos de Clases y POO en Python"
   ]
  },
  {
   "cell_type": "markdown",
   "metadata": {},
   "source": [
    "| Concepto         | Descripción breve | Ejemplo de uso |\n",
    "|------------------|-------------------|----------------|\n",
    "| `class`          | Define un tipo de objeto | class Cuenta: |\n",
    "| Objeto           | Instancia de una clase | cuenta1 = Cuenta() |\n",
    "| Duck Typing      | Uso de objetos por su comportamiento, no por su tipo | Clases distintas con `.mostrar_saldo()` |\n",
    "| Atributo de clase| Compartido por todas las instancias | Cuenta.banco |\n",
    "| Atributo de objeto | Específico de una instancia | self.saldo |\n",
    "| `__init__`       | Constructor, inicializa los atributos | def __init__(self): |\n",
    "| `self`           | Referencia a la instancia actual | self.saldo = 0 |\n",
    "| Encapsulamiento  | Ocultar atributos con `__` | self.__titular |\n",
    "| Name mangling    | Renombramiento interno de atributos privados | self.__titular → self._Cuenta__titular |\n",
    "| `@property`      | Define un getter como si fuera un atributo | @property def titular |\n",
    "| `@<prop>.setter` | Define un setter vinculado al getter | @titular.setter |\n",
    "| `@classmethod`   | Método que accede a la clase (`cls`) | @classmethod def cambiar_banco(cls) |\n",
    "| `@staticmethod`  | Método que no usa ni `self` ni `cls` | @staticmethod def validar_monto() |\n",
    "| Herencia         | Clase hija hereda de clase padre | class CuentaAhorro(Cuenta): |\n",
    "| Polimorfismo     | Métodos con mismo nombre en distintas clases | objeto.mostrar_saldo() |\n",
    "\n",
    "----"
   ]
  },
  {
   "cell_type": "markdown",
   "metadata": {},
   "source": [
    "## Ejercicios"
   ]
  },
  {
   "cell_type": "markdown",
   "metadata": {},
   "source": [
    "### Ejercicio 1: Frutas"
   ]
  },
  {
   "cell_type": "code",
   "execution_count": null,
   "metadata": {},
   "outputs": [],
   "source": [
    "# tupla\n",
    "frutas_tupla = ('Pera', 100, 490.10)\n",
    "# diccionario\n",
    "frutas_diccionario = { \n",
    "                      'nombre'  : 'Pera',\n",
    "                      'cajones' : 100,\n",
    "                      'precio'  : 490.10\n",
    "                      }\n",
    "\n",
    "# clase Lote para las frutas\n",
    "class Lote:\n",
    "    def __init__(self, nombre, cajones, precio):\n",
    "        self.nombre = nombre\n",
    "        self.cajones = cajones\n",
    "        self.precio = precio\n"
   ]
  },
  {
   "cell_type": "markdown",
   "metadata": {},
   "source": [
    "a. Para esta clase defina una instancia `a` para la fruta 'Pera', con 100 cajones y a un valor de $490,10 cada cajón. "
   ]
  },
  {
   "cell_type": "code",
   "execution_count": null,
   "metadata": {},
   "outputs": [],
   "source": [
    "a = Lote('Pera', 100, 490.10)              # definimos una instancia\n",
    "a.precio"
   ]
  },
  {
   "cell_type": "markdown",
   "metadata": {},
   "source": [
    "b. Crear más objetos de tipo Lote para: \n",
    "\n",
    "* instancia b = 'Manzana' con 50 cajones a $122,34 c/cajón.\n",
    "* instancia c = 'Naranja' con 75 cajones a $91,75 c/cajón ."
   ]
  },
  {
   "cell_type": "code",
   "execution_count": null,
   "metadata": {},
   "outputs": [],
   "source": [
    "b = Lote('Manzana', 50, 122.34)\n",
    "c = Lote('Naranja', 75, 91.75)\n",
    "b.cajones * b.precio\n",
    "#c.cajones * c.precio"
   ]
  },
  {
   "cell_type": "markdown",
   "metadata": {},
   "source": [
    "c. Crea una lista de instancias llamada `lotes` y recorre la lista lotes imprimiendo las informaciones."
   ]
  },
  {
   "cell_type": "code",
   "execution_count": null,
   "metadata": {},
   "outputs": [],
   "source": [
    "lotes = [a, b, c]                 #creo la lista de instancias haciendo\n",
    "lotes"
   ]
  },
  {
   "cell_type": "code",
   "execution_count": null,
   "metadata": {},
   "outputs": [],
   "source": [
    "# podemos recorrer la lista lotes\n",
    "for x in lotes:\n",
    "     print(f'{x.nombre:>10s} {x.cajones:>10d} {x.precio:>10.2f}')"
   ]
  },
  {
   "cell_type": "markdown",
   "metadata": {},
   "source": [
    "d. Agregar al objeto *Lote* los métodos: \n",
    "* *costo()* que calcule el costo total\n",
    "* *vender()* que descuente al número de cajones vendidos \n",
    "\n",
    "**Agregando algunos métodos**\n",
    "Al definir una clase podés agregar funciones a los objetos que definís. Las funciones específicas de objetos se llaman métodos y operan sobre los datos guardados en cada instancia.\n"
   ]
  },
  {
   "cell_type": "code",
   "execution_count": null,
   "metadata": {},
   "outputs": [],
   "source": [
    "class Lote:\n",
    "    def __init__(self, nombre, cajones, precio):\n",
    "        self.nombre = nombre\n",
    "        self.cajones = cajones\n",
    "        self.precio = precio\n",
    "    def costo(self):\n",
    "        return self.precio\n",
    "    def vender(self,cantidad):\n",
    "        self.cajones -= cantidad"
   ]
  },
  {
   "cell_type": "markdown",
   "metadata": {},
   "source": [
    "e. Usando la clase, los objetos y los métodos creados crea una lista de instancias llamada `lotes` con los valores de:\n",
    "> a = Lote('Pera', 100, 490.10) \n",
    "\n",
    "> b = Lote('Manzana', 50, 122.34)\n",
    "\n",
    "> c = Lote('Naranja', 75, 91.75)"
   ]
  },
  {
   "cell_type": "code",
   "execution_count": null,
   "metadata": {},
   "outputs": [],
   "source": [
    "a = Lote('Pera', 100, 490.10) \n",
    "b = Lote('Manzana', 50, 122.34)\n",
    "c = Lote('Naranja', 75, 91.75)\n",
    "lotes = [a, b, c]\n",
    "for x in lotes:\n",
    "  print(f'{x.nombre:>10s} {x.cajones:>10d} {x.precio:>10.2f}')"
   ]
  },
  {
   "cell_type": "markdown",
   "metadata": {},
   "source": [
    "f. Fueron vendidos 10 cajones de Peras y 25 de Naranjas.  Escribi un código que actualice estas informaciones y que imprima nuevamente las informaciones después de las modificaciones realizadas."
   ]
  },
  {
   "cell_type": "code",
   "execution_count": null,
   "metadata": {},
   "outputs": [],
   "source": [
    "for x in lotes:\n",
    "  if (x.nombre == 'Pera'):\n",
    "    x.vender(10)\n",
    "  if (x.nombre == 'Naranja'):\n",
    "    x.vender(25)\n",
    "  print(f'{x.nombre:>10s} {x.cajones:>10d} {x.precio:>10.2f}')"
   ]
  },
  {
   "cell_type": "markdown",
   "metadata": {},
   "source": [
    "### Ejercicio 2: Inversiones"
   ]
  },
  {
   "cell_type": "markdown",
   "metadata": {},
   "source": [
    "Usando las clases y herencia.\n",
    "\n",
    "Enunciado:\n",
    "\n",
    "Juan es un joven inversor que recientemente decidió probar suerte en la bolsa argentina para cubrirse de la inflación. El archivo `portafolio_juan.csv` contiene la información de las acciones que fue agregando a su pequeño portafolio de inversión. El mismo contiene los siguientes datos:\n",
    "\n",
    "|Título de la columna|Tipo de dato|Descripción|\n",
    "|:-------------:|:-------------:| ----- |\n",
    "|ticker           | Texto (string) |Nombre del ticker de la acción que compró |\n",
    "|fecha             | Texto (string) |Fecha en la que realizó la compra |\n",
    "|cantidad          | Número entero (integer) |Cantidad de acciones que compró |\n",
    "|precio_compra             | Número flotante (float) |Precio de compra de cada acción |\n",
    "|precio_actual             | Número flotante (float) |Precio actual (al 10 de marzo de 2023) de cada acción |"
   ]
  },
  {
   "cell_type": "markdown",
   "metadata": {},
   "source": [
    "Crear una clase Portafolio que lea el archivo csv con las informaciones y que sea capaz de:\n",
    "\n",
    "- a. Calcular el valor inverido por cada tipo de acción que compró. \n",
    "\n",
    "- b. Calcular el valor que hubiese obtenido si el 10 de marzo de 2023 hubiese decidido vender cada acción. \n",
    "\n",
    "- c. Calcular la ganancia (o pérdida) total.\n"
   ]
  },
  {
   "cell_type": "markdown",
   "metadata": {},
   "source": [
    "**Ayuda:**\n",
    "Para leer el achivo *portafolio_juan.csv* dentro de la clase, por ejemplo, Portifolio, podemos hacer:\n",
    "\n",
    "1) Conectamos Drive al Colab y nos paramos en el directorio donde tenemos los datos"
   ]
  },
  {
   "cell_type": "code",
   "execution_count": null,
   "metadata": {},
   "outputs": [],
   "source": [
    "import os\n",
    "\n",
    "# Conectar Drive a Colab\n",
    "from google.colab import drive\n",
    "drive.mount(\"/content/drive/\")\n",
    "\n",
    "# Cambiando el directorio\n",
    "os.chdir('/content/drive/MyDrive/Colab Notebooks/Data/') "
   ]
  },
  {
   "cell_type": "markdown",
   "metadata": {},
   "source": [
    "- Antes de leer, miramos el csv con pandas y lo impeccionamos un poco para recodar lo que contiene"
   ]
  },
  {
   "cell_type": "code",
   "execution_count": null,
   "metadata": {},
   "outputs": [],
   "source": [
    "import pandas as pd\n",
    "# Leo el archivo usando pandas\n",
    "infos = pd.read_csv('portafolio_juan.csv')\n",
    "infos.head()"
   ]
  },
  {
   "cell_type": "markdown",
   "metadata": {},
   "source": [
    "2) Creamos la clase Accion, por ahora incompleta solo para aprender cómo hacer la lectura"
   ]
  },
  {
   "cell_type": "code",
   "execution_count": null,
   "metadata": {},
   "outputs": [],
   "source": [
    "class Accion:\n",
    "   def __init__(self, row, header, the_id):\n",
    "       self.__dict__ = dict(zip(header, row)) \n",
    "       self.the_id = the_id\n",
    "\n",
    "   def __repr__(self):\n",
    "       return self.the_id"
   ]
  },
  {
   "cell_type": "markdown",
   "metadata": {},
   "source": [
    "3) Usamos la clase para levantar la información del archivo"
   ]
  },
  {
   "cell_type": "code",
   "execution_count": null,
   "metadata": {},
   "outputs": [],
   "source": [
    "import csv\n",
    "\n",
    "# Leo todo el archivo y guardo las lineas en una lista\n",
    "data = list(csv.reader(open('portafolio_juan.csv')))\n",
    "print(data)\n",
    "# Hago una lista\n",
    "tickers = [Accion(a, data[0], \"p_{}\".format(i+1)) for i, a in enumerate(data[1:])]\n",
    "tickers"
   ]
  },
  {
   "cell_type": "code",
   "execution_count": null,
   "metadata": {},
   "outputs": [],
   "source": [
    "# para acceder a los atributios\n",
    "print(tickers[2].ticker, tickers[2].cantidad)"
   ]
  },
  {
   "cell_type": "markdown",
   "metadata": {},
   "source": [
    "**Ahora se puede completar la clase con sus funciones de acuerdo a lo que pide el ejercicio**"
   ]
  },
  {
   "cell_type": "code",
   "execution_count": null,
   "metadata": {},
   "outputs": [],
   "source": [
    "# CODIGO COMPLETO\n",
    "import pandas as pd\n",
    "\n",
    "class Portafolio:\n",
    "    def __init__(self, archivo_csv):\n",
    "        self.df = pd.read_csv(archivo_csv)\n",
    "    \n",
    "    def calcular_inversion_por_ticker(self):\n",
    "        inversiones = self.df.groupby('ticker').agg({'cantidad': 'sum', 'precio_compra': 'mean'})\n",
    "        inversiones['valor_invertido'] = inversiones['cantidad'] * inversiones['precio_compra']\n",
    "        return inversiones\n",
    "    \n",
    "    def calcular_valor_actual_por_ticker(self):\n",
    "        inversiones = self.calcular_inversion_por_ticker()\n",
    "        precios_actuales = self.df.groupby('ticker').agg({'precio_actual': 'mean'})\n",
    "        inversiones['valor_actual'] = inversiones['cantidad'] * precios_actuales['precio_actual']\n",
    "        return inversiones\n",
    "    \n",
    "    def calcular_ganancia_por_ticker(self):\n",
    "        inversiones = self.calcular_valor_actual_por_ticker()\n",
    "        inversiones['ganancia'] = inversiones['valor_actual'] - inversiones['valor_invertido']\n",
    "        return inversiones\n",
    "    \n",
    "    def obtener_informacion_por_ticker(self, ticker):\n",
    "        informacion = self.df[self.df['ticker'] == ticker]\n",
    "        return informacion\n",
    "    \n",
    "    def obtener_informacion_completa(self):\n",
    "        return self.df\n"
   ]
  },
  {
   "cell_type": "code",
   "execution_count": null,
   "metadata": {},
   "outputs": [],
   "source": [
    "# Crear una instancia de la clase Portafolio\n",
    "mi_portafolio = Portafolio(\"portafolio_juan.csv\")\n",
    "\n",
    "# a.\n",
    "# Calcular la inversión por ticker\n",
    "inversiones = mi_portafolio.calcular_inversion_por_ticker()\n",
    "print(\"Inversión por ticker:\")\n",
    "print(inversiones)\n",
    "print('-------------------------------------------------------------------')\n",
    "\n",
    "# b.\n",
    "# Calcular el valor actual por ticker\n",
    "valor_actual = mi_portafolio.calcular_valor_actual_por_ticker()\n",
    "print(\"Valor actual por ticker:\")\n",
    "print(valor_actual)\n",
    "print('-------------------------------------------------------------------')\n",
    "\n",
    "# c.\n",
    "# Calcular la ganancia por ticker\n",
    "infos = mi_portafolio.calcular_ganancia_por_ticker()\n",
    "total = 0\n",
    "for i in infos['ganancia']:\n",
    "  total += float(i)\n",
    "print(\"Ganancia total:\",round(total,2))\n",
    "\n"
   ]
  },
  {
   "cell_type": "markdown",
   "metadata": {},
   "source": [
    "### Ejercicio 3: Cuenta"
   ]
  },
  {
   "cell_type": "markdown",
   "metadata": {},
   "source": [
    "1. Cuenta \n",
    "\n",
    "> a.   Crea una clase llamada *Cuenta* con los siguientes atributos: titular (que es el nombre de la persona titular de la cuenta), número de cuenta y cantidad de dinero en la cuenta (que puede tener decimales). \n",
    "\n",
    "> b.   Para esta clase construye los siguientes métodos:  \n",
    "> * mostrar(): Imprime los datos de la cuenta.\n",
    "> * saldo(): Imprime el dinero depositado en la cuenta\n",
    "> * ingresar(cantidad): se ingresa una cantidad a la cuenta, si la cantidad introducida es negativa, no se hará nada.\n",
    "> * retirar(cantidad): se retira una cantidad a la cuenta. No se puede retirar una suma mayor a la que tiene en saldo.\n"
   ]
  },
  {
   "cell_type": "code",
   "execution_count": null,
   "metadata": {},
   "outputs": [],
   "source": [
    "class Cuenta:\n",
    "    def __init__(self, titular, numero_cuenta, saldo):\n",
    "        self.titular = titular\n",
    "        self.numero_cuenta = numero_cuenta\n",
    "        self.saldo = saldo\n",
    "\n",
    "    def mostrar(self):\n",
    "        print(\"Titular:\", self.titular)\n",
    "        print(\"Número de cuenta:\", self.numero_cuenta)\n",
    "        print(\"Saldo:\", self.saldo)\n",
    "\n",
    "    def saldo(self):\n",
    "        print(\"Saldo:\", self.saldo)\n",
    "\n",
    "    def ingresar(self, cantidad):\n",
    "        if cantidad > 0:\n",
    "            self.saldo += cantidad\n",
    "\n",
    "    def retirar(self, cantidad):\n",
    "        if cantidad > 0 and cantidad <= self.saldo:\n",
    "            self.saldo -= cantidad"
   ]
  },
  {
   "cell_type": "markdown",
   "metadata": {},
   "source": [
    "2. Usando la clase Cuenta\n",
    "\n",
    "> a.   Crea 4 objetos de la clase Cuenta con las siguietnes informaciones:\n",
    "\n",
    "> * Juan Sanchez (36 años) abrió la CC 2001-3 con un saldo inicial de 100 pesos\n",
    "> * Maria Perez (21 años) abrió la CC 2002-7 con un saldo inicial de 250 pesos\n",
    "> * José Lopez (23 años) abrió la CC 2003-4 con un saldo indial de 50 pesos\n",
    "> * Ana Martinez (26 años) brió la CC 2004-2 con un saldo indial de 50 pesos\n",
    "\n",
    "> b. Las operaciones realizadas en el transcurso de una semana fueron:\n",
    "\n",
    "> * Juan deposito 20 pesos\n",
    "> * José hizo una extracción de 100 pesos\n",
    "> * Maria hizo una extracción de 75\n",
    "\n",
    "> c. Al fin de la semana realizar un reporte de cada cuenta."
   ]
  },
  {
   "cell_type": "code",
   "execution_count": null,
   "metadata": {},
   "outputs": [],
   "source": [
    "juan = Cuenta(\"Juan Sanchez\", \"2001-3\", 100)\n",
    "maria = Cuenta(\"Maria Perez\", \"2002-7\", 250)\n",
    "jose = Cuenta(\"José Lopez\", \"2003-4\", 50)\n",
    "ana = Cuenta(\"Ana Martinez\", \"2004-2\", 50)"
   ]
  },
  {
   "cell_type": "code",
   "execution_count": null,
   "metadata": {},
   "outputs": [],
   "source": [
    "# Operaciones de la semana\n",
    "juan.ingresar(20)\n",
    "jose.retirar(100)\n",
    "maria.retirar(75)\n",
    "\n",
    "print(\"Reporte final de cuentas:\")\n",
    "juan.mostrar()\n",
    "maria.mostrar()\n",
    "jose.mostrar()\n",
    "ana.mostrar()"
   ]
  },
  {
   "cell_type": "markdown",
   "metadata": {},
   "source": [
    "3. Cuenta Joven\n",
    "\n",
    "> a. Vamos a definir ahora una clase *Joven* para todos los clientes menores a 25 años. Para ello vamos a crear una nueva clase Joven que derive de la anterior. Cuando se crea esta nueva clase, además las informaciones del titular, número de cuenta y la cantidad que deposita, precisamos tener un atributo que nos permita conocer la clasificación del cliente. \n",
    "\n",
    "> b. Esta nueva clase, precisa tener los mismos atributos que la clase Cuenta, pero ademas, precisa tener un atributo que permite identificar si el titular es válido para esta cuenta o no. En caso que sea válido, a cada semana recibe una bonificación de 10 pesos. La idea es implementar esta bonicación semanal en un nuevo método que, si es un usuario válido, agregué los 10 pesos a la cuenta. \n",
    "\n",
    "> Pensá los métodos heredados de la clase madre/padre que hay que reescribir."
   ]
  },
  {
   "cell_type": "code",
   "execution_count": null,
   "metadata": {},
   "outputs": [],
   "source": [
    "class Joven(Cuenta):\n",
    "    def __init__(self, titular, numero_cuenta, saldo, edad):\n",
    "        super().__init__(titular, numero_cuenta, saldo)\n",
    "        self.edad = edad\n",
    "    \n",
    "    def bonificacion_semanal(self):\n",
    "        if self.edad < 25:\n",
    "            self.ingresar(10)\n"
   ]
  },
  {
   "cell_type": "markdown",
   "metadata": {},
   "source": [
    "4. Usando la Cuenta Joven\n",
    "\n",
    "> a. Realizá lo mismo que hiciste en \"Usando la clase Cuenta\" pero con la clase Joven.  \n",
    "\n",
    "> b. Compara los reportes obtenidos en cada caso. "
   ]
  },
  {
   "cell_type": "code",
   "execution_count": null,
   "metadata": {},
   "outputs": [],
   "source": [
    "juan = Joven(\"Juan Sanchez\", \"2001-3\", 100, 36)\n",
    "maria = Joven(\"Maria Perez\", \"2002-7\", 250, 21)\n",
    "jose = Joven(\"José Lopez\", \"2003-4\", 50, 23)\n",
    "ana = Joven(\"Ana Martinez\", \"2004-2\", 50, 26)\n",
    "\n",
    "# Operaciones de la semana\n",
    "\n",
    "juan.ingresar(20)\n",
    "jose.retirar(100)\n",
    "maria.retirar(75)\n",
    "\n",
    "juan.bonificacion_semanal()\n",
    "jose.bonificacion_semanal()\n",
    "maria.bonificacion_semanal()\n",
    "\n",
    "# Reporte final de cada cuenta\n",
    "print(\"Reporte final de cuentas:\")\n",
    "juan.mostrar()\n",
    "print()\n",
    "maria.mostrar()\n",
    "print()\n",
    "jose.mostrar()\n",
    "print()\n",
    "ana.mostrar()\n"
   ]
  },
  {
   "cell_type": "markdown",
   "metadata": {},
   "source": [
    "## **Fin Notebook**"
   ]
  }
 ],
 "metadata": {
  "kernelspec": {
   "display_name": "Python 3",
   "language": "python",
   "name": "python3"
  },
  "language_info": {
   "codemirror_mode": {
    "name": "ipython",
    "version": 3
   },
   "file_extension": ".py",
   "mimetype": "text/x-python",
   "name": "python",
   "nbconvert_exporter": "python",
   "pygments_lexer": "ipython3",
   "version": "3.11.1"
  },
  "orig_nbformat": 4
 },
 "nbformat": 4,
 "nbformat_minor": 2
}
