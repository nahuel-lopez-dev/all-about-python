{
  "cells": [
    {
      "cell_type": "markdown",
      "metadata": {
        "id": "7rFWmr4nVJGt"
      },
      "source": [
        "# ⚡ *`SOLID`* ⚡"
      ]
    },
    {
      "cell_type": "markdown",
      "metadata": {},
      "source": [
        "## Ver video tutorial de Mouredev\n",
        "De su video tutorial en Youtube se extraen los ejemplos del notebook. \n",
        "Es un material excelente de estudio, para aprender sobre SOLID con Python en sólos dos horas, aunque se puede aplicar a cualquier otro lenguaje. Moure usa Python como ejemplo:\n",
        "\n",
        "[Video tutorial SOLID de Mouredev](https://www.youtube.com/watch?v=ASBC5drF-QU)"
      ]
    },
    {
      "cell_type": "markdown",
      "metadata": {},
      "source": [
        "## Teoría"
      ]
    },
    {
      "cell_type": "markdown",
      "metadata": {},
      "source": [
        "### Principios para mejorar las practicas del diseño orientado a objetos "
      ]
    },
    {
      "cell_type": "markdown",
      "metadata": {},
      "source": [
        "Los Principios SOLID tienen cinco principios de diseño de clases Orientado a Objetos.\\\n",
        "Son un conjunto de reglas y mejores prácticas a seguir al diseñar una estructura de clase. Tienen como objetivo crear código comprensible, legible y comprobable en el que muchos desarrolladores puedan trabajar en colaboración.\n",
        "\n",
        "Para una lectura más profunda, recomiendo un artículo de FreeCodeCamp:\n",
        "\n",
        "[Artículo de FreeCodeCamp](https://www.freecodecamp.org/espanol/news/los-principios-solid-explicados-en-espanol/)"
      ]
    },
    {
      "cell_type": "markdown",
      "metadata": {},
      "source": [
        "Estos principios SOLID son:\n",
        "\n",
        "- S: Single responsability principle (SRP) - Principio de Responsabilidad Única \n",
        "- O: Open/closed principle (OCP) - Principio Abierto-Cerrado\n",
        "- L: Liskov substitution principle (LSP) - Principio de Sustitución de Liskov\n",
        "- I: Interface segregation principle (ISP) - Principio de Segregación de Interfaces\n",
        "- D: Dependency inversion principle (DIP) - Principio de Inversión de Dependencias\n"
      ]
    },
    {
      "cell_type": "markdown",
      "metadata": {},
      "source": [
        "Imagen tomada de Internet de Stackademic:\n",
        "\n",
        "![Principios SOLID](../img/SOLID-Principles.png)"
      ]
    },
    {
      "cell_type": "markdown",
      "metadata": {},
      "source": [
        "## Teoría y Práctica\n",
        "Porque a programar se aprende programando."
      ]
    },
    {
      "cell_type": "markdown",
      "metadata": {},
      "source": [
        "### Principios de Responsabilidad Única"
      ]
    },
    {
      "cell_type": "code",
      "execution_count": null,
      "metadata": {},
      "outputs": [],
      "source": []
    },
    {
      "cell_type": "markdown",
      "metadata": {},
      "source": [
        "### Principio Abierto - Cerrado"
      ]
    },
    {
      "cell_type": "code",
      "execution_count": null,
      "metadata": {},
      "outputs": [],
      "source": []
    },
    {
      "cell_type": "markdown",
      "metadata": {},
      "source": [
        "### Principio de Sustitución de Liskov"
      ]
    },
    {
      "cell_type": "code",
      "execution_count": null,
      "metadata": {},
      "outputs": [],
      "source": []
    },
    {
      "cell_type": "markdown",
      "metadata": {},
      "source": [
        "### Principio de Segregación de Interfaces"
      ]
    },
    {
      "cell_type": "code",
      "execution_count": null,
      "metadata": {},
      "outputs": [],
      "source": []
    },
    {
      "cell_type": "markdown",
      "metadata": {},
      "source": [
        "### Principio de Inversión de Dependencias"
      ]
    },
    {
      "cell_type": "code",
      "execution_count": null,
      "metadata": {},
      "outputs": [],
      "source": []
    },
    {
      "cell_type": "markdown",
      "metadata": {
        "id": "4v0HUfQJOdOS"
      },
      "source": [
        "### **Fin Notebook**"
      ]
    }
  ],
  "metadata": {
    "colab": {
      "collapsed_sections": [
        "9TjY71-UVUk-",
        "56Jr0YtDcT5V",
        "UxA1maKyZYg8",
        "Rw5vCUi2ADc_",
        "tujToD1HabBQ",
        "_6408H1kd3gL",
        "zCm7NpL2elQ5",
        "F_uv_Ut5_mYW",
        "QD9FTs29AJr6",
        "egkwfPJfeXzj",
        "bYLjV0BFRkEz"
      ],
      "provenance": []
    },
    "kernelspec": {
      "display_name": "Python 3",
      "name": "python3"
    },
    "language_info": {
      "name": "python"
    }
  },
  "nbformat": 4,
  "nbformat_minor": 0
}
