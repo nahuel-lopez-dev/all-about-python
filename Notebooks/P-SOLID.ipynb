{
  "cells": [
    {
      "cell_type": "markdown",
      "metadata": {
        "id": "7rFWmr4nVJGt"
      },
      "source": [
        "# ⚡ *`SOLID`* ⚡"
      ]
    },
    {
      "cell_type": "markdown",
      "metadata": {},
      "source": [
        "## Principios para mejorar la práctica en programación"
      ]
    },
    {
      "cell_type": "markdown",
      "metadata": {},
      "source": [
        "Estos principios SOLID son:\n",
        "\n",
        "-\n",
        "-\n",
        "-\n",
        "-\n",
        "-"
      ]
    },
    {
      "cell_type": "markdown",
      "metadata": {},
      "source": []
    },
    {
      "cell_type": "code",
      "execution_count": null,
      "metadata": {
        "vscode": {
          "languageId": "plaintext"
        }
      },
      "outputs": [],
      "source": []
    },
    {
      "cell_type": "markdown",
      "metadata": {
        "id": "4v0HUfQJOdOS"
      },
      "source": [
        "### **Fin Notebook**\n"
      ]
    }
  ],
  "metadata": {
    "colab": {
      "collapsed_sections": [
        "9TjY71-UVUk-",
        "56Jr0YtDcT5V",
        "UxA1maKyZYg8",
        "Rw5vCUi2ADc_",
        "tujToD1HabBQ",
        "_6408H1kd3gL",
        "zCm7NpL2elQ5",
        "F_uv_Ut5_mYW",
        "QD9FTs29AJr6",
        "egkwfPJfeXzj",
        "bYLjV0BFRkEz"
      ],
      "provenance": []
    },
    "kernelspec": {
      "display_name": "Python 3",
      "name": "python3"
    },
    "language_info": {
      "name": "python"
    }
  },
  "nbformat": 4,
  "nbformat_minor": 0
}
