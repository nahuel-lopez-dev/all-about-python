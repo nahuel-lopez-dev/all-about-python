{
 "cells": [
  {
   "cell_type": "markdown",
   "metadata": {},
   "source": [
    "# ⚡ *`Estructuras de datos y Algoritmos`* ⚡"
   ]
  },
  {
   "cell_type": "markdown",
   "metadata": {},
   "source": [
    "## Estructuras de datos básicas\n",
    "\n",
    "Las estructuras de datos más basicas en Python son:\n",
    "- Listas\n",
    "- Tuplas\n",
    "- Diccionarios\n",
    "- Conjuntos"
   ]
  },
  {
   "cell_type": "markdown",
   "metadata": {},
   "source": [
    "![Estructuras_basicas](../img/Estructuras_Datos_Basicas.png)"
   ]
  },
  {
   "cell_type": "markdown",
   "metadata": {},
   "source": [
    "## Estructuras de datos avanzadas"
   ]
  },
  {
   "cell_type": "markdown",
   "metadata": {},
   "source": [
    "### Pilas (Stack)"
   ]
  },
  {
   "cell_type": "markdown",
   "metadata": {},
   "source": [
    "Son estructuras LIFO (Last In First Out): Último en entrar, primero en salir.\n",
    "\n",
    "Ejemplo: pila de libros, el último que se pone en la pila, es el primero que se puede quitar."
   ]
  },
  {
   "cell_type": "code",
   "execution_count": 1,
   "metadata": {},
   "outputs": [],
   "source": [
    "class Pila():\n",
    "    def __init__(self):\n",
    "        self.elementos = []\n",
    "        \n",
    "    def esta_vacia(self):\n",
    "        return self.elementos == []\n",
    "    \n",
    "    def insertar(self, elemento):\n",
    "        self.elementos.append(elemento)\n",
    "        return elemento\n",
    "        \n",
    "    def eliminar(self):\n",
    "        return self.elementos.pop()\n",
    "    \n",
    "    def consultar(self):\n",
    "        return self.elementos[len(self.elementos) - 1]\n",
    "    \n",
    "    def longitud(self):\n",
    "        return len(self.elementos)"
   ]
  },
  {
   "cell_type": "code",
   "execution_count": 2,
   "metadata": {},
   "outputs": [
    {
     "name": "stdout",
     "output_type": "stream",
     "text": [
      "Libro insertado: libro verde\n",
      "Libro insertado: libro azul\n",
      "Longitud de la pila: 2\n",
      "\n",
      "Libro insertado: libro rojo\n",
      "Longitud de la pila: 3\n",
      "¿Está vacía la pila? False\n",
      "\n",
      "Elemento eliminado: libro rojo\n",
      "Longitud de la pila: 2\n",
      "\n",
      "Elemento eliminado: libro azul\n",
      "Longitud de la pila: 1\n",
      "\n",
      "Elemento eliminado: libro verde\n",
      "Longitud de la pila: 0\n",
      "\n",
      "¿Está vacía la pila? True\n"
     ]
    }
   ],
   "source": [
    "# Instanciar la clase\n",
    "pila = Pila()\n",
    "\n",
    "print('Libro insertado:', pila.insertar('libro verde'))\n",
    "print('Libro insertado:', pila.insertar('libro azul'))\n",
    "print('Longitud de la pila:', pila.longitud())\n",
    "print()\n",
    "\n",
    "print('Libro insertado:', pila.insertar('libro rojo'))\n",
    "print('Longitud de la pila:', pila.longitud())\n",
    "print('¿Está vacía la pila?', pila.esta_vacia())\n",
    "print()\n",
    "\n",
    "print('Elemento eliminado:', pila.eliminar())\n",
    "print('Longitud de la pila:', pila.longitud())\n",
    "print()\n",
    "\n",
    "print('Elemento eliminado:', pila.eliminar())\n",
    "print('Longitud de la pila:', pila.longitud())\n",
    "print()\n",
    "\n",
    "print('Elemento eliminado:', pila.eliminar())\n",
    "print('Longitud de la pila:', pila.longitud())\n",
    "print()\n",
    "\n",
    "print('¿Está vacía la pila?', pila.esta_vacia())\n"
   ]
  },
  {
   "cell_type": "markdown",
   "metadata": {},
   "source": [
    "### Colas (Queue)"
   ]
  },
  {
   "cell_type": "markdown",
   "metadata": {},
   "source": [
    "Son estructuras FIFO (First In First Out): Primero en entrar, primero en salir\n",
    "\n",
    "Ejemplo: cola de personas esperando el autobus, el primero de la cola será el primero en subir al autobús."
   ]
  },
  {
   "cell_type": "code",
   "execution_count": 3,
   "metadata": {},
   "outputs": [],
   "source": [
    "class Cola():\n",
    "    def __init__(self):\n",
    "        self.elementos = []\n",
    "        \n",
    "    def esta_vacia(self):\n",
    "        return self.elementos == []\n",
    "    \n",
    "    def insertar(self, elemento):\n",
    "        self.elementos.insert(0, elemento)\n",
    "        return elemento\n",
    "    \n",
    "    def eliminar(self):\n",
    "        return self.elementos.pop()\n",
    "    \n",
    "    def longitud(self):\n",
    "        return len(self.elementos)"
   ]
  },
  {
   "cell_type": "code",
   "execution_count": 4,
   "metadata": {},
   "outputs": [
    {
     "name": "stdout",
     "output_type": "stream",
     "text": [
      "Elemento insertado: 1\n",
      "Elemento insertado: 2\n",
      "Elemento insertado: 3\n",
      "Longitud de la cola: 3\n",
      "¿Está vacía? False\n",
      "\n",
      "Valor eliminado: 1\n",
      "Longitud de la cola: 2\n",
      "\n",
      "Valor eliminado: 2\n",
      "Longitud de la cola: 1\n",
      "\n",
      "Valor eliminado: 3\n",
      "Longitud de la cola: 0\n",
      "\n",
      "¿Está vacía? True\n"
     ]
    }
   ],
   "source": [
    "# Instanciar la clase\n",
    "cola = Cola()\n",
    "\n",
    "print('Elemento insertado:', cola.insertar(1))\n",
    "print('Elemento insertado:', cola.insertar(2))\n",
    "print('Elemento insertado:', cola.insertar(3))\n",
    "print('Longitud de la cola:', cola.longitud())\n",
    "print('¿Está vacía?', cola.esta_vacia())\n",
    "print()\n",
    "\n",
    "print('Valor eliminado:', cola.eliminar())\n",
    "print('Longitud de la cola:', cola.longitud())\n",
    "print()\n",
    "\n",
    "print('Valor eliminado:', cola.eliminar())\n",
    "print('Longitud de la cola:', cola.longitud())\n",
    "print()\n",
    "\n",
    "print('Valor eliminado:', cola.eliminar())\n",
    "print('Longitud de la cola:', cola.longitud())\n",
    "print()\n",
    "\n",
    "print('¿Está vacía?', cola.esta_vacia())"
   ]
  },
  {
   "cell_type": "markdown",
   "metadata": {},
   "source": [
    "### Deque (Deck)"
   ]
  },
  {
   "cell_type": "markdown",
   "metadata": {},
   "source": [
    "Este tipo de estructuras es una mezcla entre una pila y una cola.\n",
    "\n",
    "- Los elementos se pueden insertar por el principio (cabeza) o por el final (cola)\n",
    "- Los elementos se pueden eliminar también por el principio o por el final."
   ]
  },
  {
   "cell_type": "code",
   "execution_count": null,
   "metadata": {},
   "outputs": [],
   "source": []
  },
  {
   "cell_type": "markdown",
   "metadata": {},
   "source": [
    "### Ejercicios"
   ]
  },
  {
   "cell_type": "code",
   "execution_count": null,
   "metadata": {},
   "outputs": [],
   "source": []
  },
  {
   "cell_type": "code",
   "execution_count": null,
   "metadata": {},
   "outputs": [],
   "source": []
  },
  {
   "cell_type": "code",
   "execution_count": null,
   "metadata": {},
   "outputs": [],
   "source": []
  },
  {
   "cell_type": "code",
   "execution_count": null,
   "metadata": {},
   "outputs": [],
   "source": []
  },
  {
   "cell_type": "code",
   "execution_count": null,
   "metadata": {},
   "outputs": [],
   "source": []
  },
  {
   "cell_type": "code",
   "execution_count": null,
   "metadata": {},
   "outputs": [],
   "source": []
  },
  {
   "cell_type": "markdown",
   "metadata": {},
   "source": [
    "## Algoritmos"
   ]
  },
  {
   "cell_type": "markdown",
   "metadata": {},
   "source": [
    "### Algoritmos de búsqueda"
   ]
  },
  {
   "cell_type": "code",
   "execution_count": null,
   "metadata": {},
   "outputs": [],
   "source": []
  },
  {
   "cell_type": "markdown",
   "metadata": {},
   "source": [
    "### Algoritmos de ordenamiento"
   ]
  },
  {
   "cell_type": "code",
   "execution_count": null,
   "metadata": {},
   "outputs": [],
   "source": []
  },
  {
   "cell_type": "markdown",
   "metadata": {},
   "source": []
  }
 ],
 "metadata": {
  "kernelspec": {
   "display_name": "Python 3",
   "language": "python",
   "name": "python3"
  },
  "language_info": {
   "codemirror_mode": {
    "name": "ipython",
    "version": 3
   },
   "file_extension": ".py",
   "mimetype": "text/x-python",
   "name": "python",
   "nbconvert_exporter": "python",
   "pygments_lexer": "ipython3",
   "version": "3.11.1"
  }
 },
 "nbformat": 4,
 "nbformat_minor": 2
}
