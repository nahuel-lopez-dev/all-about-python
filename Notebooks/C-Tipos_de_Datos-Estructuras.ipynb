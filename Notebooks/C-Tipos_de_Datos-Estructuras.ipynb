{
 "cells": [
  {
   "attachments": {},
   "cell_type": "markdown",
   "metadata": {
    "id": "dM0ye9lSFdcu"
   },
   "source": [
    "# ⚡ *`Tipos de Datos y Estructuras`* ⚡"
   ]
  },
  {
   "attachments": {},
   "cell_type": "markdown",
   "metadata": {},
   "source": [
    "## Sobre Python"
   ]
  },
  {
   "cell_type": "markdown",
   "metadata": {},
   "source": [
    "### Los objetos\n",
    "\n",
    "Un objeto, es una forma de modelar el mundo en programación. En los lenguajes de programación, se caracterizan por tener métodos y atributos. En Python todo es un objeto."
   ]
  },
  {
   "attachments": {},
   "cell_type": "markdown",
   "metadata": {
    "id": "Aq549aJakT1Q"
   },
   "source": [
    "### Tipos de datos primitivos\n",
    "\n",
    "Python tiene 5 tipos de datos primitivos:\n",
    "\n",
    "    * Integers: Números enteros\n",
    "    * Floats: Números de punto flotante (Reales)\n",
    "    * Complex: Números complejos \n",
    "    * Strings: Cadenas de texto\n",
    "    * Booleans: Booleanos (True o False)\n",
    "\n",
    "### Datos adicionales:\n",
    "    \n",
    "    * Datos en texto: str\n",
    "    * Datos numéricos: int, float, complex\n",
    "    * Datos en secuencia: list, tuple, range\n",
    "    * Datos de mapeo: dict\n",
    "    * Set Types: set, frozenset\n",
    "    * Datos booleanos: bool\n",
    "    * Datos binarios: bytes, bytearray, memoryview"
   ]
  },
  {
   "attachments": {},
   "cell_type": "markdown",
   "metadata": {
    "id": "bVApwf5dnDqI"
   },
   "source": [
    "### Tipo None, un objeto de la clase NoneType\n",
    "\n",
    "En Python, hay un tipo de valor llamado `None` (\"Ninguno\", \"Nada\") que representa presisamente la ausencia de un valor o un valor nulo.\n",
    "None no es un tipo de dato primitivo en sí mismo, sino que es un objeto constante de la clase NoneType. \n",
    "Se utiliza para indicar, que una variable no tiene un valor asignado, o para representar un valor nulo en estructuras de datos como listas y diccionarios. \n",
    "En otros lenguajes hay tipos equivalentes que suelen llamarse `nil`, `null`, `undefined`, etc. \n",
    "Suele utilizarse como un comodín para reservar el lugar para un valor opcional o faltante. En particular, las funciones que no retornan ningún valor, como el `print()` (sólo imprime en pantalla, la función en sí no nos devuelve nada), devuelven `None`:"
   ]
  },
  {
   "cell_type": "code",
   "execution_count": 1,
   "metadata": {
    "id": "NctfV8tikDHy"
   },
   "outputs": [
    {
     "name": "stdout",
     "output_type": "stream",
     "text": [
      "Hola\n",
      "None\n"
     ]
    }
   ],
   "source": [
    "variable = print('Hola')\n",
    "print(variable)"
   ]
  },
  {
   "cell_type": "markdown",
   "metadata": {
    "id": "znG5GHDdllZL"
   },
   "source": [
    "En los condicionales, evalúa como `False`:"
   ]
  },
  {
   "cell_type": "code",
   "execution_count": 2,
   "metadata": {
    "id": "GwXMtp3Slnb5"
   },
   "outputs": [
    {
     "name": "stdout",
     "output_type": "stream",
     "text": [
      "Se cumplió la condición\n"
     ]
    }
   ],
   "source": [
    "a = None\n",
    "if not a:\n",
    "  print('Se cumplió la condición')"
   ]
  },
  {
   "attachments": {},
   "cell_type": "markdown",
   "metadata": {
    "id": "SVyOqZSnYO8f"
   },
   "source": [
    "## Contenedores\n",
    "\n",
    "Los contenedores son un tipo de estructura de datos que contienen otros objetos adentro. Es decir, almacenan objetos de una manera organizada y con métodos de acceso que dependen del tipo de contenedor. En Python tenemos varios tipos básicos de contenedores: **Listas**, **tuplas**, **diccionarios**, y **conjuntos** (*sets*)."
   ]
  },
  {
   "cell_type": "markdown",
   "metadata": {
    "id": "Wgm7O29WYQIp"
   },
   "source": [
    "### Listas\n",
    "\n",
    "Las listas las definimos entre corchetes `[]`. Pueden contener cualquier tipo de datos (¡incluso otras listas!) y pueden tener elementos repetidos. Los elementos están *indexados*, es decir, tienen un índice asociado (que, como siempre, comienza desde el 0). En general accedemos a los elementos especificando el índice del elemento entre corchetes:"
   ]
  },
  {
   "cell_type": "code",
   "execution_count": 3,
   "metadata": {
    "id": "WaBOLG7SY-Kw"
   },
   "outputs": [
    {
     "name": "stdout",
     "output_type": "stream",
     "text": [
      "Carlos Gómez\n",
      "Gabriela Torres\n"
     ]
    }
   ],
   "source": [
    "# lista de alumnos\n",
    "alumnos = [\n",
    "    'Carlos Gómez',\n",
    "    'Gabriela Torres',\n",
    "    'Juan Pérez']\n",
    "\n",
    "print(alumnos[0])\n",
    "print(alumnos[1])"
   ]
  },
  {
   "cell_type": "markdown",
   "metadata": {
    "id": "LaoVHAn4Z2zZ"
   },
   "source": [
    "Típicamente, a las listas las construimos añadiendo elementos sucesivamente:"
   ]
  },
  {
   "cell_type": "code",
   "execution_count": 5,
   "metadata": {
    "id": "Z9d2jsRhZ5J0"
   },
   "outputs": [
    {
     "name": "stdout",
     "output_type": "stream",
     "text": [
      "['Carlos Gómez', 'Gabriela Torres', 'Juan Pérez']\n"
     ]
    }
   ],
   "source": [
    "alumnos = [] # lista vacía\n",
    "\n",
    "# Agrego los alumnos con el método append\n",
    "alumnos.append('Carlos Gómez')\n",
    "alumnos.append('Gabriela Torres')\n",
    "alumnos.append('Juan Pérez')\n",
    "# etc.\n",
    "print(alumnos)"
   ]
  },
  {
   "cell_type": "code",
   "execution_count": 8,
   "metadata": {
    "id": "ORO1z7JBZ_A2"
   },
   "outputs": [
    {
     "name": "stdout",
     "output_type": "stream",
     "text": [
      "numeros: [1, 2, 3, 4, 5, 6, 7, 8, 9, 10]\n",
      "numeros_2: [10, 12, 14, 16, 18]\n"
     ]
    }
   ],
   "source": [
    "# Armado de lista de números del 1 al 10:\n",
    "numeros = []\n",
    "\n",
    "for i in range(10):\n",
    "  numeros.append(i+1)\n",
    "\n",
    "print('numeros:', numeros)\n",
    "\n",
    "numeros_2 = []\n",
    "for num in range(10,20,2):\n",
    "  numeros_2.append(num)\n",
    "\n",
    "print('numeros_2:', numeros_2)"
   ]
  },
  {
   "cell_type": "markdown",
   "metadata": {
    "id": "sHLvffBCaCun"
   },
   "source": [
    "Es importante notar que los elementos de una lista tienen un orden, son **secuenciales**. Otros tipos de contenedores pueden ser no ordenados. La otra característica de las listas es que son **mutables**, pueden ser modificadas sin definir una nueva lista."
   ]
  },
  {
   "cell_type": "markdown",
   "metadata": {
    "id": "jssGCNVraOrI"
   },
   "source": [
    "### Tuplas\n",
    "\n",
    "Son definidas entre paréntesis `()`. Las tuplas, al igual que las listas, contienen una serie de elementos ordenados (indexados), que pueden ser repetidos. Sin embargo, a diferencia de ellas, son **inmutables**, no están pensadas para ser modificadas:"
   ]
  },
  {
   "cell_type": "code",
   "execution_count": 9,
   "metadata": {
    "id": "b1yBHEmYaUEF"
   },
   "outputs": [
    {
     "ename": "TypeError",
     "evalue": "'tuple' object does not support item assignment",
     "output_type": "error",
     "traceback": [
      "\u001b[1;31m---------------------------------------------------------------------------\u001b[0m",
      "\u001b[1;31mTypeError\u001b[0m                                 Traceback (most recent call last)",
      "Cell \u001b[1;32mIn[9], line 7\u001b[0m\n\u001b[0;32m      4\u001b[0m alumno_3 \u001b[39m=\u001b[39m (\u001b[39m'\u001b[39m\u001b[39mJuan Pérez\u001b[39m\u001b[39m'\u001b[39m, \u001b[39m48327044\u001b[39m, \u001b[39m9\u001b[39m)\n\u001b[0;32m      6\u001b[0m \u001b[39m# Se produce un ERROR al intentar modificarlas\u001b[39;00m\n\u001b[1;32m----> 7\u001b[0m alumno_1[\u001b[39m0\u001b[39;49m] \u001b[39m=\u001b[39m \u001b[39m'\u001b[39m\u001b[39mAlberto Gómez\u001b[39m\u001b[39m'\u001b[39m\n",
      "\u001b[1;31mTypeError\u001b[0m: 'tuple' object does not support item assignment"
     ]
    }
   ],
   "source": [
    "# (Nombre, dni, nota)\n",
    "alumno_1 = ('Carlos Gómez', 41008418, 5)\n",
    "alumno_2 = ('Gabriela Torres', 45790918, 8)\n",
    "alumno_3 = ('Juan Pérez', 48327044, 9)\n",
    "\n",
    "# Se produce un ERROR al intentar modificarlas\n",
    "alumno_1[0] = 'Alberto Gómez'"
   ]
  },
  {
   "cell_type": "markdown",
   "metadata": {
    "id": "_oo96_6seA3D"
   },
   "source": [
    "Las tuplas suelen usarse para representar registros o estructuras simples. Típicamente, una tupla representa un solo objeto con múltiples partes. Una analogía posible es la siguiente: *Una tupla es como una fila de una base de datos.*"
   ]
  },
  {
   "cell_type": "markdown",
   "metadata": {
    "id": "nx4r8FX5eMLr"
   },
   "source": [
    "Las tuplas suelen usarse para *empaquetar* información relacionada en una sola *entidad*. Así puede ser pasada de un lugar a otro de un programa como un solo objeto."
   ]
  },
  {
   "cell_type": "code",
   "execution_count": 10,
   "metadata": {
    "id": "cTspg6lxedHs"
   },
   "outputs": [],
   "source": [
    "s = ('Manzanas', 100, 490.1)"
   ]
  },
  {
   "cell_type": "markdown",
   "metadata": {
    "id": "5ujbSby2enl3"
   },
   "source": [
    "Para usar una tupla en otro lado, debemos *desempaquetar* su contenido en diferentes variables."
   ]
  },
  {
   "cell_type": "code",
   "execution_count": 13,
   "metadata": {
    "id": "bDnKB3pTeyWS"
   },
   "outputs": [
    {
     "name": "stdout",
     "output_type": "stream",
     "text": [
      "Costo Manzanas: 49010.0\n"
     ]
    }
   ],
   "source": [
    "fruta, cajones, precio = s\n",
    "print(f'Costo {fruta}:', cajones * precio)"
   ]
  },
  {
   "cell_type": "markdown",
   "metadata": {
    "id": "cRsG3ATbe1Qx"
   },
   "source": [
    "Obviamente, el número de variables a la izquierda debe ser consistente con la estructura de la tupla."
   ]
  },
  {
   "cell_type": "code",
   "execution_count": 15,
   "metadata": {
    "id": "HM2kO9VCe6v0"
   },
   "outputs": [
    {
     "ename": "ValueError",
     "evalue": "too many values to unpack (expected 2)",
     "output_type": "error",
     "traceback": [
      "\u001b[1;31m---------------------------------------------------------------------------\u001b[0m",
      "\u001b[1;31mValueError\u001b[0m                                Traceback (most recent call last)",
      "Cell \u001b[1;32mIn[15], line 1\u001b[0m\n\u001b[1;32m----> 1\u001b[0m nombre, cajones \u001b[39m=\u001b[39m s     \u001b[39m# ERROR\u001b[39;00m\n",
      "\u001b[1;31mValueError\u001b[0m: too many values to unpack (expected 2)"
     ]
    }
   ],
   "source": [
    "nombre, cajones = s     # ERROR"
   ]
  },
  {
   "cell_type": "markdown",
   "metadata": {
    "id": "dgicKUyZv3XL"
   },
   "source": [
    "Ahora podemos entender lo que hacemos cuando usamos la función `enumerate()`. Ésta nos va entregando tuplas, pares (índice, elemento), que en general desempaquetamos en la misma línea del `for` para trabajar más cómodamente:"
   ]
  },
  {
   "cell_type": "code",
   "execution_count": 17,
   "metadata": {
    "id": "7-w6UwJCwWuY"
   },
   "outputs": [
    {
     "name": "stdout",
     "output_type": "stream",
     "text": [
      "nº: 0 Elemento: a\n",
      "nº: 1 Elemento: 20\n",
      "nº: 2 Elemento: 17.5\n",
      "nº: 3 Elemento: b\n"
     ]
    }
   ],
   "source": [
    "lista = ['a', 20, 17.5, 'b']\n",
    "\n",
    "for i, e in enumerate(lista):\n",
    "  print('nº:', i, 'Elemento:', e)"
   ]
  },
  {
   "cell_type": "code",
   "execution_count": 21,
   "metadata": {
    "id": "2dSkYkA0w0us"
   },
   "outputs": [
    {
     "name": "stdout",
     "output_type": "stream",
     "text": [
      "tupla: (0, 'a')\n",
      "tupla: (1, 20)\n",
      "tupla: (2, 17.5)\n",
      "tupla: (3, 'b')\n",
      "índice: 0, elemento: a\n",
      "índice: 1, elemento: 20\n",
      "índice: 2, elemento: 17.5\n",
      "índice: 3, elemento: b\n"
     ]
    }
   ],
   "source": [
    "lista = ['a', 20, 17.5, 'b']\n",
    "# por cada e (cada elemento de la lista), convertirlo en una tupla (índice, elemento)\n",
    "for e in enumerate(lista):\n",
    "  print('tupla:', e)\n",
    "\n",
    "# enumerate convierte a la lista en tuplas de índice y elemento y las retorna\n",
    "for i,e in enumerate(lista): # con i, e desempaquetamos la tupla en valores i y e\n",
    "  print(f'índice: {i}, elemento: {e}')\n"
   ]
  },
  {
   "cell_type": "markdown",
   "metadata": {
    "id": "Hadt6Hy1x0Ly"
   },
   "source": [
    "Esto es algo que usualmente se hace al iterar sobre elementos que son tuplas:"
   ]
  },
  {
   "cell_type": "code",
   "execution_count": 14,
   "metadata": {
    "id": "0X8u1lF4x68L"
   },
   "outputs": [
    {
     "name": "stdout",
     "output_type": "stream",
     "text": [
      "x = 1 \t y = 4\n",
      "x = 10 \t y = 40\n",
      "x = 23 \t y = 14\n",
      "x = 5 \t y = 6\n",
      "x = 7 \t y = 8\n"
     ]
    }
   ],
   "source": [
    "puntos = [(1, 4),(10, 40),(23, 14),(5, 6),(7, 8)]\n",
    "\n",
    "for x, y in puntos:\n",
    "    print('x =', x, '\\t y =', y)"
   ]
  },
  {
   "cell_type": "markdown",
   "metadata": {
    "id": "rBDnw1ashxQz"
   },
   "source": [
    "### Tuplas vs. Listas\n",
    "\n",
    "Las tuplas parecieran ser simplemente listas de solo-lectura. Sin embargo, las tuplas suelen usarse para un solo ítem que consiste de múltiples partes mientras que las listas suelen usarse para una colección de diferentes elementos, típicamente del mismo tipo."
   ]
  },
  {
   "cell_type": "code",
   "execution_count": null,
   "metadata": {
    "id": "pylKe5Q9iPZR"
   },
   "outputs": [],
   "source": [
    "producto = ('Manzanas', 100, 490.1)             # Una tupla representando un registro dentro de un pedido de frutas\n",
    "\n",
    "frutas = [ 'Manzanas', 'Peras', 'Mandarinas' ]  # Una lista representando tres frutas diferentes."
   ]
  },
  {
   "cell_type": "markdown",
   "metadata": {
    "id": "qXUchfV0iaK_"
   },
   "source": [
    "Más allá de las similitudes y diferencias, es usual combinar tuplas y listas. Si usamos las tuplas para almacenar registros, la lista de tuplas puede hacer las veces de una pequeña base de datos. Vemos a continuación un ejemplo:"
   ]
  },
  {
   "cell_type": "code",
   "execution_count": 15,
   "metadata": {
    "id": "hx_b9YLGigbU"
   },
   "outputs": [
    {
     "name": "stdout",
     "output_type": "stream",
     "text": [
      "Costo Manzanas = 49010.0\n",
      "Costo Peras = 69900.0\n",
      "Costo Mandarinas = 17260.0\n",
      "Mandarinas\n"
     ]
    }
   ],
   "source": [
    "# usando una lista de tuplas para almacenar registros de frutas\n",
    "frutas = [('Manzanas', 100, 490.1), ('Peras', 120, 582.5), ('Mandarinas',50,345.2)]\n",
    "\n",
    "for tupla in frutas:\n",
    "  fruta, cajones, precio = tupla\n",
    "  print(\"Costo\", fruta, \"=\", cajones * precio)\n",
    "\n",
    "print(frutas[2][0]) # accediendo a Mandarinas"
   ]
  },
  {
   "cell_type": "markdown",
   "metadata": {
    "id": "2-KQTY9-a8wL"
   },
   "source": [
    "### Diccionarios\n",
    "\n",
    "Los diccionarios se definen entre llaves `{}`, y  son usados para almacenar datos en pares *key*(clave):*value*(valor). No admite claves duplicadas. Si bien en las últimas versiones de Python los elementos tienen un orden, en general éste no es relevante. La manera de acceder a un elementos es especificando la clave entre corchetes: "
   ]
  },
  {
   "cell_type": "code",
   "execution_count": 16,
   "metadata": {
    "id": "MjgoH22ea8V1"
   },
   "outputs": [
    {
     "name": "stdout",
     "output_type": "stream",
     "text": [
      "{'Carlos Gómez': 5, 'Gabriela Torres': 8, 'Juan Pérez': 9}\n",
      "Nota de Gabriela Torres: 8\n",
      "Nota de Carlos Gómez: 5\n",
      "Nota de Juan Pérez: 9\n"
     ]
    }
   ],
   "source": [
    "# Diccionarios\n",
    "\n",
    "# diccionario de notas de alumnos\n",
    "notas = {\n",
    "   'Carlos Gómez': 5,\n",
    "   'Gabriela Torres': 8,\n",
    "   'Juan Pérez': 9}\n",
    "\n",
    "# Imprime el objeto notas\n",
    "print(notas)\n",
    "# Imprimo la nota de de un alumno:\n",
    "print('Nota de Gabriela Torres:', notas['Gabriela Torres'])\n",
    "print('Nota de Carlos Gómez:', notas['Carlos Gómez'])\n",
    "print('Nota de Juan Pérez:', notas['Juan Pérez'])"
   ]
  },
  {
   "cell_type": "markdown",
   "metadata": {
    "id": "Sm9oTww0bK0I"
   },
   "source": [
    "El acceso a los elementos es rápido (comparado con listas). La manera de construir diccionarios es asignando elementos con las claves:"
   ]
  },
  {
   "cell_type": "code",
   "execution_count": 26,
   "metadata": {
    "id": "nmtKhS2jbP4R"
   },
   "outputs": [
    {
     "name": "stdout",
     "output_type": "stream",
     "text": [
      "{'nombre_persona': 'Nahuel', 'edad_persona': 34, 'altura_persona': 1.78, 'datos_persona': True}\n",
      "[('nombre_persona', 'Nahuel'), ('edad_persona', 34), ('altura_persona', 1.78), ('datos_persona', True)]\n"
     ]
    }
   ],
   "source": [
    "dic_ivan = {}\n",
    "\n",
    "# Agrego elemento\n",
    "dic_ivan['Nombre'] = 'Iván'\n",
    "dic_ivan['edad'] = 28\n",
    "dic_ivan['altura'] = 1.80\n",
    "dic_ivan['es_real'] = True\n",
    "\n",
    "dic_persona = {}\n",
    "dic_persona['nombre_persona'] = 'Nahuel'\n",
    "dic_persona['edad_persona'] = 34\n",
    "dic_persona['altura_persona'] = 1.78\n",
    "dic_persona['datos_persona'] = True\n",
    "\n",
    "print(dic_persona)\n",
    "lista_persona = []\n",
    "for item in dic_persona.items():\n",
    "    lista_persona.append(item)\n",
    "\n",
    "print(lista_persona)    "
   ]
  },
  {
   "cell_type": "markdown",
   "metadata": {
    "id": "5LpcPjbabUqn"
   },
   "source": [
    "Para borrar un valor, usamos el comando `del`."
   ]
  },
  {
   "cell_type": "code",
   "execution_count": 20,
   "metadata": {
    "id": "_89ocBf2bVaj"
   },
   "outputs": [
    {
     "name": "stdout",
     "output_type": "stream",
     "text": [
      "{'Nombre': 'Iván', 'edad': 28, 'altura': 1.8}\n"
     ]
    }
   ],
   "source": [
    "del dic_ivan['es_real']\n",
    "print(dic_ivan)"
   ]
  },
  {
   "attachments": {},
   "cell_type": "markdown",
   "metadata": {
    "id": "K_PFG2QAbr3_"
   },
   "source": [
    "Para iterar sobre un diccionario, podemos hacerlo siguiendo las claves, los valores o directamente los elementos:"
   ]
  },
  {
   "cell_type": "code",
   "execution_count": 25,
   "metadata": {
    "id": "eiyCICswbu2I"
   },
   "outputs": [
    {
     "name": "stdout",
     "output_type": "stream",
     "text": [
      "div_ivan: {'Nombre': 'Iván', 'edad': 28, 'altura': 1.8}\n",
      "key: Nombre\n",
      "key: edad\n",
      "key: altura\n",
      "val: Iván\n",
      "val: 28\n",
      "val: 1.8\n",
      "items: ('Nombre', 'Iván')\n",
      "items: ('edad', 28)\n",
      "items: ('altura', 1.8)\n",
      "\n",
      "dic_persona {'nombre_persona': 'Nahuel', 'edad_persona': 34, 'altura_persona': 1.78, 'datos_persona': True}\n",
      "key: nombre_persona\n",
      "key: edad_persona\n",
      "key: altura_persona\n",
      "key: datos_persona\n",
      "val: Nahuel\n",
      "val: 34\n",
      "val: 1.78\n",
      "val: True\n",
      "items: ('nombre_persona', 'Nahuel')\n",
      "items: ('edad_persona', 34)\n",
      "items: ('altura_persona', 1.78)\n",
      "items: ('datos_persona', True)\n"
     ]
    }
   ],
   "source": [
    "# imprimiendo el diccionario dic_ivan\n",
    "print('div_ivan:', dic_ivan)\n",
    "\n",
    "# iteramos sobre las claves\n",
    "for key in dic_ivan.keys():\n",
    "  print('key:', key)\n",
    "\n",
    "# iteramos sobre los valores\n",
    "for val in dic_ivan.values():\n",
    "  print('val:', val)\n",
    "\n",
    "# los items son tuplas (clave, valor)\n",
    "for item in dic_ivan.items():\n",
    "  print('items:', item)\n",
    "\n",
    "print()\n",
    "# imprimiendo el diccionario persona\n",
    "print('dic_persona', dic_persona)\n",
    "\n",
    "# iteramos sobre las claves\n",
    "for key in dic_persona.keys():\n",
    "  print('key:', key)\n",
    "\n",
    "# iteramos sobre los valores\n",
    "for val in dic_persona.values():\n",
    "  print('val:', val)\n",
    "\n",
    "# los items son tuplas (clave, valor)\n",
    "for item in dic_persona.items():\n",
    "  print('items:', item)"
   ]
  },
  {
   "cell_type": "markdown",
   "metadata": {
    "id": "Ov1C3GRObyRY"
   },
   "source": [
    "También podemos hacer otras operaciones, como por ejemplo puede probar pertenencia en claves, o pedir la longitud:"
   ]
  },
  {
   "cell_type": "code",
   "execution_count": 27,
   "metadata": {
    "id": "J-m7ff4nb0H9"
   },
   "outputs": [
    {
     "name": "stdout",
     "output_type": "stream",
     "text": [
      "Si\n",
      "4\n"
     ]
    }
   ],
   "source": [
    "# Test de pertencia en diccionario\n",
    "ej_clave = 'Nombre'\n",
    "\n",
    "if ej_clave in dic_ivan:\n",
    "    print('Si')\n",
    "else:\n",
    "    print('No')\n",
    "\n",
    "# Longitud\n",
    "print(len(dic_ivan))"
   ]
  },
  {
   "cell_type": "markdown",
   "metadata": {
    "id": "AwXDBurBb1B8"
   },
   "source": [
    "### Conjuntos\n",
    "\n",
    "Los conjuntos almacenan múltiples elementos de manera no ordenada, sin admitir duplicados. Se definen como los diccionarios, con llaves `{}`, pero sin usar claves:"
   ]
  },
  {
   "cell_type": "code",
   "execution_count": 28,
   "metadata": {
    "id": "yQUMGziLb8mm"
   },
   "outputs": [
    {
     "name": "stdout",
     "output_type": "stream",
     "text": [
      "True\n"
     ]
    }
   ],
   "source": [
    "frutas = {'banana', 'naranja', 'manzana','pera'}\n",
    "\n",
    "print('banana' in frutas)"
   ]
  },
  {
   "cell_type": "markdown",
   "metadata": {
    "id": "kb0hKbqGcFZ1"
   },
   "source": [
    "Los conjuntos eliminan de manera automática duplicados:"
   ]
  },
  {
   "cell_type": "code",
   "execution_count": 46,
   "metadata": {
    "id": "KIzL2GeLcHZr"
   },
   "outputs": [
    {
     "name": "stdout",
     "output_type": "stream",
     "text": [
      "{'banana', 'naranja', 'pera', 'manzana'}\n"
     ]
    },
    {
     "data": {
      "text/plain": [
       "5"
      ]
     },
     "execution_count": 46,
     "metadata": {},
     "output_type": "execute_result"
    }
   ],
   "source": [
    "lista_frutas = ['banana', 'naranja', 'manzana','pera', 'naranja']\n",
    "\n",
    "set_frutas = set(lista_frutas)\n",
    "print(set_frutas)\n",
    "len(lista_frutas)"
   ]
  },
  {
   "cell_type": "markdown",
   "metadata": {
    "id": "eloIg-bPcKv_"
   },
   "source": [
    "Las operaciones usuales son:"
   ]
  },
  {
   "cell_type": "code",
   "execution_count": 49,
   "metadata": {
    "id": "OUigZ9NlcNfC"
   },
   "outputs": [
    {
     "name": "stdout",
     "output_type": "stream",
     "text": [
      "{'manzana', 'pera', 'banana', 'naranja', 'frutilla'}\n",
      "{'manzana', 'banana', 'naranja', 'frutilla'}\n"
     ]
    },
    {
     "data": {
      "text/plain": [
       "{'a', 'b'}"
      ]
     },
     "execution_count": 49,
     "metadata": {},
     "output_type": "execute_result"
    }
   ],
   "source": [
    "frutas = {'banana', 'naranja', 'manzana','pera'}\n",
    "frutas.add('frutilla')        # Agregar un elemento\n",
    "print(frutas)\n",
    "frutas.remove('pera')         # Quitar un elemento\n",
    "print(frutas)\n",
    "\n",
    "# operaciones de conjuntos\n",
    "s1 = { 'a', 'b', 'c'}\n",
    "s2 = { 'c', 'd' }\n",
    "s1 | s2                 # Unión de conjuntos { 'a', 'b', 'c', 'd' }\n",
    "s1 & s2                 # Intersección de conjuntos { 'c' }\n",
    "s1 - s2                 # Diferencia de conjuntos { 'a', 'b' }"
   ]
  },
  {
   "cell_type": "markdown",
   "metadata": {
    "id": "bBHN8D2FFqrf"
   },
   "source": [
    "## La función zip\n",
    "\n",
    "A veces pasa que queremos, por ejemplo, trabajar sobre dos listas al mismo tiempo porque están relacionadas (pensemos el caso de una lista con los nombres y otra con los apellidos de las mismas personas). La función `zip()` toma múltiples secuencias (listas, tuplas, etc.) y las empaqueta en un iterador que las combina:"
   ]
  },
  {
   "cell_type": "code",
   "execution_count": 51,
   "metadata": {
    "id": "5CGiFJrCFqNt"
   },
   "outputs": [
    {
     "name": "stdout",
     "output_type": "stream",
     "text": [
      "<zip object at 0x000001F684EFCA80>\n",
      "Nombre: Juan  Apellido: Pérez\n",
      "Nombre: Elsa  Apellido: Gómez\n",
      "Nombre: Ingrid  Apellido: Muller\n",
      "Nombre: Carlos  Apellido: Tacha\n",
      "Nombre: Federico  Apellido: Higgins\n"
     ]
    }
   ],
   "source": [
    "nombres = ['Juan', 'Elsa', 'Ingrid', 'Carlos', 'Federico']\n",
    "apellidos = ['Pérez', 'Gómez', 'Muller', 'Tacha', 'Higgins']\n",
    "pares = zip(nombres, apellidos)\n",
    "print(pares)\n",
    "\n",
    "for nombre, apellido in pares:\n",
    "  print('Nombre:', nombre, ' Apellido:', apellido)"
   ]
  },
  {
   "cell_type": "markdown",
   "metadata": {
    "id": "ESkenI-pzMdD"
   },
   "source": [
    "Podemos usar `zip()` para crear una lista de tuplas o para crear diccionarios a partir de ellas:"
   ]
  },
  {
   "cell_type": "code",
   "execution_count": 52,
   "metadata": {
    "id": "iFqUVwkDzmbE"
   },
   "outputs": [
    {
     "name": "stdout",
     "output_type": "stream",
     "text": [
      "[('Juan', 'Pérez'), ('Elsa', 'Gómez'), ('Ingrid', 'Muller'), ('Carlos', 'Tacha'), ('Federico', 'Higgins')]\n",
      "{'Juan': 'Pérez', 'Elsa': 'Gómez', 'Ingrid': 'Muller', 'Carlos': 'Tacha', 'Federico': 'Higgins'}\n"
     ]
    }
   ],
   "source": [
    "# Creo lista de tuplas\n",
    "lista_tup = list(zip(nombres, apellidos))\n",
    "print(lista_tup)\n",
    "\n",
    "# Creo un diccionario\n",
    "dic = dict(zip(nombres, apellidos))\n",
    "print(dic)"
   ]
  },
  {
   "cell_type": "markdown",
   "metadata": {
    "id": "CxOvrmInzzBW"
   },
   "source": [
    "La función `zip()` también se puede usar de manera de inversa usando un `*` en el argumento. Mirá el siguiente ejemplo:"
   ]
  },
  {
   "cell_type": "code",
   "execution_count": 53,
   "metadata": {
    "colab": {
     "base_uri": "https://localhost:8080/"
    },
    "executionInfo": {
     "elapsed": 285,
     "status": "ok",
     "timestamp": 1677852666547,
     "user": {
      "displayName": "Ivan Pedron",
      "userId": "10160945552974466654"
     },
     "user_tz": 180
    },
    "id": "e78KgMINz0lC",
    "outputId": "f55cecfc-3caa-4dc1-8438-9459f4716445"
   },
   "outputs": [
    {
     "name": "stdout",
     "output_type": "stream",
     "text": [
      "[('Carlos Gómez', 'Gabriela Torres', 'Juan Pérez', 'Éric Guay', 'Juana Monte', 'Carla Díaz'), (41008418, 45790918, 48327044, 35360531, 31583398, 43772387), (5, 8, 9, 7, 10, 6)]\n"
     ]
    }
   ],
   "source": [
    "alumnos = [\n",
    "    ('Carlos Gómez', 41008418, 5),\n",
    "    ('Gabriela Torres', 45790918, 8),\n",
    "    ('Juan Pérez', 48327044, 9),\n",
    "    ('Éric Guay', 35360531, 7),\n",
    "    ('Juana Monte', 31583398, 10),\n",
    "    ('Carla Díaz', 43772387, 6)]\n",
    "\n",
    "print(list(zip(*alumnos)))"
   ]
  },
  {
   "cell_type": "markdown",
   "metadata": {
    "id": "Oj7L9Cu-0D3m"
   },
   "source": [
    "Teníamos una lista de tuplas (nombre, dni, nota), la cual convertimos en una lista de tres tuplas: una con los nombres, otra con los números de dni y otra con las notas. Si pensamos que lo que teníamos originalmente eran las filas de una base de datos, ahora tomamos las columnas de la misma. "
   ]
  },
  {
   "cell_type": "markdown",
   "metadata": {
    "id": "hdN4teB5Ft4X"
   },
   "source": [
    "## Comprensión de listas\n",
    "\n",
    "Una tarea que se realiza a menudo es procesar los elementos de una lista. La definición de listas por comprensión que es una herramienta potente hacer exactamente eso."
   ]
  },
  {
   "cell_type": "code",
   "execution_count": 29,
   "metadata": {
    "id": "vArFLIaOFXEO"
   },
   "outputs": [
    {
     "name": "stdout",
     "output_type": "stream",
     "text": [
      "[0, 1, 4, 9, 16]\n"
     ]
    }
   ],
   "source": [
    "l1 = [x**2 for x in range(0,5)] # range no toma el último elemento (el 5), y por defecto arranca de 0 (cero). En este caso sería lo mismo poner range(5)\n",
    "\n",
    "print(l1)\n"
   ]
  },
  {
   "attachments": {},
   "cell_type": "markdown",
   "metadata": {
    "id": "0nCfUUDr02vB"
   },
   "source": [
    "### Creación de listas\n",
    "\n",
    "La comprensión de listas crea una nueva lista aplicando una operación a cada elemento de una secuencia. Por ejemplo:"
   ]
  },
  {
   "cell_type": "code",
   "execution_count": 30,
   "metadata": {
    "id": "9O6lsxo_0-W_"
   },
   "outputs": [
    {
     "name": "stdout",
     "output_type": "stream",
     "text": [
      "[2, 4, 6, 8, 10]\n"
     ]
    }
   ],
   "source": [
    "a = [1, 2, 3, 4, 5]\n",
    "b = [2*x for x in a] # Creo una lista con el doble de los elementos de a\n",
    "print(b) #[2, 4, 6, 8, 10]\n",
    "\n",
    "# es una versión más cómoda y compacta de\n",
    "b = []\n",
    "for x in a:\n",
    "  b.append(2*x)"
   ]
  },
  {
   "cell_type": "code",
   "execution_count": 31,
   "metadata": {
    "id": "GoKGkI_A1GkY"
   },
   "outputs": [
    {
     "name": "stdout",
     "output_type": "stream",
     "text": [
      "['edmundo', 'juana']\n"
     ]
    }
   ],
   "source": [
    "nombres = ['Edmundo', 'Juana']\n",
    "a = [nombre.lower() for nombre in nombres]\n",
    "print(a) # ['edmundo', 'juana']"
   ]
  },
  {
   "cell_type": "markdown",
   "metadata": {
    "id": "I1cKlM3Y1KA1"
   },
   "source": [
    "### Filtros\n",
    "\n",
    "La comprensión de listas se puede usar para filtrar datos."
   ]
  },
  {
   "cell_type": "code",
   "execution_count": 33,
   "metadata": {
    "id": "zODc9dnK1No4"
   },
   "outputs": [
    {
     "name": "stdout",
     "output_type": "stream",
     "text": [
      "[2, 8, 4, 20]\n",
      "[4, 10]\n"
     ]
    }
   ],
   "source": [
    "a = [1, -5, 4, 2, -2, 10]\n",
    "b = [2*x for x in a if x > 0] # uso sólo los números positivos\n",
    "print(b) # [2, 8, 4, 20]\n",
    "\n",
    "c = [x for x in a if x > 2]\n",
    "print(c)"
   ]
  },
  {
   "cell_type": "markdown",
   "metadata": {
    "id": "ldiID6T31ShI"
   },
   "source": [
    "### Sintaxis general\n",
    "\n",
    "La sintaxis general es `[<expresión> for <variable> in <secuencia> if <condición>]`, lo cual significa, expresándolo cómo lo veníamos haciendo hasta ahora"
   ]
  },
  {
   "cell_type": "code",
   "execution_count": 34,
   "metadata": {
    "id": "Brhdekr11SJH"
   },
   "outputs": [
    {
     "ename": "NameError",
     "evalue": "name 'secuencia' is not defined",
     "output_type": "error",
     "traceback": [
      "\u001b[1;31m---------------------------------------------------------------------------\u001b[0m",
      "\u001b[1;31mNameError\u001b[0m                                 Traceback (most recent call last)",
      "Cell \u001b[1;32mIn[34], line 2\u001b[0m\n\u001b[0;32m      1\u001b[0m resultado \u001b[39m=\u001b[39m []\n\u001b[1;32m----> 2\u001b[0m \u001b[39mfor\u001b[39;00m variable \u001b[39min\u001b[39;00m secuencia:\n\u001b[0;32m      3\u001b[0m     \u001b[39mif\u001b[39;00m condición:\n\u001b[0;32m      4\u001b[0m         resultado\u001b[39m.\u001b[39mappend(expresión)\n",
      "\u001b[1;31mNameError\u001b[0m: name 'secuencia' is not defined"
     ]
    }
   ],
   "source": [
    "resultado = []\n",
    "for variable in secuencia:\n",
    "    if condición:\n",
    "        resultado.append(expresión)"
   ]
  },
  {
   "cell_type": "markdown",
   "metadata": {
    "id": "YiW3Qn-q2FN0"
   },
   "source": [
    "### Comprensión de diccionarios\n",
    "\n",
    "De la misma manera que con las listas, se pueden definir diccionarios por comprensión. Por ejemplo,"
   ]
  },
  {
   "cell_type": "code",
   "execution_count": 35,
   "metadata": {
    "id": "xXabMtVs2KGB"
   },
   "outputs": [
    {
     "name": "stdout",
     "output_type": "stream",
     "text": [
      "{0: 0, 1: 1, 2: 4, 3: 9, 4: 16, 5: 25, 6: 36, 7: 49, 8: 64, 9: 81}\n"
     ]
    }
   ],
   "source": [
    "numeros = [i for i in range(10)]\n",
    "\n",
    "# Defino un diccionario con los cuadrados de los números\n",
    "dic2 = {n:n**2 for n in numeros}\n",
    "print(dic2)"
   ]
  },
  {
   "cell_type": "markdown",
   "metadata": {
    "id": "CHYHM_IU-l0V"
   },
   "source": [
    "### Ejercicio de ejemplo\n",
    "\n",
    "**Un ejemplo básico de compresión.** Usá comprensión de listas para sumar solamente los números pares de la siguiente lista de números:"
   ]
  },
  {
   "cell_type": "code",
   "execution_count": 36,
   "metadata": {
    "id": "xIVQeIYR-qSU"
   },
   "outputs": [
    {
     "ename": "TypeError",
     "evalue": "unsupported operand type(s) for +: 'int' and 'ellipsis'",
     "output_type": "error",
     "traceback": [
      "\u001b[1;31m---------------------------------------------------------------------------\u001b[0m",
      "\u001b[1;31mTypeError\u001b[0m                                 Traceback (most recent call last)",
      "Cell \u001b[1;32mIn[36], line 2\u001b[0m\n\u001b[0;32m      1\u001b[0m numeros \u001b[39m=\u001b[39m [\u001b[39m1\u001b[39m, \u001b[39m2\u001b[39m, \u001b[39m4\u001b[39m, \u001b[39m5\u001b[39m, \u001b[39m8\u001b[39m, \u001b[39m10\u001b[39m, \u001b[39m13\u001b[39m, \u001b[39m17\u001b[39m]\n\u001b[1;32m----> 2\u001b[0m suma_pares \u001b[39m=\u001b[39m \u001b[39msum\u001b[39;49m( [\u001b[39m.\u001b[39;49m\u001b[39m.\u001b[39;49m\u001b[39m.\u001b[39;49m] )\n\u001b[0;32m      3\u001b[0m \u001b[39mprint\u001b[39m(suma_pares) \u001b[39m# 24\u001b[39;00m\n",
      "\u001b[1;31mTypeError\u001b[0m: unsupported operand type(s) for +: 'int' and 'ellipsis'"
     ]
    }
   ],
   "source": [
    "numeros = [1, 2, 4, 5, 8, 10, 13, 17]\n",
    "suma_pares = sum( [...] )\n",
    "print(suma_pares) # 24"
   ]
  },
  {
   "cell_type": "markdown",
   "metadata": {
    "id": "uwhUgB5ro7cE"
   },
   "source": [
    "## Referencias, mutabilidad y sus peligros\n",
    "\n",
    "Hasta ahora hablamos mucho de variables, pero no especificamos mucho cómo funciona Python internamente. Por ejemplo, hablamos de que las variables \"guardan valores\", pero en realidad esto no es cierto. Lo que ocurre es que el valor está guardado en algún lugar de la memoria de la computadora, y la variable es simplemente una *referencia* o *puntero* a ese valor, algo así como sus coordenadas en la memoria. Veamos un ejemplo:"
   ]
  },
  {
   "cell_type": "code",
   "execution_count": null,
   "metadata": {
    "id": "BV98RuhDp0SZ"
   },
   "outputs": [],
   "source": [
    "a = 10\n",
    "b = a\n",
    "a = 11\n",
    "\n",
    "print('a =', a)\n",
    "print('b =', b)"
   ]
  },
  {
   "cell_type": "markdown",
   "metadata": {
    "id": "U5IOCsW4qARf"
   },
   "source": [
    "Analicemos lo que ocurrió aquí: primero creamos el valor `10` en algún lugar de la memoria, y guardamos su dirección en `a`. Luego, en `b` no copiamos el valor de `a`, sino la misma dirección al valor que habíamos asignado en `a`. Al redefinir `a = 11`, creamos otro valor (`11`) en otro lugar de la memoria, y en `a` quedó guardada esa nueva dirección. Pero notemos que `b` sigue conservando la anterior. Esto es porque los números enteros en Python son **inmutables**, no pueden modificarse. Por eso al hacer `a = 11` no cambiamos el valor en la memoria donde estaba el `10`, sino que creamos uno nuevo en otro lado.\n",
    "\n",
    "Pero, ¿qué pasa si ahora tenemos tipos de datos **mutables**, como las listas? Veamos un ejemplo como el anterior:"
   ]
  },
  {
   "cell_type": "code",
   "execution_count": null,
   "metadata": {
    "colab": {
     "base_uri": "https://localhost:8080/"
    },
    "executionInfo": {
     "elapsed": 292,
     "status": "ok",
     "timestamp": 1677599017700,
     "user": {
      "displayName": "Ivan Pedron",
      "userId": "10160945552974466654"
     },
     "user_tz": 180
    },
    "id": "twxrdXbjr3aZ",
    "outputId": "ddd6e3cb-79a5-4543-ffff-42f7ad99e171"
   },
   "outputs": [
    {
     "name": "stdout",
     "output_type": "stream",
     "text": [
      "a = [1, 2, 3]\n",
      "b = [1, 2, 3]\n"
     ]
    }
   ],
   "source": [
    "a = [1, 2]\n",
    "b = a\n",
    "a.append(3)\n",
    "\n",
    "print('a =', a)\n",
    "print('b =', b)"
   ]
  },
  {
   "cell_type": "markdown",
   "metadata": {
    "id": "DkGf-8zxsD-e"
   },
   "source": [
    "¡Ahora sí cambió `b` junto con `a`! En este caso al hacer `a[0] = 10` no creamos un valor nuevo en la memoria, sino que modificamos el que ya estaba. `a` y `b` siguen referenciando al mismo lugar en la memoria.\n",
    "\n",
    "Si queremos evitar que pase esto, por ejemplo podemos usar el método `copy()`, que crea una copia del valor en la memoria:"
   ]
  },
  {
   "cell_type": "code",
   "execution_count": null,
   "metadata": {
    "colab": {
     "base_uri": "https://localhost:8080/"
    },
    "executionInfo": {
     "elapsed": 334,
     "status": "ok",
     "timestamp": 1677599990331,
     "user": {
      "displayName": "Ivan Pedron",
      "userId": "10160945552974466654"
     },
     "user_tz": 180
    },
    "id": "LSZIstAewDd9",
    "outputId": "8a1409fa-3602-4c11-9c56-25c4a4a397d6"
   },
   "outputs": [
    {
     "name": "stdout",
     "output_type": "stream",
     "text": [
      "a = [1, 2, 3]\n",
      "b = [1, 2]\n"
     ]
    }
   ],
   "source": [
    "a = [1, 2]\n",
    "b = a.copy()\n",
    "a.append(3)\n",
    "\n",
    "print('a =', a)\n",
    "print('b =', b)"
   ]
  },
  {
   "cell_type": "markdown",
   "metadata": {
    "id": "rSJarIY6vzT7"
   },
   "source": [
    "Para entender este tema mejor podemos usar la función `id()` de Python. En Python, todos los valores tienen un número único de identificación asignados. Así que usando esta función podemos saber si dos variables están refiriendo al mismo valor o no:"
   ]
  },
  {
   "cell_type": "code",
   "execution_count": null,
   "metadata": {
    "id": "LNAu9do1ucsg"
   },
   "outputs": [],
   "source": [
    "a = 10\n",
    "print('a =', a, id(a))\n",
    "\n",
    "b = a\n",
    "print('b =', b, id(b))\n",
    "\n",
    "a = 11\n",
    "print('a =', a, id(a))\n",
    "print('b =', b, id(b))"
   ]
  },
  {
   "cell_type": "markdown",
   "metadata": {
    "id": "KvxFbS_CvSSN"
   },
   "source": [
    "Y un caso más complejo:"
   ]
  },
  {
   "cell_type": "code",
   "execution_count": null,
   "metadata": {
    "id": "8AVnRbujur5i"
   },
   "outputs": [],
   "source": [
    "a = [1, 2]\n",
    "print('a =', a, id(a))\n",
    "b = [a, 'hola']\n",
    "print('b =', b, id(b))\n",
    "print('b[0] =', b[0], id(b[0]))\n",
    "\n",
    "a.append(3)\n",
    "print('a =', a, id(a))\n",
    "print('b =', b, id(b))"
   ]
  },
  {
   "cell_type": "markdown",
   "metadata": {
    "id": "c4E_stzh4Z5D"
   },
   "source": [
    "Para poder entender esto mucho mejor, les recondamos probar estos códigos (y otros más complicados que se les puedan ocurrir) con la herramienta [Python Tutor](https://pythontutor.com/), que les permite ir ejecutando paso a paso el código y ver lo que está ocurriendo en la memoria.\n",
    "\n",
    "Como último ejemplo, hay que tener cuidado cuando tenemos variables mutables dentro de listas. Incluso copiando la lista, la variable de adentro va a seguir haciendo referencia al mismo objeto en la memoria:"
   ]
  },
  {
   "cell_type": "code",
   "execution_count": null,
   "metadata": {
    "id": "POxDgTtz53aq"
   },
   "outputs": [],
   "source": [
    "lista_a = [1, \"a\"]\n",
    "lista_b = [5.5, lista_a]\n",
    "lista_c = lista_b.copy()\n",
    "\n",
    "print(lista_c)\n",
    "lista_a.append('esta cadena la agrego a lista_a')\n",
    "lista_b.append('esta cadena la agrego a lista_b')\n",
    "print(lista_c)"
   ]
  },
  {
   "cell_type": "markdown",
   "metadata": {
    "id": "KfR0b0WyvV17"
   },
   "source": [
    "Confuso, ¿no? Hay módulos de Python que permiten hacer copias \"profundas\" de listas para que no ocurra esto, pero no vamos a adentrarnos en ello.\n",
    " \n",
    "**La moraleja es que hay que tener cuidado a la hora de trabajar con valores mutables.** ¡A veces, al modificar un valor en una variable podemos estar cambiando el mismo valor en otras variables sin darnos cuenta! Este tipo de errores te van a ocurrir, lo importante es poder indentificar lo que está pasando para poder arreglarlo."
   ]
  },
  {
   "cell_type": "markdown",
   "metadata": {
    "id": "8GVHAnRB9v53"
   },
   "source": [
    "## Ejercicios"
   ]
  },
  {
   "cell_type": "markdown",
   "metadata": {
    "id": "AkiJQyaT91cS"
   },
   "source": [
    "**Armando un diccionario de notas.** A continuación damos una lista de tuplas, donde cada tupla corresponde a un alumno de un curso, con `(nombre, dni, nota)`. Armá a partir de la lista un diccionario `dic_notas` que tenga como clave el nombre y como valor la nota de cada alumno."
   ]
  },
  {
   "cell_type": "code",
   "execution_count": null,
   "metadata": {
    "id": "Dasw_-fI9x5S"
   },
   "outputs": [],
   "source": [
    "alumnos = [\n",
    "    ('Carlos Gómez', 41008418, 5),\n",
    "    ('Gabriela Torres', 45790918, 8),\n",
    "    ('Juan Pérez', 48327044, 9),\n",
    "    ('Éric Guay', 35360531, 7),\n",
    "    ('Juana Monte', 31583398, 10),\n",
    "    ('Carla Díaz', 43772387, 6)]\n",
    "\n",
    "# diccionario notas:\n"
   ]
  },
  {
   "cell_type": "markdown",
   "metadata": {
    "id": "-TkZYrLh98Rz"
   },
   "source": [
    "**Lista de diccionarios.** Usando la misma lista de antes, armá ahora una nueva *lista* en la que a cada alumno le corresponde un diccionario con las claves 'nombre', 'dni' y 'nota'. Por ejemplo, el primer elemento es `{'Nombre':'Carlos Gómez', 'dni':41008418, 'nota':5}`."
   ]
  },
  {
   "cell_type": "code",
   "execution_count": null,
   "metadata": {
    "id": "SPuYj8Pp97fl"
   },
   "outputs": [],
   "source": [
    "alumnos = [\n",
    "    ('Carlos Gómez', 41008418, 5),\n",
    "    ('Gabriela Torres', 45790918, 8),\n",
    "    ('Juan Pérez', 48327044, 9),\n",
    "    ('Éric Guay', 35360531, 7),\n",
    "    ('Juana Monte', 31583398, 10),\n",
    "    ('Carla Díaz', 43772387, 6)]\n",
    "\n",
    "# lista diccionario:\n"
   ]
  },
  {
   "cell_type": "markdown",
   "metadata": {
    "id": "bJvODaw8-Nz3"
   },
   "source": [
    "**Usando comprensión.** Volvé a rehacer los dos ejercicios anteriores, pero esta vez usando comprensión."
   ]
  },
  {
   "cell_type": "code",
   "execution_count": null,
   "metadata": {
    "id": "1oxKg8TT-XgF"
   },
   "outputs": [],
   "source": [
    "alumnos = [\n",
    "    ('Carlos Gómez', 41008418, 5),\n",
    "    ('Gabriela Torres', 45790918, 8),\n",
    "    ('Juan Pérez', 48327044, 9),\n",
    "    ('Éric Guay', 35360531, 7),\n",
    "    ('Juana Monte', 31583398, 10),\n",
    "    ('Carla Díaz', 43772387, 6)]\n",
    "\n",
    "# diccionario notas:\n",
    "\n",
    "# lista diccionarios:"
   ]
  },
  {
   "cell_type": "markdown",
   "metadata": {
    "id": "G3uqVjUA-zAH"
   },
   "source": [
    "## Nota sobre condicionales: evaluación perezosa (*lazy evaluation*)\n",
    "\n",
    "La evaluación perezosa es una estrategia de evaluación que retrasa la evaluación de una expresión hasta que esta sea necesaria. Por ejemplo si tenemos dos condiciones en un `if`, primero verificará que se cumpla la primera, y sólo en caso de que sea verdadera mirará la segunda:"
   ]
  },
  {
   "cell_type": "code",
   "execution_count": 1,
   "metadata": {
    "id": "vLZvopJp_CgI"
   },
   "outputs": [
    {
     "name": "stdout",
     "output_type": "stream",
     "text": [
      "No se cumplió la condición\n"
     ]
    }
   ],
   "source": [
    "tupla = (0, 1, 2, 3, 4)\n",
    "if (5 in tupla) and (tupla[5] == 5):\n",
    "  print('¡Se cumplió la condición!')\n",
    "else:\n",
    "  print('No se cumplió la condición')"
   ]
  },
  {
   "cell_type": "markdown",
   "metadata": {
    "id": "06hh22uj_Ej3"
   },
   "source": [
    "En el ejemplo anterior, a pesar de que la condición `tupla[5] == 5` daría un IndexError porque no hay elemento `5`, este no se produjo porque al ser falsa la primera condición ya dejó de evaluar la expresión. Miremos qué ocurre si damos vuelta las condiciones:"
   ]
  },
  {
   "cell_type": "code",
   "execution_count": null,
   "metadata": {
    "id": "61_trIkt_Gh4"
   },
   "outputs": [
    {
     "ename": "IndexError",
     "evalue": "tuple index out of range",
     "output_type": "error",
     "traceback": [
      "\u001b[1;31m---------------------------------------------------------------------------\u001b[0m",
      "\u001b[1;31mIndexError\u001b[0m                                Traceback (most recent call last)",
      "Cell \u001b[1;32mIn[3], line 2\u001b[0m\n\u001b[0;32m      1\u001b[0m tupla \u001b[39m=\u001b[39m (\u001b[39m0\u001b[39m, \u001b[39m1\u001b[39m, \u001b[39m2\u001b[39m, \u001b[39m3\u001b[39m, \u001b[39m4\u001b[39m)\n\u001b[1;32m----> 2\u001b[0m \u001b[39mif\u001b[39;00m (tupla[\u001b[39m5\u001b[39;49m] \u001b[39m==\u001b[39m \u001b[39m5\u001b[39m) \u001b[39mand\u001b[39;00m (\u001b[39m5\u001b[39m \u001b[39min\u001b[39;00m tupla):\n\u001b[0;32m      3\u001b[0m   \u001b[39mprint\u001b[39m(\u001b[39m'\u001b[39m\u001b[39m¡Se cumplió la condición!\u001b[39m\u001b[39m'\u001b[39m)\n",
      "\u001b[1;31mIndexError\u001b[0m: tuple index out of range"
     ]
    }
   ],
   "source": [
    "tupla = (0, 1, 2, 3, 4)\n",
    "if (tupla[5] == 5) and (5 in tupla):\n",
    "  print('¡Se cumplió la condición!')"
   ]
  },
  {
   "cell_type": "markdown",
   "metadata": {
    "id": "G3M8B2ir_JKh"
   },
   "source": [
    "¡Ahora sí se produjo el error! La evaluación perezosa nos permite abusarnos y usar expresiones que darían errores en algunos casos, pero que como no son posibles si alguna otra condición no se cumple, no llegan a evaluarse."
   ]
  },
  {
   "cell_type": "markdown",
   "metadata": {},
   "source": [
    "## **Fin Notebook**"
   ]
  }
 ],
 "metadata": {
  "colab": {
   "provenance": [],
   "toc_visible": true
  },
  "kernelspec": {
   "display_name": "Python 3",
   "name": "python3"
  },
  "language_info": {
   "codemirror_mode": {
    "name": "ipython",
    "version": 3
   },
   "file_extension": ".py",
   "mimetype": "text/x-python",
   "name": "python",
   "nbconvert_exporter": "python",
   "pygments_lexer": "ipython3",
   "version": "3.11.1"
  }
 },
 "nbformat": 4,
 "nbformat_minor": 0
}
