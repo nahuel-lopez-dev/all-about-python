{
 "cells": [
  {
   "cell_type": "markdown",
   "metadata": {},
   "source": [
    "# ⚡ *`Design Patterns`* ⚡\n",
    "## Patrones de diseño"
   ]
  },
  {
   "cell_type": "markdown",
   "metadata": {},
   "source": [
    "¿Qué son los patrones de diseño?\n",
    "\n",
    "Son formas de escribir el código para crear tipos de soluciones a problemas comunes, que ya han sido probados, testeados, son reutilizables, flexibles y escalables."
   ]
  },
  {
   "cell_type": "markdown",
   "metadata": {},
   "source": [
    "## Tipos de patrones de diseño\n",
    "\n",
    "Los patrones de diseño pueden representarse en tres tipos:\n",
    "- Creaciones\n",
    "- Estructurales\n",
    "- Comportamiento"
   ]
  },
  {
   "cell_type": "markdown",
   "metadata": {},
   "source": [
    "## Patrones de diseño Creacionales"
   ]
  },
  {
   "cell_type": "markdown",
   "metadata": {},
   "source": [
    "### Un patrón creacional"
   ]
  },
  {
   "cell_type": "markdown",
   "metadata": {},
   "source": [
    "Son estructuras LIFO (Last In First Out): Último en entrar, primero en salir.\n",
    "\n",
    "Ejemplo: pila de libros, el último que se pone en la pila, es el primero que se puede quitar."
   ]
  },
  {
   "cell_type": "code",
   "execution_count": 1,
   "metadata": {},
   "outputs": [],
   "source": [
    "class Pila():\n",
    "    def __init__(self):\n",
    "        self.elementos = []\n",
    "        \n",
    "    def esta_vacia(self):\n",
    "        return self.elementos == []\n",
    "    \n",
    "    def insertar(self, elemento):\n",
    "        self.elementos.append(elemento)\n",
    "        return elemento\n",
    "        \n",
    "    def eliminar(self):\n",
    "        return self.elementos.pop()\n",
    "    \n",
    "    def consultar(self):\n",
    "        return self.elementos[len(self.elementos) - 1]\n",
    "    \n",
    "    def longitud(self):\n",
    "        return len(self.elementos)"
   ]
  },
  {
   "cell_type": "markdown",
   "metadata": {},
   "source": [
    "## Patrones de diseño Estructurales"
   ]
  },
  {
   "cell_type": "markdown",
   "metadata": {},
   "source": [
    "### Un patrón estructural"
   ]
  },
  {
   "cell_type": "markdown",
   "metadata": {},
   "source": [
    "Son estructuras FIFO (First In First Out): Primero en entrar, primero en salir\n",
    "\n",
    "Ejemplo: cola de personas esperando el autobus, el primero de la cola será el primero en subir al autobús."
   ]
  },
  {
   "cell_type": "code",
   "execution_count": 3,
   "metadata": {},
   "outputs": [],
   "source": [
    "class Cola():\n",
    "    def __init__(self):\n",
    "        self.elementos = []\n",
    "        \n",
    "    def esta_vacia(self):\n",
    "        return self.elementos == []\n",
    "    \n",
    "    def insertar(self, elemento):\n",
    "        self.elementos.insert(0, elemento)\n",
    "        return elemento\n",
    "    \n",
    "    def eliminar(self):\n",
    "        return self.elementos.pop()\n",
    "    \n",
    "    def longitud(self):\n",
    "        return len(self.elementos)"
   ]
  },
  {
   "cell_type": "markdown",
   "metadata": {},
   "source": [
    "## Patrones de diseño de comportamiento"
   ]
  },
  {
   "cell_type": "markdown",
   "metadata": {},
   "source": [
    "### Un patrón de diseño de comportamiento"
   ]
  },
  {
   "cell_type": "markdown",
   "metadata": {},
   "source": []
  },
  {
   "cell_type": "code",
   "execution_count": null,
   "metadata": {},
   "outputs": [],
   "source": []
  },
  {
   "cell_type": "markdown",
   "metadata": {},
   "source": [
    "## Ejercicios"
   ]
  },
  {
   "cell_type": "code",
   "execution_count": null,
   "metadata": {},
   "outputs": [],
   "source": []
  },
  {
   "cell_type": "code",
   "execution_count": null,
   "metadata": {},
   "outputs": [],
   "source": []
  },
  {
   "cell_type": "code",
   "execution_count": null,
   "metadata": {},
   "outputs": [],
   "source": []
  },
  {
   "cell_type": "code",
   "execution_count": null,
   "metadata": {},
   "outputs": [],
   "source": []
  },
  {
   "cell_type": "code",
   "execution_count": null,
   "metadata": {},
   "outputs": [],
   "source": []
  },
  {
   "cell_type": "code",
   "execution_count": null,
   "metadata": {},
   "outputs": [],
   "source": []
  },
  {
   "cell_type": "markdown",
   "metadata": {},
   "source": [
    "## Algoritmos"
   ]
  },
  {
   "cell_type": "markdown",
   "metadata": {},
   "source": [
    "### Algoritmos de búsqueda"
   ]
  },
  {
   "cell_type": "code",
   "execution_count": null,
   "metadata": {},
   "outputs": [],
   "source": []
  },
  {
   "cell_type": "markdown",
   "metadata": {},
   "source": [
    "### Algoritmos de ordenamiento"
   ]
  },
  {
   "cell_type": "code",
   "execution_count": null,
   "metadata": {},
   "outputs": [],
   "source": []
  },
  {
   "cell_type": "markdown",
   "metadata": {},
   "source": [
    "## **Fin Notebook**"
   ]
  }
 ],
 "metadata": {
  "kernelspec": {
   "display_name": "Python 3",
   "language": "python",
   "name": "python3"
  },
  "language_info": {
   "codemirror_mode": {
    "name": "ipython",
    "version": 3
   },
   "file_extension": ".py",
   "mimetype": "text/x-python",
   "name": "python",
   "nbconvert_exporter": "python",
   "pygments_lexer": "ipython3",
   "version": "3.11.1"
  }
 },
 "nbformat": 4,
 "nbformat_minor": 2
}
