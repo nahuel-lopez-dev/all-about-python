{
  "cells": [
    {
      "cell_type": "markdown",
      "metadata": {
        "id": "l7OjyiSgz4GM"
      },
      "source": [
        "## Funciones principales"
      ]
    },
    {
      "cell_type": "code",
      "execution_count": null,
      "metadata": {
        "id": "ZfuqoJZZYTOj"
      },
      "outputs": [],
      "source": [
        "# Imports\n",
        "import pandas as pd\n",
        "import numpy as np"
      ]
    },
    {
      "cell_type": "markdown",
      "metadata": {
        "id": "h4vfHIVTa213"
      },
      "source": [
        "### Creando series"
      ]
    },
    {
      "cell_type": "code",
      "execution_count": null,
      "metadata": {
        "colab": {
          "base_uri": "https://localhost:8080/"
        },
        "id": "gBg0lHHqYdAf",
        "outputId": "6270040b-f31a-4447-a2c1-33e4faf4a170"
      },
      "outputs": [
        {
          "name": "stdout",
          "output_type": "stream",
          "text": [
            "0     Matemáticas\n",
            "1        Historia\n",
            "2        Economía\n",
            "3    Programación\n",
            "4          Inglés\n",
            "dtype: string\n"
          ]
        }
      ],
      "source": [
        "\n",
        "import pandas as pd\n",
        "s = pd.Series(['Matemáticas', 'Historia', 'Economía', 'Programación', 'Inglés'], dtype='string')\n",
        "print(s)"
      ]
    },
    {
      "cell_type": "code",
      "execution_count": null,
      "metadata": {
        "colab": {
          "base_uri": "https://localhost:8080/"
        },
        "id": "6X9Pa5ugF2Mg",
        "outputId": "e0c08432-d2a2-4535-a7af-0beddf9806a5"
      },
      "outputs": [
        {
          "name": "stdout",
          "output_type": "stream",
          "text": [
            "Matemáticas     6.0\n",
            "Economía        4.5\n",
            "Programación    8.5\n",
            "dtype: float64\n"
          ]
        }
      ],
      "source": [
        "import pandas as pd\n",
        "s = pd.Series({'Matemáticas': 6.0,  'Economía': 4.5, 'Programación': 8.5})\n",
        "print(s)"
      ]
    },
    {
      "cell_type": "markdown",
      "metadata": {
        "id": "4PaZ7VITF-A0"
      },
      "source": [
        "### Atributos de una serie"
      ]
    },
    {
      "cell_type": "code",
      "execution_count": null,
      "metadata": {
        "id": "ej2Wqpz5F8JU"
      },
      "outputs": [],
      "source": [
        "s = pd.Series([1, 2, 2, 3, 3, 3, 4, 4, 4, 4])\n",
        "\n",
        "print(s.size)\n",
        "print(s.index)\n",
        "print(s.dtype)"
      ]
    },
    {
      "cell_type": "markdown",
      "metadata": {
        "id": "9eyT0kzoGOqO"
      },
      "source": [
        "### Accediendo a los datos de una serie"
      ]
    },
    {
      "cell_type": "code",
      "execution_count": null,
      "metadata": {
        "colab": {
          "base_uri": "https://localhost:8080/"
        },
        "id": "bkUBZnzLGaO4",
        "outputId": "8a02e570-7ea7-4fe1-892c-abff4d958d4d"
      },
      "outputs": [
        {
          "name": "stdout",
          "output_type": "stream",
          "text": [
            "Economía        4.5\n",
            "Programación    8.5\n",
            "dtype: float64\n",
            "4.5\n",
            "Programación    8.5\n",
            "Matemáticas     6.0\n",
            "dtype: float64\n"
          ]
        }
      ],
      "source": [
        "s = pd.Series({'Matemáticas': 6.0,  'Economía': 4.5, 'Programación': 8.5})\n",
        "\n",
        "print(s[1:3])\n",
        "# Economía        4.5\n",
        "# Programación    8.5\n",
        "# dtype: float64\n",
        "\n",
        "print(s['Economía'])\n",
        "#4.5\n",
        "\n",
        "print(s[['Programación', 'Matemáticas']])\n",
        "# Programación    8.5\n",
        "# Matemáticas     6.0\n",
        "# dtype: float64"
      ]
    },
    {
      "cell_type": "markdown",
      "metadata": {
        "id": "Of9MbXUVGvYS"
      },
      "source": [
        "### Operaciones con series"
      ]
    },
    {
      "cell_type": "code",
      "execution_count": null,
      "metadata": {
        "id": "Z1caBg2MGybd"
      },
      "outputs": [],
      "source": [
        "\n",
        "s = pd.Series([1, 2, 3, 4])\n",
        "print(s * 2)\n",
        "# 0    2\n",
        "# 1    4\n",
        "# 2    6\n",
        "# 3    8\n",
        "# dtype: int64\n",
        "\n",
        "print(s % 2)\n",
        "# 0    1\n",
        "# 1    0\n",
        "# 2    1\n",
        "# 3    0\n",
        "# dtype: int64\n",
        "\n",
        "s = pd.Series(['a', 'b', 'c'])\n",
        "print(s * 5)\n",
        "# 0    aaaaa\n",
        "# 1    bbbbb\n",
        "# 2    ccccc\n",
        "# dtype: object"
      ]
    },
    {
      "cell_type": "code",
      "execution_count": null,
      "metadata": {
        "id": "xGkEeVBpHCCm"
      },
      "outputs": [],
      "source": [
        "import pandas as pd\n",
        "from math import log\n",
        "\n",
        "s = pd.Series([1, 2, 3, 4])\n",
        "print(s.apply(log))\n",
        "# 0    0.000000\n",
        "# 1    0.693147\n",
        "# 2    1.098612\n",
        "# 3    1.386294\n",
        "# dtype: float64\n",
        "\n",
        "s = pd.Series(['a', 'b', 'c'])\n",
        "print(s.apply(str.upper))\n",
        "# 0    A\n",
        "# 1    B\n",
        "# 2    C\n",
        "# dtype: object"
      ]
    },
    {
      "cell_type": "markdown",
      "metadata": {
        "id": "GqwfYeneHNWU"
      },
      "source": [
        "### Filtrar elementos de una serie"
      ]
    },
    {
      "cell_type": "code",
      "execution_count": null,
      "metadata": {
        "id": "tNLSe5OYHQeB"
      },
      "outputs": [],
      "source": [
        "s = pd.Series({'Matemáticas': 6.0,  'Economía': 4.5, 'Programación': 8.5})\n",
        "print(s[s > 5])\n",
        "# Matemáticas     6.0\n",
        "# Programación    8.5\n",
        "# dtype: float64"
      ]
    },
    {
      "cell_type": "markdown",
      "metadata": {
        "id": "tj-T9UfIHe6P"
      },
      "source": [
        "### Ordenar una serie"
      ]
    },
    {
      "cell_type": "code",
      "execution_count": null,
      "metadata": {
        "id": "Y7HOYYVVHeBx"
      },
      "outputs": [],
      "source": [
        "s = pd.Series({'Matemáticas': 6.0,  'Economía': 4.5, 'Programación': 8.5})\n",
        "\n",
        "print(s.sort_values())\n",
        "# Economía        4.5\n",
        "# Matemáticas     6.0\n",
        "# Programación    8.5\n",
        "# dtype: float64\n",
        "\n",
        "print(s.sort_index(ascending = False))\n",
        "# Programación    8.5\n",
        "# Matemáticas     6.0\n",
        "# Economía        4.5\n",
        "# dtype: float64"
      ]
    },
    {
      "cell_type": "markdown",
      "metadata": {
        "id": "lun97ZFhH_XZ"
      },
      "source": [
        "### Crear un DataFrame"
      ]
    },
    {
      "cell_type": "code",
      "execution_count": null,
      "metadata": {
        "colab": {
          "base_uri": "https://localhost:8080/"
        },
        "id": "JwSachjWIBHI",
        "outputId": "c8b86e86-acd5-40bb-8e5b-935ee9cd00bf"
      },
      "outputs": [
        {
          "name": "stdout",
          "output_type": "stream",
          "text": [
            "    nombre  edad         grado             correo\n",
            "0    María    18      Economía    maria@gmail.com\n",
            "1     Luis    22      Medicina      luis@yahoo.es\n",
            "2   Carmen    20  Arquitectura   carmen@gmail.com\n",
            "3  Antonio    21      Economía  antonio@gmail.com\n"
          ]
        }
      ],
      "source": [
        "datos = {'nombre':['María', 'Luis', 'Carmen', 'Antonio'],\n",
        "         'edad':[18, 22, 20, 21],\n",
        "         'grado':['Economía', 'Medicina', 'Arquitectura', 'Economía'],\n",
        "         'correo':['maria@gmail.com', 'luis@yahoo.es', 'carmen@gmail.com', 'antonio@gmail.com']\n",
        "         }\n",
        "df = pd.DataFrame(datos)\n",
        "print(df)\n",
        "#     nombre  edad         grado             correo\n",
        "# 0    María    18      Economía    maria@gmail.com\n",
        "# 1     Luis    22      Medicina      luis@yahoo.es\n",
        "# 2   Carmen    20  Arquitectura   carmen@gmail.com\n",
        "# 3  Antonio    21      Economía  antonio@gmail.com"
      ]
    },
    {
      "cell_type": "code",
      "execution_count": null,
      "metadata": {
        "id": "xlg1Ope1ITv2"
      },
      "outputs": [],
      "source": [
        "df = pd.DataFrame([['María', 18], ['Luis', 22], ['Carmen', 20]], columns=['Nombre', 'Edad'])\n",
        "print(df)\n",
        "#    Nombre   Edad\n",
        "# 0   María     18\n",
        "# 1    Luis     22\n",
        "# 2  Carmen     20"
      ]
    },
    {
      "cell_type": "code",
      "execution_count": null,
      "metadata": {
        "id": "vf-pVvzhIdtZ"
      },
      "outputs": [],
      "source": [
        "df = pd.DataFrame(np.random.randn(4, 3), columns=['a', 'b', 'c'])\n",
        "print(df)\n",
        "#           a         b         c\n",
        "# 0 -1.408238  0.644706  1.077434\n",
        "# 1 -0.279264 -0.249229  1.019137\n",
        "# 2 -0.805470 -0.629498  0.935066\n",
        "# 3  0.236936 -0.431673 -0.177379"
      ]
    },
    {
      "cell_type": "markdown",
      "metadata": {
        "id": "XhVOSoFSIkcU"
      },
      "source": [
        "### Importar y exportar ficheros"
      ]
    },
    {
      "cell_type": "code",
      "execution_count": null,
      "metadata": {
        "colab": {
          "base_uri": "https://localhost:8080/"
        },
        "id": "-fb3DgVXIjyK",
        "outputId": "d0dabb32-04ef-4aed-a750-7d4d2ec72107"
      },
      "outputs": [
        {
          "name": "stdout",
          "output_type": "stream",
          "text": [
            "                         nombre  edad sexo  peso  altura  colesterol\n",
            "0  José Luis Martínez Izquierdo    18    H  85.0    1.79       182.0\n",
            "1                Rosa Díaz Díaz    32    M  65.0    1.73       232.0\n",
            "2         Javier García Sánchez    24    H   NaN    1.81       191.0\n",
            "3           Carmen López Pinzón    35    M  65.0    1.70       200.0\n",
            "4          Marisa López Collado    46    M  51.0    1.58       148.0\n"
          ]
        }
      ],
      "source": [
        "df = pd.read_csv(\n",
        "'https://raw.githubusercontent.com/asalber/manual-python/master/datos/colesteroles.csv', sep=';', decimal=',')\n",
        "print(df.head())\n",
        "#                               nombre  edad sexo    peso    altura  colesterol\n",
        "# 0       José Luis Martínez Izquierdo    18    H    85.0    1.79         182.0\n",
        "# 1                     Rosa Díaz Díaz    32    M    65.0    1.73         232.0\n",
        "# 2              Javier García Sánchez    24    H     NaN    1.81         191.0\n",
        "# 3                Carmen López Pinzón    35    M    65.0    1.70         200.0\n",
        "# 4               Marisa López Collado    46    M    51.0    1.58         148.0"
      ]
    },
    {
      "cell_type": "markdown",
      "metadata": {
        "id": "3dM2Ufj1qMNe"
      },
      "source": [
        "### Atributos de un DataFrame"
      ]
    },
    {
      "cell_type": "code",
      "execution_count": null,
      "metadata": {
        "colab": {
          "base_uri": "https://localhost:8080/"
        },
        "id": "vd3bwFrVqORx",
        "outputId": "a31aea40-c921-486b-9aa9-97a044aeccef"
      },
      "outputs": [
        {
          "name": "stdout",
          "output_type": "stream",
          "text": [
            "<class 'pandas.core.frame.DataFrame'>\n",
            "RangeIndex: 14 entries, 0 to 13\n",
            "Data columns (total 6 columns):\n",
            " #   Column      Non-Null Count  Dtype  \n",
            "---  ------      --------------  -----  \n",
            " 0   nombre      14 non-null     object \n",
            " 1   edad        14 non-null     int64  \n",
            " 2   sexo        14 non-null     object \n",
            " 3   peso        13 non-null     float64\n",
            " 4   altura      14 non-null     float64\n",
            " 5   colesterol  13 non-null     float64\n",
            "dtypes: float64(3), int64(1), object(2)\n",
            "memory usage: 800.0+ bytes\n",
            "None\n",
            "(14, 6)\n",
            "84\n",
            "Index(['nombre', 'edad', 'sexo', 'peso', 'altura', 'colesterol'], dtype='object')\n",
            "RangeIndex(start=0, stop=14, step=1)\n",
            "nombre         object\n",
            "edad            int64\n",
            "sexo           object\n",
            "peso          float64\n",
            "altura        float64\n",
            "colesterol    float64\n",
            "dtype: object\n",
            "                         nombre  edad sexo  peso  altura  colesterol\n",
            "0  José Luis Martínez Izquierdo    18    H  85.0    1.79       182.0\n",
            "1                Rosa Díaz Díaz    32    M  65.0    1.73       232.0\n",
            "2         Javier García Sánchez    24    H   NaN    1.81       191.0\n",
            "3           Carmen López Pinzón    35    M  65.0    1.70       200.0\n",
            "4          Marisa López Collado    46    M  51.0    1.58       148.0\n"
          ]
        }
      ],
      "source": [
        "print(df.info())\n",
        "\n",
        "print(df.shape)\n",
        "\n",
        "print(df.size)\n",
        "\n",
        "print(df.columns)\n",
        "\n",
        "print(df.index)\n",
        "\n",
        "print(df.dtypes)\n",
        "\n",
        "print(df.head(5))\n"
      ]
    },
    {
      "cell_type": "markdown",
      "metadata": {
        "id": "4jspbyRIqpHO"
      },
      "source": [
        "### Renombrar columnas y filas"
      ]
    },
    {
      "cell_type": "code",
      "execution_count": null,
      "metadata": {
        "colab": {
          "base_uri": "https://localhost:8080/"
        },
        "id": "Mvmk5i6fqr6r",
        "outputId": "1c1ff721-ab74-44bb-d7b0-ead69dfbe442"
      },
      "outputs": [
        {
          "name": "stdout",
          "output_type": "stream",
          "text": [
            "                   nombre y apellidos  edad sexo   peso  estatura  colesterol\n",
            "1000     José Luis Martínez Izquierdo    18    H   85.0      1.79       182.0\n",
            "1001                   Rosa Díaz Díaz    32    M   65.0      1.73       232.0\n",
            "1002            Javier García Sánchez    24    H    NaN      1.81       191.0\n",
            "3                 Carmen López Pinzón    35    M   65.0      1.70       200.0\n",
            "4                Marisa López Collado    46    M   51.0      1.58       148.0\n",
            "5                   Antonio Ruiz Cruz    68    H   66.0      1.74       249.0\n",
            "6             Antonio Fernández Ocaña    51    H   62.0      1.72       276.0\n",
            "7               Pilar Martín González    22    M   60.0      1.66         NaN\n",
            "8                Pedro Gálvez Tenorio    35    H   90.0      1.94       241.0\n",
            "9             Santiago Reillo Manzano    46    H   75.0      1.85       280.0\n",
            "10              Macarena Álvarez Luna    53    M   55.0      1.62       262.0\n",
            "11         José María de la Guía Sanz    58    H   78.0      1.87       198.0\n",
            "12    Miguel Angel Cuadrado Gutiérrez    27    H  109.0      1.98       210.0\n",
            "13              Carolina Rubio Moreno    20    M   61.0      1.77       194.0\n"
          ]
        }
      ],
      "source": [
        "df = pd.read_csv('https://raw.githubusercontent.com/asalber/manual-python/master/datos/colesterol.csv')\n",
        "\n",
        "\n",
        "print(df.rename(columns={'nombre':'nombre y apellidos', 'altura':'estatura'}, index={0:1000, 1:1001, 2:1002}))"
      ]
    },
    {
      "cell_type": "markdown",
      "metadata": {
        "id": "vuTh1-khJCmV"
      },
      "source": [
        "### Acceder a datos de un DataFrame"
      ]
    },
    {
      "cell_type": "code",
      "execution_count": null,
      "metadata": {
        "colab": {
          "base_uri": "https://localhost:8080/"
        },
        "id": "y2hpulkTI0kI",
        "outputId": "61e57231-0779-4412-a197-9b6105c38f7f"
      },
      "outputs": [
        {
          "name": "stdout",
          "output_type": "stream",
          "text": [
            "                             nombre  edad sexo   peso  altura  colesterol\n",
            "0      José Luis Martínez Izquierdo    18    H   85.0    1.79       182.0\n",
            "1                    Rosa Díaz Díaz    32    M   65.0    1.73       232.0\n",
            "2             Javier García Sánchez    24    H    NaN    1.81       191.0\n",
            "3               Carmen López Pinzón    35    M   65.0    1.70       200.0\n",
            "4              Marisa López Collado    46    M   51.0    1.58       148.0\n",
            "5                 Antonio Ruiz Cruz    68    H   66.0    1.74       249.0\n",
            "6           Antonio Fernández Ocaña    51    H   62.0    1.72       276.0\n",
            "7             Pilar Martín González    22    M   60.0    1.66         NaN\n",
            "8              Pedro Gálvez Tenorio    35    H   90.0    1.94       241.0\n",
            "9           Santiago Reillo Manzano    46    H   75.0    1.85       280.0\n",
            "10            Macarena Álvarez Luna    53    M   55.0    1.62       262.0\n",
            "11       José María de la Guía Sanz    58    H   78.0    1.87       198.0\n",
            "12  Miguel Angel Cuadrado Gutiérrez    27    H  109.0    1.98       210.0\n",
            "13            Carolina Rubio Moreno    20    M   61.0    1.77       194.0\n",
            "65.0\n",
            "nombre    Rosa Díaz Díaz\n",
            "edad                  32\n",
            "Name: 1, dtype: object\n"
          ]
        }
      ],
      "source": [
        "df = pd.read_csv('https://raw.githubusercontent.com/asalber/manual-python/master/datos/colesterol.csv')\n",
        "print(df)\n",
        "\n",
        "print(df.iloc[1, 3])\n",
        "# 65\n",
        "\n",
        "print(df.iloc[1, :2])\n",
        "# nombre     Rosa Díaz Díaz\n",
        "# edad                   32"
      ]
    },
    {
      "cell_type": "code",
      "execution_count": null,
      "metadata": {
        "colab": {
          "base_uri": "https://localhost:8080/"
        },
        "id": "Y3HlMJJLJJE5",
        "outputId": "580f7280-a86b-4562-82fd-be9585d13eb1"
      },
      "outputs": [
        {
          "name": "stdout",
          "output_type": "stream",
          "text": [
            "191.0\n",
            "   colesterol  peso\n",
            "0       182.0  85.0\n",
            "1       232.0  65.0\n",
            "2       191.0   NaN\n",
            "3       200.0  65.0\n",
            "0     182.0\n",
            "1     232.0\n",
            "2     191.0\n",
            "3     200.0\n",
            "4     148.0\n",
            "5     249.0\n",
            "6     276.0\n",
            "7       NaN\n",
            "8     241.0\n",
            "9     280.0\n",
            "10    262.0\n",
            "11    198.0\n",
            "12    210.0\n",
            "13    194.0\n",
            "Name: colesterol, dtype: float64\n",
            "    colesterol   peso\n",
            "0        182.0   85.0\n",
            "1        232.0   65.0\n",
            "2        191.0    NaN\n",
            "3        200.0   65.0\n",
            "4        148.0   51.0\n",
            "5        249.0   66.0\n",
            "6        276.0   62.0\n",
            "7          NaN   60.0\n",
            "8        241.0   90.0\n",
            "9        280.0   75.0\n",
            "10       262.0   55.0\n",
            "11       198.0   78.0\n",
            "12       210.0  109.0\n",
            "13       194.0   61.0\n"
          ]
        }
      ],
      "source": [
        "df = pd.read_csv('https://raw.githubusercontent.com/asalber/manual-python/master/datos/colesterol.csv')\n",
        "print(df.loc[2, 'colesterol'])\n",
        "# 191\n",
        "\n",
        "print(df.loc[:3, ('colesterol','peso')])\n",
        "#      colesterol    peso\n",
        "# 1         232.0    65.0\n",
        "# 2         191.0     NaN\n",
        "# 3         200.0    65.0\n",
        "print(df['colesterol'])\n",
        "# 0     182.0\n",
        "# 1     232.0\n",
        "# 2     191.0\n",
        "# 3     200.0\n",
        "\n",
        "print(df[['colesterol','peso']])"
      ]
    },
    {
      "cell_type": "markdown",
      "metadata": {
        "id": "bRtwWRZjrjb0"
      },
      "source": [
        "### Añadir columnas a un DataFrame"
      ]
    },
    {
      "cell_type": "code",
      "execution_count": null,
      "metadata": {
        "colab": {
          "base_uri": "https://localhost:8080/"
        },
        "id": "JVFLFJhhroFs",
        "outputId": "90da7824-e1fc-41ef-c794-edd383f5af07"
      },
      "outputs": [
        {
          "name": "stdout",
          "output_type": "stream",
          "text": [
            "                             nombre  edad sexo   peso  altura  colesterol  \\\n",
            "0      José Luis Martínez Izquierdo    18    H   85.0    1.79       182.0   \n",
            "1                    Rosa Díaz Díaz    32    M   65.0    1.73       232.0   \n",
            "2             Javier García Sánchez    24    H    NaN    1.81       191.0   \n",
            "3               Carmen López Pinzón    35    M   65.0    1.70       200.0   \n",
            "4              Marisa López Collado    46    M   51.0    1.58       148.0   \n",
            "5                 Antonio Ruiz Cruz    68    H   66.0    1.74       249.0   \n",
            "6           Antonio Fernández Ocaña    51    H   62.0    1.72       276.0   \n",
            "7             Pilar Martín González    22    M   60.0    1.66         NaN   \n",
            "8              Pedro Gálvez Tenorio    35    H   90.0    1.94       241.0   \n",
            "9           Santiago Reillo Manzano    46    H   75.0    1.85       280.0   \n",
            "10            Macarena Álvarez Luna    53    M   55.0    1.62       262.0   \n",
            "11       José María de la Guía Sanz    58    H   78.0    1.87       198.0   \n",
            "12  Miguel Angel Cuadrado Gutiérrez    27    H  109.0    1.98       210.0   \n",
            "13            Carolina Rubio Moreno    20    M   61.0    1.77       194.0   \n",
            "\n",
            "   diabetes diabetes2  diabetes3  \n",
            "0     False     False        NaN  \n",
            "1     False     False        NaN  \n",
            "2      True      True        NaN  \n",
            "3     False     False        NaN  \n",
            "4      True      True        NaN  \n",
            "5       NaN       NaN        NaN  \n",
            "6       NaN       NaN        NaN  \n",
            "7       NaN       NaN        NaN  \n",
            "8       NaN       NaN        NaN  \n",
            "9       NaN       NaN        NaN  \n",
            "10      NaN       NaN        NaN  \n",
            "11      NaN       NaN        NaN  \n",
            "12      NaN       NaN        NaN  \n",
            "13      NaN       NaN        NaN  \n"
          ]
        },
        {
          "name": "stderr",
          "output_type": "stream",
          "text": [
            "<ipython-input-12-f24cd5bc7b70>:1: FutureWarning: The default dtype for empty Series will be 'object' instead of 'float64' in a future version. Specify a dtype explicitly to silence this warning.\n",
            "  df['diabetes3'] = pd.Series([])\n"
          ]
        }
      ],
      "source": [
        "df['diabetes3'] = pd.Series([])\n",
        "print(df)"
      ]
    },
    {
      "cell_type": "code",
      "execution_count": null,
      "metadata": {
        "colab": {
          "base_uri": "https://localhost:8080/"
        },
        "id": "bQB6bE4HsHWO",
        "outputId": "4b094ce9-f981-4555-a64d-fe00c3399e78"
      },
      "outputs": [
        {
          "name": "stdout",
          "output_type": "stream",
          "text": [
            "  Nombre  Edad Profesión2\n",
            "0   Juan    25  Ingeniero\n",
            "1  María    30    Abogada\n",
            "2  Pedro    35     Doctor\n"
          ]
        }
      ],
      "source": [
        "# Crear un DataFrame de ejemplo\n",
        "data = {'Nombre': ['Juan', 'María', 'Pedro'],\n",
        "        'Edad': [25, 30, 35]}\n",
        "df = pd.DataFrame(data)\n",
        "\n",
        "# Agregar una nueva columna al DataFrame\n",
        "df['Profesión2'] = ['Ingeniero', 'Abogada', 'Doctor']\n",
        "\n",
        "## Esto saldra error\n",
        "## df['Profesión2'] = ['Ingeniero', 'Abogada']\n",
        "\n",
        "print(df)"
      ]
    },
    {
      "cell_type": "markdown",
      "metadata": {
        "id": "q7t2W9sOsY0d"
      },
      "source": [
        "### Operaciones sobre columnas"
      ]
    },
    {
      "cell_type": "code",
      "execution_count": null,
      "metadata": {
        "colab": {
          "base_uri": "https://localhost:8080/"
        },
        "id": "RjpMLRtKsb3r",
        "outputId": "34462594-0424-4c92-a713-040a64af300c"
      },
      "outputs": [
        {
          "name": "stdout",
          "output_type": "stream",
          "text": [
            "                             nombre  edad sexo   peso  altura  colesterol  \\\n",
            "0      José Luis Martínez Izquierdo    18    H   85.0    1.79       182.0   \n",
            "1                    Rosa Díaz Díaz    32    M   65.0    1.73       232.0   \n",
            "2             Javier García Sánchez    24    H    NaN    1.81       191.0   \n",
            "3               Carmen López Pinzón    35    M   65.0    1.70       200.0   \n",
            "4              Marisa López Collado    46    M   51.0    1.58       148.0   \n",
            "5                 Antonio Ruiz Cruz    68    H   66.0    1.74       249.0   \n",
            "6           Antonio Fernández Ocaña    51    H   62.0    1.72       276.0   \n",
            "7             Pilar Martín González    22    M   60.0    1.66         NaN   \n",
            "8              Pedro Gálvez Tenorio    35    H   90.0    1.94       241.0   \n",
            "9           Santiago Reillo Manzano    46    H   75.0    1.85       280.0   \n",
            "10            Macarena Álvarez Luna    53    M   55.0    1.62       262.0   \n",
            "11       José María de la Guía Sanz    58    H   78.0    1.87       198.0   \n",
            "12  Miguel Angel Cuadrado Gutiérrez    27    H  109.0    1.98       210.0   \n",
            "13            Carolina Rubio Moreno    20    M   61.0    1.77       194.0   \n",
            "\n",
            "    new_altura  sexo_M  \n",
            "0        179.0   False  \n",
            "1        173.0    True  \n",
            "2        181.0   False  \n",
            "3        170.0    True  \n",
            "4        158.0    True  \n",
            "5        174.0   False  \n",
            "6        172.0   False  \n",
            "7        166.0    True  \n",
            "8        194.0   False  \n",
            "9        185.0   False  \n",
            "10       162.0    True  \n",
            "11       187.0   False  \n",
            "12       198.0   False  \n",
            "13       177.0    True  \n"
          ]
        }
      ],
      "source": [
        "df = pd.read_csv('https://raw.githubusercontent.com/asalber/manual-python/master/datos/colesterol.csv')\n",
        "\n",
        "df['new_altura'] = df['altura']*100\n",
        "\n",
        "df['sexo_M'] = df['sexo']=='M'\n",
        "print(df)"
      ]
    },
    {
      "cell_type": "code",
      "execution_count": null,
      "metadata": {
        "colab": {
          "base_uri": "https://localhost:8080/"
        },
        "id": "Af75E_Nps58E",
        "outputId": "2312fe6c-d5a5-4d87-c1da-bc6bef26f223"
      },
      "outputs": [
        {
          "name": "stdout",
          "output_type": "stream",
          "text": [
            "                             nombre  edad sexo   peso  altura  colesterol  \\\n",
            "0      José Luis Martínez Izquierdo    18    H   85.0    1.79       182.0   \n",
            "1                    Rosa Díaz Díaz    32    M   65.0    1.73       232.0   \n",
            "2             Javier García Sánchez    24    H    NaN    1.81       191.0   \n",
            "3               Carmen López Pinzón    35    M   65.0    1.70       200.0   \n",
            "4              Marisa López Collado    46    M   51.0    1.58       148.0   \n",
            "5                 Antonio Ruiz Cruz    68    H   66.0    1.74       249.0   \n",
            "6           Antonio Fernández Ocaña    51    H   62.0    1.72       276.0   \n",
            "7             Pilar Martín González    22    M   60.0    1.66         NaN   \n",
            "8              Pedro Gálvez Tenorio    35    H   90.0    1.94       241.0   \n",
            "9           Santiago Reillo Manzano    46    H   75.0    1.85       280.0   \n",
            "10            Macarena Álvarez Luna    53    M   55.0    1.62       262.0   \n",
            "11       José María de la Guía Sanz    58    H   78.0    1.87       198.0   \n",
            "12  Miguel Angel Cuadrado Gutiérrez    27    H  109.0    1.98       210.0   \n",
            "13            Carolina Rubio Moreno    20    M   61.0    1.77       194.0   \n",
            "\n",
            "    log altura  \n",
            "0     0.582216  \n",
            "1     0.548121  \n",
            "2     0.593327  \n",
            "3     0.530628  \n",
            "4     0.457425  \n",
            "5     0.553885  \n",
            "6     0.542324  \n",
            "7     0.506818  \n",
            "8     0.662688  \n",
            "9     0.615186  \n",
            "10    0.482426  \n",
            "11    0.625938  \n",
            "12    0.683097  \n",
            "13    0.570980  \n"
          ]
        }
      ],
      "source": [
        "from math import log\n",
        "df = pd.read_csv('https://raw.githubusercontent.com/asalber/manual-python/master/datos/colesterol.csv')\n",
        "\n",
        "df['log altura'] = df['altura'].apply(log)\n",
        "print(df)"
      ]
    },
    {
      "cell_type": "code",
      "execution_count": null,
      "metadata": {
        "colab": {
          "base_uri": "https://localhost:8080/"
        },
        "id": "a9oe5IpTtZHY",
        "outputId": "0869d41a-4dc2-4085-f5e3-ddf58f5f80eb"
      },
      "outputs": [
        {
          "name": "stdout",
          "output_type": "stream",
          "text": [
            "0   2000-03-05\n",
            "1   2001-05-20\n",
            "2   1999-12-10\n",
            "Name: Nacimiento, dtype: datetime64[ns]\n"
          ]
        }
      ],
      "source": [
        "df = pd.DataFrame({'Name': ['María', 'Carlos', 'Carmen'], 'Nacimiento':['05-03-2000', '20-05-2001', '10-12-1999']})\n",
        "\n",
        "print(pd.to_datetime(df.Nacimiento, format = '%d-%m-%Y'))"
      ]
    },
    {
      "cell_type": "markdown",
      "metadata": {
        "id": "P6tOV-dxtjMe"
      },
      "source": [
        "### Resumen descriptivo"
      ]
    },
    {
      "cell_type": "code",
      "execution_count": null,
      "metadata": {
        "id": "1GqIOj9btkzl"
      },
      "outputs": [],
      "source": [
        "df = pd.read_csv('https://raw.githubusercontent.com/asalber/manual-python/master/datos/colesterol.csv')\n",
        "\n",
        "print(df.count())\n",
        "\n",
        "print(df.sum())\n",
        "\n",
        "print(df.max())\n",
        "\n",
        "print(df.mean())\n",
        "\n",
        "print(df.describe())"
      ]
    },
    {
      "cell_type": "markdown",
      "metadata": {
        "id": "h8aBE9Tbt6Op"
      },
      "source": [
        "### Eliminar columnas de un DataFrame"
      ]
    },
    {
      "cell_type": "code",
      "execution_count": null,
      "metadata": {
        "colab": {
          "base_uri": "https://localhost:8080/"
        },
        "id": "16KqYlpBuBLt",
        "outputId": "6866c4c1-1fd5-48a8-aa3d-8a09bbe52877"
      },
      "outputs": [
        {
          "name": "stdout",
          "output_type": "stream",
          "text": [
            "                             nombre  edad sexo   peso  altura  colesterol\n",
            "0      José Luis Martínez Izquierdo    18    H   85.0    1.79       182.0\n",
            "1                    Rosa Díaz Díaz    32    M   65.0    1.73       232.0\n",
            "2             Javier García Sánchez    24    H    NaN    1.81       191.0\n",
            "3               Carmen López Pinzón    35    M   65.0    1.70       200.0\n",
            "4              Marisa López Collado    46    M   51.0    1.58       148.0\n",
            "5                 Antonio Ruiz Cruz    68    H   66.0    1.74       249.0\n",
            "6           Antonio Fernández Ocaña    51    H   62.0    1.72       276.0\n",
            "7             Pilar Martín González    22    M   60.0    1.66         NaN\n",
            "8              Pedro Gálvez Tenorio    35    H   90.0    1.94       241.0\n",
            "9           Santiago Reillo Manzano    46    H   75.0    1.85       280.0\n",
            "10            Macarena Álvarez Luna    53    M   55.0    1.62       262.0\n",
            "11       José María de la Guía Sanz    58    H   78.0    1.87       198.0\n",
            "12  Miguel Angel Cuadrado Gutiérrez    27    H  109.0    1.98       210.0\n",
            "13            Carolina Rubio Moreno    20    M   61.0    1.77       194.0\n",
            "                             nombre sexo   peso  altura  colesterol\n",
            "0      José Luis Martínez Izquierdo    H   85.0    1.79       182.0\n",
            "1                    Rosa Díaz Díaz    M   65.0    1.73       232.0\n",
            "2             Javier García Sánchez    H    NaN    1.81       191.0\n",
            "3               Carmen López Pinzón    M   65.0    1.70       200.0\n",
            "4              Marisa López Collado    M   51.0    1.58       148.0\n",
            "5                 Antonio Ruiz Cruz    H   66.0    1.74       249.0\n",
            "6           Antonio Fernández Ocaña    H   62.0    1.72       276.0\n",
            "7             Pilar Martín González    M   60.0    1.66         NaN\n",
            "8              Pedro Gálvez Tenorio    H   90.0    1.94       241.0\n",
            "9           Santiago Reillo Manzano    H   75.0    1.85       280.0\n",
            "10            Macarena Álvarez Luna    M   55.0    1.62       262.0\n",
            "11       José María de la Guía Sanz    H   78.0    1.87       198.0\n",
            "12  Miguel Angel Cuadrado Gutiérrez    H  109.0    1.98       210.0\n",
            "13            Carolina Rubio Moreno    M   61.0    1.77       194.0\n"
          ]
        }
      ],
      "source": [
        "df = pd.read_csv('https://raw.githubusercontent.com/asalber/manual-python/master/datos/colesterol.csv')\n",
        "print(df)\n",
        "edad = df.pop('edad')\n",
        "print(df)"
      ]
    },
    {
      "cell_type": "markdown",
      "metadata": {
        "id": "HhZoBlALuLMV"
      },
      "source": [
        "### Añadir una fila a un DataFrame"
      ]
    },
    {
      "cell_type": "code",
      "execution_count": null,
      "metadata": {
        "colab": {
          "base_uri": "https://localhost:8080/"
        },
        "id": "bczIhaCruN3M",
        "outputId": "f009d5c8-d6c9-4660-eb28-037f48e9adca"
      },
      "outputs": [
        {
          "name": "stdout",
          "output_type": "stream",
          "text": [
            "  Nombre  Edad\n",
            "0   Juan    25\n",
            "1  María    30\n",
            "2  Pedro    35\n",
            "3  Luisa    28\n"
          ]
        },
        {
          "name": "stderr",
          "output_type": "stream",
          "text": [
            "<ipython-input-27-45b821c4e72f>:10: FutureWarning: The frame.append method is deprecated and will be removed from pandas in a future version. Use pandas.concat instead.\n",
            "  df = df.append(nueva_fila, ignore_index=True)\n"
          ]
        }
      ],
      "source": [
        "# Crear un DataFrame de ejemplo\n",
        "data = {'Nombre': ['Juan', 'María', 'Pedro'],\n",
        "        'Edad': [25, 30, 35]}\n",
        "df = pd.DataFrame(data)\n",
        "\n",
        "# Crear una nueva fila como un diccionario\n",
        "nueva_fila = {'Nombre': 'Luisa', 'Edad': 28}\n",
        "\n",
        "# Agregar la nueva fila al DataFrame utilizando append()\n",
        "df = df.append(nueva_fila, ignore_index=True)\n",
        "\n",
        "print(df)"
      ]
    },
    {
      "cell_type": "code",
      "execution_count": null,
      "metadata": {
        "colab": {
          "base_uri": "https://localhost:8080/"
        },
        "id": "yda9ICCtuvUl",
        "outputId": "9b20f76e-366c-469c-d968-396754aced08"
      },
      "outputs": [
        {
          "name": "stdout",
          "output_type": "stream",
          "text": [
            "  Nombre  Edad\n",
            "0   Juan    25\n",
            "1  María    30\n",
            "2  Pedro    35\n",
            "3  Luisa    28\n",
            "  Nombre  Edad\n",
            "0   Juan    25\n",
            "1  María    30\n",
            "2  Pedro    35\n",
            "3  Luisa    28\n",
            "4  Luisa    28\n",
            "5  Ernie    30\n"
          ]
        }
      ],
      "source": [
        "import pandas as pd\n",
        "\n",
        "# Crear un DataFrame de ejemplo\n",
        "data = {'Nombre': ['Juan', 'María', 'Pedro'],\n",
        "        'Edad': [25, 30, 35]}\n",
        "df = pd.DataFrame(data)\n",
        "\n",
        "# Crear una nueva fila como un DataFrame separado\n",
        "nueva_fila = pd.DataFrame({'Nombre': ['Luisa'], 'Edad': [28]})\n",
        "\n",
        "# Concatenar el DataFrame original con la nueva fila utilizando concat()\n",
        "df = pd.concat([df, nueva_fila], ignore_index=True)\n",
        "\n",
        "print(df)\n",
        "\n",
        "nueva_fila = pd.DataFrame({'Nombre': ['Luisa','Ernie'], 'Edad': [28,30]})\n",
        "\n",
        "# Concatenar el DataFrame original con la nueva fila utilizando concat()\n",
        "df = pd.concat([df, nueva_fila], ignore_index=True)\n",
        "\n",
        "print(df)"
      ]
    },
    {
      "cell_type": "markdown",
      "metadata": {
        "id": "EkvMBmfIu5Fk"
      },
      "source": [
        "### Eliminar filas de un DataFrame"
      ]
    },
    {
      "cell_type": "code",
      "execution_count": null,
      "metadata": {
        "colab": {
          "base_uri": "https://localhost:8080/"
        },
        "id": "z9Ln7v63u7xe",
        "outputId": "d417bb44-f428-4a5d-c2e5-b954c3ccd0d9"
      },
      "outputs": [
        {
          "name": "stdout",
          "output_type": "stream",
          "text": [
            "                             nombre  edad sexo   peso  altura  colesterol\n",
            "0      José Luis Martínez Izquierdo    18    H   85.0    1.79       182.0\n",
            "1                    Rosa Díaz Díaz    32    M   65.0    1.73       232.0\n",
            "2             Javier García Sánchez    24    H    NaN    1.81       191.0\n",
            "3               Carmen López Pinzón    35    M   65.0    1.70       200.0\n",
            "4              Marisa López Collado    46    M   51.0    1.58       148.0\n",
            "5                 Antonio Ruiz Cruz    68    H   66.0    1.74       249.0\n",
            "6           Antonio Fernández Ocaña    51    H   62.0    1.72       276.0\n",
            "7             Pilar Martín González    22    M   60.0    1.66         NaN\n",
            "8              Pedro Gálvez Tenorio    35    H   90.0    1.94       241.0\n",
            "9           Santiago Reillo Manzano    46    H   75.0    1.85       280.0\n",
            "10            Macarena Álvarez Luna    53    M   55.0    1.62       262.0\n",
            "11       José María de la Guía Sanz    58    H   78.0    1.87       198.0\n",
            "12  Miguel Angel Cuadrado Gutiérrez    27    H  109.0    1.98       210.0\n",
            "13            Carolina Rubio Moreno    20    M   61.0    1.77       194.0\n",
            "                             nombre  edad sexo   peso  altura  colesterol\n",
            "0      José Luis Martínez Izquierdo    18    H   85.0    1.79       182.0\n",
            "2             Javier García Sánchez    24    H    NaN    1.81       191.0\n",
            "4              Marisa López Collado    46    M   51.0    1.58       148.0\n",
            "5                 Antonio Ruiz Cruz    68    H   66.0    1.74       249.0\n",
            "6           Antonio Fernández Ocaña    51    H   62.0    1.72       276.0\n",
            "7             Pilar Martín González    22    M   60.0    1.66         NaN\n",
            "8              Pedro Gálvez Tenorio    35    H   90.0    1.94       241.0\n",
            "9           Santiago Reillo Manzano    46    H   75.0    1.85       280.0\n",
            "10            Macarena Álvarez Luna    53    M   55.0    1.62       262.0\n",
            "11       José María de la Guía Sanz    58    H   78.0    1.87       198.0\n",
            "12  Miguel Angel Cuadrado Gutiérrez    27    H  109.0    1.98       210.0\n",
            "13            Carolina Rubio Moreno    20    M   61.0    1.77       194.0\n"
          ]
        }
      ],
      "source": [
        "df = pd.read_csv('https://raw.githubusercontent.com/asalber/manual-python/master/datos/colesterol.csv')\n",
        "\n",
        "print(df)\n",
        "\n",
        "df = df.drop([1,3])\n",
        "print(df)"
      ]
    },
    {
      "cell_type": "markdown",
      "metadata": {
        "id": "tjyOUypl2NpO"
      },
      "source": [
        "### Filtrar filas de un DataFrame"
      ]
    },
    {
      "cell_type": "code",
      "execution_count": null,
      "metadata": {
        "id": "79WXBGV42Z53"
      },
      "outputs": [],
      "source": [
        "df = pd.read_csv('https://raw.githubusercontent.com/asalber/manual-python/master/datos/colesterol.csv')\n",
        "\n",
        "df_filtrado_1 = df[df['sexo']=='H']\n",
        "print(df_filtrado_1)\n",
        "\n",
        "df_filtrado_2 = df[(df['sexo']=='H') & (df['colesterol'] > 260)]\n",
        "print(df_filtrado_2)"
      ]
    },
    {
      "cell_type": "markdown",
      "metadata": {
        "id": "72jkeeOo3W3q"
      },
      "source": [
        "### Ordenar un DataFrame"
      ]
    },
    {
      "cell_type": "code",
      "execution_count": null,
      "metadata": {
        "colab": {
          "base_uri": "https://localhost:8080/"
        },
        "id": "Ug-jp2U23dwy",
        "outputId": "97d471d3-44d4-4890-c123-03c1c4d546aa"
      },
      "outputs": [
        {
          "name": "stdout",
          "output_type": "stream",
          "text": [
            "                             nombre  edad sexo   peso  altura  colesterol\n",
            "4              Marisa López Collado    46    M   51.0    1.58       148.0\n",
            "0      José Luis Martínez Izquierdo    18    H   85.0    1.79       182.0\n",
            "2             Javier García Sánchez    24    H    NaN    1.81       191.0\n",
            "13            Carolina Rubio Moreno    20    M   61.0    1.77       194.0\n",
            "11       José María de la Guía Sanz    58    H   78.0    1.87       198.0\n",
            "3               Carmen López Pinzón    35    M   65.0    1.70       200.0\n",
            "12  Miguel Angel Cuadrado Gutiérrez    27    H  109.0    1.98       210.0\n",
            "1                    Rosa Díaz Díaz    32    M   65.0    1.73       232.0\n",
            "8              Pedro Gálvez Tenorio    35    H   90.0    1.94       241.0\n",
            "5                 Antonio Ruiz Cruz    68    H   66.0    1.74       249.0\n",
            "10            Macarena Álvarez Luna    53    M   55.0    1.62       262.0\n",
            "6           Antonio Fernández Ocaña    51    H   62.0    1.72       276.0\n",
            "9           Santiago Reillo Manzano    46    H   75.0    1.85       280.0\n",
            "7             Pilar Martín González    22    M   60.0    1.66         NaN\n"
          ]
        }
      ],
      "source": [
        "df = pd.read_csv('https://raw.githubusercontent.com/asalber/manual-python/master/datos/colesterol.csv')\n",
        "print(df.sort_values('colesterol'))"
      ]
    },
    {
      "cell_type": "markdown",
      "metadata": {
        "id": "kxOglODP34Yr"
      },
      "source": [
        "### Limpiar NaN en un DataFrame"
      ]
    },
    {
      "cell_type": "code",
      "execution_count": null,
      "metadata": {
        "id": "THM6CbIm3qju"
      },
      "outputs": [],
      "source": [
        "data = {'A': [1, np.nan, 3, 4],\n",
        "        'B': [5, 6, np.nan, 8],\n",
        "        'C': [9, 10, 11, 12]}\n",
        "\n",
        "df = pd.DataFrame(data)\n",
        "\n",
        "# Eliminar columnas con al menos un valor faltante (any)\n",
        "df_without_na_columns = df.dropna(axis=1)\n",
        "\n",
        "print(df_without_na_columns)"
      ]
    },
    {
      "cell_type": "code",
      "execution_count": null,
      "metadata": {
        "id": "e1P6E_ju4jnn"
      },
      "outputs": [],
      "source": [
        "data = {'A': [1, np.nan, 3, 4],\n",
        "        'B': [5, 6, np.nan, 8],\n",
        "        'C': [9, 10, 11, 12]}\n",
        "\n",
        "df = pd.DataFrame(data)\n",
        "\n",
        "# Eliminar filas con al menos un valor faltante (any)\n",
        "df_without_na_rows = df.dropna(axis=0)\n",
        "\n",
        "print(df_without_na_rows)"
      ]
    },
    {
      "cell_type": "code",
      "execution_count": null,
      "metadata": {
        "id": "tElTb6lJ4udm"
      },
      "outputs": [],
      "source": [
        "data = {'A': [1, np.nan, 3, 4],\n",
        "        'B': [5, 6, np.nan, 8],\n",
        "        'C': [9, 10, 11, 12]}\n",
        "\n",
        "df = pd.DataFrame(data)\n",
        "\n",
        "# Eliminar columnas con todos los valores faltantes (all)\n",
        "df_without_all_na_columns = df.dropna(axis=1, how='all')\n",
        "\n",
        "print(df_without_all_na_columns)"
      ]
    },
    {
      "cell_type": "code",
      "execution_count": null,
      "metadata": {
        "id": "vQvYFT0143a0"
      },
      "outputs": [],
      "source": [
        "data = {'A': [1, np.nan, 3, 4],\n",
        "        'B': [5, 6, np.nan, 8],\n",
        "        'C': [9, 10, 11, 12]}\n",
        "\n",
        "df = pd.DataFrame(data)\n",
        "\n",
        "# Eliminar filas con todos los valores faltantes (all)\n",
        "df_without_all_na_rows = df.dropna(axis=0, how='all')\n",
        "\n",
        "print(df_without_all_na_rows)"
      ]
    },
    {
      "cell_type": "markdown",
      "metadata": {
        "id": "ox40eaiE5D-c"
      },
      "source": [
        "### Agrupar datos de un DataFrame"
      ]
    },
    {
      "cell_type": "code",
      "execution_count": null,
      "metadata": {
        "colab": {
          "base_uri": "https://localhost:8080/"
        },
        "id": "yWLnL2tc5F3z",
        "outputId": "4f39bfc4-0016-49e5-ec65-569cf45da45d"
      },
      "outputs": [
        {
          "name": "stdout",
          "output_type": "stream",
          "text": [
            "                             nombre  edad sexo   peso  altura  colesterol\n",
            "0      José Luis Martínez Izquierdo    18    H   85.0    1.79       182.0\n",
            "1                    Rosa Díaz Díaz    32    M   65.0    1.73       232.0\n",
            "2             Javier García Sánchez    24    H    NaN    1.81       191.0\n",
            "3               Carmen López Pinzón    35    M   65.0    1.70       200.0\n",
            "4              Marisa López Collado    46    M   51.0    1.58       148.0\n",
            "5                 Antonio Ruiz Cruz    68    H   66.0    1.74       249.0\n",
            "6           Antonio Fernández Ocaña    51    H   62.0    1.72       276.0\n",
            "7             Pilar Martín González    22    M   60.0    1.66         NaN\n",
            "8              Pedro Gálvez Tenorio    35    H   90.0    1.94       241.0\n",
            "9           Santiago Reillo Manzano    46    H   75.0    1.85       280.0\n",
            "10            Macarena Álvarez Luna    53    M   55.0    1.62       262.0\n",
            "11       José María de la Guía Sanz    58    H   78.0    1.87       198.0\n",
            "12  Miguel Angel Cuadrado Gutiérrez    27    H  109.0    1.98       210.0\n",
            "13            Carolina Rubio Moreno    20    M   61.0    1.77       194.0\n",
            "{'H': [0, 2, 5, 6, 8, 9, 11, 12], 'M': [1, 3, 4, 7, 10, 13]}\n",
            "                             nombre  edad sexo   peso  altura  colesterol\n",
            "0      José Luis Martínez Izquierdo    18    H   85.0    1.79       182.0\n",
            "2             Javier García Sánchez    24    H    NaN    1.81       191.0\n",
            "5                 Antonio Ruiz Cruz    68    H   66.0    1.74       249.0\n",
            "6           Antonio Fernández Ocaña    51    H   62.0    1.72       276.0\n",
            "8              Pedro Gálvez Tenorio    35    H   90.0    1.94       241.0\n",
            "9           Santiago Reillo Manzano    46    H   75.0    1.85       280.0\n",
            "11       José María de la Guía Sanz    58    H   78.0    1.87       198.0\n",
            "12  Miguel Angel Cuadrado Gutiérrez    27    H  109.0    1.98       210.0\n",
            "                             nombre  edad sexo   peso  altura  colesterol\n",
            "0      José Luis Martínez Izquierdo    18    H   85.0    1.79       182.0\n",
            "2             Javier García Sánchez    24    H    NaN    1.81       191.0\n",
            "5                 Antonio Ruiz Cruz    68    H   66.0    1.74       249.0\n",
            "6           Antonio Fernández Ocaña    51    H   62.0    1.72       276.0\n",
            "8              Pedro Gálvez Tenorio    35    H   90.0    1.94       241.0\n",
            "9           Santiago Reillo Manzano    46    H   75.0    1.85       280.0\n",
            "11       José María de la Guía Sanz    58    H   78.0    1.87       198.0\n",
            "12  Miguel Angel Cuadrado Gutiérrez    27    H  109.0    1.98       210.0\n",
            "                   nombre  edad sexo  peso  altura  colesterol\n",
            "1          Rosa Díaz Díaz    32    M  65.0    1.73       232.0\n",
            "3     Carmen López Pinzón    35    M  65.0    1.70       200.0\n",
            "4    Marisa López Collado    46    M  51.0    1.58       148.0\n",
            "7   Pilar Martín González    22    M  60.0    1.66         NaN\n",
            "10  Macarena Álvarez Luna    53    M  55.0    1.62       262.0\n",
            "13  Carolina Rubio Moreno    20    M  61.0    1.77       194.0\n"
          ]
        }
      ],
      "source": [
        "df = pd.read_csv('https://raw.githubusercontent.com/asalber/manual-python/master/datos/colesterol.csv')\n",
        "\n",
        "print(df)\n",
        "print(df.groupby('sexo').groups)\n",
        "\n",
        "grupo1 = df.groupby('sexo').groups['H']\n",
        "print(df.iloc[grupo1])\n",
        "\n",
        "grupo1 = df.groupby('sexo').groups['H']\n",
        "print(df.iloc[grupo1])\n",
        "\n",
        "print(df.groupby('sexo').get_group('M'))"
      ]
    },
    {
      "cell_type": "markdown",
      "metadata": {
        "id": "_mWFgLcu6isG"
      },
      "source": [
        "### Concatenacion de un DataFrame"
      ]
    },
    {
      "cell_type": "code",
      "execution_count": null,
      "metadata": {
        "colab": {
          "base_uri": "https://localhost:8080/"
        },
        "id": "lKCNPGGM_7Xx",
        "outputId": "f0f2331a-82e3-4c81-909d-2f7bd44e2fa9"
      },
      "outputs": [
        {
          "name": "stdout",
          "output_type": "stream",
          "text": [
            "DataFrame 1:\n",
            "   A  B\n",
            "0  1  4\n",
            "1  2  5\n",
            "2  3  6\n",
            "\n",
            "DataFrame 2:\n",
            "   A   B\n",
            "0  7  10\n",
            "1  8  11\n",
            "2  9  12\n",
            "DataFrame concatenado:\n",
            "   A   B\n",
            "0  1   4\n",
            "1  2   5\n",
            "2  3   6\n",
            "3  7  10\n",
            "4  8  11\n",
            "5  9  12\n"
          ]
        }
      ],
      "source": [
        "data1 = {'A': [1, 2, 3],\n",
        "         'B': [4, 5, 6]}\n",
        "df1 = pd.DataFrame(data1)\n",
        "\n",
        "data2 = {'A': [7, 8, 9],\n",
        "         'B': [10, 11, 12]}\n",
        "df2 = pd.DataFrame(data2)\n",
        "\n",
        "print(\"DataFrame 1:\")\n",
        "print(df1)\n",
        "print()\n",
        "print(\"DataFrame 2:\")\n",
        "print(df2)\n",
        "\n",
        "# Concatenar los DataFrames verticalmente (por filas)\n",
        "concatenated_df = pd.concat([df1, df2], ignore_index=True)\n",
        "\n",
        "print(\"DataFrame concatenado:\")\n",
        "print(concatenated_df)\n"
      ]
    },
    {
      "cell_type": "markdown",
      "metadata": {
        "id": "wO_fx1FC7Brp"
      },
      "source": [
        "### Mezclar DataFrames"
      ]
    },
    {
      "cell_type": "code",
      "execution_count": null,
      "metadata": {
        "colab": {
          "base_uri": "https://localhost:8080/"
        },
        "id": "XgKTA67x6wAO",
        "outputId": "aa4cafa4-fe8d-4322-e4d0-a20bca4f38e8"
      },
      "outputs": [
        {
          "name": "stdout",
          "output_type": "stream",
          "text": [
            "DataFrame 1:\n",
            "   ID Nombre\n",
            "0   1   Juan\n",
            "1   2  María\n",
            "2   3  Pedro\n",
            "3   4    Ana\n",
            "\n",
            "DataFrame 2:\n",
            "   ID  Edad\n",
            "0   3    25\n",
            "1   4    30\n",
            "2   5    35\n",
            "3   6    40\n"
          ]
        }
      ],
      "source": [
        "data1 = {'ID': [1, 2, 3, 4],\n",
        "         'Nombre': ['Juan', 'María', 'Pedro', 'Ana']}\n",
        "df1 = pd.DataFrame(data1)\n",
        "\n",
        "data2 = {'ID': [3, 4, 5, 6],\n",
        "         'Edad': [25, 30, 35, 40]}\n",
        "df2 = pd.DataFrame(data2)\n",
        "\n",
        "print(\"DataFrame 1:\")\n",
        "print(df1)\n",
        "print()\n",
        "print(\"DataFrame 2:\")\n",
        "print(df2)"
      ]
    },
    {
      "cell_type": "code",
      "execution_count": null,
      "metadata": {
        "colab": {
          "base_uri": "https://localhost:8080/"
        },
        "id": "IsSF7V2W7jzh",
        "outputId": "6d8f6338-8b0a-444b-8edd-40e1285942ee"
      },
      "outputs": [
        {
          "name": "stdout",
          "output_type": "stream",
          "text": [
            "Inner Merge:\n",
            "   ID Nombre  Edad\n",
            "0   3  Pedro    25\n",
            "1   4    Ana    30\n"
          ]
        }
      ],
      "source": [
        "# Realizar un Inner Merge en la columna 'ID'\n",
        "inner_merge = df1.merge(df2, on='ID', how='inner')\n",
        "\n",
        "print(\"Inner Merge:\")\n",
        "print(inner_merge)"
      ]
    },
    {
      "cell_type": "code",
      "execution_count": null,
      "metadata": {
        "colab": {
          "base_uri": "https://localhost:8080/"
        },
        "id": "dd7Pk4c67nM3",
        "outputId": "8efa7db3-c755-4b59-e7c4-6a4a6c53009c"
      },
      "outputs": [
        {
          "name": "stdout",
          "output_type": "stream",
          "text": [
            "Left Merge:\n",
            "   ID Nombre  Edad\n",
            "0   1   Juan   NaN\n",
            "1   2  María   NaN\n",
            "2   3  Pedro  25.0\n",
            "3   4    Ana  30.0\n"
          ]
        }
      ],
      "source": [
        "# Realizar un Left Merge en la columna 'ID'\n",
        "left_merge = df1.merge(df2, on='ID', how='left')\n",
        "\n",
        "print(\"Left Merge:\")\n",
        "print(left_merge)"
      ]
    },
    {
      "cell_type": "code",
      "execution_count": null,
      "metadata": {
        "colab": {
          "base_uri": "https://localhost:8080/"
        },
        "id": "tN5y2CjF7uSl",
        "outputId": "68fbece4-5073-4529-ae01-3c27da2780a3"
      },
      "outputs": [
        {
          "name": "stdout",
          "output_type": "stream",
          "text": [
            "Right Merge:\n",
            "   ID Nombre  Edad\n",
            "0   3  Pedro    25\n",
            "1   4    Ana    30\n",
            "2   5    NaN    35\n",
            "3   6    NaN    40\n"
          ]
        }
      ],
      "source": [
        "# Realizar un Right Merge en la columna 'ID'\n",
        "right_merge = df1.merge(df2, on='ID', how='right')\n",
        "\n",
        "print(\"Right Merge:\")\n",
        "print(right_merge)"
      ]
    },
    {
      "cell_type": "code",
      "execution_count": null,
      "metadata": {
        "id": "iZOVqeO97u6r"
      },
      "outputs": [],
      "source": []
    },
    {
      "cell_type": "markdown",
      "metadata": {
        "id": "R4KPrtvum3U8"
      },
      "source": [
        "# Analisis de datos"
      ]
    },
    {
      "cell_type": "markdown",
      "metadata": {
        "id": "x1DOS8KHm79k"
      },
      "source": [
        "### Uso de m"
      ]
    },
    {
      "cell_type": "code",
      "execution_count": null,
      "metadata": {
        "id": "Pkgg6lY6m7AL"
      },
      "outputs": [],
      "source": []
    },
    {
      "cell_type": "markdown",
      "metadata": {
        "id": "dTiaSO0k-Tq6"
      },
      "source": [
        "# Ejercicios"
      ]
    },
    {
      "cell_type": "markdown",
      "metadata": {
        "id": "_BAoD_Fs_qGr"
      },
      "source": [
        "### Cargar los archivos y ver su dimension"
      ]
    },
    {
      "cell_type": "code",
      "execution_count": null,
      "metadata": {
        "id": "PAbyTowu-UhZ"
      },
      "outputs": [],
      "source": [
        "transactions    = pd.read_csv('sales_train.csv')"
      ]
    },
    {
      "cell_type": "markdown",
      "metadata": {
        "id": "zIQswp6p_x0O"
      },
      "source": [
        "### Ejercicio 1 : Imprimir el tamaño de los dataframes cargados y los primeros 10 valores de cada uno."
      ]
    },
    {
      "cell_type": "code",
      "execution_count": null,
      "metadata": {
        "colab": {
          "base_uri": "https://localhost:8080/"
        },
        "id": "OKcYRVj8_JZ0",
        "outputId": "47b9a510-0b87-489f-a739-42ee4d5e99cc"
      },
      "outputs": [
        {
          "name": "stdout",
          "output_type": "stream",
          "text": [
            "shape of transactions:    (2935849, 6)\n",
            "shape of items:           (22170, 3)\n",
            "shape of item_categories: (84, 2)\n",
            "shape of shops:           (60, 2)\n"
          ]
        }
      ],
      "source": [
        "print('shape of transactions:    {}'.format(transactions.shape))"
      ]
    },
    {
      "cell_type": "code",
      "execution_count": null,
      "metadata": {
        "colab": {
          "base_uri": "https://localhost:8080/",
          "height": 206
        },
        "id": "FmY-SU8wAFO8",
        "outputId": "c6e28ff1-f73f-467a-a8ad-e8e5ae094618"
      },
      "outputs": [
        {
          "data": {
            "text/html": [
              "\n",
              "  <div id=\"df-964b091e-7a74-4f49-a01c-d93ba033a980\">\n",
              "    <div class=\"colab-df-container\">\n",
              "      <div>\n",
              "<style scoped>\n",
              "    .dataframe tbody tr th:only-of-type {\n",
              "        vertical-align: middle;\n",
              "    }\n",
              "\n",
              "    .dataframe tbody tr th {\n",
              "        vertical-align: top;\n",
              "    }\n",
              "\n",
              "    .dataframe thead th {\n",
              "        text-align: right;\n",
              "    }\n",
              "</style>\n",
              "<table border=\"1\" class=\"dataframe\">\n",
              "  <thead>\n",
              "    <tr style=\"text-align: right;\">\n",
              "      <th></th>\n",
              "      <th>date</th>\n",
              "      <th>date_block_num</th>\n",
              "      <th>shop_id</th>\n",
              "      <th>item_id</th>\n",
              "      <th>item_price</th>\n",
              "      <th>item_cnt_day</th>\n",
              "    </tr>\n",
              "  </thead>\n",
              "  <tbody>\n",
              "    <tr>\n",
              "      <th>0</th>\n",
              "      <td>02.01.2013</td>\n",
              "      <td>0</td>\n",
              "      <td>59</td>\n",
              "      <td>22154</td>\n",
              "      <td>999.00</td>\n",
              "      <td>1.0</td>\n",
              "    </tr>\n",
              "    <tr>\n",
              "      <th>1</th>\n",
              "      <td>03.01.2013</td>\n",
              "      <td>0</td>\n",
              "      <td>25</td>\n",
              "      <td>2552</td>\n",
              "      <td>899.00</td>\n",
              "      <td>1.0</td>\n",
              "    </tr>\n",
              "    <tr>\n",
              "      <th>2</th>\n",
              "      <td>05.01.2013</td>\n",
              "      <td>0</td>\n",
              "      <td>25</td>\n",
              "      <td>2552</td>\n",
              "      <td>899.00</td>\n",
              "      <td>-1.0</td>\n",
              "    </tr>\n",
              "    <tr>\n",
              "      <th>3</th>\n",
              "      <td>06.01.2013</td>\n",
              "      <td>0</td>\n",
              "      <td>25</td>\n",
              "      <td>2554</td>\n",
              "      <td>1709.05</td>\n",
              "      <td>1.0</td>\n",
              "    </tr>\n",
              "    <tr>\n",
              "      <th>4</th>\n",
              "      <td>15.01.2013</td>\n",
              "      <td>0</td>\n",
              "      <td>25</td>\n",
              "      <td>2555</td>\n",
              "      <td>1099.00</td>\n",
              "      <td>1.0</td>\n",
              "    </tr>\n",
              "  </tbody>\n",
              "</table>\n",
              "</div>\n",
              "      <button class=\"colab-df-convert\" onclick=\"convertToInteractive('df-964b091e-7a74-4f49-a01c-d93ba033a980')\"\n",
              "              title=\"Convert this dataframe to an interactive table.\"\n",
              "              style=\"display:none;\">\n",
              "        \n",
              "  <svg xmlns=\"http://www.w3.org/2000/svg\" height=\"24px\"viewBox=\"0 0 24 24\"\n",
              "       width=\"24px\">\n",
              "    <path d=\"M0 0h24v24H0V0z\" fill=\"none\"/>\n",
              "    <path d=\"M18.56 5.44l.94 2.06.94-2.06 2.06-.94-2.06-.94-.94-2.06-.94 2.06-2.06.94zm-11 1L8.5 8.5l.94-2.06 2.06-.94-2.06-.94L8.5 2.5l-.94 2.06-2.06.94zm10 10l.94 2.06.94-2.06 2.06-.94-2.06-.94-.94-2.06-.94 2.06-2.06.94z\"/><path d=\"M17.41 7.96l-1.37-1.37c-.4-.4-.92-.59-1.43-.59-.52 0-1.04.2-1.43.59L10.3 9.45l-7.72 7.72c-.78.78-.78 2.05 0 2.83L4 21.41c.39.39.9.59 1.41.59.51 0 1.02-.2 1.41-.59l7.78-7.78 2.81-2.81c.8-.78.8-2.07 0-2.86zM5.41 20L4 18.59l7.72-7.72 1.47 1.35L5.41 20z\"/>\n",
              "  </svg>\n",
              "      </button>\n",
              "      \n",
              "  <style>\n",
              "    .colab-df-container {\n",
              "      display:flex;\n",
              "      flex-wrap:wrap;\n",
              "      gap: 12px;\n",
              "    }\n",
              "\n",
              "    .colab-df-convert {\n",
              "      background-color: #E8F0FE;\n",
              "      border: none;\n",
              "      border-radius: 50%;\n",
              "      cursor: pointer;\n",
              "      display: none;\n",
              "      fill: #1967D2;\n",
              "      height: 32px;\n",
              "      padding: 0 0 0 0;\n",
              "      width: 32px;\n",
              "    }\n",
              "\n",
              "    .colab-df-convert:hover {\n",
              "      background-color: #E2EBFA;\n",
              "      box-shadow: 0px 1px 2px rgba(60, 64, 67, 0.3), 0px 1px 3px 1px rgba(60, 64, 67, 0.15);\n",
              "      fill: #174EA6;\n",
              "    }\n",
              "\n",
              "    [theme=dark] .colab-df-convert {\n",
              "      background-color: #3B4455;\n",
              "      fill: #D2E3FC;\n",
              "    }\n",
              "\n",
              "    [theme=dark] .colab-df-convert:hover {\n",
              "      background-color: #434B5C;\n",
              "      box-shadow: 0px 1px 3px 1px rgba(0, 0, 0, 0.15);\n",
              "      filter: drop-shadow(0px 1px 2px rgba(0, 0, 0, 0.3));\n",
              "      fill: #FFFFFF;\n",
              "    }\n",
              "  </style>\n",
              "\n",
              "      <script>\n",
              "        const buttonEl =\n",
              "          document.querySelector('#df-964b091e-7a74-4f49-a01c-d93ba033a980 button.colab-df-convert');\n",
              "        buttonEl.style.display =\n",
              "          google.colab.kernel.accessAllowed ? 'block' : 'none';\n",
              "\n",
              "        async function convertToInteractive(key) {\n",
              "          const element = document.querySelector('#df-964b091e-7a74-4f49-a01c-d93ba033a980');\n",
              "          const dataTable =\n",
              "            await google.colab.kernel.invokeFunction('convertToInteractive',\n",
              "                                                     [key], {});\n",
              "          if (!dataTable) return;\n",
              "\n",
              "          const docLinkHtml = 'Like what you see? Visit the ' +\n",
              "            '<a target=\"_blank\" href=https://colab.research.google.com/notebooks/data_table.ipynb>data table notebook</a>'\n",
              "            + ' to learn more about interactive tables.';\n",
              "          element.innerHTML = '';\n",
              "          dataTable['output_type'] = 'display_data';\n",
              "          await google.colab.output.renderOutput(dataTable, element);\n",
              "          const docLink = document.createElement('div');\n",
              "          docLink.innerHTML = docLinkHtml;\n",
              "          element.appendChild(docLink);\n",
              "        }\n",
              "      </script>\n",
              "    </div>\n",
              "  </div>\n",
              "  "
            ],
            "text/plain": [
              "         date  date_block_num  shop_id  item_id  item_price  item_cnt_day\n",
              "0  02.01.2013               0       59    22154      999.00           1.0\n",
              "1  03.01.2013               0       25     2552      899.00           1.0\n",
              "2  05.01.2013               0       25     2552      899.00          -1.0\n",
              "3  06.01.2013               0       25     2554     1709.05           1.0\n",
              "4  15.01.2013               0       25     2555     1099.00           1.0"
            ]
          },
          "execution_count": 58,
          "metadata": {},
          "output_type": "execute_result"
        }
      ],
      "source": [
        "transactions.head(5)\n",
        "### Lo mismo para los otros dataframes"
      ]
    },
    {
      "cell_type": "markdown",
      "metadata": {
        "id": "p90nfHrTBceS"
      },
      "source": [
        "### Ejercicio 2:\n",
        "Usando pandas , responde a la siguiente pregunta:  ¿Cuál fue el ingreso total en septiembre de 2014?\n",
        "\n",
        "En adelante, los ingresos se refieren a las ventas totales menos el valor de los bienes devueltos.\n",
        "\n",
        "Sugerencias:\n",
        "\n",
        "Es útil dividir el campo de fecha en componentes [día, mes, año] y usar df.year == 14 y df.month == 9 para seleccionar el subconjunto objetivo de fechas.\n",
        "Puede trabajar con la función de fecha como el tipo pd.datetime con la función pd.to_datetime, pero no olvide establecer el argumento de formato correcto."
      ]
    },
    {
      "cell_type": "code",
      "execution_count": null,
      "metadata": {
        "colab": {
          "base_uri": "https://localhost:8080/",
          "height": 206
        },
        "id": "EpfIj29CBfXj",
        "outputId": "342db551-1676-4717-cabd-c427efa643b8"
      },
      "outputs": [
        {
          "data": {
            "text/html": [
              "\n",
              "  <div id=\"df-91bdd1e1-1b5e-4993-aabd-4357a94d6311\">\n",
              "    <div class=\"colab-df-container\">\n",
              "      <div>\n",
              "<style scoped>\n",
              "    .dataframe tbody tr th:only-of-type {\n",
              "        vertical-align: middle;\n",
              "    }\n",
              "\n",
              "    .dataframe tbody tr th {\n",
              "        vertical-align: top;\n",
              "    }\n",
              "\n",
              "    .dataframe thead th {\n",
              "        text-align: right;\n",
              "    }\n",
              "</style>\n",
              "<table border=\"1\" class=\"dataframe\">\n",
              "  <thead>\n",
              "    <tr style=\"text-align: right;\">\n",
              "      <th></th>\n",
              "      <th>date</th>\n",
              "      <th>date_block_num</th>\n",
              "      <th>shop_id</th>\n",
              "      <th>item_id</th>\n",
              "      <th>item_price</th>\n",
              "      <th>item_cnt_day</th>\n",
              "      <th>Dia</th>\n",
              "      <th>Mes</th>\n",
              "      <th>Año</th>\n",
              "    </tr>\n",
              "  </thead>\n",
              "  <tbody>\n",
              "    <tr>\n",
              "      <th>0</th>\n",
              "      <td>2013-01-02</td>\n",
              "      <td>0</td>\n",
              "      <td>59</td>\n",
              "      <td>22154</td>\n",
              "      <td>999.00</td>\n",
              "      <td>1.0</td>\n",
              "      <td>2</td>\n",
              "      <td>1</td>\n",
              "      <td>2013</td>\n",
              "    </tr>\n",
              "    <tr>\n",
              "      <th>1</th>\n",
              "      <td>2013-01-03</td>\n",
              "      <td>0</td>\n",
              "      <td>25</td>\n",
              "      <td>2552</td>\n",
              "      <td>899.00</td>\n",
              "      <td>1.0</td>\n",
              "      <td>3</td>\n",
              "      <td>1</td>\n",
              "      <td>2013</td>\n",
              "    </tr>\n",
              "    <tr>\n",
              "      <th>2</th>\n",
              "      <td>2013-01-05</td>\n",
              "      <td>0</td>\n",
              "      <td>25</td>\n",
              "      <td>2552</td>\n",
              "      <td>899.00</td>\n",
              "      <td>-1.0</td>\n",
              "      <td>5</td>\n",
              "      <td>1</td>\n",
              "      <td>2013</td>\n",
              "    </tr>\n",
              "    <tr>\n",
              "      <th>3</th>\n",
              "      <td>2013-01-06</td>\n",
              "      <td>0</td>\n",
              "      <td>25</td>\n",
              "      <td>2554</td>\n",
              "      <td>1709.05</td>\n",
              "      <td>1.0</td>\n",
              "      <td>6</td>\n",
              "      <td>1</td>\n",
              "      <td>2013</td>\n",
              "    </tr>\n",
              "    <tr>\n",
              "      <th>4</th>\n",
              "      <td>2013-01-15</td>\n",
              "      <td>0</td>\n",
              "      <td>25</td>\n",
              "      <td>2555</td>\n",
              "      <td>1099.00</td>\n",
              "      <td>1.0</td>\n",
              "      <td>15</td>\n",
              "      <td>1</td>\n",
              "      <td>2013</td>\n",
              "    </tr>\n",
              "  </tbody>\n",
              "</table>\n",
              "</div>\n",
              "      <button class=\"colab-df-convert\" onclick=\"convertToInteractive('df-91bdd1e1-1b5e-4993-aabd-4357a94d6311')\"\n",
              "              title=\"Convert this dataframe to an interactive table.\"\n",
              "              style=\"display:none;\">\n",
              "        \n",
              "  <svg xmlns=\"http://www.w3.org/2000/svg\" height=\"24px\"viewBox=\"0 0 24 24\"\n",
              "       width=\"24px\">\n",
              "    <path d=\"M0 0h24v24H0V0z\" fill=\"none\"/>\n",
              "    <path d=\"M18.56 5.44l.94 2.06.94-2.06 2.06-.94-2.06-.94-.94-2.06-.94 2.06-2.06.94zm-11 1L8.5 8.5l.94-2.06 2.06-.94-2.06-.94L8.5 2.5l-.94 2.06-2.06.94zm10 10l.94 2.06.94-2.06 2.06-.94-2.06-.94-.94-2.06-.94 2.06-2.06.94z\"/><path d=\"M17.41 7.96l-1.37-1.37c-.4-.4-.92-.59-1.43-.59-.52 0-1.04.2-1.43.59L10.3 9.45l-7.72 7.72c-.78.78-.78 2.05 0 2.83L4 21.41c.39.39.9.59 1.41.59.51 0 1.02-.2 1.41-.59l7.78-7.78 2.81-2.81c.8-.78.8-2.07 0-2.86zM5.41 20L4 18.59l7.72-7.72 1.47 1.35L5.41 20z\"/>\n",
              "  </svg>\n",
              "      </button>\n",
              "      \n",
              "  <style>\n",
              "    .colab-df-container {\n",
              "      display:flex;\n",
              "      flex-wrap:wrap;\n",
              "      gap: 12px;\n",
              "    }\n",
              "\n",
              "    .colab-df-convert {\n",
              "      background-color: #E8F0FE;\n",
              "      border: none;\n",
              "      border-radius: 50%;\n",
              "      cursor: pointer;\n",
              "      display: none;\n",
              "      fill: #1967D2;\n",
              "      height: 32px;\n",
              "      padding: 0 0 0 0;\n",
              "      width: 32px;\n",
              "    }\n",
              "\n",
              "    .colab-df-convert:hover {\n",
              "      background-color: #E2EBFA;\n",
              "      box-shadow: 0px 1px 2px rgba(60, 64, 67, 0.3), 0px 1px 3px 1px rgba(60, 64, 67, 0.15);\n",
              "      fill: #174EA6;\n",
              "    }\n",
              "\n",
              "    [theme=dark] .colab-df-convert {\n",
              "      background-color: #3B4455;\n",
              "      fill: #D2E3FC;\n",
              "    }\n",
              "\n",
              "    [theme=dark] .colab-df-convert:hover {\n",
              "      background-color: #434B5C;\n",
              "      box-shadow: 0px 1px 3px 1px rgba(0, 0, 0, 0.15);\n",
              "      filter: drop-shadow(0px 1px 2px rgba(0, 0, 0, 0.3));\n",
              "      fill: #FFFFFF;\n",
              "    }\n",
              "  </style>\n",
              "\n",
              "      <script>\n",
              "        const buttonEl =\n",
              "          document.querySelector('#df-91bdd1e1-1b5e-4993-aabd-4357a94d6311 button.colab-df-convert');\n",
              "        buttonEl.style.display =\n",
              "          google.colab.kernel.accessAllowed ? 'block' : 'none';\n",
              "\n",
              "        async function convertToInteractive(key) {\n",
              "          const element = document.querySelector('#df-91bdd1e1-1b5e-4993-aabd-4357a94d6311');\n",
              "          const dataTable =\n",
              "            await google.colab.kernel.invokeFunction('convertToInteractive',\n",
              "                                                     [key], {});\n",
              "          if (!dataTable) return;\n",
              "\n",
              "          const docLinkHtml = 'Like what you see? Visit the ' +\n",
              "            '<a target=\"_blank\" href=https://colab.research.google.com/notebooks/data_table.ipynb>data table notebook</a>'\n",
              "            + ' to learn more about interactive tables.';\n",
              "          element.innerHTML = '';\n",
              "          dataTable['output_type'] = 'display_data';\n",
              "          await google.colab.output.renderOutput(dataTable, element);\n",
              "          const docLink = document.createElement('div');\n",
              "          docLink.innerHTML = docLinkHtml;\n",
              "          element.appendChild(docLink);\n",
              "        }\n",
              "      </script>\n",
              "    </div>\n",
              "  </div>\n",
              "  "
            ],
            "text/plain": [
              "        date  date_block_num  shop_id  item_id  item_price  item_cnt_day  Dia  \\\n",
              "0 2013-01-02               0       59    22154      999.00           1.0    2   \n",
              "1 2013-01-03               0       25     2552      899.00           1.0    3   \n",
              "2 2013-01-05               0       25     2552      899.00          -1.0    5   \n",
              "3 2013-01-06               0       25     2554     1709.05           1.0    6   \n",
              "4 2013-01-15               0       25     2555     1099.00           1.0   15   \n",
              "\n",
              "   Mes   Año  \n",
              "0    1  2013  \n",
              "1    1  2013  \n",
              "2    1  2013  \n",
              "3    1  2013  \n",
              "4    1  2013  "
            ]
          },
          "execution_count": 64,
          "metadata": {},
          "output_type": "execute_result"
        }
      ],
      "source": [
        "transactions['date']= pd.to_datetime(transactions['date'], format='%d.%m.%Y')\n",
        "transactions['Dia'] = transactions['date'].dt.day\n",
        "transactions['Mes'] = transactions['date'].dt.month\n",
        "transactions['Año'] = transactions['date'].dt.year\n",
        "transactions.head()\n"
      ]
    },
    {
      "cell_type": "code",
      "execution_count": null,
      "metadata": {
        "colab": {
          "base_uri": "https://localhost:8080/"
        },
        "id": "l7o2h8NLEAWI",
        "outputId": "4a72d8b2-2aa2-486a-b1bb-f2696d8ce4ee"
      },
      "outputs": [
        {
          "name": "stdout",
          "output_type": "stream",
          "text": [
            "114723593.9699982\n"
          ]
        }
      ],
      "source": [
        "transactions['ingresos'] = transactions['item_price'] * transactions['item_cnt_day']\n",
        "\n",
        "transactions_selected = transactions[ (transactions['Año']==2014) & (transactions['Mes']==9)]\n",
        "\n",
        "transactions_sum = transactions_selected['ingresos'].sum()\n",
        "print(transactions_sum)"
      ]
    },
    {
      "cell_type": "markdown",
      "metadata": {
        "id": "MTgZYq7EE4Op"
      },
      "source": [
        "### Ejercicio 3:\n",
        "Usando pandas , responde a la siguiente pregunta:  ¿Cuál fue el ingreso total máximo entre todas las tiendas en septiembre de 2014?"
      ]
    },
    {
      "cell_type": "code",
      "execution_count": null,
      "metadata": {
        "colab": {
          "base_uri": "https://localhost:8080/"
        },
        "id": "Pq6ZTQ5RE31J",
        "outputId": "7c66d0c3-68a2-40f1-b9a1-5c1f000ce05c"
      },
      "outputs": [
        {
          "name": "stdout",
          "output_type": "stream",
          "text": [
            "7982852.199999957\n"
          ]
        }
      ],
      "source": [
        "tiendas_ingresos = transactions_selected.groupby('shop_id')['ingresos'].sum().max()\n",
        "print(tiendas_ingresos)"
      ]
    },
    {
      "cell_type": "markdown",
      "metadata": {
        "id": "NAOQJKahG6LB"
      },
      "source": [
        "### Ejercicio 4:\n",
        "Imprime los precios distintos (unicos) que tiene cada item. Usar todos los periodos de tiempo.\n",
        "\n",
        "Pista: Usar la funcion .nunique() . Cuenta los valores unicos."
      ]
    },
    {
      "cell_type": "code",
      "execution_count": null,
      "metadata": {
        "colab": {
          "base_uri": "https://localhost:8080/"
        },
        "id": "hTEEzxwwHTjd",
        "outputId": "8170921a-370e-4449-cede-ca2878829963"
      },
      "outputs": [
        {
          "data": {
            "text/plain": [
              "item_id\n",
              "0    1\n",
              "1    1\n",
              "2    1\n",
              "3    2\n",
              "4    1\n",
              "5    1\n",
              "6    1\n",
              "7    1\n",
              "8    1\n",
              "9    1\n",
              "Name: item_price, dtype: int64"
            ]
          },
          "execution_count": 77,
          "metadata": {},
          "output_type": "execute_result"
        }
      ],
      "source": [
        "unique_prices = transactions.groupby('item_id')['item_price'].nunique()\n",
        "unique_prices.head(10)"
      ]
    },
    {
      "cell_type": "markdown",
      "metadata": {
        "id": "Rucctf9rHtg0"
      },
      "source": [
        "### Ejercicio 5:\n",
        "¿Cuántos artículos hay, de modo que su precio permanezca constante. Usar todos los periodos de tiempo?"
      ]
    },
    {
      "cell_type": "code",
      "execution_count": null,
      "metadata": {
        "colab": {
          "base_uri": "https://localhost:8080/"
        },
        "id": "gebXAzkPIJui",
        "outputId": "9816ac2b-f7d1-40e7-e714-9ee32c8ec682"
      },
      "outputs": [
        {
          "name": "stdout",
          "output_type": "stream",
          "text": [
            "5926\n"
          ]
        }
      ],
      "source": [
        "num_items_constant_price = unique_prices[unique_prices==1].shape[0]\n",
        "print(num_items_constant_price)"
      ]
    },
    {
      "cell_type": "markdown",
      "metadata": {
        "id": "fGUxC2spI_9l"
      },
      "source": [
        "###Ejercicio 6\n",
        "\n",
        "Usando pandas , responde a la siguiente pregunta:  ¿Cuáles fueron las ventas totales (sin contar las devoluciones)  en enero de 2013?\n"
      ]
    },
    {
      "cell_type": "code",
      "execution_count": null,
      "metadata": {
        "id": "RH5QktfvItYU"
      },
      "outputs": [],
      "source": []
    },
    {
      "cell_type": "markdown",
      "metadata": {
        "id": "GnIu1_ERJw49"
      },
      "source": [
        "###Ejercicio 7\n",
        "\n",
        "Carga el archivo titanic.csv y responde las siguientes preguntas :\n",
        "\n",
        "- Mostrar por pantalla el hombre y mujeres (por separado) que sobrevivieron y murieron.\n",
        "\n",
        "- Mostrar por pantalla el porcentaje de personas que sobrevivieron en cada clase."
      ]
    },
    {
      "cell_type": "code",
      "execution_count": null,
      "metadata": {
        "id": "NtG4vIk4J8r9"
      },
      "outputs": [],
      "source": [
        "df_titanic    = pd.read_csv('titanic.csv')"
      ]
    },
    {
      "cell_type": "code",
      "execution_count": null,
      "metadata": {
        "id": "FGiFB_8WKHMi"
      },
      "outputs": [],
      "source": []
    }
  ],
  "metadata": {
    "colab": {
      "provenance": []
    },
    "kernelspec": {
      "display_name": "Python 3",
      "name": "python3"
    },
    "language_info": {
      "name": "python"
    }
  },
  "nbformat": 4,
  "nbformat_minor": 0
}
