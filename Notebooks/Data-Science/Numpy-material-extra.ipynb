{
  "cells": [
    {
      "cell_type": "markdown",
      "metadata": {
        "id": "l7OjyiSgz4GM"
      },
      "source": [
        "## Funciones principales"
      ]
    },
    {
      "cell_type": "code",
      "execution_count": null,
      "metadata": {
        "id": "ZfuqoJZZYTOj"
      },
      "outputs": [],
      "source": [
        "# Imports\n",
        "import numpy as np\n",
        "import time"
      ]
    },
    {
      "cell_type": "markdown",
      "metadata": {
        "id": "h4vfHIVTa213"
      },
      "source": [
        "### Creando arrays"
      ]
    },
    {
      "cell_type": "code",
      "execution_count": null,
      "metadata": {
        "colab": {
          "base_uri": "https://localhost:8080/"
        },
        "id": "gBg0lHHqYdAf",
        "outputId": "5c497456-04fd-48ba-a0a1-2577771c8893"
      },
      "outputs": [
        {
          "name": "stdout",
          "output_type": "stream",
          "text": [
            "Tensor a: \n",
            " [0 1 2]\n",
            "Tensor b: \n",
            " [[1 2 3]\n",
            " [4 5 6]]\n",
            "Tensor c: \n",
            " [[[1 2 3]\n",
            "  [4 5 6]]\n",
            "\n",
            " [[1 2 3]\n",
            "  [4 5 6]]]\n",
            "Tensor d: \n",
            " [[1.  1.1]\n",
            " [1.2 1.3]]\n"
          ]
        }
      ],
      "source": [
        "\n",
        "# array 1D from a list\n",
        "a = np.array([0, 1, 2])\n",
        "\n",
        "# array 2D from a list of lists\n",
        "b = np.array([[1, 2, 3], [4, 5, 6]])\n",
        "\n",
        "# array 3D from a list of list of lists\n",
        "c = np.array([[[1, 2, 3], [4, 5, 6]], [[1, 2, 3], [4, 5, 6]]])\n",
        "\n",
        "# array 2D from a tuple of tuples\n",
        "d = ((1.0, 1.1), (1.2, 1.3))\n",
        "d = np.array(d)\n",
        "\n",
        "\n",
        "print(f\"Array a: \\n {a}\")\n",
        "print(f\"Array b: \\n {b}\")\n",
        "print(f\"Array c: \\n {c}\")\n",
        "print(f\"Array d: \\n {d}\")"
      ]
    },
    {
      "cell_type": "markdown",
      "metadata": {
        "id": "n3NDbHwDa8Mk"
      },
      "source": [
        "### Indexacion del array\n",
        "\n",
        "La indexación de arrays sirve para acceder a un elemento del array.\n",
        "\n",
        "Los índices en las arrays NumPy comienzan con 0, lo que significa que el primer elemento tiene el índice 0 y el segundo tiene el índice 1, etc."
      ]
    },
    {
      "cell_type": "code",
      "execution_count": null,
      "metadata": {
        "id": "vDo0gcp3aAWk"
      },
      "outputs": [],
      "source": [
        "arr = np.array([[1,2,3,4,5], [6,7,8,9,10]])\n",
        "\n",
        "\n",
        "print('5th element on 2nd row: ', arr[1, 4])"
      ]
    },
    {
      "cell_type": "code",
      "execution_count": null,
      "metadata": {
        "id": "IhiBpXG_eEuT"
      },
      "outputs": [],
      "source": [
        "arr = np.array([[[1, 2, 3], [4, 5, 6]], [[7, 8, 9], [10, 11, 12]]])\n",
        "\n",
        "print(arr[0, 1, 2])"
      ]
    },
    {
      "cell_type": "markdown",
      "metadata": {
        "id": "_TgiqZFfdVdw"
      },
      "source": [
        "### Slicing array\n",
        "\n",
        "Slicing significa tomar elementos de un índice dado a otro índice dado\n",
        "\n",
        "Pasamos slice en lugar de index como este: [start:end]. También podemos definir el paso, así: [start:end:step].\n",
        "\n",
        "Si no pasamos 'start' se considera 0. Si no pasamos 'end' se considera la longitud de la matriz en esa dimensión. Si no pasamos el 'step' se considera 1"
      ]
    },
    {
      "cell_type": "code",
      "execution_count": null,
      "metadata": {
        "colab": {
          "base_uri": "https://localhost:8080/"
        },
        "id": "NqSHb1_8ZHdz",
        "outputId": "65561159-627f-4e8f-c198-9a4b19ee55c0"
      },
      "outputs": [
        {
          "name": "stdout",
          "output_type": "stream",
          "text": [
            "[2 3 4 5]\n"
          ]
        }
      ],
      "source": [
        "arr = np.array([1, 2, 3, 4, 5, 6, 7])\n",
        "\n",
        "print(arr[1:5])"
      ]
    },
    {
      "cell_type": "code",
      "execution_count": null,
      "metadata": {
        "colab": {
          "base_uri": "https://localhost:8080/"
        },
        "id": "xa9Rhn3ueMv0",
        "outputId": "e9ca8623-5f5e-492e-e8d4-d37b2ce110a3"
      },
      "outputs": [
        {
          "name": "stdout",
          "output_type": "stream",
          "text": [
            "[1 2 3 4]\n"
          ]
        }
      ],
      "source": [
        "arr = np.array([1, 2, 3, 4, 5, 6, 7])\n",
        "\n",
        "print(arr[:4])"
      ]
    },
    {
      "cell_type": "code",
      "execution_count": null,
      "metadata": {
        "colab": {
          "base_uri": "https://localhost:8080/"
        },
        "id": "omyUyAbieRsN",
        "outputId": "6a6d93e4-a370-4320-b24c-ed414e96eea4"
      },
      "outputs": [
        {
          "name": "stdout",
          "output_type": "stream",
          "text": [
            "[2 4]\n"
          ]
        }
      ],
      "source": [
        "arr = np.array([1, 2, 3, 4, 5, 6, 7])\n",
        "\n",
        "print(arr[1:5:2])"
      ]
    },
    {
      "cell_type": "code",
      "execution_count": null,
      "metadata": {
        "colab": {
          "base_uri": "https://localhost:8080/"
        },
        "id": "MHqJEggPeU9Z",
        "outputId": "e310a406-3c8c-49e8-d946-16565050f29c"
      },
      "outputs": [
        {
          "name": "stdout",
          "output_type": "stream",
          "text": [
            "[7 8 9]\n"
          ]
        }
      ],
      "source": [
        "arr = np.array([[1, 2, 3, 4, 5], [6, 7, 8, 9, 10]])\n",
        "\n",
        "print(arr[1, 1:4])"
      ]
    },
    {
      "cell_type": "markdown",
      "metadata": {
        "id": "xme79pXzZgA6"
      },
      "source": [
        "### Copiando un array\n",
        "\n",
        "np.copy : Devuelve un nuevo array copia del array ingresado como argumento. Cualquier cambio ejecutado en la copia , no afecta al original"
      ]
    },
    {
      "cell_type": "code",
      "execution_count": null,
      "metadata": {
        "colab": {
          "base_uri": "https://localhost:8080/"
        },
        "id": "IDUMUwUOejy0",
        "outputId": "e2cc92da-f1a3-43ca-afd3-2abd830ca61f"
      },
      "outputs": [
        {
          "name": "stdout",
          "output_type": "stream",
          "text": [
            "Sin aplicar np.copy() :  [2 3 4 5 6] [2 3 4 5 6]\n",
            "Aplicando np.copy()   :  [2 3 4 5 6] [1 2 3 4 5]\n"
          ]
        }
      ],
      "source": [
        "arr = np.array([1, 2, 3, 4, 5])\n",
        "\n",
        "arrA = arr\n",
        "\n",
        "arrA += 1\n",
        "\n",
        "print('Sin aplicar np.copy() : ' ,arrA,arr)\n",
        "\n",
        "arr = np.array([1, 2, 3, 4, 5])\n",
        "\n",
        "arrB = np.copy(arr)\n",
        "\n",
        "arrB += 1\n",
        "\n",
        "print('Aplicando np.copy()   : ' ,arrB,arr)\n",
        "\n"
      ]
    },
    {
      "cell_type": "markdown",
      "metadata": {
        "id": "nGRLKKKQfdy2"
      },
      "source": [
        "### Creando array de elementos en un rango\n",
        "\n",
        "np.arange : Devuelve valores espaciados uniformemente dentro de un intervalo dado definiendo el paso entre cada elemento.\n",
        "\n",
        "np.linspace : Devuelve valores espaciados uniformemente en un intervalo específico definiendo la cantidad de elementos dentro de dicho rango.\n",
        "\n"
      ]
    },
    {
      "cell_type": "code",
      "execution_count": null,
      "metadata": {
        "colab": {
          "base_uri": "https://localhost:8080/"
        },
        "id": "kmRfmxa1fEfg",
        "outputId": "bb98a4aa-fc33-4c69-e977-78da925a162a"
      },
      "outputs": [
        {
          "name": "stdout",
          "output_type": "stream",
          "text": [
            "[0 1 2 3 4 5 6 7 8 9]\n"
          ]
        }
      ],
      "source": [
        "arr = np.arange(0, 10, step=1)\n",
        "print(arr)"
      ]
    },
    {
      "cell_type": "code",
      "execution_count": null,
      "metadata": {
        "colab": {
          "base_uri": "https://localhost:8080/"
        },
        "id": "RYULvao-fstz",
        "outputId": "5bb3af2b-e2e8-4a77-d6a3-b4773e0fa05b"
      },
      "outputs": [
        {
          "name": "stdout",
          "output_type": "stream",
          "text": [
            "[0.  0.5 1.  1.5 2.  2.5 3.  3.5 4.  4.5 5. ]\n"
          ]
        }
      ],
      "source": [
        "arr = np.linspace(0, 5, num=11)\n",
        "print(arr)"
      ]
    },
    {
      "cell_type": "markdown",
      "metadata": {
        "id": "Mem3Ho91htY2"
      },
      "source": [
        "### Funciones shape y reshape de un array\n",
        "\n",
        "np.shape : Devuelve la forma de una matriz.\n",
        "\n",
        "np.reshape : Da una nueva forma a una matriz sin cambiar sus datos."
      ]
    },
    {
      "cell_type": "code",
      "execution_count": null,
      "metadata": {
        "colab": {
          "base_uri": "https://localhost:8080/"
        },
        "id": "i-akg2Nth03H",
        "outputId": "a6d94f94-0019-4503-9334-4004769d2938"
      },
      "outputs": [
        {
          "name": "stdout",
          "output_type": "stream",
          "text": [
            "Shape de la matriz a:  (5,)\n",
            "Shape de la matriz b:  (2, 5)\n"
          ]
        }
      ],
      "source": [
        "a_1d = np.array([1,2,3,4,5])\n",
        "b_2d = np.array([[1,2,3,4,5], [6,7,8,9,10]])\n",
        "shape_a = a_1d.shape\n",
        "shape_b = b_2d.shape\n",
        "\n",
        "print('Shape de la matriz a: ' , shape_a )\n",
        "print('Shape de la matriz b: ' , shape_b )"
      ]
    },
    {
      "cell_type": "code",
      "execution_count": null,
      "metadata": {
        "colab": {
          "base_uri": "https://localhost:8080/"
        },
        "id": "3G1oC7nWh2vD",
        "outputId": "ddf8a66f-8329-4e12-c7d6-f98f8268a287"
      },
      "outputs": [
        {
          "name": "stdout",
          "output_type": "stream",
          "text": [
            "[ 0  1  2  3  4  5  6  7  8  9 10 11 12 13 14]\n",
            "[[ 0  1  2  3  4]\n",
            " [ 5  6  7  8  9]\n",
            " [10 11 12 13 14]]\n"
          ]
        }
      ],
      "source": [
        "c = np.arange(0,15)\n",
        "print(c)\n",
        "d = c.reshape(3,5)\n",
        "print(d)"
      ]
    },
    {
      "cell_type": "markdown",
      "metadata": {
        "id": "_hxvRT0Bkrff"
      },
      "source": [
        "### Operaciones con arrays\n",
        "\n",
        "np.ones : Devuelve un nuevo array de forma y tipo dados, llena de unos.\n",
        "\n",
        "np.zeros : Devuelve un nuevo array de forma y tipo dados, llena de ceros.\n",
        "\n",
        "np.rand : Devuelve un nuevo array llena de valores aleatorios en una forma dada."
      ]
    },
    {
      "cell_type": "code",
      "execution_count": null,
      "metadata": {
        "colab": {
          "base_uri": "https://localhost:8080/"
        },
        "id": "SOpmeULtiwJb",
        "outputId": "cb647dd1-b656-403b-8977-63241f79db2c"
      },
      "outputs": [
        {
          "name": "stdout",
          "output_type": "stream",
          "text": [
            "[[1. 1. 1.]\n",
            " [1. 1. 1.]\n",
            " [1. 1. 1.]\n",
            " [1. 1. 1.]\n",
            " [1. 1. 1.]]\n",
            "[[3.49369075e-316 0.00000000e+000 0.00000000e+000]\n",
            " [0.00000000e+000 0.00000000e+000 0.00000000e+000]\n",
            " [0.00000000e+000 0.00000000e+000 0.00000000e+000]\n",
            " [0.00000000e+000 0.00000000e+000 0.00000000e+000]]\n",
            "[[0.90903572 0.2401901 ]\n",
            " [0.99865034 0.89248996]\n",
            " [0.02957113 0.93047561]]\n"
          ]
        }
      ],
      "source": [
        "a = np.ones((5, 3))\n",
        "b = np.empty((4, 3))\n",
        "c = np.random.rand(3,2)\n",
        "\n",
        "print(a)\n",
        "print(b)\n",
        "print(c)\n"
      ]
    },
    {
      "cell_type": "code",
      "execution_count": null,
      "metadata": {
        "colab": {
          "base_uri": "https://localhost:8080/"
        },
        "id": "KjvN60KYsWQn",
        "outputId": "cd473186-2dcf-4806-b1fb-1402091f3455"
      },
      "outputs": [
        {
          "name": "stdout",
          "output_type": "stream",
          "text": [
            "[ 7  9 11 13 15]\n",
            "[15 40]\n",
            "55\n"
          ]
        }
      ],
      "source": [
        "x = np.array([[1,2,3,4,5], [6,7,8,9,10]])\n",
        "\n",
        "suma0 = np.sum(x, axis=0)\n",
        "suma1 = np.sum(x, axis=1)\n",
        "sumaT = np.sum(x)\n",
        "\n",
        "print(suma0)\n",
        "print(suma1)\n",
        "print(sumaT)"
      ]
    },
    {
      "cell_type": "code",
      "execution_count": null,
      "metadata": {
        "colab": {
          "base_uri": "https://localhost:8080/"
        },
        "id": "FfJWu45RboJc",
        "outputId": "bc121194-6b8a-4a11-c9b8-af10a84ef80d"
      },
      "outputs": [
        {
          "name": "stdout",
          "output_type": "stream",
          "text": [
            "[3.5 4.5 5.5 6.5 7.5]\n",
            "[3. 8.]\n",
            "5.5\n"
          ]
        }
      ],
      "source": [
        "x = np.array([[1,2,3,4,5], [6,7,8,9,10]])\n",
        "\n",
        "suma0 = np.mean(x, axis=0)\n",
        "suma1 = np.mean(x, axis=1)\n",
        "sumaT = np.mean(x)\n",
        "\n",
        "print(suma0)\n",
        "print(suma1)\n",
        "print(sumaT)"
      ]
    },
    {
      "cell_type": "markdown",
      "metadata": {
        "id": "ctUFoAWmeoay"
      },
      "source": [
        "### Concatenando arrays\n",
        "\n",
        "np.concatenate : Une una secuencia de matrices a lo largo de un eje existente"
      ]
    },
    {
      "cell_type": "code",
      "execution_count": null,
      "metadata": {
        "colab": {
          "base_uri": "https://localhost:8080/"
        },
        "id": "BZHoydHdeqa6",
        "outputId": "32812faf-b69a-4003-87da-de7fcfacbadd"
      },
      "outputs": [
        {
          "name": "stdout",
          "output_type": "stream",
          "text": [
            "[[1 2]\n",
            " [3 4]\n",
            " [5 6]]\n",
            "[[1 2 5]\n",
            " [3 4 6]]\n",
            "[1 2 3 4 5 6]\n"
          ]
        }
      ],
      "source": [
        "a = np.array([[1, 2], [3, 4]])\n",
        "b = np.array([[5, 6]])\n",
        "\n",
        "c1 = np.concatenate((a, b), axis=0)\n",
        "print(c1)\n",
        "\n",
        "c2 = np.concatenate((a, b.T), axis=1)\n",
        "print(c2)\n",
        "\n",
        "c3 = np.concatenate((a, b), axis=None)\n",
        "print(c3)\n"
      ]
    },
    {
      "cell_type": "markdown",
      "metadata": {
        "id": "1hdX_KydfU4p"
      },
      "source": [
        "### Operaciones matematicas con Numpy"
      ]
    },
    {
      "cell_type": "code",
      "execution_count": null,
      "metadata": {
        "colab": {
          "base_uri": "https://localhost:8080/"
        },
        "id": "SOfRr1iutQgh",
        "outputId": "45c19776-170a-473b-dd94-6230dfce718b"
      },
      "outputs": [
        {
          "data": {
            "text/plain": [
              "(array([ 2,  4,  7, 12]),\n",
              " array([0, 0, 1, 4]),\n",
              " array([ 1,  4, 12, 32]),\n",
              " array([1.        , 1.        , 1.33333333, 2.        ]),\n",
              " array([   1,    4,   64, 4096]))"
            ]
          },
          "execution_count": 43,
          "metadata": {},
          "output_type": "execute_result"
        }
      ],
      "source": [
        "x = np.array([1, 2, 4, 8])\n",
        "y = np.array([1, 2, 3, 4])\n",
        "\n",
        "x + y, x - y, x * y, x / y, x**y"
      ]
    },
    {
      "cell_type": "code",
      "execution_count": null,
      "metadata": {
        "colab": {
          "base_uri": "https://localhost:8080/"
        },
        "id": "qN6d9yGZKv_J",
        "outputId": "fb121051-f219-4736-83e6-a2ff5909ca41"
      },
      "outputs": [
        {
          "name": "stdout",
          "output_type": "stream",
          "text": [
            "Product np.dot en 1D arrays\n",
            "[1, 2, 4, 8]\n",
            "[2, 2, 1, 1]\n",
            "18\n",
            "Product np.dot en 2D arrays\n",
            "[[1 0]\n",
            " [0 1]]\n",
            "[[4 1]\n",
            " [2 2]]\n",
            "[[4 1]\n",
            " [2 2]]\n"
          ]
        }
      ],
      "source": [
        "print('Product np.dot en 1D arrays')\n",
        "a_1D = [1, 2, 4, 8]\n",
        "b_1D = [2, 2, 1, 1]\n",
        "\n",
        "product_1D = np.dot(a_1D,b_1D)\n",
        "print(a_1D)\n",
        "print(b_1D)\n",
        "print(product_1D)\n",
        "\n",
        "\n",
        "print('Product np.dot en 2D arrays')\n",
        "a_2D = np.array([[1, 0], [0, 1]])\n",
        "b_2D = np.array([[4, 1], [2, 2]])\n",
        "\n",
        "product_2D = np.dot(a_2D, b_2D)\n",
        "\n",
        "print(a_2D)\n",
        "print(b_2D)\n",
        "print(product_2D)"
      ]
    },
    {
      "cell_type": "markdown",
      "metadata": {
        "id": "JHcq42zS0U-Z"
      },
      "source": [
        "### Comparando multiplicacion de matrices\n",
        "\n",
        "El producto escalar multiplica los valores en dos vectores por elementos y luego suma el resultado.\n",
        "El producto punto vectorial requiere que las dimensiones de los dos vectores sean iguales.\n",
        "\n",
        "Implementemos nuestra propia versión del producto escalar a continuación:\n",
        "\n",
        "**Usando un bucle for**, implemente una función que devuelva el producto escalar de dos vectores. La función para devolver las entradas dadas $a$ y $b$:\n",
        "$$ x = \\sum_{i=0}^{n-1} a_i b_i $$\n",
        "Suponga que tanto `a` como `b` tienen la misma forma."
      ]
    },
    {
      "cell_type": "code",
      "execution_count": null,
      "metadata": {
        "id": "JXp5WroN0pCK"
      },
      "outputs": [],
      "source": [
        "def my_dot(a, b):\n",
        "    x=0\n",
        "    for i in range(a.shape[0]):\n",
        "        x = x + a[i] * b[i]\n",
        "    return x"
      ]
    },
    {
      "cell_type": "code",
      "execution_count": null,
      "metadata": {
        "colab": {
          "base_uri": "https://localhost:8080/"
        },
        "id": "qCRUW-wK2wSK",
        "outputId": "1fa6522d-430f-452d-96f2-ab8fc0d9aa92"
      },
      "outputs": [
        {
          "name": "stdout",
          "output_type": "stream",
          "text": [
            "my_dot(a, b) = 24\n"
          ]
        }
      ],
      "source": [
        "# test 1-D\n",
        "a = np.array([1, 2, 3, 4])\n",
        "b = np.array([-1, 4, 3, 2])\n",
        "print(f\"my_dot(a, b) = {my_dot(a, b)}\")"
      ]
    },
    {
      "cell_type": "code",
      "execution_count": null,
      "metadata": {
        "colab": {
          "base_uri": "https://localhost:8080/"
        },
        "id": "aDOb5tKF0y9U",
        "outputId": "db54db3c-64f9-43a6-cc6c-97e67de3588d"
      },
      "outputs": [
        {
          "name": "stdout",
          "output_type": "stream",
          "text": [
            "NumPy 1-D np.dot(a, b) = 24, np.dot(a, b).shape = () \n",
            "NumPy 1-D np.dot(b, a) = 24, np.dot(a, b).shape = () \n"
          ]
        }
      ],
      "source": [
        "# test 1-D\n",
        "a = np.array([1, 2, 3, 4])\n",
        "b = np.array([-1, 4, 3, 2])\n",
        "c = np.dot(a, b)\n",
        "print(f\"NumPy 1-D np.dot(a, b) = {c}, np.dot(a, b).shape = {c.shape} \")\n",
        "c = np.dot(b, a)\n",
        "print(f\"NumPy 1-D np.dot(b, a) = {c}, np.dot(a, b).shape = {c.shape} \")\n",
        "\n"
      ]
    },
    {
      "cell_type": "code",
      "execution_count": null,
      "metadata": {
        "colab": {
          "base_uri": "https://localhost:8080/"
        },
        "id": "tQ4bQOyF3kGz",
        "outputId": "3e449bb9-bfd6-479d-a7c5-17b4233c539e"
      },
      "outputs": [
        {
          "name": "stdout",
          "output_type": "stream",
          "text": [
            "np.dot(a, b) =  2501072.5817\n",
            "Vectorized version duration: 13.1171 ms \n",
            "my_dot(a, b) =  2501072.5817\n",
            "loop version duration: 3529.6903 ms \n"
          ]
        }
      ],
      "source": [
        "np.random.seed(1)\n",
        "a = np.random.rand(10000000)  # very large arrays\n",
        "b = np.random.rand(10000000)\n",
        "\n",
        "tic = time.time()  # capture start time\n",
        "c = np.dot(a, b)\n",
        "toc = time.time()  # capture end time\n",
        "\n",
        "print(f\"np.dot(a, b) =  {c:.4f}\")\n",
        "print(f\"Vectorized version duration: {1000*(toc-tic):.4f} ms \")\n",
        "\n",
        "tic = time.time()  # capture start time\n",
        "c = my_dot(a,b)\n",
        "toc = time.time()  # capture end time\n",
        "\n",
        "print(f\"my_dot(a, b) =  {c:.4f}\")\n",
        "print(f\"loop version duration: {1000*(toc-tic):.4f} ms \")\n",
        "\n",
        "del(a);del(b)  #remove these big arrays from memory"
      ]
    },
    {
      "cell_type": "code",
      "execution_count": null,
      "metadata": {
        "colab": {
          "base_uri": "https://localhost:8080/"
        },
        "id": "5SkYVfjtgjSJ",
        "outputId": "1d53b166-67eb-4e83-9c27-feaed8d02163"
      },
      "outputs": [
        {
          "name": "stdout",
          "output_type": "stream",
          "text": [
            "Tiempo de ejecución (numpy.dot): 0.006386995315551758 segundos\n",
            "Tiempo de ejecución (bucles for): 1.5103580951690674 segundos\n"
          ]
        }
      ],
      "source": [
        "## Comparacion de multiplicacion de matrices\n",
        "\n",
        "import numpy as np\n",
        "import time\n",
        "\n",
        "# Definir las matrices\n",
        "A = np.random.rand(100, 100)\n",
        "B = np.random.rand(100, 100)\n",
        "\n",
        "# Multiplicación matricial utilizando numpy.dot\n",
        "start_time = time.time()\n",
        "result_dot = np.dot(A, B)\n",
        "end_time = time.time()\n",
        "elapsed_time_dot = end_time - start_time\n",
        "\n",
        "# Multiplicación matricial utilizando bucles for\n",
        "result_for = np.zeros((100, 100))\n",
        "start_time = time.time()\n",
        "for i in range(100):\n",
        "    for j in range(100):\n",
        "        for k in range(100):\n",
        "            result_for[i, j] += A[i, k] * B[k, j]\n",
        "end_time = time.time()\n",
        "elapsed_time_for = end_time - start_time\n",
        "\n",
        "# Imprimir resultados\n",
        "print(\"Tiempo de ejecución (numpy.dot):\", elapsed_time_dot, \"segundos\")\n",
        "print(\"Tiempo de ejecución (bucles for):\", elapsed_time_for, \"segundos\")\n"
      ]
    },
    {
      "cell_type": "markdown",
      "metadata": {
        "id": "Y_wL1exlwNZ9"
      },
      "source": [
        "### Broadcasting\n",
        "\n",
        "El término transmisión(broadcasting) describe cómo NumPy trata las matrices con diferentes formas durante las operaciones aritméticas. Sujeto a ciertas restricciones, la matriz más pequeña se \"transmite\" a través de la matriz más grande para que tengan formas compatibles."
      ]
    },
    {
      "cell_type": "code",
      "execution_count": null,
      "metadata": {
        "colab": {
          "base_uri": "https://localhost:8080/"
        },
        "id": "eJ7KmhgYtSUi",
        "outputId": "84851ab6-2935-4be0-dff0-7f7e13aa1e99"
      },
      "outputs": [
        {
          "name": "stdout",
          "output_type": "stream",
          "text": [
            "[[ 1.  2.  3.]\n",
            " [11. 12. 13.]\n",
            " [21. 22. 23.]\n",
            " [31. 32. 33.]]\n"
          ]
        }
      ],
      "source": [
        "a = np.array([[ 0.0,  0.0,  0.0],\n",
        "              [10.0, 10.0, 10.0],\n",
        "              [20.0, 20.0, 20.0],\n",
        "              [30.0, 30.0, 30.0]])\n",
        "\n",
        "b = np.array([1.0, 2.0, 3.0])\n",
        "\n",
        "print(a+b)"
      ]
    },
    {
      "cell_type": "code",
      "execution_count": null,
      "metadata": {
        "colab": {
          "base_uri": "https://localhost:8080/"
        },
        "id": "z-iWE1dSu9dF",
        "outputId": "daff5d7b-718c-4557-d47f-9d4cce97d33a"
      },
      "outputs": [
        {
          "data": {
            "text/plain": [
              "array([[ 1.,  2.,  3.],\n",
              "       [11., 12., 13.],\n",
              "       [21., 22., 23.],\n",
              "       [31., 32., 33.]])"
            ]
          },
          "execution_count": 46,
          "metadata": {},
          "output_type": "execute_result"
        }
      ],
      "source": [
        "a = np.array([0.0, 10.0, 20.0, 30.0])\n",
        "b = np.array([1.0, 2.0, 3.0])\n",
        "a[:, np.newaxis] + b\n"
      ]
    },
    {
      "cell_type": "markdown",
      "metadata": {
        "id": "uU8AIrhZ0BQ9"
      },
      "source": [
        "## Ejercicios"
      ]
    },
    {
      "cell_type": "markdown",
      "metadata": {
        "id": "29UVhDBSzyWy"
      },
      "source": [
        "### Ejercicio 1\n",
        "**Function A**\n",
        "\n",
        "Esta función toma dos matrices 2D $A$ y $B$ y devuelve la suma de las columnas de A multiplicada por la suma de todos los elementos de $B$, i.e., a scalar.\n",
        "\n",
        "\\begin{equation}\n",
        "  \\text{If }\n",
        "  A = \\begin{bmatrix}\n",
        "  1 & 1 \\\\\n",
        "  1 & 1\n",
        "  \\end{bmatrix}\n",
        "  \\text{and }\n",
        "  B = \\begin{bmatrix}\n",
        "  1 & 2 & 3 \\\\\n",
        "  1 & 2 & 3\n",
        "  \\end{bmatrix}\n",
        "  \\text{ then }\n",
        "  Out =  \\begin{bmatrix}\n",
        "  2 & 2\n",
        "  \\end{bmatrix} \\cdot 12 = \\begin{bmatrix}\n",
        "  24 & 24\n",
        "  \\end{bmatrix}\n",
        "\\end{equation}\n",
        "\n",
        "**Function B**\n",
        "\n",
        "Esta función toma una matriz cuadrada $C$ y devuelve una matriz 2D que consta de un $C$ aplanado con el índice de cada elemento adjunto a este tensor en la dimensión de la fila.\n",
        "\n",
        "\\begin{equation}\n",
        "  \\text{If }\n",
        "  C = \\begin{bmatrix}\n",
        "  2 & 3 \\\\\n",
        "  -1 & 10\n",
        "  \\end{bmatrix}\n",
        "  \\text{ then }\n",
        "  Out = \\begin{bmatrix}\n",
        "  0 & 2 \\\\\n",
        "  1 & 3 \\\\\n",
        "  2 & -1 \\\\\n",
        "  3 & 10\n",
        "  \\end{bmatrix}\n",
        "\\end{equation}\n",
        "\n",
        "**Sugerencia:** Preste mucha atención a las dimensiones . Revisar acerca de la funcion flatten()\n",
        "\n",
        "**Function C**\n",
        "\n",
        "Esta función toma dos matrices 2D $D$ y $E$. Si las dimensiones lo permiten, esta función devuelve la suma por elementos de $D$ en forma de $E$ y $D$; de lo contrario, esta función devuelve una matriz 1D que es la concatenación de las dos matrices.\n",
        "\n",
        "\\begin{equation}\n",
        "  \\text{If }\n",
        "  D = \\begin{bmatrix}\n",
        "  1 & -1 \\\\\n",
        "  -1 & 3\n",
        "  \\end{bmatrix}\n",
        "  \\text{and }\n",
        "  E = \\begin{bmatrix}\n",
        "  2 & 3 & 0 & 2 \\\\\n",
        "  \\end{bmatrix}\n",
        "  \\text{ then }\n",
        "  Out = \\begin{bmatrix}\n",
        "  3 & 2 \\\\\n",
        "  -1 & 5\n",
        "  \\end{bmatrix}\n",
        "\\end{equation}\n",
        "\n",
        "<br>\n",
        "\n",
        "\\begin{equation}\n",
        "  \\text{If }\n",
        "  D = \\begin{bmatrix}\n",
        "  1 & -1 \\\\\n",
        "  -1 & 3\n",
        "  \\end{bmatrix}\n",
        "  \\text{and }\n",
        "  E = \\begin{bmatrix}\n",
        "  2 & 3 & 0  \\\\\n",
        "  \\end{bmatrix}\n",
        "  \\text{ then }\n",
        "  Out = \\begin{bmatrix}\n",
        "  1 & -1 & -1 & 3  & 2 & 3 & 0  \n",
        "  \\end{bmatrix}\n",
        "\\end{equation}\n",
        "\n",
        "<br>\n",
        "\n",
        "**Pista:** `np.size()` es una manera fácil de encontrar el número de elementos en una matriz."
      ]
    },
    {
      "cell_type": "code",
      "execution_count": null,
      "metadata": {
        "id": "sFEqrzlQ1CeA"
      },
      "outputs": [],
      "source": []
    },
    {
      "cell_type": "markdown",
      "metadata": {
        "id": "gm0aL4FRkHQH"
      },
      "source": [
        "## Ejercicio con imagenes"
      ]
    },
    {
      "cell_type": "code",
      "execution_count": null,
      "metadata": {
        "colab": {
          "base_uri": "https://localhost:8080/",
          "height": 858
        },
        "id": "Ezu-3CVin9cr",
        "outputId": "e13dcc98-5d9a-4068-f4fb-c54cea648e50"
      },
      "outputs": [
        {
          "data": {
            "image/png": "[encoded data removed]",
            "text/plain": [
              "<Figure size 640x480 with 1 Axes>"
            ]
          },
          "metadata": {},
          "output_type": "display_data"
        },
        {
          "name": "stdout",
          "output_type": "stream",
          "text": [
            "Valor del píxel en la posición (1, 2): 255\n"
          ]
        },
        {
          "data": {
            "image/png": "[encoded data removed]",
            "text/plain": [
              "<Figure size 640x480 with 1 Axes>"
            ]
          },
          "metadata": {},
          "output_type": "display_data"
        }
      ],
      "source": [
        "import numpy as np\n",
        "import matplotlib.pyplot as plt\n",
        "\n",
        "# Crear una imagen en blanco y negro de 4x4 píxeles\n",
        "imagen = np.array([[0, 255, 0, 255],\n",
        "                   [255, 0, 255, 0],\n",
        "                   [0, 255, 0, 255],\n",
        "                   [255, 0, 255, 0]], dtype=np.uint8)\n",
        "\n",
        "# Mostrar la imagen\n",
        "plt.imshow(imagen, cmap='gray', vmin=0, vmax=255)\n",
        "plt.axis('off')\n",
        "plt.title('Ejemplo de imagen en blanco y negro')\n",
        "plt.show()\n",
        "\n",
        "# Obtener el valor de un píxel específico\n",
        "valor_pixel = imagen[1, 2]\n",
        "print(\"Valor del píxel en la posición (1, 2):\", valor_pixel)\n",
        "\n",
        "# Modificar el valor de un píxel específico\n",
        "imagen[3, 1] = 128\n",
        "plt.imshow(imagen, cmap='gray', vmin=0, vmax=255)\n",
        "plt.axis('off')\n",
        "plt.title('Imagen con píxel modificado')\n",
        "plt.show()\n"
      ]
    },
    {
      "cell_type": "code",
      "execution_count": null,
      "metadata": {
        "colab": {
          "base_uri": "https://localhost:8080/",
          "height": 839
        },
        "id": "ywp6EXoIkKB6",
        "outputId": "d786e78e-7fbc-4fb2-b9a9-892aaf3979df"
      },
      "outputs": [
        {
          "data": {
            "image/png": "[encoded data removed]",
            "text/plain": [
              "<Figure size 640x480 with 1 Axes>"
            ]
          },
          "metadata": {},
          "output_type": "display_data"
        },
        {
          "data": {
            "image/png": "[encoded data removed]",
            "text/plain": [
              "<Figure size 640x480 with 1 Axes>"
            ]
          },
          "metadata": {},
          "output_type": "display_data"
        }
      ],
      "source": [
        "import numpy as np\n",
        "import matplotlib.pyplot as plt\n",
        "\n",
        "# Crear una imagen en blanco y negro de 8x8 píxeles\n",
        "imagen = np.zeros((8, 8), dtype=np.uint8)\n",
        "\n",
        "# Rellenar la imagen con un patrón\n",
        "imagen[:4, :4] = 255\n",
        "imagen[4:, 4:] = 255\n",
        "\n",
        "# Mostrar la imagen original\n",
        "plt.imshow(imagen, cmap='gray', vmin=0, vmax=255)\n",
        "plt.axis('off')\n",
        "plt.title('Imagen Original')\n",
        "plt.show()\n",
        "\n",
        "# Obtener la dimensión de la imagen\n",
        "alto, ancho = imagen.shape\n",
        "\n",
        "# Cambiar el color de algunos píxeles\n",
        "for i in range(alto):\n",
        "    for j in range(ancho):\n",
        "        if i % 2 == 0 and j % 2 == 0:\n",
        "            imagen[i, j] = 0  # Cambiar a negro\n",
        "        elif i % 2 != 0 and j % 2 != 0:\n",
        "            imagen[i, j] = 255  # Cambiar a blanco\n",
        "\n",
        "# Mostrar la imagen modificada\n",
        "plt.imshow(imagen, cmap='gray', vmin=0, vmax=255)\n",
        "plt.axis('off')\n",
        "plt.title('Imagen Modificada')\n",
        "plt.show()\n"
      ]
    },
    {
      "cell_type": "code",
      "execution_count": null,
      "metadata": {
        "colab": {
          "base_uri": "https://localhost:8080/"
        },
        "id": "w30hBKb2kK88",
        "outputId": "829e0ca7-b0fb-4600-d194-de1bca292b34"
      },
      "outputs": [
        {
          "name": "stdout",
          "output_type": "stream",
          "text": [
            "[[  0   0   0   0   0   0   0   0   0   0]\n",
            " [  0 255 255   0   0   0   0   0   0   0]\n",
            " [  0 255 255   0   0   0   0   0   0   0]\n",
            " [  0   0   0   0   0   0   0   0   0   0]\n",
            " [  0   0   0   0   0   0   0   0   0   0]\n",
            " [  0   0   0   0   0   0   0   0   0   0]\n",
            " [  0   0   0   0   0   0   0   0   0   0]\n",
            " [  0   0   0   0   0   0   0   0   0   0]\n",
            " [  0   0   0   0   0   0   0   0   0   0]\n",
            " [  0   0   0   0   0   0   0   0   0   0]]\n"
          ]
        }
      ],
      "source": [
        "\n"
      ]
    },
    {
      "cell_type": "code",
      "execution_count": null,
      "metadata": {
        "id": "lKCNPGGM_7Xx"
      },
      "outputs": [],
      "source": []
    }
  ],
  "metadata": {
    "colab": {
      "provenance": []
    },
    "kernelspec": {
      "display_name": "Python 3",
      "name": "python3"
    },
    "language_info": {
      "name": "python"
    }
  },
  "nbformat": 4,
  "nbformat_minor": 0
}
