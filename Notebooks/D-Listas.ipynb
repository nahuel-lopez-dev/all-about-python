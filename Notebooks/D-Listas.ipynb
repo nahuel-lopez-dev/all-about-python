{
 "cells": [
  {
   "attachments": {},
   "cell_type": "markdown",
   "metadata": {},
   "source": [
    "# ⚡ *`Listas`* ⚡"
   ]
  },
  {
   "attachments": {},
   "cell_type": "markdown",
   "metadata": {},
   "source": [
    "### `Definiendo listas`"
   ]
  },
  {
   "cell_type": "code",
   "execution_count": 85,
   "metadata": {},
   "outputs": [
    {
     "name": "stdout",
     "output_type": "stream",
     "text": [
      "my_list: []\n",
      "my_list <class 'list'>\n",
      "my_other_list: []\n",
      "my_other_list <class 'list'>\n",
      "\n",
      "my_list: Hola Python\n",
      "my_list <class 'str'>\n"
     ]
    }
   ],
   "source": [
    "# Definición de listas\n",
    "my_list = list() # con la función list, para generar una lista.\n",
    "my_other_list = [] # una lista vacía. Una forma muy común de inicializar una lista\n",
    "print('my_list:', my_list)\n",
    "print('my_list', type(my_list))\n",
    "print('my_other_list:', my_other_list)\n",
    "print('my_other_list', type(my_other_list))\n",
    "print()\n",
    "\n",
    "# Cambio de tipo. Son mutables.\n",
    "my_list = \"Hola Python\"\n",
    "print('my_list:', my_list)\n",
    "print('my_list', type(my_list))"
   ]
  },
  {
   "attachments": {},
   "cell_type": "markdown",
   "metadata": {},
   "source": [
    "#### `Acceso a elementos y búsqueda`"
   ]
  },
  {
   "cell_type": "code",
   "execution_count": 88,
   "metadata": {},
   "outputs": [
    {
     "name": "stdout",
     "output_type": "stream",
     "text": [
      "1\n",
      "2\n",
      "30\n",
      "27\n",
      "['a', 'x', 'b', 'd', 'c', 'd', 'e', 'd', 'x', 'x', 'x', 'x']\n",
      "Índice o posición de la letra \"x\": 1\n"
     ]
    }
   ],
   "source": [
    "# Acceso a elementos y búsqueda\n",
    "numbers = [1,2,3,4,5,6,7,8,9,10,11,12,13,14,15,16,17,18,19,20,21,22,23,24,25,26,27,28,29,30]\n",
    "print(numbers[0]) # accede al primer elemento. Las listas comienzan desde la posición 0\n",
    "print(numbers[1]) # accede al segundo elemento.\n",
    "print(numbers[-1]) # toma el último elemento\n",
    "print(numbers[-4]) # cuenta desde el final empezando el último en -1, luego -2, -3 hasta llegar a -4\n",
    "\n",
    "# va a dar error porque los índices no existen\n",
    "# print(numbers[30]) IndexError\n",
    "# print(numbers[-31]) IndexError\n",
    "\n",
    "letters = ['a', 'x', 'b', 'd', 'c', 'd', 'e', 'd', 'x', 'x', 'x', 'x']\n",
    "print(letters)\n",
    "# Buscando el índice de un elemento por su valor\n",
    "print('Índice o posición de la letra \"x\":', letters.index(\"x\")) # retorna la posición del primer elemento que encuentra en la lista, compatible con el argumento"
   ]
  },
  {
   "attachments": {},
   "cell_type": "markdown",
   "metadata": {},
   "source": [
    "#### `Atención! listas y matemática`\n",
    "**Cuidado:** Las listas no fueron diseñadas para realizar operaciones matemáticas. Observar que pasa con el siguiente código."
   ]
  },
  {
   "cell_type": "code",
   "execution_count": 111,
   "metadata": {},
   "outputs": [
    {
     "name": "stdout",
     "output_type": "stream",
     "text": [
      "[1, 2, 3, 4, 5]\n",
      "[1, 2, 3, 4, 5, 1, 2, 3, 4, 5]\n",
      "[1, 2, 3, 4, 5, 10, 11, 12, 13, 14]\n",
      "\n",
      "alumnosalumnosalumnos\n",
      "[1, 2, 3, 4, 5, 6, 7, 8, 9]\n"
     ]
    }
   ],
   "source": [
    "nums = [1, 2, 3, 4, 5]\n",
    "print(nums)\n",
    "print(nums * 2)                    # [1, 2, 3, 4, 5, 1, 2, 3, 4, 5]\n",
    "print(nums + [10, 11, 12, 13, 14]) # [1, 2, 3, 4, 5, 10, 11, 12, 13, 14]\n",
    "\n",
    "print()\n",
    "texto = 'alumnos' # cadena\n",
    "nums2 = [6, 7, 8, 9] # lista\n",
    "\n",
    "print(texto*3)\n",
    "print(nums + nums2)"
   ]
  },
  {
   "attachments": {},
   "cell_type": "markdown",
   "metadata": {},
   "source": [
    "#### `count`"
   ]
  },
  {
   "cell_type": "code",
   "execution_count": 50,
   "metadata": {},
   "outputs": [
    {
     "name": "stdout",
     "output_type": "stream",
     "text": [
      "count \"a\": 1\n",
      "count \"d\": 3\n",
      "count \"x\": 5\n"
     ]
    }
   ],
   "source": [
    "# método count para contar cuántas veces se repite un valor en el array\n",
    "letters = ['a', 'x', 'b', 'd', 'c', 'd', 'e', 'd', 'x', 'x', 'x', 'x']\n",
    "print('count \"a\":', letters.count('a'))\n",
    "print('count \"d\":', letters.count('d'))\n",
    "print('count \"x\":', letters.count('x'))\n"
   ]
  },
  {
   "attachments": {},
   "cell_type": "markdown",
   "metadata": {},
   "source": [
    "#### `len`\n",
    "Para saber la longitud de una lista"
   ]
  },
  {
   "cell_type": "code",
   "execution_count": 62,
   "metadata": {},
   "outputs": [
    {
     "name": "stdout",
     "output_type": "stream",
     "text": [
      "El largo de my_list es: 0\n",
      "my_list: [35, 24, 62, 52, 30, 30, 17]\n",
      "Ahora el largo de my_list es: 7\n",
      "\n",
      "my_other_list: [35, 1.78, 'Nahuel', 'Lopez']\n",
      "El largo de my_other_list es: 4\n",
      "<class 'list'>\n",
      "<class 'list'>\n"
     ]
    }
   ],
   "source": [
    "my_list = []\n",
    "print('El largo de my_list es:', len(my_list))\n",
    "my_list = [35, 24, 62, 52, 30, 30, 17]\n",
    "print('my_list:', my_list)\n",
    "print('Ahora el largo de my_list es:', len(my_list))\n",
    "\n",
    "print()\n",
    "\n",
    "my_other_list = [35, 1.78, \"Nahuel\", \"Lopez\"]\n",
    "print('my_other_list:', my_other_list)\n",
    "print('El largo de my_other_list es:', len(my_other_list))\n",
    "\n",
    "print(type(my_list))\n",
    "print(type(my_other_list))"
   ]
  },
  {
   "attachments": {},
   "cell_type": "markdown",
   "metadata": {},
   "source": [
    "### `Test de pertenencia (in, not in)`"
   ]
  },
  {
   "cell_type": "code",
   "execution_count": 19,
   "metadata": {},
   "outputs": [
    {
     "name": "stdout",
     "output_type": "stream",
     "text": [
      "¿melón está en la lista?: False\n",
      "melón no está en la lista: True\n",
      "¿peras está en la lista?: True\n",
      "¿la letra \"d\" está en la lista?  True\n"
     ]
    }
   ],
   "source": [
    "# test de pertenencia (in, not in)\n",
    "frutas = ['manzanas', 'peras', 'bananas', 'naranjas']\n",
    "print('¿melón está en la lista?:', 'melon' in frutas) # False\n",
    "print('melón no está en la lista:', 'melon' not in frutas) # True\n",
    "print('¿peras está en la lista?:', 'peras' in frutas) # False\n",
    "\n",
    "# usando in\n",
    "basket = ['a','b','c','c','c','d','e']\n",
    "print('¿la letra \"d\" está en la lista?','d' in basket) # True"
   ]
  },
  {
   "attachments": {},
   "cell_type": "markdown",
   "metadata": {},
   "source": [
    "### `Operaciones con listas`"
   ]
  },
  {
   "attachments": {},
   "cell_type": "markdown",
   "metadata": {},
   "source": [
    "#### `slicing`"
   ]
  },
  {
   "cell_type": "code",
   "execution_count": 49,
   "metadata": {},
   "outputs": [
    {
     "name": "stdout",
     "output_type": "stream",
     "text": [
      "He\n",
      "amazon_cart: ['notebook', 'sunglasses', 'toys', 'grapes']\n",
      "amazon_cart[0] = \"laptop\"\n",
      "amazon_cart ['laptop', 'sunglasses', 'toys', 'grapes']\n",
      "amazon_cart[0:2] : ['laptop', 'sunglasses']\n",
      "amazon_cart[0::2] : ['laptop', 'toys']\n",
      "\n",
      "numbers: [1, 2, 3, 4, 5, 6, 7, 8, 9, 10, 11, 12, 13, 14, 15, 16, 17, 18, 19, 20, 21, 22, 23, 24, 25, 26, 27, 28, 29, 30]\n",
      "Largo de la lista numbers: 30\n",
      "numbers[8:20] : [9, 10, 11, 12, 13, 14, 15, 16, 17, 18, 19, 20]\n",
      "numbers[1:29:2] : [2, 4, 6, 8, 10, 12, 14, 16, 18, 20, 22, 24, 26, 28]\n",
      "numbers[15:] : [16, 17, 18, 19, 20, 21, 22, 23, 24, 25, 26, 27, 28, 29, 30]\n",
      "numbers[:15] : [1, 2, 3, 4, 5, 6, 7, 8, 9, 10, 11, 12, 13, 14, 15]\n",
      "numbers[::4] : [1, 5, 9, 13, 17, 21, 25, 29]\n",
      "numbers[::-1] : [30, 29, 28, 27, 26, 25, 24, 23, 22, 21, 20, 19, 18, 17, 16, 15, 14, 13, 12, 11, 10, 9, 8, 7, 6, 5, 4, 3, 2, 1]\n",
      "numbers[::-2] : [30, 28, 26, 24, 22, 20, 18, 16, 14, 12, 10, 8, 6, 4, 2]\n"
     ]
    }
   ],
   "source": [
    "# más sobre slicing, que es muy útil\n",
    "# [inicio, fin, valor en el que avanza]\n",
    "string = 'Hellooo' # se puede usar para strings que son cadenas de caracteres\n",
    "print(string[0:2:1]) # He\n",
    "#string[0] = 'z' # da error, porque los strings son inmutables\n",
    "\n",
    "# se puede usar para listas\n",
    "# las listas son mutables\n",
    "amazon_cart = ['notebook', 'sunglasses', 'toys', 'grapes']\n",
    "print('amazon_cart:', amazon_cart)\n",
    "amazon_cart[0] = 'laptop'\n",
    "print('amazon_cart[0] = \"laptop\"')\n",
    "print('amazon_cart', amazon_cart)\n",
    "\n",
    "print('amazon_cart[0:2] :', amazon_cart[0:2]) # ['laptop', 'sunglasses']\n",
    "# [0::2] desde la posición 0 hasta el final, tomando de a dos\n",
    "print('amazon_cart[0::2] :', amazon_cart[0::2]) # ['laptop', 'toys']\n",
    "\n",
    "print()\n",
    "numbers = [1,2,3,4,5,6,7,8,9,10,11,12,13,14,15,16,17,18,19,20,21,22,23,24,25,26,27,28,29,30]\n",
    "print('numbers:', numbers)\n",
    "print('Largo de la lista numbers:', len(numbers))\n",
    "\n",
    "print('numbers[8:20] :', numbers[8:20]) # desde el índice 8 al 20 sin incluir este último\n",
    "print('numbers[1:29:2] :', numbers[1:29:2]) # desde el índice 1 hasta el último que es el 29, saltando de 2 en 2\n",
    "print('numbers[15:] :', numbers[15:]) # desde la posición 15 en adelante\n",
    "print('numbers[:15] :', numbers[:15]) # desde el principio de la lista hasta la posición 15\n",
    "print('numbers[::4] :', numbers[::4]) # desde el principio de la lista, tomando de a 4\n",
    "print('numbers[::-1] :', numbers[::-1]) # tomando toda la lista, pero invertida\n",
    "print('numbers[::-2] :', numbers[::-2]) # tomando toda la lista invertida, pero de a 2"
   ]
  },
  {
   "attachments": {},
   "cell_type": "markdown",
   "metadata": {},
   "source": [
    "#### `Copiando listas`\n",
    "Para mantener una lista original, muchas veces es útil hacer una copia de ella, y así no se generan otras que apunten al mismo lugar en memoria, ya que esto produce que si una se se altera la otra también. Para evitar esto, se debe hacer una copia de la lista, y guardarla en una variable."
   ]
  },
  {
   "cell_type": "code",
   "execution_count": 63,
   "metadata": {},
   "outputs": [
    {
     "name": "stdout",
     "output_type": "stream",
     "text": [
      "new_cart: ['gum', 'sunglasses', 'toys', 'grapes']\n",
      "amazon_cart: ['notebook', 'sunglasses', 'toys', 'grapes']\n",
      "letters: ['a', 'x', 'b', 'c', 'd', 'e', 'd']\n",
      "letters2: ['a', 'x', 'b', 'c', 'd', 'e', 'd']\n"
     ]
    }
   ],
   "source": [
    "# Dos o más listas, pueden apuntar al mismo lugar en memoria\n",
    "# para no modificar una y alterar la otra, hay que hacer una copia\n",
    "\n",
    "# new_cart = amazon_cart # apuntan a la misma dirección en memoria\n",
    "amazon_cart = ['notebook', 'sunglasses', 'toys', 'grapes']\n",
    "# copia una lista y la retorna. Útil para guardarla en una variable\n",
    "new_cart = amazon_cart[:]\n",
    "new_cart[0] = 'gum'\n",
    "print('new_cart:', new_cart) # ['gum', 'sunglasses', 'toys', 'grapes']\n",
    "print('amazon_cart:', amazon_cart) # ['laptop', 'sunglasses', 'toys', 'grapes']\n",
    "\n",
    "# Lo mismo de otra manera. Con el método copy\n",
    "letters = ['a', 'x', 'b', 'c', 'd', 'e', 'd']\n",
    "letters2 = letters.copy() # con esto no se modifica la original al cambiar letters2\n",
    "print('letters:', letters)\n",
    "print('letters2:', letters2)\n"
   ]
  },
  {
   "attachments": {},
   "cell_type": "markdown",
   "metadata": {},
   "source": [
    "#### `Concatenación de listas`"
   ]
  },
  {
   "cell_type": "code",
   "execution_count": 60,
   "metadata": {},
   "outputs": [
    {
     "name": "stdout",
     "output_type": "stream",
     "text": [
      "['enero', 'febrero', 'marzo', 'abril', 'mayo', 'junio', 'julio', 'agosto', 'septiembre', 'octubre', 'noviembre', 'diciembre']\n",
      "['enero', 'febrero', 'marzo', 'abril', 'mayo', 'junio', 'julio', 'agosto', 'septiembre', 'octubre', 'noviembre', 'diciembre']\n",
      "[1, 2, 3, 4, 5]\n",
      "[1, 2, 3, 4, 5, 100, 101]\n"
     ]
    }
   ],
   "source": [
    "# Concatenación de listas\n",
    "meses1 = ['enero', 'febrero', 'marzo', 'abril', 'mayo', 'junio']\n",
    "meses2 = ['julio', 'agosto', 'septiembre', 'octubre', 'noviembre', 'diciembre']\n",
    "print(meses1 + meses2)\n",
    "# junta las dos listas en una misma lista y lo retorna. Es importante saber eso para poder guardarlo en una variable.\n",
    "meses_totales = meses1 + meses2\n",
    "print(meses_totales)\n",
    "# print(my_list - my_other_list)\n",
    "\n",
    "basket = [1,2,3,4,5]\n",
    "print(basket)\n",
    "# adding con extend, no retorna una nueva lista, modifica la original\n",
    "basket.extend([100, 101]) # basket = [1,2,3,4,5,100,101]\n",
    "print(basket)"
   ]
  },
  {
   "attachments": {},
   "cell_type": "markdown",
   "metadata": {},
   "source": [
    "#### `Creación, inserción, actualización y eliminación`"
   ]
  },
  {
   "cell_type": "code",
   "execution_count": 81,
   "metadata": {},
   "outputs": [
    {
     "name": "stdout",
     "output_type": "stream",
     "text": [
      "['notebook', 'sunglasses', 'toys', 'grapes']\n",
      "['notebook', 'sunglasses', 'toys', 'grapes', 'mouse']\n",
      "['notebook', 'laptop', 'sunglasses', 'toys', 'grapes', 'mouse']\n",
      "['notebook', 'laptop Lenovo', 'sunglasses', 'toys', 'grapes', 'mouse']\n",
      "['notebook', 'laptop Lenovo', 'toys', 'grapes', 'mouse']\n",
      "mouse\n",
      "['notebook', 'laptop Lenovo', 'toys', 'grapes']\n",
      "toys\n",
      "['notebook', 'laptop Lenovo', 'grapes']\n",
      "['notebook', 'laptop Lenovo']\n",
      "[1, 2, 3, 4, 5, 6, 7, 8, 9, 10, 11, 12, 13, 14, 15, 16, 17, 18, 19, 20, 21, 22, 23, 24, 25, 26, 27, 28, 29, 30]\n",
      "[]\n"
     ]
    }
   ],
   "source": [
    "# Creación, inserción, actualización y eliminación\n",
    "\n",
    "#Creando la lista amazon_cart\n",
    "amazon_cart = ['notebook', 'sunglasses', 'toys', 'grapes']\n",
    "print(amazon_cart)\n",
    "\n",
    "# Inserción\n",
    "# append agrega al final\n",
    "amazon_cart.append(\"mouse\")\n",
    "print(amazon_cart)\n",
    "# insert usa dos parámetros, el primero indica el indice \n",
    "# donde se agrega, el segundo el elemento a agregar\n",
    "amazon_cart.insert(1, \"laptop\")\n",
    "print(amazon_cart)\n",
    "\n",
    "# Actualizando: indicando la posición del elemento\n",
    "amazon_cart[1] = \"laptop Lenovo\"\n",
    "print(amazon_cart)\n",
    "\n",
    "# Eliminación\n",
    "# eliminando un elemento por su valor\n",
    "amazon_cart.remove(\"sunglasses\")\n",
    "print(amazon_cart)\n",
    "# eliminando el último elemento. Retorna el elemento borrado\n",
    "print(amazon_cart.pop())\n",
    "print(amazon_cart)\n",
    "# eliminando un elemento por su posición (su índice). Retorna el elemento borrado\n",
    "my_pop_element = amazon_cart.pop(2)\n",
    "print(my_pop_element)\n",
    "print(amazon_cart)\n",
    "# eliminando un elemento por su posición, de otra manera\n",
    "del amazon_cart[2]\n",
    "print(amazon_cart)\n",
    "\n",
    "# elimina todos los elementos de una lista\n",
    "numbers = [1,2,3,4,5,6,7,8,9,10,11,12,13,14,15,16,17,18,19,20,21,22,23,24,25,26,27,28,29,30]\n",
    "print(numbers)\n",
    "numbers.clear()\n",
    "print(numbers)"
   ]
  },
  {
   "attachments": {},
   "cell_type": "markdown",
   "metadata": {},
   "source": [
    "### `Métodos de ordenamiento`"
   ]
  },
  {
   "attachments": {},
   "cell_type": "markdown",
   "metadata": {},
   "source": [
    "#### `reverse`\n",
    "Invierte todos los elementos de una lista, del final al principio. Modifica la lista original"
   ]
  },
  {
   "cell_type": "code",
   "execution_count": 79,
   "metadata": {},
   "outputs": [
    {
     "name": "stdout",
     "output_type": "stream",
     "text": [
      "numbers: [1, 2, 3, 4, 5, 6, 7, 8, 9, 10, 11, 12, 13, 14, 15, 16, 17, 18, 19, 20, 21, 22, 23, 24, 25, 26, 27, 28, 29, 30]\n",
      "numbers.reverse() : [30, 29, 28, 27, 26, 25, 24, 23, 22, 21, 20, 19, 18, 17, 16, 15, 14, 13, 12, 11, 10, 9, 8, 7, 6, 5, 4, 3, 2, 1]\n",
      "\n",
      "numbers: [1, 2, 3, 4, 5, 6, 7, 8, 9, 10, 11, 12, 13, 14, 15, 16, 17, 18, 19, 20, 21, 22, 23, 24, 25, 26, 27, 28, 29, 30]\n",
      "numbers[::-1] : [30, 29, 28, 27, 26, 25, 24, 23, 22, 21, 20, 19, 18, 17, 16, 15, 14, 13, 12, 11, 10, 9, 8, 7, 6, 5, 4, 3, 2, 1]\n",
      "numbers_invertidos: [30, 29, 28, 27, 26, 25, 24, 23, 22, 21, 20, 19, 18, 17, 16, 15, 14, 13, 12, 11, 10, 9, 8, 7, 6, 5, 4, 3, 2, 1]\n"
     ]
    }
   ],
   "source": [
    "numbers = [1,2,3,4,5,6,7,8,9,10,11,12,13,14,15,16,17,18,19,20,21,22,23,24,25,26,27,28,29,30]\n",
    "print('numbers:', numbers)\n",
    "numbers.reverse() # afecta a la lista original\n",
    "print('numbers.reverse() :', numbers)\n",
    "print()\n",
    "numbers = [1,2,3,4,5,6,7,8,9,10,11,12,13,14,15,16,17,18,19,20,21,22,23,24,25,26,27,28,29,30]\n",
    "print('numbers:', numbers)\n",
    "print('numbers[::-1] :', numbers[::-1]) # lo mismo que reverse pero genera una copia de la lista haciendo slicing\n",
    "numbers_invertidos = numbers[::-1] # No modifica la lista original\n",
    "print('numbers_invertidos:', numbers_invertidos)\n"
   ]
  },
  {
   "attachments": {},
   "cell_type": "markdown",
   "metadata": {},
   "source": [
    "#### `sort y sorted`\n",
    "Para ordenar las listas"
   ]
  },
  {
   "cell_type": "code",
   "execution_count": 97,
   "metadata": {},
   "outputs": [
    {
     "name": "stdout",
     "output_type": "stream",
     "text": [
      "sort, modifica la lista original\n",
      "basket: ['a', 'x', 'b', 'c', 'd', 'e', 'd']\n",
      "basket: ['a', 'b', 'c', 'd', 'd', 'e', 'x']\n",
      "\n",
      "sorted, retorna una nueva lista, no modifica la original\n",
      "basket: ['a', 'x', 'b', 'c', 'd', 'e', 'd']\n",
      "sorted(basket) : ['a', 'b', 'c', 'd', 'd', 'e', 'x']\n",
      "basket ['a', 'x', 'b', 'c', 'd', 'e', 'd']\n",
      "basket_ordenada: ['a', 'b', 'c', 'd', 'd', 'e', 'x']\n"
     ]
    }
   ],
   "source": [
    "# sort, modifica la lista original\n",
    "print('sort, modifica la lista original')\n",
    "basket = ['a', 'x', 'b', 'c', 'd', 'e', 'd']\n",
    "print('basket:', basket)\n",
    "basket.sort() # la ordena\n",
    "print('basket:', basket) # modifica la lista original\n",
    "\n",
    "print()\n",
    "\n",
    "# sorted, retorna una nueva lista, no modifica la original\n",
    "print('sorted, retorna una nueva lista, no modifica la original')\n",
    "basket = ['a', 'x', 'b', 'c', 'd', 'e', 'd']\n",
    "print('basket:', basket)\n",
    "print('sorted(basket) :', sorted(basket))\n",
    "print('basket', basket) # esta lista no fue modificada\n",
    "basket_ordenada = sorted(basket)\n",
    "print('basket_ordenada:', basket_ordenada)"
   ]
  },
  {
   "attachments": {},
   "cell_type": "markdown",
   "metadata": {},
   "source": [
    "#### `split`\n",
    "Otra forma de crear una lista a partir de una cadena de caracteres. Por ejemplo, si exportamos datos desde una planilla de cálculo, con valores estarán separados por comas, y entonces los podemos separar usando el método `split()`:"
   ]
  },
  {
   "cell_type": "code",
   "execution_count": 107,
   "metadata": {},
   "outputs": [
    {
     "name": "stdout",
     "output_type": "stream",
     "text": [
      "['Manzana', '200', '390.10']\n",
      "<class 'list'>\n"
     ]
    }
   ],
   "source": [
    "line = 'Manzana,200,390.10'\n",
    "fila = line.split(',') # la coma indica el elemento que se usa como separador\n",
    "print(fila)\n",
    "print(type(fila))"
   ]
  },
  {
   "attachments": {},
   "cell_type": "markdown",
   "metadata": {},
   "source": [
    "#### `método join`"
   ]
  },
  {
   "cell_type": "code",
   "execution_count": 102,
   "metadata": {},
   "outputs": [
    {
     "name": "stdout",
     "output_type": "stream",
     "text": [
      "hi my name is Nahuel\n"
     ]
    }
   ],
   "source": [
    "# método join\n",
    "sentence = ' '\n",
    "new_sentence = sentence.join(['hi', 'my', 'name', 'is', 'Nahuel'])\n",
    "print(new_sentence)\n"
   ]
  },
  {
   "attachments": {},
   "cell_type": "markdown",
   "metadata": {},
   "source": [
    "#### `list unpacking`"
   ]
  },
  {
   "cell_type": "code",
   "execution_count": 101,
   "metadata": {},
   "outputs": [
    {
     "name": "stdout",
     "output_type": "stream",
     "text": [
      "Nahuel Lopez tiene 35 años y mide 1.78 metros\n",
      "\n",
      "35\n",
      "1\n",
      "2\n",
      "3\n",
      "[4, 5, 6, 7, 8]\n",
      "9\n"
     ]
    }
   ],
   "source": [
    "# list unpacking\n",
    "datos_persona = [35, 1.78, \"Nahuel\", \"Lopez\"]\n",
    "age, height, name, surname = datos_persona\n",
    "print(f'{name} {surname} tiene {age} años y mide {height} metros')\n",
    "\n",
    "print()\n",
    "name, height, age, surname = datos_persona[2], datos_persona[1], datos_persona[0], datos_persona[3]\n",
    "print(age)\n",
    "\n",
    "a,b,c, *other,d  = [1,2,3,4,5,6,7,8,9]\n",
    "print(a) # 1\n",
    "print(b) # 2\n",
    "print(c) # 3\n",
    "print(other) # [4,5,6,7,8]\n",
    "print(d) # 9"
   ]
  },
  {
   "attachments": {},
   "cell_type": "markdown",
   "metadata": {},
   "source": [
    "#### `range`"
   ]
  },
  {
   "cell_type": "code",
   "execution_count": 105,
   "metadata": {},
   "outputs": [
    {
     "name": "stdout",
     "output_type": "stream",
     "text": [
      "[0, 1, 2, 3, 4, 5, 6, 7, 8, 9, 10, 11, 12, 13, 14, 15, 16, 17, 18, 19, 20, 21, 22, 23, 24, 25, 26, 27, 28, 29, 30, 31, 32, 33, 34, 35, 36, 37, 38, 39, 40, 41, 42, 43, 44, 45, 46, 47, 48, 49, 50]\n",
      "[1, 2, 3, 4, 5, 6, 7, 8, 9, 10, 11, 12, 13, 14, 15, 16, 17, 18, 19, 20, 21, 22, 23, 24, 25, 26, 27, 28, 29, 30, 31, 32, 33, 34, 35, 36, 37, 38, 39, 40, 41, 42, 43, 44, 45, 46, 47, 48, 49, 50]\n"
     ]
    }
   ],
   "source": [
    "# llenando una lista con range\n",
    "print(list(range(51))) # desde el 0 al 100 (hay 101 números)\n",
    "print(list(range(1,51))) # desde el 1 al 99 (hay 99 números, 100-1)"
   ]
  },
  {
   "attachments": {},
   "cell_type": "markdown",
   "metadata": {},
   "source": [
    "#### `max, min y sum`\n",
    "Las listas también admiten algunas funciones básicas que las reducen a un sólo número, como `max()`, `min()` y `sum()`:"
   ]
  },
  {
   "cell_type": "code",
   "execution_count": 115,
   "metadata": {},
   "outputs": [
    {
     "name": "stdout",
     "output_type": "stream",
     "text": [
      "\n",
      "mínimo: 1\n",
      "\n",
      "máximo: 30\n",
      "\n",
      "sumatoria: 465\n"
     ]
    }
   ],
   "source": [
    "numbers = [1,2,3,4,5,6,7,8,9,10,11,12,13,14,15,16,17,18,19,20,21,22,23,24,25,26,27,28,29,30]\n",
    "\n",
    "print()\n",
    "minimo = min(numbers)\n",
    "print('mínimo:', minimo)\n",
    "\n",
    "print()\n",
    "maximo = max(numbers)\n",
    "print('máximo:', maximo)\n",
    "\n",
    "print()\n",
    "sumatoria = sum(numbers)\n",
    "print('sumatoria:', sumatoria)"
   ]
  },
  {
   "attachments": {},
   "cell_type": "markdown",
   "metadata": {},
   "source": [
    "#### `matrix`"
   ]
  },
  {
   "cell_type": "code",
   "execution_count": 103,
   "metadata": {},
   "outputs": [
    {
     "name": "stdout",
     "output_type": "stream",
     "text": [
      "2\n",
      "6\n"
     ]
    }
   ],
   "source": [
    "# matrix bidimensional\n",
    "matrix = [\n",
    "    [1,2,3],\n",
    "    [4,5,6],\n",
    "    [7,8,9]\n",
    "]\n",
    "\n",
    "print(matrix[0][1]) # 2\n",
    "print(matrix[1][2]) # 6"
   ]
  },
  {
   "cell_type": "markdown",
   "metadata": {},
   "source": [
    "### `Comprensión de listas. Muy importante`\n",
    "\n",
    "Una tarea que se realiza a menudo es procesar los elementos de una lista. La definición de listas por comprensión es una herramienta potente hacer exactamente eso."
   ]
  },
  {
   "cell_type": "code",
   "execution_count": 1,
   "metadata": {},
   "outputs": [
    {
     "name": "stdout",
     "output_type": "stream",
     "text": [
      "[0, 1, 4, 9, 16]\n"
     ]
    }
   ],
   "source": [
    "l1 = [x**2 for x in range(0,5)] # range no toma el último elemento (el 5), y por defecto arranca de 0 (cero). En este caso sería lo mismo poner range(5)\n",
    "print(l1)"
   ]
  },
  {
   "cell_type": "markdown",
   "metadata": {},
   "source": [
    "#### `Creación de listas`\n",
    "\n",
    "La comprensión de listas crea una nueva lista aplicando una operación a cada elemento de una secuencia. Por ejemplo:"
   ]
  },
  {
   "cell_type": "code",
   "execution_count": 2,
   "metadata": {},
   "outputs": [
    {
     "name": "stdout",
     "output_type": "stream",
     "text": [
      "[2, 4, 6, 8, 10]\n"
     ]
    }
   ],
   "source": [
    "a = [1, 2, 3, 4, 5]\n",
    "b = [2*x for x in a] # Creo una lista con el doble de los elementos de a\n",
    "print(b) #[2, 4, 6, 8, 10]\n",
    "\n",
    "# es una versión más cómoda y compacta de\n",
    "b = []\n",
    "for x in a:\n",
    "  b.append(2*x)"
   ]
  },
  {
   "cell_type": "code",
   "execution_count": 3,
   "metadata": {},
   "outputs": [
    {
     "name": "stdout",
     "output_type": "stream",
     "text": [
      "['edmundo', 'juana']\n"
     ]
    }
   ],
   "source": [
    "nombres = ['Edmundo', 'Juana']\n",
    "a = [nombre.lower() for nombre in nombres]\n",
    "print(a) # ['edmundo', 'juana']"
   ]
  },
  {
   "cell_type": "markdown",
   "metadata": {},
   "source": [
    "#### `Filtros`\n",
    "\n",
    "La comprensión de listas se puede usar para filtrar datos."
   ]
  },
  {
   "cell_type": "code",
   "execution_count": 7,
   "metadata": {},
   "outputs": [
    {
     "name": "stdout",
     "output_type": "stream",
     "text": [
      "[2, 8, 4, 20]\n",
      "[4, 10]\n"
     ]
    }
   ],
   "source": [
    "lista_numeros = [1, -5, 4, 2, -2, 10]\n",
    "lista_numeros_filtrada = [2*x for x in lista_numeros if x > 0] # uso sólo los números positivos\n",
    "print(lista_numeros_filtrada) # [2, 8, 4, 20]\n",
    "\n",
    "c = [x for x in lista_numeros if x > 2]\n",
    "print(c)"
   ]
  },
  {
   "cell_type": "markdown",
   "metadata": {},
   "source": [
    "#### `Sintaxis general`\n",
    "\n",
    "La sintaxis general es `[<expresión> for <variable> in <secuencia> if <condición>]`, lo cual significa, expresándolo cómo lo veníamos haciendo hasta ahora"
   ]
  },
  {
   "cell_type": "code",
   "execution_count": null,
   "metadata": {},
   "outputs": [],
   "source": [
    "# resultado = []\n",
    "# for variable in secuencia:\n",
    "#     if condición:\n",
    "#         resultado.append(expresión)\n",
    "\n",
    "# resultado = [<expresión> for <variable> in <secuencia> if <condición>]"
   ]
  },
  {
   "cell_type": "markdown",
   "metadata": {},
   "source": [
    "#### Otros ejemplos"
   ]
  },
  {
   "cell_type": "code",
   "execution_count": null,
   "metadata": {},
   "outputs": [],
   "source": [
    "# Recomendado ver MoureDev\n",
    "# Clase en vídeo: https://youtu.be/TbcEqkabAWU?t=3239\n",
    "\n",
    "### List Comprehension ###\n",
    "\n",
    "my_original_list = [0, 1, 2, 3, 4, 5, 6, 7]\n",
    "print(my_original_list)\n",
    "\n",
    "my_range = range(8)\n",
    "print(list(my_range))\n",
    "\n",
    "# Definición\n",
    "\n",
    "my_list = [i + 1 for i in range(8)]\n",
    "print(my_list)\n",
    "\n",
    "my_list = [i * 2 for i in range(8)]\n",
    "print(my_list)\n",
    "\n",
    "my_list = [i * i for i in range(8)]\n",
    "print(my_list)\n",
    "\n",
    "\n",
    "def sum_five(number):\n",
    "    return number + 5\n",
    "\n",
    "\n",
    "my_list = [sum_five(i) for i in range(8)]\n",
    "print(my_list)"
   ]
  }
 ],
 "metadata": {
  "kernelspec": {
   "display_name": "Python 3",
   "language": "python",
   "name": "python3"
  },
  "language_info": {
   "codemirror_mode": {
    "name": "ipython",
    "version": 3
   },
   "file_extension": ".py",
   "mimetype": "text/x-python",
   "name": "python",
   "nbconvert_exporter": "python",
   "pygments_lexer": "ipython3",
   "version": "3.11.1"
  },
  "orig_nbformat": 4
 },
 "nbformat": 4,
 "nbformat_minor": 2
}
