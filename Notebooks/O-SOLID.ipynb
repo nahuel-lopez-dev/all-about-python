{
 "cells": [
  {
   "cell_type": "markdown",
   "metadata": {
    "id": "7rFWmr4nVJGt"
   },
   "source": [
    "# ⚡ *`SOLID`* ⚡"
   ]
  },
  {
   "cell_type": "markdown",
   "metadata": {},
   "source": [
    "## Recomendaciones \n",
    "\n",
    "Para realizar este notebook se han tomado ejemplos de distintos divulgadores, a los cuales recomiendo ver, ya que considero que hacen un gran aporte a la comunidad de desarrolladores."
   ]
  },
  {
   "cell_type": "markdown",
   "metadata": {},
   "source": [
    "### Ver video tutorial de Mouredev\n",
    "De su video tutorial en Youtube se extraen gran parte de los ejemplos del notebook. \n",
    "Es un material excelente de estudio, para aprender sobre SOLID con Python en sólos dos horas, aunque se puede aplicar a cualquier otro lenguaje. Moure usa Python como ejemplo:\n",
    "\n",
    "[Video tutorial SOLID de Mouredev](https://www.youtube.com/watch?v=ASBC5drF-QU)"
   ]
  },
  {
   "cell_type": "markdown",
   "metadata": {},
   "source": [
    "## Teoría"
   ]
  },
  {
   "cell_type": "markdown",
   "metadata": {},
   "source": [
    "### Principios para una buena arquitectura"
   ]
  },
  {
   "cell_type": "markdown",
   "metadata": {},
   "source": [
    "1. Acoplamiento débil:\\\n",
    "   Débil asociación de conocimientos entre componentes.\\\n",
    "   Los cambios en un componente, deben afectar lo menos posible la existencia o rendimiento de otro u otros. Es decir, si una clase se modifica, deber alterar lo menos posible a otras. Eso reduce el tiempo de modificación de pruebas y cambios en la documentación.\n",
    "   \n",
    "2. Separación de intereses:\\\n",
    "   Dividir la arquitectura en torno a niveles principales de funcionalidad. Se puede dividir por ejemplo en capa de presentación, capa de negocio, capa de recursos de lectura y escritura.\\\n",
    "   La separación de preocupaciones se logra mediante la modularización, la encapsulación y la disposición en capas de software.\n",
    "\n",
    "3. Ley de Demeter o \"Law of Demeter\" (LoD):\\\n",
    "   También conocida como Principio del menor conocimiento.\\\n",
    "   Es una directriz de diseño en la programación orientada a objetos que busca reducir el acoplamiento entre clases. Esta ley se basa en la idea de que un objeto solo debe interactuar con sus amigos inmediatos, es decir, con los objetos que conoce.\\ \n",
    "   Su objetivo es que un objeto no conozca la organización interna de los otros objetos con los que colabora. \\\n",
    "   \n",
    "   La aplicación de este concepto puede resumirse en estos principios:\n",
    "   \n",
    "   - Cada unidad debe tener un conocimiento limitado de las demás unidades, sólo debe conocer las unidades estrechamente relacionadas con ella misma. \n",
    "   - Cada unidad sólo debe hablar con sus amigos, y no debe hablar con extraños.\n",
    "   - Cada unidad sólo debe hablar con sus amigos inmediatos.\n",
    "\n",
    "4. SOLID:\\\n",
    "   Principios de programación orientada a objetos\n",
    "   "
   ]
  },
  {
   "cell_type": "markdown",
   "metadata": {},
   "source": [
    "### SOLID: Principios para mejorar las practicas del diseño orientado a objetos "
   ]
  },
  {
   "cell_type": "markdown",
   "metadata": {},
   "source": [
    "Los Principios SOLID tienen cinco principios de diseño de clases Orientado a Objetos.\\\n",
    "Son un conjunto de reglas y mejores prácticas a seguir al diseñar una estructura de clase. Tienen como objetivo crear código comprensible, legible y comprobable en el que muchos desarrolladores puedan trabajar en colaboración.\n",
    "\n",
    "Para una lectura más profunda, recomiendo un artículo de FreeCodeCamp:\n",
    "\n",
    "[Artículo de FreeCodeCamp](https://www.freecodecamp.org/espanol/news/los-principios-solid-explicados-en-espanol/)"
   ]
  },
  {
   "cell_type": "markdown",
   "metadata": {},
   "source": [
    "Estos principios SOLID son:\n",
    "\n",
    "- S: Single responsability principle (SRP) - Principio de Responsabilidad Única \n",
    "- O: Open/closed principle (OCP) - Principio Abierto-Cerrado\n",
    "- L: Liskov substitution principle (LSP) - Principio de Sustitución de Liskov\n",
    "- I: Interface segregation principle (ISP) - Principio de Segregación de Interfaces\n",
    "- D: Dependency inversion principle (DIP) - Principio de Inversión de Dependencias\n"
   ]
  },
  {
   "cell_type": "markdown",
   "metadata": {},
   "source": [
    "Imagen tomada de Internet de Stackademic:\n",
    "\n",
    "![Principios SOLID](../img/SOLID-Principles.png)"
   ]
  },
  {
   "cell_type": "markdown",
   "metadata": {},
   "source": [
    "## Teoría y Práctica\n",
    "Porque a programar se aprende programando."
   ]
  },
  {
   "cell_type": "markdown",
   "metadata": {},
   "source": [
    "### Principios de Responsabilidad Única"
   ]
  },
  {
   "cell_type": "markdown",
   "metadata": {},
   "source": [
    "Básicamente, establece que nunca debe haber más de una razón para que una clase cambie. Cada clase debe tener una sola responsabilidad central, y especializarse en una única cosa."
   ]
  },
  {
   "cell_type": "code",
   "execution_count": null,
   "metadata": {},
   "outputs": [],
   "source": []
  },
  {
   "cell_type": "markdown",
   "metadata": {},
   "source": [
    "### Principio Abierto - Cerrado"
   ]
  },
  {
   "cell_type": "markdown",
   "metadata": {},
   "source": [
    "Las entidades de software deben estar abiertas a la ampliación pero cerradas a la modificación.\\\n",
    "Para aumentar la funcionalidad, no se deben agregar más métodos dentro de una misma clase, sino que deben crearse otras clases que se extiendan de esta, y así ampliar las funcionalidades."
   ]
  },
  {
   "cell_type": "code",
   "execution_count": null,
   "metadata": {},
   "outputs": [],
   "source": []
  },
  {
   "cell_type": "markdown",
   "metadata": {},
   "source": [
    "### Principio de Sustitución de Liskov"
   ]
  },
  {
   "cell_type": "markdown",
   "metadata": {},
   "source": [
    "Establece que las funciones que utilizan punteros o referencias a clases base, deben poder utilizar objetos de clases derivadas sin saberlo."
   ]
  },
  {
   "cell_type": "code",
   "execution_count": null,
   "metadata": {},
   "outputs": [],
   "source": []
  },
  {
   "cell_type": "markdown",
   "metadata": {},
   "source": [
    "### Principio de Segregación de Interfaces"
   ]
  },
  {
   "cell_type": "markdown",
   "metadata": {},
   "source": [
    "Establece que los cliente no deben verse obligados a depender de interfaces que no utilizan.\\\n",
    "Declarar métodos en una interfaz a la que se llama pero no se necesitan, contamina la interfaz y conduce a una interfaz voluminosa o gorda."
   ]
  },
  {
   "cell_type": "code",
   "execution_count": null,
   "metadata": {},
   "outputs": [],
   "source": []
  },
  {
   "cell_type": "markdown",
   "metadata": {},
   "source": [
    "### Principio de Inversión de Dependencias"
   ]
  },
  {
   "cell_type": "markdown",
   "metadata": {},
   "source": [
    "Establece que hay que depender de la abstracción, no de las concreciones.\\\n"
   ]
  },
  {
   "cell_type": "code",
   "execution_count": null,
   "metadata": {},
   "outputs": [],
   "source": []
  },
  {
   "cell_type": "markdown",
   "metadata": {
    "id": "4v0HUfQJOdOS"
   },
   "source": [
    "## **Fin Notebook**"
   ]
  }
 ],
 "metadata": {
  "colab": {
   "collapsed_sections": [
    "9TjY71-UVUk-",
    "56Jr0YtDcT5V",
    "UxA1maKyZYg8",
    "Rw5vCUi2ADc_",
    "tujToD1HabBQ",
    "_6408H1kd3gL",
    "zCm7NpL2elQ5",
    "F_uv_Ut5_mYW",
    "QD9FTs29AJr6",
    "egkwfPJfeXzj",
    "bYLjV0BFRkEz"
   ],
   "provenance": []
  },
  "kernelspec": {
   "display_name": "Python 3",
   "name": "python3"
  },
  "language_info": {
   "name": "python"
  }
 },
 "nbformat": 4,
 "nbformat_minor": 0
}
