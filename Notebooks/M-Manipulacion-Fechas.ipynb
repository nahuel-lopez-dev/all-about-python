{
 "cells": [
  {
   "cell_type": "markdown",
   "metadata": {},
   "source": [
    "# ⚡ *`Manipulación de fechas`* ⚡"
   ]
  },
  {
   "cell_type": "markdown",
   "metadata": {},
   "source": [
    "## Manipulación de fechas\n",
    "\n",
    "Recomendado, ver clase en video de MoureDev:\n",
    "\n",
    "https://www.youtube.com/watch?v=TbcEqkabAWU"
   ]
  },
  {
   "cell_type": "code",
   "execution_count": 1,
   "metadata": {},
   "outputs": [],
   "source": [
    "### Dates ###\n",
    "\n",
    "# Datetime\n",
    "from datetime import timedelta\n",
    "from datetime import date\n",
    "from datetime import time\n",
    "from datetime import datetime"
   ]
  },
  {
   "cell_type": "markdown",
   "metadata": {},
   "source": [
    "### Datetime"
   ]
  },
  {
   "cell_type": "code",
   "execution_count": null,
   "metadata": {},
   "outputs": [
    {
     "name": "stdout",
     "output_type": "stream",
     "text": [
      "datetime.now(): 2025-04-18 12:45:49.034446\n",
      "Año        : 2025\n",
      "Mes        : 4\n",
      "Día        : 18\n",
      "Hora       : 12\n",
      "Minuto     : 45\n",
      "Segundo    : 49\n",
      "Timestamp  : 1744991149.034446\n"
     ]
    }
   ],
   "source": [
    "from datetime import datetime\n",
    "\n",
    "# ¿Para qué se usa datetime?\n",
    "# - datetime es un módulo que permite trabajar con fechas y horas en Python.\n",
    "# - Permite crear, manipular y formatear fechas y horas de manera sencilla y eficiente.\n",
    "# - Se utiliza para calcular diferencias entre fechas, formatear fechas como texto, y obtener la fecha y hora actual.\n",
    "# - datetime (la clase) representa una fecha y hora específica.\n",
    "\n",
    "# Obtener la fecha y hora actual\n",
    "now = datetime.now()\n",
    "# 2025-04-18 12:45:49.034446\n",
    "#         │      │         └── microsegundos (.034446)\n",
    "#         │      └──────────── hora:minuto:segundo (12:45:49)\n",
    "#         └────────────────── fecha: año-mes-día (2025-04-18)\n",
    "\n",
    "\n",
    "# Mostrar fecha actual con f-string\n",
    "print(f\"datetime.now(): {now}\")\n",
    "\n",
    "# Función para imprimir atributos individuales de la fecha/hora\n",
    "def print_date(date):\n",
    "    print(f\"Año        : {date.year}\")\n",
    "    print(f\"Mes        : {date.month}\")\n",
    "    print(f\"Día        : {date.day}\")\n",
    "    print(f\"Hora       : {date.hour}\")\n",
    "    print(f\"Minuto     : {date.minute}\")\n",
    "    print(f\"Segundo    : {date.second}\")\n",
    "    print(f\"Timestamp  : {date.timestamp()}\")  # segundos desde 1970-01-01\n",
    "\n",
    "# Llamar a la función con la fecha actual\n",
    "print_date(now)\n"
   ]
  },
  {
   "cell_type": "code",
   "execution_count": 3,
   "metadata": {},
   "outputs": [
    {
     "name": "stdout",
     "output_type": "stream",
     "text": [
      "Año        : 2023\n",
      "Mes        : 3\n",
      "Día        : 26\n",
      "Hora       : 0\n",
      "Minuto     : 0\n",
      "Segundo    : 0\n",
      "Timestamp  : 1679799600.0\n"
     ]
    }
   ],
   "source": [
    "# datetime puede recibir argumentos para crear una fecha y hora específica\n",
    "# datetime(YYYY, MM, DD, HH, MM, SS)\n",
    "# si no se le pasa hora, minutos y segundos, se le asigna 0 por defecto\n",
    "# pero requiere de tres argumentos obligatorios: año, mes y día\n",
    "from datetime import datetime\n",
    "year_2023 = datetime(2023, 3, 26)\n",
    "\n",
    "# Función para imprimir atributos individuales de la fecha/hora\n",
    "def print_date(date):\n",
    "    print(f\"Año        : {date.year}\")\n",
    "    print(f\"Mes        : {date.month}\")\n",
    "    print(f\"Día        : {date.day}\")\n",
    "    print(f\"Hora       : {date.hour}\")\n",
    "    print(f\"Minuto     : {date.minute}\")\n",
    "    print(f\"Segundo    : {date.second}\")\n",
    "    print(f\"Timestamp  : {date.timestamp()}\")  # segundos desde 1970-01-01\n",
    "\n",
    "print_date(year_2023)"
   ]
  },
  {
   "cell_type": "markdown",
   "metadata": {},
   "source": [
    "#### Obtener la semana del año"
   ]
  },
  {
   "cell_type": "code",
   "execution_count": 21,
   "metadata": {},
   "outputs": [
    {
     "name": "stdout",
     "output_type": "stream",
     "text": [
      "El 18 de abril de 2025 está en la semana número: 16\n"
     ]
    }
   ],
   "source": [
    "from datetime import datetime\n",
    "\n",
    "# Obtener el número de la semana del año para el 18 de abril de 2025\n",
    "fecha = datetime(2025, 4, 18)\n",
    "# isocalendar() retorna una tupla (año ISO, número de semana, día de la semana)\n",
    "anio, semana, dia = fecha.isocalendar()\n",
    "\n",
    "print(f\"El 18 de abril de 2025 está en la semana número: {semana}\")"
   ]
  },
  {
   "cell_type": "markdown",
   "metadata": {},
   "source": [
    "### Agregando formato con strftime"
   ]
  },
  {
   "cell_type": "markdown",
   "metadata": {},
   "source": [
    "| Código | Significado                 | Ejemplo         |\n",
    "|--------|-----------------------------|-----------------|\n",
    "| %Y     | Año con cuatro dígitos      | 2025            |\n",
    "| %y     | Año con dos dígitos         | 25              |\n",
    "| %m     | Mes (01 a 12)               | 04              |\n",
    "| %B     | Nombre completo del mes     | April           |\n",
    "| %b     | Nombre corto del mes        | Apr             |\n",
    "| %d     | Día del mes (01 a 31)       | 18              |\n",
    "| %A     | Día de la semana (completo) | Friday          |\n",
    "| %a     | Día de la semana (corto)    | Fri             |\n",
    "| %H     | Hora (00 a 23)              | 14              |\n",
    "| %I     | Hora (01 a 12, formato 12h) | 02              |\n",
    "| %p     | AM/PM                       | PM              |\n",
    "| %M     | Minutos (00 a 59)           | 45              |\n",
    "| %S     | Segundos (00 a 59)          | 49              |\n",
    "| %f     | Microsegundos (000000–999999)| 034446         |\n",
    "| %z     | Zona horaria                | +0000           |\n",
    "| %Z     | Nombre de la zona horaria   | UTC             |\n",
    "| %j     | Día del año (001 a 366)     | 108             |\n",
    "| %U     | Semana del año (domingo 1ª) | 16              |\n",
    "| %W     | Semana del año (lunes 1ª)   | 15              |\n",
    "| %%     | Carácter % literal          | %               |\n"
   ]
  },
  {
   "cell_type": "code",
   "execution_count": 272,
   "metadata": {},
   "outputs": [
    {
     "name": "stdout",
     "output_type": "stream",
     "text": [
      "2025-04-18 12:53:29.419879\n",
      "Formateando fecha y hora con strftime:\n",
      "18-04-25 12:53:29\n"
     ]
    }
   ],
   "source": [
    "print(datetime.now().strftime(\"%Y-%m-%d %H:%M:%S.%f\"))\n",
    "# %Y → Año con 4 dígitos\n",
    "# %m → Mes con 2 dígitos\n",
    "# %d → Día con 2 dígitos\n",
    "# %H → Hora (24h)\n",
    "# %M → Minutos\n",
    "# %S → Segundos\n",
    "# %f → Microsegundos\n",
    "print(\"Formateando fecha y hora con strftime:\")\n",
    "print(datetime.now().strftime(\"%d-%m-%y %H:%M:%S\"))"
   ]
  },
  {
   "cell_type": "code",
   "execution_count": null,
   "metadata": {},
   "outputs": [
    {
     "name": "stdout",
     "output_type": "stream",
     "text": [
      "Friday 18 de April de 2025, 12:58:11\n"
     ]
    }
   ],
   "source": [
    "from datetime import datetime\n",
    "\n",
    "now = datetime.now()\n",
    "fecha = now.strftime(\"%A %d de %B de %Y, %H:%M:%S\")\n",
    "print(fecha)  # Ej: Friday 18 de April de 2025, 14:45:49\n"
   ]
  },
  {
   "cell_type": "markdown",
   "metadata": {},
   "source": [
    "Seteando a idioma local español"
   ]
  },
  {
   "cell_type": "code",
   "execution_count": null,
   "metadata": {},
   "outputs": [
    {
     "name": "stdout",
     "output_type": "stream",
     "text": [
      "viernes 18 de abril de 2025, 13:01:24\n"
     ]
    }
   ],
   "source": [
    "import locale\n",
    "from datetime import datetime\n",
    "\n",
    "# Configurá el idioma al español (esto depende del sistema operativo)\n",
    "locale.setlocale(locale.LC_TIME, 'es_ES.UTF-8') # esto también sirve en windows, con algunos errores según el formato\n",
    "# locale.setlocale(locale.LC_TIME, 'Spanish_Spain.1252')  # Para Windows\n",
    "\n",
    "now = datetime.now()\n",
    "fecha = now.strftime(\"%A %d de %B de %Y, %H:%M:%S\")\n",
    "print(fecha)\n"
   ]
  },
  {
   "cell_type": "markdown",
   "metadata": {},
   "source": [
    "### Date"
   ]
  },
  {
   "cell_type": "code",
   "execution_count": 29,
   "metadata": {},
   "outputs": [
    {
     "name": "stdout",
     "output_type": "stream",
     "text": [
      "Cumpleaños: 1988-03-26\n",
      "Año: 1988\n",
      "Mes: 3\n",
      "Día: 26\n"
     ]
    }
   ],
   "source": [
    "# ¿Para qué se usa date?\n",
    "# - El objeto date se usa para representar una fecha específica sin incluir la hora.\n",
    "# - Es útil para trabajar con eventos que solo requieren la fecha, como cumpleaños, citas médicas o feriados.\n",
    "# - Forma parte del módulo datetime de Python.\n",
    "# - Se crea pasando los argumentos: year, month y day (todos obligatorios).\n",
    "\n",
    "from datetime import date\n",
    "\n",
    "# Crear una fecha específica\n",
    "cumpleaños = date(1988, 3, 26)  # 26 de marzo de 1988\n",
    "print(f\"Cumpleaños: {cumpleaños}\")\n",
    "print(f\"Año: {cumpleaños.year}\")\n",
    "print(f\"Mes: {cumpleaños.month}\")\n",
    "print(f\"Día: {cumpleaños.day}\")\n"
   ]
  },
  {
   "cell_type": "code",
   "execution_count": null,
   "metadata": {},
   "outputs": [
    {
     "name": "stdout",
     "output_type": "stream",
     "text": [
      "Días hasta el evento: 44\n"
     ]
    }
   ],
   "source": [
    "from datetime import date\n",
    "\n",
    "# Diferencia entre dos fechas (cuántos días faltan para una fecha)\n",
    "evento = date(2025, 6, 1)\n",
    "hoy = date.today()\n",
    "faltan = evento - hoy\n",
    "print(f\"Días hasta el evento: {faltan.days}\")"
   ]
  },
  {
   "cell_type": "code",
   "execution_count": 31,
   "metadata": {},
   "outputs": [
    {
     "name": "stdout",
     "output_type": "stream",
     "text": [
      "La primera fecha es anterior a la segunda\n"
     ]
    }
   ],
   "source": [
    "from datetime import date\n",
    "\n",
    "fecha1 = date(2024, 5, 1)\n",
    "fecha2 = date(2024, 12, 31)\n",
    "\n",
    "# Comparar fechas\n",
    "if fecha1 < fecha2:\n",
    "    print(\"La primera fecha es anterior a la segunda\")\n",
    "else:\n",
    "    print(\"La primera fecha es posterior o igual\")\n"
   ]
  },
  {
   "cell_type": "code",
   "execution_count": 33,
   "metadata": {},
   "outputs": [
    {
     "name": "stdout",
     "output_type": "stream",
     "text": [
      "Mi cumpleaños es el 26 de marzo de 1988\n"
     ]
    }
   ],
   "source": [
    "import locale\n",
    "from datetime import date\n",
    "\n",
    "# Configurar el idioma al español (elegí el que funcione en tu sistema)\n",
    "# Para Linux/Mac: 'es_ES.UTF-8'\n",
    "# Para Windows: 'Spanish_Spain.1252'\n",
    "locale.setlocale(locale.LC_TIME, 'Spanish_Spain.1252')\n",
    "\n",
    "nacimiento = date(1988, 3, 26)  # 26 de marzo de 1988\n",
    "nacimiento_formateado = nacimiento.strftime(\"%d de %B de %Y\")  # → '26 de marzo de 1988'\n",
    "\n",
    "print(f\"Mi cumpleaños es el {nacimiento_formateado}\")\n"
   ]
  },
  {
   "cell_type": "code",
   "execution_count": 34,
   "metadata": {},
   "outputs": [
    {
     "name": "stdout",
     "output_type": "stream",
     "text": [
      "Fecha actual: 2025-04-18\n",
      "Año actual: 2025\n",
      "Mes actual: 4\n",
      "Día actual: 18\n"
     ]
    }
   ],
   "source": [
    "from datetime import date\n",
    "\n",
    "# date.today() devuelve la fecha actual del sistema (sin la hora)\n",
    "current_date = date.today()\n",
    "\n",
    "print(f\"Fecha actual: {current_date}\")\n",
    "print(f\"Año actual: {current_date.year}\")\n",
    "print(f\"Mes actual: {current_date.month}\")\n",
    "print(f\"Día actual: {current_date.day}\")\n"
   ]
  },
  {
   "cell_type": "markdown",
   "metadata": {},
   "source": [
    "### Time"
   ]
  },
  {
   "cell_type": "code",
   "execution_count": 37,
   "metadata": {},
   "outputs": [
    {
     "name": "stdout",
     "output_type": "stream",
     "text": [
      "Hora: 21\n",
      "Minuto: 6\n",
      "Segundo: 0\n"
     ]
    }
   ],
   "source": [
    "# ¿Para qué se usa time?\n",
    "# - La clase time del módulo datetime se usa para representar la hora del día (sin fecha).\n",
    "# - Se le pueden pasar como argumentos: hour, minute, second, microsecond (todos opcionales).\n",
    "# - Es útil para representar la hora de un evento, como la hora de un vuelo, reunión, alarma, etc.\n",
    "\n",
    "from datetime import time\n",
    "\n",
    "# Creamos un objeto time con hora 21:06:00\n",
    "current_time = time(21, 6, 0)\n",
    "\n",
    "# Accedemos a sus componentes\n",
    "print(f\"Hora: {current_time.hour}\")\n",
    "print(f\"Minuto: {current_time.minute}\")\n",
    "print(f\"Segundo: {current_time.second}\")\n"
   ]
  },
  {
   "cell_type": "code",
   "execution_count": 38,
   "metadata": {},
   "outputs": [
    {
     "name": "stdout",
     "output_type": "stream",
     "text": [
      "Hora actual (objeto time): 22:06:00\n",
      "Hora: 22\n",
      "Minuto: 6\n",
      "Segundo: 0\n"
     ]
    }
   ],
   "source": [
    "# ¿Cómo obtener la hora actual con time?\n",
    "from datetime import datetime, time\n",
    "\n",
    "# Obtenemos la hora actual una sola vez\n",
    "now = datetime.now()\n",
    "\n",
    "# Creamos un objeto time con la hora actual\n",
    "current_time = time(now.hour, now.minute, now.second)\n",
    "\n",
    "print(f\"Hora actual (objeto time): {current_time}\")\n",
    "print(f\"Hora: {current_time.hour}\")\n",
    "print(f\"Minuto: {current_time.minute}\")\n",
    "print(f\"Segundo: {current_time.second}\")\n"
   ]
  },
  {
   "cell_type": "markdown",
   "metadata": {},
   "source": [
    "### Operaciones con fechas"
   ]
  },
  {
   "cell_type": "code",
   "execution_count": 35,
   "metadata": {},
   "outputs": [
    {
     "name": "stdout",
     "output_type": "stream",
     "text": [
      "Diferencia entre datetime.now() y 2023-03-26 (con hora): 754 days, 21:52:30.908341\n",
      "Diferencia entre date.today() y 2023-03-26 (solo fecha): 754 days, 0:00:00\n"
     ]
    }
   ],
   "source": [
    "from datetime import datetime, date\n",
    "\n",
    "# Obtenemos la fecha y hora actual\n",
    "now = datetime.now()\n",
    "\n",
    "# Creamos una fecha específica con datetime\n",
    "fecha_pasada = datetime(2023, 3, 26)\n",
    "\n",
    "# También obtenemos solo la fecha actual (sin hora)\n",
    "current_date = date.today()\n",
    "\n",
    "# Diferencia entre dos objetos datetime (incluye horas, minutos, etc.)\n",
    "diff_con_hora = now - fecha_pasada\n",
    "print(f\"Diferencia entre datetime.now() y 2023-03-26 (con hora): {diff_con_hora}\")\n",
    "\n",
    "# Diferencia entre dos objetos date (solo fecha, sin hora)\n",
    "diff_sin_hora = current_date - fecha_pasada.date()\n",
    "print(f\"Diferencia entre date.today() y 2023-03-26 (solo fecha): {diff_sin_hora}\")\n"
   ]
  },
  {
   "cell_type": "markdown",
   "metadata": {},
   "source": [
    "### Timedelta"
   ]
  },
  {
   "cell_type": "code",
   "execution_count": null,
   "metadata": {},
   "outputs": [
    {
     "name": "stdout",
     "output_type": "stream",
     "text": [
      "Ahora: 2025-04-18 12:40:38.008534\n",
      "En 2 días y 3 horas: 2025-04-20 15:40:38.008534\n"
     ]
    }
   ],
   "source": [
    "# ¿Para qué se usa timedelta?\n",
    "# - Sirve para representar una duración o diferencia entre fechas/horas.\n",
    "# - Se utiliza para sumar o restar tiempo a un objeto datetime o date.\n",
    "# - Argumentos disponibles: days, seconds, microseconds, milliseconds, minutes, hours, weeks.\n",
    "# - Todos los argumentos son opcionales (por defecto son 0).\n",
    "\n",
    "# Timedelta\n",
    "from datetime import datetime, timedelta\n",
    "\n",
    "ahora = datetime.now()\n",
    "futuro = ahora + timedelta(days=2, hours=3)\n",
    "\n",
    "print(\"Ahora:\", ahora)\n",
    "print(\"En 2 días y 3 horas:\", futuro)"
   ]
  },
  {
   "cell_type": "markdown",
   "metadata": {},
   "source": [
    "#### Ejemplo turno médico"
   ]
  },
  {
   "cell_type": "code",
   "execution_count": 36,
   "metadata": {},
   "outputs": [
    {
     "name": "stdout",
     "output_type": "stream",
     "text": [
      "Hoy es: 18/04/2025\n",
      "Tu turno médico es el: 13/05/2025\n",
      "Faltan: 25 días para tu turno.\n"
     ]
    }
   ],
   "source": [
    "from datetime import datetime, timedelta\n",
    "\n",
    "# Fecha y hora actual\n",
    "ahora = datetime.now()\n",
    "\n",
    "# Turno médico dentro de 25 días\n",
    "turno_medico = ahora + timedelta(days=25)\n",
    "\n",
    "# Diferencia entre la fecha del turno y la fecha actual\n",
    "faltan = turno_medico - ahora\n",
    "\n",
    "# Mostrar las fechas con formato día/mes/año\n",
    "# con Y toma el año completo, con y toma el año de dos dígitos\n",
    "print(\"Hoy es:\", ahora.strftime(\"%d/%m/%Y\"))\n",
    "print(\"Tu turno médico es el:\", turno_medico.strftime(\"%d/%m/%Y\"))\n",
    "print(\"Faltan:\", faltan.days, \"días para tu turno.\")\n"
   ]
  },
  {
   "cell_type": "markdown",
   "metadata": {},
   "source": [
    "### Módulo Calendar\n",
    "\n",
    "El módulo calendar en Python permite trabajar con calendarios y fechas, es bastante útil para eso, facilitando tareas como obtener información sobre días de la semana, calcular si un día es fin de semana, identificar semanas del año, verificar si un año es bisiesto, generar calendarios completos o manipular fechas en función de su disposición en el calendario.\n",
    "\n",
    "Algunas de las funcionalidades que se pueden usar con el módulo calendar son:\n",
    "\n",
    "- Obtener el nombre del día de la semana para una fecha específica.\n",
    "- Verificar si un año es bisiesto.\n",
    "- Generar calendarios mensuales o anuales.\n",
    "- Trabajar con semanas, días de la semana y otras operaciones relacionadas con fechas."
   ]
  },
  {
   "cell_type": "markdown",
   "metadata": {},
   "source": [
    "#### Ejemplo 1: Verificar si un año es bisiesto"
   ]
  },
  {
   "cell_type": "code",
   "execution_count": 14,
   "metadata": {},
   "outputs": [
    {
     "name": "stdout",
     "output_type": "stream",
     "text": [
      "¿Es 2024 un año bisiesto? True\n"
     ]
    }
   ],
   "source": [
    "import calendar\n",
    "\n",
    "# Verificar si el 2024 es un año bisiesto\n",
    "es_bisiesto = calendar.isleap(2024)\n",
    "print(f\"¿Es 2024 un año bisiesto? {es_bisiesto}\")"
   ]
  },
  {
   "cell_type": "markdown",
   "metadata": {},
   "source": [
    "#### Ejemplo 2: Obtener el día de la semana de una fecha específica"
   ]
  },
  {
   "cell_type": "code",
   "execution_count": 12,
   "metadata": {},
   "outputs": [
    {
     "name": "stdout",
     "output_type": "stream",
     "text": [
      "El 18 de abril de 2025 es: Friday\n"
     ]
    }
   ],
   "source": [
    "import calendar\n",
    "\n",
    "# Obtener el día de la semana para el 18 de abril de 2025\n",
    "# Retorna un número entre 0 (lunes) y 6 (domingo)\n",
    "dia_semana = calendar.weekday(2025, 4, 18)\n",
    "print(f\"El 18 de abril de 2025 es: {calendar.day_name[dia_semana]}\")"
   ]
  },
  {
   "cell_type": "markdown",
   "metadata": {},
   "source": [
    "#### Ejemplo 3: Generar un calendario mensual"
   ]
  },
  {
   "cell_type": "code",
   "execution_count": null,
   "metadata": {},
   "outputs": [
    {
     "name": "stdout",
     "output_type": "stream",
     "text": [
      "     abril 2025\n",
      "lu ma mi ju vi sá do\n",
      "    1  2  3  4  5  6\n",
      " 7  8  9 10 11 12 13\n",
      "14 15 16 17 18 19 20\n",
      "21 22 23 24 25 26 27\n",
      "28 29 30\n",
      "\n"
     ]
    }
   ],
   "source": [
    "import calendar\n",
    "import locale\n",
    "\n",
    "# Configurá el idioma al español (esto depende del sistema operativo)\n",
    "locale.setlocale(locale.LC_TIME, 'Spanish_Spain.1252')  # Para Windows\n",
    "\n",
    "# Imprimir el calendario de abril de 2025\n",
    "calendario = calendar.month(2025, 4)\n",
    "print(calendario)"
   ]
  },
  {
   "cell_type": "markdown",
   "metadata": {},
   "source": [
    "#### Ejemplo 4: Generar un calendario anual"
   ]
  },
  {
   "cell_type": "code",
   "execution_count": 26,
   "metadata": {},
   "outputs": [
    {
     "name": "stdout",
     "output_type": "stream",
     "text": [
      "                                  2025\n",
      "\n",
      "       enero                    febrero                    marzo\n",
      "lu ma mi ju vi sá do      lu ma mi ju vi sá do      lu ma mi ju vi sá do\n",
      "       1  2  3  4  5                      1  2                      1  2\n",
      " 6  7  8  9 10 11 12       3  4  5  6  7  8  9       3  4  5  6  7  8  9\n",
      "13 14 15 16 17 18 19      10 11 12 13 14 15 16      10 11 12 13 14 15 16\n",
      "20 21 22 23 24 25 26      17 18 19 20 21 22 23      17 18 19 20 21 22 23\n",
      "27 28 29 30 31            24 25 26 27 28            24 25 26 27 28 29 30\n",
      "                                                    31\n",
      "\n",
      "       abril                      mayo                     junio\n",
      "lu ma mi ju vi sá do      lu ma mi ju vi sá do      lu ma mi ju vi sá do\n",
      "    1  2  3  4  5  6                1  2  3  4                         1\n",
      " 7  8  9 10 11 12 13       5  6  7  8  9 10 11       2  3  4  5  6  7  8\n",
      "14 15 16 17 18 19 20      12 13 14 15 16 17 18       9 10 11 12 13 14 15\n",
      "21 22 23 24 25 26 27      19 20 21 22 23 24 25      16 17 18 19 20 21 22\n",
      "28 29 30                  26 27 28 29 30 31         23 24 25 26 27 28 29\n",
      "                                                    30\n",
      "\n",
      "       julio                     agosto                  septiembre\n",
      "lu ma mi ju vi sá do      lu ma mi ju vi sá do      lu ma mi ju vi sá do\n",
      "    1  2  3  4  5  6                   1  2  3       1  2  3  4  5  6  7\n",
      " 7  8  9 10 11 12 13       4  5  6  7  8  9 10       8  9 10 11 12 13 14\n",
      "14 15 16 17 18 19 20      11 12 13 14 15 16 17      15 16 17 18 19 20 21\n",
      "21 22 23 24 25 26 27      18 19 20 21 22 23 24      22 23 24 25 26 27 28\n",
      "28 29 30 31               25 26 27 28 29 30 31      29 30\n",
      "\n",
      "      octubre                  noviembre                 diciembre\n",
      "lu ma mi ju vi sá do      lu ma mi ju vi sá do      lu ma mi ju vi sá do\n",
      "       1  2  3  4  5                      1  2       1  2  3  4  5  6  7\n",
      " 6  7  8  9 10 11 12       3  4  5  6  7  8  9       8  9 10 11 12 13 14\n",
      "13 14 15 16 17 18 19      10 11 12 13 14 15 16      15 16 17 18 19 20 21\n",
      "20 21 22 23 24 25 26      17 18 19 20 21 22 23      22 23 24 25 26 27 28\n",
      "27 28 29 30 31            24 25 26 27 28 29 30      29 30 31\n",
      "\n",
      "¿En qué formato se escribe el calendario?: <class 'str'>\n"
     ]
    }
   ],
   "source": [
    "import calendar\n",
    "import locale\n",
    "\n",
    "# Configurá el idioma al español (esto depende del sistema operativo)\n",
    "locale.setlocale(locale.LC_TIME, 'Spanish_Spain.1252')  # Para Windows\n",
    "\n",
    "# Imprimir el calendario completo de 2025\n",
    "calendario_anual = calendar.calendar(2025)\n",
    "print(calendario_anual)\n",
    "print(f\"¿En qué formato se escribe el calendario?: {type(calendario_anual)}\")  # <class 'str'>"
   ]
  },
  {
   "cell_type": "markdown",
   "metadata": {},
   "source": [
    "### Resumen"
   ]
  },
  {
   "cell_type": "markdown",
   "metadata": {},
   "source": [
    "#### ¿Cuándo usar cada clase?\n",
    "\n",
    "| Clase        | ¿Qué representa?                                      | ¿Cuándo usarla?                                                                 |\n",
    "|--------------|--------------------------------------------------------|---------------------------------------------------------------------------------|\n",
    "| `datetime`   | Una **fecha con hora**                                | Para trabajar con marcas de tiempo completas, como registros de logs o eventos.|\n",
    "| `date`       | Solo una **fecha** (año, mes, día)                     | Cuando solo te interesa el día, como cumpleaños, feriados o eventos históricos.|\n",
    "| `time`       | Solo una **hora** (hora, minuto, segundo)             | Cuando querés representar la hora de algo, como un horario de apertura.        |\n",
    "| `timedelta`  | Una **duración** (cantidad de tiempo)                 | Para sumar o restar tiempo, o calcular cuántos días/hours hay entre fechas.    |\n",
    "| `calendar`   | Funciones para trabajar con **calendarios completos** | Para obtener calendarios mensuales, saber si un año es bisiesto, etc.          |\n",
    "\n",
    "#### 📌 Tips finales\n",
    "\n",
    "- `datetime.now()` te da la **fecha y hora actual**.\n",
    "\n",
    "- `date.today()` es solo la **fecha actual**, sin la hora.\n",
    "\n",
    "- `time.now()` te da la **hora actual** sin la fecha.\n",
    "\n",
    "- `.strftime()` para **formatear** fechas en texto.\n",
    "\n",
    "- `.strptime()` para **convertir** un texto en fecha.\n",
    "\n",
    "- El módulo `locale` te permite mostrar fechas en **español** si estás en Windows o Linux.\n"
   ]
  },
  {
   "cell_type": "markdown",
   "metadata": {},
   "source": [
    "## 📝 Ejercicios\n",
    "\n",
    "#### 1. **Ejercicio con `datetime`**\n",
    "   **Objetivo:** Calcular la edad de una persona a partir de su fecha de nacimiento.\n",
    "   \n",
    "   **Instrucciones:**\n",
    "   - Crea una fecha de nacimiento (por ejemplo, 26 de Marzo de 1988).\n",
    "   - Usa `datetime.now()` para obtener la fecha actual.\n",
    "   - Calcula la diferencia entre la fecha de nacimiento y la fecha actual en años, meses y días.\n",
    "\n",
    "#### 2. **Ejercicio con `datetime`**\n",
    "   **Objetivo:** Crear un programa que te diga qué día de la semana es el 1 de enero de cada año.\n",
    "   \n",
    "   **Instrucciones:**\n",
    "   - Usa `datetime` para calcular el día de la semana para el 1 de enero de 2025 y 2026.\n",
    "   - Usa `strftime(\"%A\")` para obtener el nombre del día de la semana.\n",
    "\n",
    "---\n",
    "\n",
    "#### 3. **Ejercicio con `date`**\n",
    "   **Objetivo:** Compara dos fechas y determina cuál es la más antigua.\n",
    "   \n",
    "   **Instrucciones:**\n",
    "   - Crea dos fechas diferentes usando `date(year, month, day)`.\n",
    "   - Compara ambas fechas y determina cuál es la más antigua.\n",
    "\n",
    "#### 4. **Ejercicio con `date`**\n",
    "   **Objetivo:** Calcular el número de días restantes para el próximo cumpleaños.\n",
    "   \n",
    "   **Instrucciones:**\n",
    "   - Usa `date.today()` para obtener la fecha actual.\n",
    "   - Crea una fecha para tu próximo cumpleaños y calcula cuántos días faltan.\n",
    "\n",
    "---\n",
    "\n",
    "#### 5. **Ejercicio con `time`**\n",
    "   **Objetivo:** Crear un objeto time y realizar una operación básica con él, como obtener los componentes de hora, minuto y segundo.\n",
    "\n",
    "#### 6. **Ejercicio con `time`**\n",
    "   **Objetivo:** Verificar si una hora dada está dentro de un rango de tiempo.\n",
    "   \n",
    "   Imaginemos que tenemos una tienda que abre de 9:00 AM a 6:00 PM y queremos verificar si una hora específica está dentro de ese rango. Este ejercicio es adecuado para time porque no necesitamos la fecha, solo la hora.\n",
    "\n",
    "---\n",
    "\n",
    "#### 7. **Ejercicio con `timedelta`**\n",
    "   **Objetivo:** Calcular el plazo de vencimiento de una factura o de un pago usando timedelta.\n",
    "   \n",
    "#### 8. **Ejercicio con `timedelta`**\n",
    "   **Objetivo:** Restar 3 semanas y 2 días a una fecha.\n",
    "\n",
    "---\n",
    "\n",
    "#### 9. **Ejercicio con `calendar`**\n",
    "   **Objetivo:** Mostrar el calendario completo del mes de junio de 2025.\n",
    "   \n",
    "   **Instrucciones:**\n",
    "   - Usa la función `calendar.month()` para mostrar el calendario de junio de 2025.\n",
    "   - Asegúrate de que el formato sea amigable y legible.\n",
    "\n",
    "#### 10. **Ejercicio con `calendar`**\n",
    "   **Objetivo:** Verificar si un año dado es bisiesto.\n",
    "   \n",
    "   **Instrucciones:**\n",
    "   - Usa `calendar.isleap()` para verificar si el año 2024 es bisiesto.\n",
    "   - Imprime un mensaje indicando si el año es bisiesto o no.\n",
    "\n",
    "---\n",
    "\n",
    "#### 11. **Ejercicio combinado: `timedelta` y `calendar`**\n",
    "   **Objetivo:** Mostrar el calendario del mes que resulta después de sumar 10 días al último día de un mes específico.\n",
    "   \n",
    "   **Instrucciones:**\n",
    "   - Usa `calendar.monthrange()` para obtener el último día de un mes (por ejemplo, el último día de mayo 2025).\n",
    "   - Usa `timedelta` para sumar 10 días a esa fecha.\n",
    "   - Muestra el calendario del mes que corresponde a esa fecha final.\n"
   ]
  },
  {
   "cell_type": "code",
   "execution_count": null,
   "metadata": {},
   "outputs": [
    {
     "name": "stdout",
     "output_type": "stream",
     "text": [
      "La persona tiene aproximadamente 37 años.\n"
     ]
    }
   ],
   "source": [
    "# 1. **Ejercicio con `datetime`**\n",
    "# Objetivo: Calcular la edad de una persona a partir de su fecha de nacimiento.\n",
    "\n",
    "from datetime import datetime\n",
    "\n",
    "# Fecha de nacimiento\n",
    "nacimiento = datetime(1988, 3, 26)  # 26 de marzo de 1988\n",
    "\n",
    "# Fecha actual\n",
    "ahora = datetime.now()\n",
    "\n",
    "# Calculamos la diferencia\n",
    "edad = ahora - nacimiento\n",
    "años = edad.days // 365  # Aproximación de años\n",
    "\n",
    "print(f\"La persona tiene aproximadamente {años} años.\")"
   ]
  },
  {
   "cell_type": "code",
   "execution_count": 42,
   "metadata": {},
   "outputs": [
    {
     "name": "stdout",
     "output_type": "stream",
     "text": [
      "1 de enero de 2025 es: miércoles\n",
      "1 de enero de 2026 es: jueves\n"
     ]
    }
   ],
   "source": [
    "# 2. Ejercicio con datetime\n",
    "# Objetivo: Crear un programa que te diga qué día de la semana es el 1 de enero de cada año.\n",
    "\n",
    "from datetime import datetime\n",
    "\n",
    "# Año 2025\n",
    "fecha_2025 = datetime(2025, 1, 1)\n",
    "print(f\"1 de enero de 2025 es: {fecha_2025.strftime('%A')}\")\n",
    "\n",
    "# Año 2026\n",
    "fecha_2026 = datetime(2026, 1, 1)\n",
    "print(f\"1 de enero de 2026 es: {fecha_2026.strftime('%A')}\")\n"
   ]
  },
  {
   "cell_type": "code",
   "execution_count": 43,
   "metadata": {},
   "outputs": [
    {
     "name": "stdout",
     "output_type": "stream",
     "text": [
      "2020-05-10 es más antigua que 2022-03-15\n"
     ]
    }
   ],
   "source": [
    "# 3. Ejercicio con date\n",
    "# Objetivo: Compara dos fechas y determina cuál es la más antigua.\n",
    "\n",
    "from datetime import date\n",
    "\n",
    "# Dos fechas\n",
    "fecha1 = date(2020, 5, 10)\n",
    "fecha2 = date(2022, 3, 15)\n",
    "\n",
    "# Comparación\n",
    "if fecha1 < fecha2:\n",
    "    print(f\"{fecha1} es más antigua que {fecha2}\")\n",
    "elif fecha1 > fecha2:\n",
    "    print(f\"{fecha2} es más antigua que {fecha1}\")\n",
    "else:\n",
    "    print(\"Ambas fechas son iguales.\")"
   ]
  },
  {
   "cell_type": "code",
   "execution_count": 45,
   "metadata": {},
   "outputs": [
    {
     "name": "stdout",
     "output_type": "stream",
     "text": [
      "Faltan 171 días para el cumpleaños.\n"
     ]
    }
   ],
   "source": [
    "# 4. Ejercicio con date\n",
    "# Objetivo: Calcular el número de días restantes para el próximo cumpleaños.\n",
    "\n",
    "from datetime import date\n",
    "\n",
    "# Fecha de cumpleaños\n",
    "cumpleaños = date(2025, 10, 6)\n",
    "\n",
    "# Fecha actual\n",
    "hoy = date.today()\n",
    "\n",
    "# Calcular los días restantes\n",
    "dias_restantes = (cumpleaños - hoy).days\n",
    "\n",
    "print(f\"Faltan {dias_restantes} días para el cumpleaños.\")"
   ]
  },
  {
   "cell_type": "code",
   "execution_count": 50,
   "metadata": {},
   "outputs": [
    {
     "name": "stdout",
     "output_type": "stream",
     "text": [
      "Hora: 14\n",
      "Minuto: 45\n",
      "Segundo: 30\n",
      "Hora completa: 14:45:30\n"
     ]
    }
   ],
   "source": [
    "# 5. Ejercicio con time\n",
    "# Objetivo: Crear un objeto time y realizar una operación básica con él, como obtener los componentes de hora, minuto y segundo.\n",
    "\n",
    "from datetime import time\n",
    "\n",
    "# Crear un objeto time\n",
    "hora = time(14, 45, 30)  # 14:45:30 (2:45 PM y 30 segundos)\n",
    "\n",
    "# Imprimir la hora, minuto y segundo\n",
    "print(f\"Hora: {hora.hour}\")\n",
    "print(f\"Minuto: {hora.minute}\")\n",
    "print(f\"Segundo: {hora.second}\")\n",
    "\n",
    "# Mostrar el objeto time completo\n",
    "print(f\"Hora completa: {hora}\")\n"
   ]
  },
  {
   "cell_type": "code",
   "execution_count": 51,
   "metadata": {},
   "outputs": [
    {
     "name": "stdout",
     "output_type": "stream",
     "text": [
      "La tienda está abierta.\n"
     ]
    }
   ],
   "source": [
    "# 6. Ejercicio con time\n",
    "# Objetivo: Verificar si una hora dada está dentro de un rango de tiempo.\n",
    "\n",
    "from datetime import time\n",
    "\n",
    "# Definir el horario de apertura y cierre\n",
    "hora_apertura = time(9, 0)  # 9:00 AM\n",
    "hora_cierre = time(18, 0)   # 6:00 PM\n",
    "\n",
    "# Hora que queremos verificar\n",
    "hora_actual = time(14, 30)  # 2:30 PM\n",
    "\n",
    "# Verificar si la hora actual está dentro del rango de apertura\n",
    "if hora_apertura <= hora_actual <= hora_cierre:\n",
    "    print(\"La tienda está abierta.\")\n",
    "else:\n",
    "    print(\"La tienda está cerrada.\")\n"
   ]
  },
  {
   "cell_type": "code",
   "execution_count": 55,
   "metadata": {},
   "outputs": [
    {
     "name": "stdout",
     "output_type": "stream",
     "text": [
      "Fecha de emisión: 01/04/2025\n",
      "Plazo de vencimiento: 30 días\n",
      "Fecha de vencimiento: 01/05/2025\n"
     ]
    }
   ],
   "source": [
    "# 7. Ejercicio con timedelta\n",
    "# Objetivo: Calcular el plazo de vencimiento de una factura o de un pago usando timedelta.\n",
    "\n",
    "from datetime import datetime, timedelta\n",
    "\n",
    "# Fecha de emisión de la factura (fija)\n",
    "fecha_emision = datetime(2025, 4, 1)\n",
    "\n",
    "# Plazo de vencimiento: 30 días\n",
    "plazo_vencimiento = timedelta(days=30)\n",
    "\n",
    "# Calcular la fecha de vencimiento\n",
    "fecha_vencimiento = fecha_emision + plazo_vencimiento\n",
    "\n",
    "# Mostrar resultados\n",
    "print(\"Fecha de emisión:\", fecha_emision.strftime(\"%d/%m/%Y\"))\n",
    "print(\"Plazo de vencimiento:\", plazo_vencimiento.days, \"días\")\n",
    "print(\"Fecha de vencimiento:\", fecha_vencimiento.strftime(\"%d/%m/%Y\"))\n"
   ]
  },
  {
   "cell_type": "code",
   "execution_count": 52,
   "metadata": {},
   "outputs": [
    {
     "name": "stdout",
     "output_type": "stream",
     "text": [
      "Fecha actual: 2025-04-18 22:33:58.944425\n",
      "Fecha después de restar 3 semanas y 2 días: 2025-03-26 22:33:58.944425\n"
     ]
    }
   ],
   "source": [
    "# 8. Ejercicio con timedelta\n",
    "# Objetivo: Restar 3 semanas y 2 días a una fecha.\n",
    "\n",
    "from datetime import datetime, timedelta\n",
    "\n",
    "# Fecha actual\n",
    "ahora = datetime.now()\n",
    "\n",
    "# Restar 3 semanas y 2 días\n",
    "nueva_fecha = ahora - timedelta(weeks=3, days=2)\n",
    "\n",
    "print(f\"Fecha actual: {ahora}\")\n",
    "print(f\"Fecha después de restar 3 semanas y 2 días: {nueva_fecha}\")"
   ]
  },
  {
   "cell_type": "code",
   "execution_count": null,
   "metadata": {},
   "outputs": [
    {
     "name": "stdout",
     "output_type": "stream",
     "text": [
      "     junio 2025\n",
      "lu ma mi ju vi sá do\n",
      "                   1\n",
      " 2  3  4  5  6  7  8\n",
      " 9 10 11 12 13 14 15\n",
      "16 17 18 19 20 21 22\n",
      "23 24 25 26 27 28 29\n",
      "30\n",
      "\n"
     ]
    }
   ],
   "source": [
    "# 9. Ejercicio con calendar\n",
    "# Objetivo: Mostrar el calendario completo del mes de junio de 2025.\n",
    "\n",
    "import calendar\n",
    "import locale\n",
    "\n",
    "# Configura el idioma al español (esto depende del sistema operativo)\n",
    "locale.setlocale(locale.LC_TIME, 'Spanish_Spain.1252')  # Para Windows\n",
    "\n",
    "# Mostrar el calendario del mes de junio de 2025\n",
    "print(calendar.month(2025, 6))"
   ]
  },
  {
   "cell_type": "code",
   "execution_count": 57,
   "metadata": {},
   "outputs": [
    {
     "name": "stdout",
     "output_type": "stream",
     "text": [
      "2024 es un año bisiesto.\n"
     ]
    }
   ],
   "source": [
    "# 10. Ejercicio con calendar\n",
    "# Objetivo: Verificar si un año dado es bisiesto.\n",
    "\n",
    "import calendar\n",
    "\n",
    "# Verificar si el año 2024 es bisiesto\n",
    "if calendar.isleap(2024):\n",
    "    print(\"2024 es un año bisiesto.\")\n",
    "else:\n",
    "    print(\"2024 no es un año bisiesto.\")\n"
   ]
  },
  {
   "cell_type": "code",
   "execution_count": 66,
   "metadata": {},
   "outputs": [
    {
     "name": "stdout",
     "output_type": "stream",
     "text": [
      "Calendario del mes después de sumar 10 días a 31/05/2025:\n",
      "     junio 2025\n",
      "lu ma mi ju vi sá do\n",
      "                   1\n",
      " 2  3  4  5  6  7  8\n",
      " 9 10 11 12 13 14 15\n",
      "16 17 18 19 20 21 22\n",
      "23 24 25 26 27 28 29\n",
      "30\n",
      "\n"
     ]
    }
   ],
   "source": [
    "# 11. Ejercicio combinado: timedelta y calendar\n",
    "# Objetivo: Mostrar el calendario del mes que resulta después de sumar 10 días al último día de un mes específico.\n",
    "\n",
    "import calendar\n",
    "from datetime import datetime, timedelta\n",
    "import locale\n",
    "\n",
    "# Configura el idioma al español (esto depende del sistema operativo)\n",
    "locale.setlocale(locale.LC_TIME, 'Spanish_Spain.1252')  # Para Windows\n",
    "\n",
    "# Obtener el último día de mayo 2025\n",
    "ultimo_dia_mayo = datetime(2025, 5, 31)\n",
    "nuevo_dia = ultimo_dia_mayo + timedelta(days=10)\n",
    "\n",
    "# Mostrar el calendario del mes que resulta después de sumar 10 días\n",
    "print(f\"Calendario del mes después de sumar 10 días a {ultimo_dia_mayo.strftime('%d/%m/%Y')}:\")\n",
    "print(calendar.month(nuevo_dia.year, nuevo_dia.month))"
   ]
  },
  {
   "cell_type": "markdown",
   "metadata": {},
   "source": [
    "## **Fin Notebook**"
   ]
  }
 ],
 "metadata": {
  "kernelspec": {
   "display_name": "Python 3",
   "language": "python",
   "name": "python3"
  },
  "language_info": {
   "codemirror_mode": {
    "name": "ipython",
    "version": 3
   },
   "file_extension": ".py",
   "mimetype": "text/x-python",
   "name": "python",
   "nbconvert_exporter": "python",
   "pygments_lexer": "ipython3",
   "version": "3.11.1"
  }
 },
 "nbformat": 4,
 "nbformat_minor": 2
}
