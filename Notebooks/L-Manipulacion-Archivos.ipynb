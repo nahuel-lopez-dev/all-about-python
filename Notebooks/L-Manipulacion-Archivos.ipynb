{
 "cells": [
  {
   "cell_type": "markdown",
   "metadata": {},
   "source": [
    "# ⚡ *`Manipulación de archivos (ficheros)`* ⚡"
   ]
  },
  {
   "cell_type": "markdown",
   "metadata": {},
   "source": [
    "## Manipulación de archivos\n",
    "\n",
    "Recomendado, ver clase en video de MoureDev:\n",
    "\n",
    "https://youtu.be/TbcEqkabAWU?t=15524"
   ]
  },
  {
   "cell_type": "markdown",
   "metadata": {},
   "source": [
    "### Método with open\n",
    "\n",
    "Esta es la forma general en la que se van a manipular todos los archivos, salvo excepciones que requieran importar algunas librerías, o se destaquen algunas otras formas de hacerlo.\n",
    "\n",
    "- Es una forma segura y limpia de manejar archivos.\n",
    "- Se asegura de cerrar el archivo automáticamente cuando termina el bloque, aunque haya un error.\n",
    "\n",
    "> Ventaja: No se necesita usar file.close(): el archivo se cierra solo al salir del bloque."
   ]
  },
  {
   "cell_type": "markdown",
   "metadata": {},
   "source": [
    "| Tipo de archivo                 | ¿Se puede abrir con `open`?                     | Notas                                                  |\n",
    "|--------------------------------|--------------------------------------------------|--------------------------------------------------------|\n",
    "| `.txt`, `.csv`                 | ✅ Sí                                            | Lectura y escritura directa como texto.                |\n",
    "| `.json`                        | ✅ Sí                                            | Usás `json.load(f)` o `json.dump(...)`.                |\n",
    "| `.xml`, `.html`                | ✅ Sí                                            | Ideal usar librerías específicas para parsear.         |\n",
    "| `.log`, `.md`, etc.            | ✅ Sí                                            | Cualquier texto plano.                                 |\n",
    "| `.jpg`, `.png`, `.mp3`, `.pdf`, `.exe` | ⚠️ Sí, pero en modo binario (`'rb'`, `'wb'`) | No se leen como texto, sino como bytes.                |\n"
   ]
  },
  {
   "cell_type": "markdown",
   "metadata": {},
   "source": [
    "#### Esta es la forma más utilizada con `with open`"
   ]
  },
  {
   "cell_type": "code",
   "execution_count": null,
   "metadata": {},
   "outputs": [],
   "source": [
    "path = \"../files/archivo_prueba.txt\"\n",
    "texto_1 = \"\\nAbriendo el archivo con with open\"\n",
    "texto_2 = \"\\nEscribiendo en el archivo con with\"\n",
    "\n",
    "with open(path, \"a\", encoding='utf-8') as file:\n",
    "    file.write(texto_1)\n",
    "    file.write(texto_2)\n",
    "\n",
    "# argumentos del método with open()\n",
    "# ruta: la ubicación del archivo (puede ser absoluta o relativa).\n",
    "# modo: define cómo se abrirá el archivo (ver tabla más abajo).\n",
    "# encoding (opcional): se recomienda 'utf-8' para archivos de texto en español."
   ]
  },
  {
   "cell_type": "markdown",
   "metadata": {},
   "source": [
    "#### 📌 ¿Qué argumentos recibe with open(...)?\n",
    "\n",
    "La función `open()` recibe varios argumentos, pero los más comunes son:\n",
    "\n",
    "- `file`: Ruta del archivo (puede ser relativa o absoluta).\n",
    "- `mode`: Modos de apertura. Algunos ejemplos:\n",
    "  - `\"r\"`: lectura (read),\n",
    "  - `\"w\"`: escritura (sobrescribe),\n",
    "  - `\"a\"`: agregar contenido (append),\n",
    "  - `\"b\"`: modo binario (por ejemplo `\"rb\"` para leer binario),\n",
    "  - `\"x\"`: crear nuevo archivo (falla si ya existe).\n",
    "- `encoding`: Codificación del archivo, por ejemplo `'utf-8'`. Recomendado para trabajar con texto.\n",
    "\n",
    "🔸 En el ejemplo:\n",
    "\n",
    "```python\n",
    "with open(path, \"a\", encoding='utf-8') as file:\n",
    "\n",
    "```\n"
   ]
  },
  {
   "cell_type": "markdown",
   "metadata": {},
   "source": [
    "#### Modos para abrir archivos en Python con `open()` (los más usados)\n",
    "\n",
    "| Modo  | Lectura | Escritura | Crea si no existe | Sobrescribe | Empieza al inicio | Añade al final | Descripción |\n",
    "|-------|---------|-----------|-------------------|--------------|-------------------|----------------|-------------|\n",
    "| `\"r\"`   | ✅ Sí     | ❌ No      | ❌ No              | ❌ No         | ✅ Sí              | ❌ No           | Lee un archivo. Falla si no existe. |\n",
    "| `\"w\"`   | ❌ No     | ✅ Sí      | ✅ Sí              | ✅ Sí         | ✅ Sí              | ❌ No           | Escribe (sobrescribe) un archivo. Lo borra si existe. |\n",
    "| `\"a\"`   | ❌ No     | ✅ Sí      | ✅ Sí              | ❌ No         | ❌ No              | ✅ Sí           | Escribe al final del archivo. No borra lo anterior. |\n",
    "| `\"r+\"`  | ✅ Sí     | ✅ Sí      | ❌ No              | ❌ No*        | ✅ Sí              | ❌ No           | Lee y escribe sin borrar. No crea si no existe. Puede dejar basura si no usás `truncate()`. |\n",
    "| `\"w+\"`  | ✅ Sí     | ✅ Sí      | ✅ Sí              | ✅ Sí         | ✅ Sí              | ❌ No           | Lee y escribe, pero borra todo al abrir. |\n",
    "| `\"a+\"`  | ✅ Sí     | ✅ Sí      | ✅ Sí              | ❌ No         | ❌ No              | ✅ Sí           | Lee y escribe al final. No borra nada, útil para logs. |\n"
   ]
  },
  {
   "cell_type": "markdown",
   "metadata": {},
   "source": [
    "Detalles extra:\n",
    "\n",
    "- \"r\" y \"r+\" fallan si el archivo no existe.\n",
    "\n",
    "- \"w\" y \"w+\" crean el archivo y lo borran si ya existe.\n",
    "\n",
    "- \"a\" y \"a+\" agregan contenido al final, sin borrar lo anterior.\n",
    "\n",
    "- En \"a+\", para leer primero, hay que hacer seek(0) para ir al principio."
   ]
  },
  {
   "cell_type": "markdown",
   "metadata": {},
   "source": [
    "Tabla con todos los modos:\n",
    "\n",
    "| Modo    | Significado              | Descripción rápida                                                                 |\n",
    "|---------|--------------------------|-------------------------------------------------------------------------------------|\n",
    "| `\"r\"`   | Read                     | Solo lectura. Falla si el archivo no existe.                                       |\n",
    "| `\"w\"`   | Write                    | Solo escritura. Crea el archivo si no existe y sobrescribe si existe.             |\n",
    "| `\"a\"`   | Append                   | Solo escritura. Crea el archivo si no existe y agrega al final si ya existe.      |\n",
    "| `\"r+\"`  | Read + Write             | Lectura y escritura. No crea el archivo si no existe. No borra contenido anterior. Puede dejar basura si no usás `truncate()`. |\n",
    "| `\"w+\"`  | Write + Read             | Escritura y lectura. Borra el contenido del archivo si existe. Lo crea si no existe. |\n",
    "| `\"a+\"`  | Append + Read            | Escritura al final + lectura. Crea si no existe. No borra el contenido.           |\n",
    "| `\"x\"`   | Create (exclusive)       | Crea un nuevo archivo. Falla si ya existe. Evita sobreescritura.                  |\n",
    "| `\"x+\"`  | Create + Read/Write      | Crea archivo y permite lectura/escritura. Falla si ya existe.                     |\n",
    "| `\"rb\"`  | Read Binary              | Lectura en modo binario (por ejemplo, imágenes, audio, PDF).                      |\n",
    "| `\"wb\"`  | Write Binary             | Escritura en modo binario. Crea y borra si ya existe.                             |\n",
    "| `\"ab\"`  | Append Binary            | Escritura en modo binario al final del archivo.                                   |\n",
    "| `\"rb+\"` | Read + Write Binary      | Lectura y escritura en binario. No borra contenido.                               |\n",
    "| `\"wb+\"` | Write + Read Binary      | Escritura y lectura en binario. Borra todo al abrir.                              |\n",
    "| `\"ab+\"` | Append + Read Binary     | Agrega contenido binario al final + lectura. No borra.                            |\n",
    "| `\"xb\"`  | Create Binary            | Crea nuevo archivo binario. Falla si ya existe.                                   |\n",
    "| `\"xb+\"` | Create + Read/Write Bin  | Crea archivo binario y permite lectura/escritura. Falla si ya existe.             |\n"
   ]
  },
  {
   "cell_type": "markdown",
   "metadata": {},
   "source": [
    "### Archivos .txt"
   ]
  },
  {
   "cell_type": "markdown",
   "metadata": {},
   "source": [
    "#### Utilizando pathlib\n",
    "Si el archivo no existe genera un error, por lo que es necesario crearlo previamente "
   ]
  },
  {
   "cell_type": "code",
   "execution_count": 46,
   "metadata": {},
   "outputs": [
    {
     "name": "stdout",
     "output_type": "stream",
     "text": [
      "acceso: Sun Apr 13 06:34:54 2025\n",
      "creación: Sun Apr 13 06:33:07 2025\n",
      "modificación: Sun Apr 13 06:34:51 2025\n"
     ]
    }
   ],
   "source": [
    "from pathlib import Path\n",
    "from time import ctime\n",
    "\n",
    "archivo = Path(\"../files/archivo.txt\")\n",
    "\n",
    "# archivo.exists()\n",
    "# archivo.rename()\n",
    "# archivo.unlink()\n",
    "\n",
    "# print(archivo.stat())\n",
    "\n",
    "print(\"acceso:\", ctime(archivo.stat().st_atime))\n",
    "print(\"creación:\", ctime(archivo.stat().st_ctime)) \n",
    "print(\"modificación:\", ctime(archivo.stat().st_mtime))"
   ]
  },
  {
   "cell_type": "markdown",
   "metadata": {},
   "source": [
    "##### Escribir en el archivo"
   ]
  },
  {
   "cell_type": "code",
   "execution_count": 47,
   "metadata": {},
   "outputs": [
    {
     "data": {
      "text/plain": [
       "22"
      ]
     },
     "execution_count": 47,
     "metadata": {},
     "output_type": "execute_result"
    }
   ],
   "source": [
    "texto = archivo.read_text(\"utf-8\").split(\"\\n\")\n",
    "texto.insert(0, \"Hola mundo\")\n",
    "archivo.write_text(\"\\n\".join(texto), \"utf-8\")"
   ]
  },
  {
   "cell_type": "markdown",
   "metadata": {},
   "source": [
    "##### Leer el texto"
   ]
  },
  {
   "cell_type": "code",
   "execution_count": 48,
   "metadata": {},
   "outputs": [
    {
     "name": "stdout",
     "output_type": "stream",
     "text": [
      "Hola mundo\n",
      "Hola mundo\n",
      "\n"
     ]
    }
   ],
   "source": [
    "texto = archivo.read_text()\n",
    "print(texto)"
   ]
  },
  {
   "cell_type": "markdown",
   "metadata": {},
   "source": [
    "#### De otra forma, con \"open\" (forma recomendada)"
   ]
  },
  {
   "cell_type": "markdown",
   "metadata": {},
   "source": [
    "#### Escritura\n",
    "Con esta forma, si el archivo no existe, lo crea"
   ]
  },
  {
   "cell_type": "code",
   "execution_count": null,
   "metadata": {},
   "outputs": [],
   "source": [
    "# No es necesaria la importación de io para abrir archivos en modo texto, pero es recomendable\n",
    "# from io import open\n",
    "\n",
    "# \"w\" escritura, si no existe lo crea. Si existe, lo sobreescribe\n",
    "texto = \"Yo, soy Iron man\"\n",
    "archivo = open(\"../files/archivo.txt\", \"w\", encoding='utf-8') # para que pueda leer caracteres especiales como ñ, tildes, etc.\n",
    "archivo.write(texto)\n",
    "archivo.close()"
   ]
  },
  {
   "cell_type": "markdown",
   "metadata": {},
   "source": [
    "#### Agregar texto"
   ]
  },
  {
   "cell_type": "code",
   "execution_count": 207,
   "metadata": {},
   "outputs": [],
   "source": [
    "# Escribir y sobrescribir si ya existe\n",
    "# Importante\n",
    "# No olvidar el parámetro de encoding='utf-8' para que pueda leer caracteres especiales como ñ, tildes, etc.\n",
    "archivo = open(\"../files/archivo.txt\", \"a+\", encoding='utf-8')\n",
    "texto_1 = \"\\nMi verdadero nombre es Nahuel\\nMi lenguaje preferido es Python\"\n",
    "texto_2 = \"\\nAunque también me gusta JavaScript\"\n",
    "\n",
    "# Escribir en el archivo\n",
    "archivo.write(texto_1)\n",
    "archivo.write(texto_2)\n",
    "\n",
    "archivo.close()"
   ]
  },
  {
   "cell_type": "markdown",
   "metadata": {},
   "source": [
    "#### Lectura"
   ]
  },
  {
   "cell_type": "code",
   "execution_count": 208,
   "metadata": {},
   "outputs": [
    {
     "name": "stdout",
     "output_type": "stream",
     "text": [
      "Yo, soy Iron man\n",
      "Mi verdadero nombre es Nahuel\n",
      "Mi lenguaje preferido es Python\n",
      "Aunque también me gusta JavaScript\n"
     ]
    }
   ],
   "source": [
    "##### lectura\n",
    "archivo = open(\"../files/archivo.txt\", \"r\", encoding='utf-8')\n",
    "texto = archivo.read()\n",
    "archivo.close()\n",
    "print(texto)"
   ]
  },
  {
   "cell_type": "markdown",
   "metadata": {},
   "source": [
    "#### Lectura como lista"
   ]
  },
  {
   "cell_type": "code",
   "execution_count": 209,
   "metadata": {},
   "outputs": [
    {
     "name": "stdout",
     "output_type": "stream",
     "text": [
      "['Yo, soy Iron man\\n', 'Mi verdadero nombre es Nahuel\\n', 'Mi lenguaje preferido es Python\\n', 'Aunque también me gusta JavaScript']\n"
     ]
    }
   ],
   "source": [
    "##### lectura como lista\n",
    "archivo = open(\"../files/archivo.txt\", \"r\", encoding='utf-8')\n",
    "texto = archivo.readlines()\n",
    "archivo.close()\n",
    "print(texto)"
   ]
  },
  {
   "cell_type": "markdown",
   "metadata": {},
   "source": [
    "#### with\n",
    "con with no es necesario tener que abrir y cerrar la conexión (recomendado)"
   ]
  },
  {
   "cell_type": "markdown",
   "metadata": {},
   "source": [
    "#### Escribir y agregar"
   ]
  },
  {
   "cell_type": "code",
   "execution_count": 210,
   "metadata": {},
   "outputs": [],
   "source": [
    "path = \"../files/archivo.txt\"\n",
    "texto_1 = \"\\nAbriendo el archivo con with\"\n",
    "texto_2 = \"\\nEscribiendo en el archivo con with\"\n",
    "\n",
    "with open(path, \"a\", encoding='utf-8') as file:\n",
    "    file.write(texto_1)\n",
    "    file.write(texto_2)"
   ]
  },
  {
   "cell_type": "markdown",
   "metadata": {},
   "source": [
    "#### Lectura por lista"
   ]
  },
  {
   "cell_type": "code",
   "execution_count": 211,
   "metadata": {},
   "outputs": [
    {
     "name": "stdout",
     "output_type": "stream",
     "text": [
      "Lectura por lista con readlines() : \n",
      "['Yo, soy Iron man\\n', 'Mi verdadero nombre es Nahuel\\n', 'Mi lenguaje preferido es Python\\n', 'Aunque también me gusta JavaScript\\n', 'Abriendo el archivo con with\\n', 'Escribiendo en el archivo con with']\n",
      "Yo, soy Iron man\n",
      "\n"
     ]
    }
   ],
   "source": [
    "path = \"../files/archivo.txt\"\n",
    "with open(path, \"r\", encoding='utf-8') as archivo:\n",
    "    # cargar todo el archivo en una lista\n",
    "    print(\"Lectura por lista con readlines() : \")\n",
    "    lista = archivo.readlines()\n",
    "    print(lista)\n",
    "    print(lista[0])"
   ]
  },
  {
   "cell_type": "markdown",
   "metadata": {},
   "source": [
    "#### Lectura línea por línea\n",
    "\n",
    "Método seek() para moverse por el archivo\n",
    "\n",
    "Se le pasa por argumento, un número para indicar la posición en el texto"
   ]
  },
  {
   "cell_type": "code",
   "execution_count": 212,
   "metadata": {},
   "outputs": [
    {
     "name": "stdout",
     "output_type": "stream",
     "text": [
      "Lectura línea por línea con seek() y for:\n",
      "\n",
      "Yo, soy Iron man\n",
      "\n",
      "Mi verdadero nombre es Nahuel\n",
      "\n",
      "Mi lenguaje preferido es Python\n",
      "\n",
      "Aunque también me gusta JavaScript\n",
      "\n",
      "Abriendo el archivo con with\n",
      "\n",
      "Escribiendo en el archivo con with\n"
     ]
    }
   ],
   "source": [
    "path = \"../files/archivo.txt\"\n",
    "\n",
    "with open(path, \"r\", encoding='utf-8') as archivo:\n",
    "    # carga línea por línea\n",
    "    print(\"Lectura línea por línea con seek() y for:\\n\")\n",
    "    # seek(0) para volver al inicio del archivo y poder leerlo nuevamente\n",
    "    archivo.seek(0)\n",
    "    for linea in archivo:\n",
    "        print(linea)"
   ]
  },
  {
   "cell_type": "markdown",
   "metadata": {},
   "source": [
    "#### Lectura y escritura en una posición específica"
   ]
  },
  {
   "cell_type": "code",
   "execution_count": null,
   "metadata": {},
   "outputs": [
    {
     "name": "stdout",
     "output_type": "stream",
     "text": [
      "['Yo, soy Batman\\n', 'Mi verdadero nombre es Nahuel\\n', 'Mi lenguaje preferido es Python\\n', 'Aunque también me gusta JavaScript\\n', 'Abriendo el archivo con with\\n', 'Escribiendo en el archivo con with']\n"
     ]
    }
   ],
   "source": [
    "path = \"../files/archivo.txt\"\n",
    "# r+ para leer y escribir\n",
    "# w+ para escribir y leer, pero borra el contenido del archivo\n",
    "# a+ para añadir y leer, pero no borra el contenido del archivo\n",
    "with open(path, \"r+\", encoding='utf-8') as archivo:\n",
    "    texto = archivo.readlines()\n",
    "    print(texto)\n",
    "    archivo.seek(0)\n",
    "    # sobreescribiendo la primera línea, en la lista es la posición 0\n",
    "    # pero en el archivo es la línea 1\n",
    "    texto[0] = \"Yo, soy Batman\\n\"\n",
    "    # retorna la lista sin la última modificación\n",
    "    archivo.writelines(texto)\n",
    "    archivo.truncate()\n",
    "    \n",
    "# ¿Por qué archivo.truncate() al final?\n",
    "# Si el nuevo contenido total ocupa menos bytes que el original, los caracteres que quedaron del contenido anterior no se borran automáticamente, y se mantienen ahí. Por eso, van a aparecer letras “fantasmas”, que en realidad son letras que quedan de remanente del contenido anterior.\n",
    "    "
   ]
  },
  {
   "cell_type": "code",
   "execution_count": 216,
   "metadata": {},
   "outputs": [
    {
     "name": "stdout",
     "output_type": "stream",
     "text": [
      "\n",
      "Iterando el archivo con for y escribiendo cada línea:\n",
      "\n",
      "Yo, soy Batman\n",
      "\n",
      "Mi verdadero nombre es Nahuel\n",
      "\n",
      "Mi lenguaje preferido es Python\n",
      "\n",
      "Aunque también me gusta JavaScript\n",
      "\n",
      "Abriendo el archivo con with\n",
      "\n",
      "Escribiendo en el archivo con with\n"
     ]
    }
   ],
   "source": [
    "print(\"\\nIterando el archivo con for y escribiendo cada línea:\\n\")\n",
    "for linea in texto:\n",
    "    print(linea)"
   ]
  },
  {
   "cell_type": "markdown",
   "metadata": {},
   "source": [
    "#### Eliminar el archivo"
   ]
  },
  {
   "cell_type": "code",
   "execution_count": 62,
   "metadata": {},
   "outputs": [],
   "source": [
    "import os\n",
    "\n",
    "os.remove(\"../files/archivo.txt\")"
   ]
  },
  {
   "cell_type": "markdown",
   "metadata": {},
   "source": [
    "### Archivos JSON\n",
    "\n",
    "- Leer un JSON desde archivo con json.load()\n",
    "- Guardar un diccionario en un archivo con json.dump()\n",
    "- Convertir diccionarios a JSON y viceversa (json.dumps() / json.loads())"
   ]
  },
  {
   "cell_type": "code",
   "execution_count": null,
   "metadata": {},
   "outputs": [],
   "source": [
    "import json\n",
    "from pathlib import Path\n",
    "\n",
    "# JSON\n",
    "# JavaScript Object Notation\n",
    "# Este es el formato más común por el cual las APIs, sobre todo\n",
    "# las APIs REST, comparten o brindan información cuando se las\n",
    "# consume. \"Te envían un JSON\".\n",
    "\n",
    "# escribir json\n",
    "# productos = [\n",
    "#     {\"id\":1, \"name\": \"Surfboard\"},\n",
    "#     {\"id\":2, \"name\": \"Bicicleta\"},\n",
    "#     {\"id\":3, \"name\": \"Skate\"},\n",
    "# ]\n",
    "\n",
    "# data = json.dumps(productos)\n",
    "# print(data)\n",
    "\n",
    "# Path(\"archivos/productos.json\").write_text(data)\n",
    "\n",
    "# leer json\n",
    "data = Path(\"../files/productos.json\").read_text(encoding=\"utf-8\")\n",
    "productos = json.loads(data)\n",
    "print(productos)\n",
    "\n",
    "# modificar json\n",
    "productos[0][\"name\"] = \"Medialunas\"\n",
    "Path(\"archivos/productos.json\").write_text(json.dumps(productos))\n",
    "print(productos)\n"
   ]
  },
  {
   "cell_type": "code",
   "execution_count": null,
   "metadata": {},
   "outputs": [],
   "source": [
    "### File Handling ###\n",
    "\n",
    "import xml\n",
    "import csv\n",
    "import json\n",
    "import os\n",
    "\n",
    "# Clase en vídeo (03/11/22): https://www.twitch.tv/videos/1642512950\n",
    "\n",
    "# .json file\n",
    "\n",
    "\n",
    "json_file = open(\"../files/my_file.json\", \"w+\")\n",
    "\n",
    "json_test = {\n",
    "    \"name\": \"Brais\",\n",
    "    \"surname\": \"Moure\",\n",
    "    \"age\": 35,\n",
    "    \"languages\": [\"Python\", \"Swift\", \"Kotlin\"],\n",
    "    \"website\": \"https://moure.dev\"}\n",
    "\n",
    "json.dump(json_test, json_file, indent=2)\n",
    "\n",
    "json_file.close()\n",
    "\n",
    "with open(\"../files/my_file.json\") as my_other_file:\n",
    "    for line in my_other_file.readlines():\n",
    "        print(line)\n",
    "\n",
    "json_dict = json.load(open(\"Intermediate/my_file.json\"))\n",
    "print(json_dict)\n",
    "print(type(json_dict))\n",
    "print(json_dict[\"name\"])\n",
    "\n",
    "\n",
    "# .xlsx file\n",
    "# import xlrd # Debe instalarse el módulo\n",
    "\n",
    "# .xml file\n",
    "\n",
    "# ¿Te atreves a practicar cómo trabajar con este tipo de ficheros?\n"
   ]
  },
  {
   "cell_type": "markdown",
   "metadata": {},
   "source": [
    "### Archivos .csv\n",
    "\n",
    "- Leer archivos CSV con csv.reader() o csv.DictReader()\n",
    "- Escribir con csv.writer() o csv.DictWriter()\n",
    "> Cuidado con los delimitadores si no es coma (,), a veces son ; o \\t"
   ]
  },
  {
   "cell_type": "code",
   "execution_count": null,
   "metadata": {},
   "outputs": [],
   "source": [
    "# .csv file\n",
    "\n",
    "csv_file = open(\"Intermediate/my_file.csv\", \"w+\")\n",
    "\n",
    "csv_writer = csv.writer(csv_file)\n",
    "csv_writer.writerow([\"name\", \"surname\", \"age\", \"language\", \"website\"])\n",
    "csv_writer.writerow([\"Brais\", \"Moure\", 35, \"Python\", \"https://moure.dev\"])\n",
    "csv_writer.writerow([\"Roswell\", \"\", 2, \"COBOL\", \"\"])\n",
    "\n",
    "csv_file.close()\n",
    "\n",
    "with open(\"Intermediate/my_file.csv\") as my_other_file:\n",
    "    for line in my_other_file.readlines():\n",
    "        print(line)"
   ]
  },
  {
   "cell_type": "code",
   "execution_count": null,
   "metadata": {},
   "outputs": [],
   "source": [
    "import csv\n",
    "import os\n",
    "\n",
    "# escribir\n",
    "with open(\"archivos/archivo.csv\", \"w\") as archivo:\n",
    "    writer = csv.writer(archivo)\n",
    "    writer.writerow([\"twit_id\", \"user_id\", \"text\"]) \n",
    "    writer.writerow([1000, 1, \"Este es un twit\"]) \n",
    "    writer.writerow([1001, 2, \"otro twit!\"])\n",
    "    \n",
    "\n",
    "# leer \n",
    "with open(\"archivos/archivo.csv\") as archivo:\n",
    "    reader = csv.reader(archivo)\n",
    "    print(list(reader))\n",
    "    archivo.seek(0)\n",
    "    for linea in reader:\n",
    "        print(linea)\n",
    "        \n",
    "# actualizar CSV\n",
    "with open(\"archivos/archivo.csv\") as r, open(\"archivos/archivo_temp.csv\", \"w\") as w:\n",
    "    reader = csv.reader(r)\n",
    "    writer = csv.writer(w)\n",
    "    for linea in reader:\n",
    "        if linea[0] == \"1000\":\n",
    "            writer.writerow([1000, 1, \"texto modificado\"])\n",
    "        else:\n",
    "            writer.writerow(linea)\n",
    "    os.remove(\"archivos/archivo.csv\")\n",
    "    os.rename(\"archivos/archivo_temp.csv\", \"archivos/archivo.csv\")"
   ]
  },
  {
   "cell_type": "markdown",
   "metadata": {},
   "source": [
    "### Archivos comprimidos"
   ]
  },
  {
   "cell_type": "code",
   "execution_count": null,
   "metadata": {},
   "outputs": [],
   "source": [
    "from pathlib import Path\n",
    "from zipfile import ZipFile\n",
    "\n",
    "# para comprimir archivos\n",
    "with ZipFile(\"../files/comprimidos.zip\", \"w\") as zip:\n",
    "    # el primer * es para cualquier nombre de archivo\n",
    "    # el segundo * es para indicar cualquier extensión\n",
    "    # cualquier archivo que tenga cualquier nombre y cualquier extensión: \"*.*\"\n",
    "    for path in Path().rglob(\"*.*\"):\n",
    "         print(path)\n",
    "         if str(path) != \"archivos/comprimidos.zip\":\n",
    "             zip.write(path)\n",
    "         \n",
    "\n",
    "# para leer de archivos comprimidos\n",
    "with ZipFile(\"archivos/comprimidos.zip\") as zip:\n",
    "    # print(zip.namelist())\n",
    "    info = zip.getinfo(\"archivos/comprimidos.py\")  \n",
    "    print(\n",
    "        info.file_size,\n",
    "        info.compress_size\n",
    "    )   \n",
    "    zip.extractall(\"archivos/descomprimidos\")\n",
    "\n",
    "\n",
    "\n"
   ]
  },
  {
   "cell_type": "markdown",
   "metadata": {},
   "source": [
    "## Ejercicios"
   ]
  },
  {
   "cell_type": "code",
   "execution_count": null,
   "metadata": {},
   "outputs": [],
   "source": []
  },
  {
   "cell_type": "code",
   "execution_count": null,
   "metadata": {},
   "outputs": [],
   "source": []
  },
  {
   "cell_type": "code",
   "execution_count": null,
   "metadata": {},
   "outputs": [],
   "source": []
  },
  {
   "cell_type": "code",
   "execution_count": null,
   "metadata": {},
   "outputs": [],
   "source": []
  },
  {
   "cell_type": "code",
   "execution_count": null,
   "metadata": {},
   "outputs": [],
   "source": []
  },
  {
   "cell_type": "code",
   "execution_count": null,
   "metadata": {},
   "outputs": [],
   "source": []
  },
  {
   "cell_type": "markdown",
   "metadata": {},
   "source": [
    "## **Fin Notebook**"
   ]
  }
 ],
 "metadata": {
  "kernelspec": {
   "display_name": "Python 3",
   "language": "python",
   "name": "python3"
  },
  "language_info": {
   "codemirror_mode": {
    "name": "ipython",
    "version": 3
   },
   "file_extension": ".py",
   "mimetype": "text/x-python",
   "name": "python",
   "nbconvert_exporter": "python",
   "pygments_lexer": "ipython3",
   "version": "3.11.1"
  }
 },
 "nbformat": 4,
 "nbformat_minor": 2
}
