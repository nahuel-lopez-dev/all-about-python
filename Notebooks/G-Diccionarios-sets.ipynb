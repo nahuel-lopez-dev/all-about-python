{
 "cells": [
  {
   "attachments": {},
   "cell_type": "markdown",
   "metadata": {},
   "source": [
    "# ⚡ *`Diccionarios y Sets (o conjuntos)`* ⚡"
   ]
  },
  {
   "attachments": {},
   "cell_type": "markdown",
   "metadata": {},
   "source": [
    "### `Trabajando con Diccionarios:`"
   ]
  },
  {
   "cell_type": "markdown",
   "metadata": {},
   "source": [
    "### `Diccionarios`\n",
    "\n",
    "Los diccionarios son estructuras que se definen entre llaves `{}`, y almacenan conjuntos de datos en pares (de a dos elementos) de la siguiente manera: *`\"key\"`*`:`*`value`* (Es decir: \"Clave\":Valor), y `no admite claves duplicadas`. Si bien en las últimas versiones de Python los elementos tienen un orden (la forma en que se creó el diccionario), en general éste no es relevante. La manera de acceder a un elementos es especificando la clave entre corchetes: "
   ]
  },
  {
   "cell_type": "code",
   "execution_count": 1,
   "metadata": {},
   "outputs": [
    {
     "name": "stdout",
     "output_type": "stream",
     "text": [
      "{'Carlos Gómez': 5, 'Gabriela Torres': 8, 'Juan Pérez': 9}\n",
      "Nota de Gabriela Torres: 8\n",
      "Nota de Carlos Gómez: 5\n",
      "Nota de Juan Pérez: 9\n"
     ]
    }
   ],
   "source": [
    "# Diccionarios\n",
    "\n",
    "# diccionario de notas de alumnos\n",
    "notas = {\n",
    "   'Carlos Gómez': 5,\n",
    "   'Gabriela Torres': 8,\n",
    "   'Juan Pérez': 9}\n",
    "\n",
    "# Imprime el objeto notas\n",
    "print(notas)\n",
    "# Imprimo la nota de de un alumno:\n",
    "print('Nota de Gabriela Torres:', notas['Gabriela Torres'])\n",
    "print('Nota de Carlos Gómez:', notas['Carlos Gómez'])\n",
    "print('Nota de Juan Pérez:', notas['Juan Pérez'])"
   ]
  },
  {
   "cell_type": "markdown",
   "metadata": {},
   "source": [
    "### `Agregando elementos y actualizando valores en un diccionario`\n",
    "El acceso a los elementos es rápido (comparado con listas). La manera de construir diccionarios es asignando elementos con las claves:"
   ]
  },
  {
   "cell_type": "code",
   "execution_count": 12,
   "metadata": {},
   "outputs": [
    {
     "name": "stdout",
     "output_type": "stream",
     "text": [
      "{'nombre': 'Nahuel', 'edad': 34, 'altura': 1.78, 'soltero': True}\n",
      "{'nombre': 'Nahuel', 'edad': 35, 'altura': 1.78, 'soltero': True}\n",
      "Usando llaves: Nahuel\n",
      "Usando get: Nahuel\n",
      "Usando get: None\n",
      "Usando get: No existe esta propiedad\n",
      "[('nombre', 'Nahuel'), ('edad', 35), ('altura', 1.78), ('soltero', True)]\n"
     ]
    }
   ],
   "source": [
    "# Agrego elemento\n",
    "persona = {}\n",
    "persona['nombre'] = 'Nahuel'\n",
    "persona['edad'] = 34\n",
    "persona['altura'] = 1.78\n",
    "persona['soltero'] = True\n",
    "print(persona)\n",
    "\n",
    "# Actualiza el valor de la llave 'edad'\n",
    "persona['edad'] = 35\n",
    "print(persona)\n",
    "\n",
    "##### obteniendo el valor de una key\n",
    "\n",
    "##### usando llaves. Si no lo encuentra lanza un error\n",
    "print('Usando llaves:', persona['nombre'])\n",
    "\n",
    "##### Usando get. \n",
    "# Permite pasar dos parámetros. \n",
    "# Si no lo encuentra retorna None, y el segundo parámetro por default es None si no se pasa ninguno\n",
    "# La idea es pasarle un segundo parámetro en caso que no lo encuentre, pero lo genera error a diferencia de obtener por llaves.\n",
    "print('Usando get:', persona.get('nombre'))\n",
    "print('Usando get:', persona.get('nombre_cliente'))\n",
    "print('Usando get:', persona.get('nombre_cliente', 'No existe esta propiedad'))\n",
    "\n",
    "lista_persona = []\n",
    "for item in persona.items():\n",
    "    lista_persona.append(item)\n",
    "\n",
    "print(lista_persona)    \n"
   ]
  },
  {
   "cell_type": "markdown",
   "metadata": {},
   "source": [
    "### `Obteniendo valores de un diccionario:`"
   ]
  },
  {
   "cell_type": "code",
   "execution_count": 13,
   "metadata": {},
   "outputs": [
    {
     "name": "stdout",
     "output_type": "stream",
     "text": [
      "dict_keys(['a', 'b', 'c', 'd'])\n",
      "Tupla de llaves: ('a', 'b', 'c', 'd')\n",
      "dict_values([1, 2, 3, 4])\n",
      "Tupla de valores: (1, 2, 3, 4)\n",
      "dict_items([('a', 1), ('b', 2), ('c', 3), ('d', 4)])\n",
      "Tupla de elementos: (('a', 1), ('b', 2), ('c', 3), ('d', 4))\n"
     ]
    }
   ],
   "source": [
    "diccionario = {\n",
    "    'a': 1,\n",
    "    'b': 2,\n",
    "    'c': 3,\n",
    "    'd': 4\n",
    "}\n",
    "\n",
    "llaves = diccionario.keys()\n",
    "print(llaves)\n",
    "print('Tupla de llaves:', tuple(llaves))\n",
    "\n",
    "valores = diccionario.values()\n",
    "print(valores)\n",
    "print('Tupla de valores:', tuple(valores))\n",
    "\n",
    "elementos = diccionario.items()\n",
    "print(elementos)\n",
    "print('Tupla de elementos:', tuple(elementos))\n",
    "\n",
    "# Es más seguro trabajar como una tupla"
   ]
  },
  {
   "cell_type": "markdown",
   "metadata": {},
   "source": [
    "### `Iterando sobre un diccionario:` \n",
    "#### a) Por las claves \n",
    "#### b) Por los valores \n",
    "#### c) Por los elementos:"
   ]
  },
  {
   "cell_type": "code",
   "execution_count": 14,
   "metadata": {},
   "outputs": [
    {
     "name": "stdout",
     "output_type": "stream",
     "text": [
      "Diccionario persona: {'nombre': 'Nahuel', 'edad': 35, 'altura': 1.78, 'soltero': True}\n",
      "key: nombre\n",
      "key: edad\n",
      "key: altura\n",
      "key: soltero\n",
      "val: Nahuel\n",
      "val: 35\n",
      "val: 1.78\n",
      "val: True\n",
      "items: ('nombre', 'Nahuel')\n",
      "items: ('edad', 35)\n",
      "items: ('altura', 1.78)\n",
      "items: ('soltero', True)\n"
     ]
    }
   ],
   "source": [
    "# imprimiendo el diccionario persona\n",
    "print('Diccionario persona:', persona)\n",
    "\n",
    "# iteramos sobre las claves\n",
    "for key in persona.keys():\n",
    "  print('key:', key)\n",
    "\n",
    "# iteramos sobre los valores\n",
    "for val in persona.values():\n",
    "  print('val:', val)\n",
    "\n",
    "# los items son tuplas (clave, valor)\n",
    "for item in persona.items():\n",
    "  print('items:', item)"
   ]
  },
  {
   "cell_type": "markdown",
   "metadata": {},
   "source": [
    "### Borrando valores con **`del`**, **`pop`** y **`clear`**"
   ]
  },
  {
   "cell_type": "code",
   "execution_count": 29,
   "metadata": {},
   "outputs": [
    {
     "name": "stdout",
     "output_type": "stream",
     "text": [
      "{'a': 1, 'b': 2, 'c': 3, 'd': 4}\n",
      "longitud: 4\n",
      "{'b': 2, 'c': 3, 'd': 4}\n",
      "longitud: 3\n",
      "Valor borrado: 4\n",
      "{'b': 2, 'c': 3}\n",
      "longitud: 2\n",
      "diccionario vacío: {}\n",
      "longitud: 0\n"
     ]
    }
   ],
   "source": [
    "diccionario = {\n",
    "    'a': 1,\n",
    "    'b': 2,\n",
    "    'c': 3,\n",
    "    'd': 4\n",
    "}\n",
    "\n",
    "print(diccionario)\n",
    "print('longitud:', len(diccionario))\n",
    "\n",
    "# borrando con del\n",
    "del diccionario['a']\n",
    "# del diccionario['z'] # si no está la llave arroja un error bloqueante\n",
    "print(diccionario)\n",
    "print('longitud:', len(diccionario))\n",
    "\n",
    "# borrando con pop\n",
    "valor = diccionario.pop('d') # retorna el valor borrado\n",
    "# valor = diccionario.pop('z') # si no está la llave arroja un error bloqueante\n",
    "print('Valor borrado:', valor) \n",
    "print(diccionario)\n",
    "print('longitud:', len(diccionario))\n",
    "\n",
    "# borrando todos los elementos con clear\n",
    "diccionario.clear()\n",
    "print('diccionario vacío:', diccionario)\n",
    "print('longitud:', len(diccionario))"
   ]
  },
  {
   "cell_type": "markdown",
   "metadata": {},
   "source": [
    "### Otras operaciones como probar pertenencia en claves, o pedir la longitud:"
   ]
  },
  {
   "cell_type": "code",
   "execution_count": 15,
   "metadata": {},
   "outputs": [
    {
     "name": "stdout",
     "output_type": "stream",
     "text": [
      "No existe la clave \"Nombre\"\n",
      "Longitud del dic_personas: 4\n"
     ]
    }
   ],
   "source": [
    "# Test de pertencia en diccionario\n",
    "ej_clave = 'Nombre'\n",
    "\n",
    "if ej_clave in persona:\n",
    "    print('Si')\n",
    "else:\n",
    "    print(f'No existe la clave \"{ej_clave}\"')\n",
    "\n",
    "# Longitud\n",
    "print('Longitud del diccionario personas:', len(persona))"
   ]
  },
  {
   "attachments": {},
   "cell_type": "markdown",
   "metadata": {},
   "source": [
    "#### `Métodos split y join:`"
   ]
  },
  {
   "attachments": {},
   "cell_type": "markdown",
   "metadata": {},
   "source": [
    "#### `split, para pasar de string a lista`\n",
    "Otra forma de crear una lista a partir de una cadena de caracteres. Por ejemplo, si exportamos datos desde una planilla de cálculo, con valores estarán separados por comas, y entonces los podemos separar usando el método `split()`:"
   ]
  },
  {
   "cell_type": "code",
   "execution_count": 11,
   "metadata": {},
   "outputs": [
    {
     "name": "stdout",
     "output_type": "stream",
     "text": [
      "lenguajes_string: Python Ruby Java Rust C++ C\n",
      "lenguajes_string_diagonal: Python,Ruby,Java,Rust,C++,C\n",
      "lenguajes_string_guion: Python-Ruby-Java-Rust-C++-C\n",
      "Usando split\n",
      "['Python', 'Ruby', 'Java', 'Rust', 'C++', 'C']\n",
      "['Python', 'Ruby', 'Java', 'Rust', 'C++', 'C']\n",
      "['Python', 'Ruby', 'Java', 'Rust', 'C++', 'C']\n",
      "\n",
      "lenguajes_lista: ['Python', 'Ruby', 'Java', 'Rust']\n",
      "Usando join:\n",
      "Python-Ruby-Java-Rust\n",
      "Python - Ruby - Java - Rust\n",
      "Python|Ruby|Java|Rust\n",
      "Python, Ruby, Java, Rust\n",
      "<class 'str'>\n"
     ]
    }
   ],
   "source": [
    "# Método split\n",
    "# Parte la cadena en subcadenas según la separación indicada en split y las retorna en una lista\n",
    "\n",
    "lenguajes_string_espacio = 'Python Ruby Java Rust C++ C'\n",
    "lenguajes_string_diagonal = 'Python,Ruby,Java,Rust,C++,C'\n",
    "lenguajes_string_guion = 'Python-Ruby-Java-Rust-C++-C'\n",
    "print('lenguajes_string_espacio:', lenguajes_string_espacio)\n",
    "print('lenguajes_string_diagonal:', lenguajes_string_diagonal)\n",
    "print('lenguajes_string_guion:', lenguajes_string_guion)\n",
    "print('Usando split')\n",
    "\n",
    "# usando split\n",
    "listado_lenguajes1 = lenguajes_string_espacio.split(' ') # espacios \n",
    "listado_lenguajes2 = lenguajes_string_diagonal.split(',') # coma \n",
    "listado_lenguajes3 = lenguajes_string_guion.split('-') # guion medio \n",
    "print(listado_lenguajes1)\n",
    "print(listado_lenguajes2)\n",
    "print(listado_lenguajes2)"
   ]
  },
  {
   "attachments": {},
   "cell_type": "markdown",
   "metadata": {},
   "source": [
    "### `Trabajando con Sets o Conjuntos:`\n",
    "\n",
    "Los sets o conjuntos son colecciones de elementos no ordenados y únicos, es decir, en los conjuntos no hay elementos repetidos.\n",
    "Al igual que en las listas y las tuplas, los elementos de un conjunto pueden ser del mismo tipo o no.\n",
    "\n",
    "**`Atención:`** Se escriben como los diccionarios, pero sin las llaves o keys.\n",
    "Los conjuntos almacenan múltiples elementos de manera no ordenada, sin admitir duplicados. Se definen como los diccionarios, con llaves `{}`, pero sin usar claves:"
   ]
  },
  {
   "cell_type": "code",
   "execution_count": 32,
   "metadata": {},
   "outputs": [
    {
     "name": "stdout",
     "output_type": "stream",
     "text": [
      "set frutas: {'banana', 'manzana', 'naranja', 'pera'}\n",
      "set animales: {'pájaro', 'gato', 'perro'}\n",
      "set numeros: {8, 2, 4, 6}\n",
      "set mezcla: {2, 4, 'gato', 'perro'}\n",
      "¿banana está en el set frutas?: True\n"
     ]
    }
   ],
   "source": [
    "frutas = {'banana', 'naranja', 'manzana','pera'}\n",
    "animales = {'perro', 'gato', 'pájaro'}\n",
    "numeros = {2, 4, 6, 8}\n",
    "mezcla = {'gato', 2, 4, 'perro'}\n",
    "\n",
    "print('set frutas:', frutas)\n",
    "print('set animales:', animales)\n",
    "print('set numeros:', numeros)\n",
    "print('set mezcla:', mezcla)\n",
    "\n",
    "print('¿banana está en el set frutas?:', 'banana' in frutas)"
   ]
  },
  {
   "cell_type": "markdown",
   "metadata": {},
   "source": [
    "### Otra forma de crear un conjunto es que con **`set`**\n",
    "`Notar:` Los conjuntos eliminan de manera automática los duplicados "
   ]
  },
  {
   "cell_type": "code",
   "execution_count": 43,
   "metadata": {},
   "outputs": [
    {
     "name": "stdout",
     "output_type": "stream",
     "text": [
      "lista de colores: ['rojo', 'verde', 'rojo', 'azul', 'verde', 'blanco', 'amarillo', 'azul']\n",
      "set de colores: {'rojo', 'amarillo', 'verde', 'azul', 'blanco'}\n",
      "\n",
      "lista de frutas: ['banana', 'naranja', 'manzana', 'pera', 'naranja']\n",
      "set de frutas {'banana', 'manzana', 'naranja', 'pera'}\n",
      "\n",
      "frase: estoy estudiando\n",
      "set frase: {'d', 'a', 't', 'n', ' ', 's', 'e', 'i', 'o', 'y', 'u'}\n"
     ]
    }
   ],
   "source": [
    "colores = ['rojo', 'verde', 'rojo', 'azul', 'verde', 'blanco', 'amarillo', 'azul']\n",
    "print('lista de colores:', colores)\n",
    "set_colores = set(colores)\n",
    "print('set de colores:', set_colores)\n",
    "\n",
    "print()\n",
    "\n",
    "lista_frutas = ['banana', 'naranja', 'manzana','pera', 'naranja']\n",
    "print('lista de frutas:', lista_frutas)\n",
    "set_frutas = set(lista_frutas)\n",
    "print('set de frutas', set_frutas)\n",
    "\n",
    "print()\n",
    "frase = 'estoy estudiando'\n",
    "print('frase:', frase)\n",
    "set_frase = set(frase)\n",
    "print('set frase:', set_frase) # conjunto si repetir y sin ordenar "
   ]
  },
  {
   "cell_type": "markdown",
   "metadata": {},
   "source": [
    "### Comprobar elementos"
   ]
  },
  {
   "cell_type": "code",
   "execution_count": 38,
   "metadata": {},
   "outputs": [
    {
     "name": "stdout",
     "output_type": "stream",
     "text": [
      "¿El color verde está en colores?: True\n",
      "¿El color rosa está en colores?: False\n"
     ]
    }
   ],
   "source": [
    "colores = {'verde', 'blanco', 'azul', 'rojo', 'amarillo'}\n",
    "print('¿El color verde está en colores?:', 'verde' in colores)\n",
    "print('¿El color rosa está en colores?:', 'rosa' in colores)"
   ]
  },
  {
   "cell_type": "markdown",
   "metadata": {},
   "source": [
    "### Agregar y eliminar elementos"
   ]
  },
  {
   "cell_type": "code",
   "execution_count": 49,
   "metadata": {},
   "outputs": [
    {
     "name": "stdout",
     "output_type": "stream",
     "text": [
      "{'banana', 'manzana', 'naranja', 'pera'}\n",
      "frutilla agregada con add: {'banana', 'manzana', 'pera', 'frutilla', 'naranja'}\n",
      "pera eliminada con remove: {'banana', 'manzana', 'frutilla', 'naranja'}\n"
     ]
    }
   ],
   "source": [
    "frutas = {'banana', 'naranja', 'manzana','pera'}\n",
    "print(frutas)\n",
    "frutas.add('frutilla')        # Agregar un elemento\n",
    "print('frutilla agregada con add:', frutas)\n",
    "\n",
    "frutas.remove('pera')         # Quitar un elemento\n",
    "print('pera eliminada con remove:', frutas)"
   ]
  },
  {
   "cell_type": "markdown",
   "metadata": {},
   "source": [
    "### Combinar conjuntos con los métodos **`union`** y **`update`**"
   ]
  },
  {
   "cell_type": "code",
   "execution_count": 58,
   "metadata": {},
   "outputs": [
    {
     "name": "stdout",
     "output_type": "stream",
     "text": [
      "set de colores: {'verde', 'rojo', 'azul', 'blanco', 'amarillo'}\n",
      "set de numeros: {1, 2, 3, 6}\n",
      "combinando con union: {1, 2, 'rojo', 3, 6, 'amarillo', 'verde', 'azul', 'blanco'}\n",
      "El método union no modifica los sets:\n",
      "set de colores: {'verde', 'rojo', 'azul', 'blanco', 'amarillo'}\n",
      "set de numeros: {1, 2, 3, 6}\n",
      "\n",
      "El método update modifica el set que actualiza, en este caso colores:\n",
      "set de colores: {1, 2, 'rojo', 3, 6, 'amarillo', 'verde', 'azul', 'blanco'}\n",
      "set de numeros: {1, 2, 3, 6}\n"
     ]
    }
   ],
   "source": [
    "colores = {'verde', 'blanco', 'azul', 'rojo', 'amarillo'}\n",
    "numeros = {1, 2, 3, 6}\n",
    "print('set de colores:', colores)\n",
    "print('set de numeros:', numeros)\n",
    "\n",
    "# con union\n",
    "mezcla = colores.union(numeros)\n",
    "print('combinando con union:', mezcla)\n",
    "\n",
    "print('El método union no modifica los sets:')\n",
    "print('set de colores:', colores)\n",
    "print('set de numeros:', numeros)\n",
    "\n",
    "print()\n",
    "# con update\n",
    "colores.update(numeros)\n",
    "print('El método update modifica el set que actualiza, en este caso colores:')\n",
    "print('set de colores:', colores)\n",
    "print('set de numeros:', numeros)"
   ]
  },
  {
   "cell_type": "markdown",
   "metadata": {},
   "source": [
    "### Operaciones entre conjuntos (las más usuales):"
   ]
  },
  {
   "cell_type": "code",
   "execution_count": 61,
   "metadata": {},
   "outputs": [
    {
     "name": "stdout",
     "output_type": "stream",
     "text": [
      "set s1: {'b', 'c', 'a'}\n",
      "set s2: {'c', 'd'}\n",
      "\n",
      "Unión entre s1 y s1: {'a', 'd', 'c', 'b'}\n",
      "Intersección entre s1 y s2 {'c'}\n",
      "Diferencia entre s1 y s2 {'a', 'b'}\n"
     ]
    }
   ],
   "source": [
    "# Dados los sets s1 y s2\n",
    "s1 = { 'a', 'b', 'c'}\n",
    "s2 = { 'c', 'd' }\n",
    "# se puede realizar la unión, la intersección y la diferencia, entre otras.\n",
    "s1 | s2                 # Unión de conjuntos { 'a', 'b', 'c', 'd' }\n",
    "s1 & s2                 # Intersección de conjuntos { 'c' }\n",
    "s1 - s2                 # Diferencia de conjuntos { 'a', 'b' }\n",
    "\n",
    "print('set s1:', s1)\n",
    "print('set s2:', s2)\n",
    "print()\n",
    "print('Unión entre s1 y s1:', s1|s2) # notar es otra forma de hacer la unión\n",
    "print('Intersección entre s1 y s2', s1 & s2)\n",
    "print('Diferencia entre s1 y s2', s1 - s2)"
   ]
  }
 ],
 "metadata": {
  "kernelspec": {
   "display_name": "Python 3",
   "language": "python",
   "name": "python3"
  },
  "language_info": {
   "codemirror_mode": {
    "name": "ipython",
    "version": 3
   },
   "file_extension": ".py",
   "mimetype": "text/x-python",
   "name": "python",
   "nbconvert_exporter": "python",
   "pygments_lexer": "ipython3",
   "version": "3.11.1"
  },
  "orig_nbformat": 4
 },
 "nbformat": 4,
 "nbformat_minor": 2
}
