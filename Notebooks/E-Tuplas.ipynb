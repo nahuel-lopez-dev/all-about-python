{
 "cells": [
  {
   "attachments": {},
   "cell_type": "markdown",
   "metadata": {},
   "source": [
    "# ⚡ *`Tuplas`* ⚡"
   ]
  },
  {
   "attachments": {},
   "cell_type": "markdown",
   "metadata": {},
   "source": [
    "### `Definiendo Tuplas`"
   ]
  },
  {
   "cell_type": "code",
   "execution_count": 1,
   "metadata": {},
   "outputs": [
    {
     "name": "stdout",
     "output_type": "stream",
     "text": [
      "(35, 1.77, 'Brais', 'Moure', 'Brais')\n",
      "<class 'tuple'>\n",
      "(35, 60, 30)\n",
      "<class 'tuple'>\n"
     ]
    }
   ],
   "source": [
    "### Tuplas ###\n",
    "# son inmutables. \n",
    "# Ocupan menos espacio en memoria que las listas porque se guardan en un espacio especial de sólo lectura.\n",
    "\n",
    "# Definición\n",
    "tupla_1 = tuple()\n",
    "tupla_2 = ()\n",
    "\n",
    "tupla_1 = (35, 1.77, \"Brais\", \"Moure\", \"Brais\")\n",
    "tupla_2 = (35, 60, 30)\n",
    "\n",
    "print(tupla_1)\n",
    "print(type(tupla_1))\n",
    "\n",
    "print(tupla_2)\n",
    "print(type(tupla_2))"
   ]
  },
  {
   "attachments": {},
   "cell_type": "markdown",
   "metadata": {},
   "source": [
    "#### `Acceso a elementos y búsqueda`"
   ]
  },
  {
   "cell_type": "code",
   "execution_count": 13,
   "metadata": {},
   "outputs": [
    {
     "name": "stdout",
     "output_type": "stream",
     "text": [
      "Tupla cursos: ('Python', 'Flask', 'Django', 'Rails', 'MongoDB', 'Python')\n",
      "Primer curso: Python\n",
      "Último curso: Python\n",
      "Subtupla1: ('Python', 'Flask', 'Django', 'Rails', 'MongoDB', 'Python')\n",
      "Subtupla2: ('Django', 'Rails', 'MongoDB', 'Python')\n",
      "Cantidad de cursos de Python en la tupla: 2\n",
      "Posición de Flask en la tupla: 1\n",
      "Posición de MongoDB en la tupla: 4\n"
     ]
    }
   ],
   "source": [
    "# Acceso a elementos y búsqueda\n",
    "cursos = ('Python', 'Flask', 'Django', 'Rails', 'MongoDB', 'Python')\n",
    "#           0           1       2          3        4         5\n",
    "print('Tupla cursos:', cursos)\n",
    "\n",
    "primer_curso = cursos[0]\n",
    "print('Primer curso:', primer_curso)\n",
    "\n",
    "ultimo_curso = cursos[-1]\n",
    "print('Último curso:', ultimo_curso)\n",
    "\n",
    "sub_tupla1 = cursos[:]\n",
    "sub_tupla2 = cursos[2:]\n",
    "print('Subtupla1:',sub_tupla1)\n",
    "print('Subtupla2:',sub_tupla2)\n",
    "\n",
    "# método count e index\n",
    "print('Cantidad de cursos de Python en la tupla:', cursos.count(\"Python\"))\n",
    "print('Posición de Flask en la tupla:', cursos.index(\"Flask\"))\n",
    "print('Posición de MongoDB en la tupla:', cursos.index(\"MongoDB\"))"
   ]
  },
  {
   "attachments": {},
   "cell_type": "markdown",
   "metadata": {},
   "source": [
    "#### `Convertir listas en tuplas y tuplas en listas`\n",
    "**Muy útil:** A veces es útil convertir una lista en una tupla o una tupla en una lista."
   ]
  },
  {
   "cell_type": "code",
   "execution_count": 16,
   "metadata": {},
   "outputs": [
    {
     "name": "stdout",
     "output_type": "stream",
     "text": [
      "Lista cursos: ['Python', 'Django', 'Flask']\n",
      "Tupla cursos: ('Python', 'Django', 'Flask')\n",
      "<class 'tuple'>\n",
      "\n",
      "Tupla niveles ('Básico', 'Intermedio', 'Avanzado')\n",
      "lista_niveles: ['Básico', 'Intermedio', 'Avanzado']\n",
      "<class 'list'>\n"
     ]
    }
   ],
   "source": [
    "cursos = ['Python', 'Django', 'Flask']\n",
    "print('Lista cursos:', cursos)\n",
    "cursos_tupla = tuple(cursos)\n",
    "print('Tupla cursos:', cursos_tupla)\n",
    "print(type(cursos_tupla))\n",
    "\n",
    "print()\n",
    "\n",
    "niveles = ('Básico', 'Intermedio', 'Avanzado')\n",
    "print('Tupla niveles', niveles)\n",
    "lista_niveles = list(niveles)\n",
    "print('lista_niveles:', lista_niveles)\n",
    "print(type(lista_niveles))"
   ]
  },
  {
   "attachments": {},
   "cell_type": "markdown",
   "metadata": {},
   "source": [
    "#### `Desempaquetado`"
   ]
  },
  {
   "cell_type": "code",
   "execution_count": 17,
   "metadata": {},
   "outputs": [
    {
     "name": "stdout",
     "output_type": "stream",
     "text": [
      "1\n",
      "3\n",
      "4\n",
      "9\n",
      "10\n"
     ]
    }
   ],
   "source": [
    "# * -> lista\n",
    "# _ -> Omitir valor\n",
    "\n",
    "numeros = (1, 2, 3, 4, 5, 6, 7, 8, 9, 10)\n",
    "uno, _, tres, cuatro, *_, nueve, diez = numeros\n",
    "\n",
    "print(uno)\n",
    "\n",
    "print(tres)\n",
    "print(cuatro)\n",
    "\n",
    "print(nueve)\n",
    "print(diez)\n",
    "\n",
    "# print(resto_numeros)"
   ]
  },
  {
   "attachments": {},
   "cell_type": "markdown",
   "metadata": {},
   "source": [
    "#### `Comprimir con zip para generar tuplas`\n",
    "Es el proceso inverso al desepaquetado"
   ]
  },
  {
   "cell_type": "code",
   "execution_count": 18,
   "metadata": {},
   "outputs": [
    {
     "name": "stdout",
     "output_type": "stream",
     "text": [
      "((1, 10, 100, 1000), (2, 20, 200, 2000), (3, 30, 300, 3000), (4, 40, 400, 4000), (5, 50, 500, 5000))\n"
     ]
    }
   ],
   "source": [
    "lista = [1, 2, 3, 4, 5, 6, 7]\n",
    "\n",
    "tupla = (10, 20, 30, 40, 50)\n",
    "\n",
    "lista_2 = [100, 200, 300, 400, 500, 600, 700]\n",
    "\n",
    "tupla_2 = (1000, 2000, 3000, 4000, 5000)\n",
    "\n",
    "resultado = zip(lista, tupla, lista_2, tupla_2) # -> zip\n",
    "resultado = tuple(resultado)\n",
    "\n",
    "print(resultado)"
   ]
  },
  {
   "attachments": {},
   "cell_type": "markdown",
   "metadata": {},
   "source": [
    "### `Test de pertenencia (in, not in)`"
   ]
  },
  {
   "cell_type": "code",
   "execution_count": 19,
   "metadata": {},
   "outputs": [
    {
     "name": "stdout",
     "output_type": "stream",
     "text": [
      "¿melón está en la lista?: False\n",
      "melón no está en la lista: True\n",
      "¿peras está en la lista?: True\n",
      "¿la letra \"d\" está en la lista?  True\n"
     ]
    }
   ],
   "source": [
    "# test de pertenencia (in, not in)\n",
    "frutas = ['manzanas', 'peras', 'bananas', 'naranjas']\n",
    "print('¿melón está en la lista?:', 'melon' in frutas) # False\n",
    "print('melón no está en la lista:', 'melon' not in frutas) # True\n",
    "print('¿peras está en la lista?:', 'peras' in frutas) # False\n",
    "\n",
    "# usando in\n",
    "basket = ['a','b','c','c','c','d','e']\n",
    "print('¿la letra \"d\" está en la lista?','d' in basket) # True"
   ]
  },
  {
   "attachments": {},
   "cell_type": "markdown",
   "metadata": {},
   "source": [
    "### `Operaciones con listas`"
   ]
  },
  {
   "attachments": {},
   "cell_type": "markdown",
   "metadata": {},
   "source": [
    "#### `slicing`"
   ]
  },
  {
   "cell_type": "code",
   "execution_count": 49,
   "metadata": {},
   "outputs": [
    {
     "name": "stdout",
     "output_type": "stream",
     "text": [
      "He\n",
      "amazon_cart: ['notebook', 'sunglasses', 'toys', 'grapes']\n",
      "amazon_cart[0] = \"laptop\"\n",
      "amazon_cart ['laptop', 'sunglasses', 'toys', 'grapes']\n",
      "amazon_cart[0:2] : ['laptop', 'sunglasses']\n",
      "amazon_cart[0::2] : ['laptop', 'toys']\n",
      "\n",
      "numbers: [1, 2, 3, 4, 5, 6, 7, 8, 9, 10, 11, 12, 13, 14, 15, 16, 17, 18, 19, 20, 21, 22, 23, 24, 25, 26, 27, 28, 29, 30]\n",
      "Largo de la lista numbers: 30\n",
      "numbers[8:20] : [9, 10, 11, 12, 13, 14, 15, 16, 17, 18, 19, 20]\n",
      "numbers[1:29:2] : [2, 4, 6, 8, 10, 12, 14, 16, 18, 20, 22, 24, 26, 28]\n",
      "numbers[15:] : [16, 17, 18, 19, 20, 21, 22, 23, 24, 25, 26, 27, 28, 29, 30]\n",
      "numbers[:15] : [1, 2, 3, 4, 5, 6, 7, 8, 9, 10, 11, 12, 13, 14, 15]\n",
      "numbers[::4] : [1, 5, 9, 13, 17, 21, 25, 29]\n",
      "numbers[::-1] : [30, 29, 28, 27, 26, 25, 24, 23, 22, 21, 20, 19, 18, 17, 16, 15, 14, 13, 12, 11, 10, 9, 8, 7, 6, 5, 4, 3, 2, 1]\n",
      "numbers[::-2] : [30, 28, 26, 24, 22, 20, 18, 16, 14, 12, 10, 8, 6, 4, 2]\n"
     ]
    }
   ],
   "source": [
    "# más sobre slicing, que es muy útil\n",
    "# [inicio, fin, valor en el que avanza]\n",
    "string = 'Hellooo' # se puede usar para strings que son cadenas de caracteres\n",
    "print(string[0:2:1]) # He\n",
    "#string[0] = 'z' # da error, porque los strings son inmutables\n",
    "\n",
    "# se puede usar para listas\n",
    "# las listas son mutables\n",
    "amazon_cart = ['notebook', 'sunglasses', 'toys', 'grapes']\n",
    "print('amazon_cart:', amazon_cart)\n",
    "amazon_cart[0] = 'laptop'\n",
    "print('amazon_cart[0] = \"laptop\"')\n",
    "print('amazon_cart', amazon_cart)\n",
    "\n",
    "print('amazon_cart[0:2] :', amazon_cart[0:2]) # ['laptop', 'sunglasses']\n",
    "# [0::2] desde la posición 0 hasta el final, tomando de a dos\n",
    "print('amazon_cart[0::2] :', amazon_cart[0::2]) # ['laptop', 'toys']\n",
    "\n",
    "print()\n",
    "numbers = [1,2,3,4,5,6,7,8,9,10,11,12,13,14,15,16,17,18,19,20,21,22,23,24,25,26,27,28,29,30]\n",
    "print('numbers:', numbers)\n",
    "print('Largo de la lista numbers:', len(numbers))\n",
    "\n",
    "print('numbers[8:20] :', numbers[8:20]) # desde el índice 8 al 20 sin incluir este último\n",
    "print('numbers[1:29:2] :', numbers[1:29:2]) # desde el índice 1 hasta el último que es el 29, saltando de 2 en 2\n",
    "print('numbers[15:] :', numbers[15:]) # desde la posición 15 en adelante\n",
    "print('numbers[:15] :', numbers[:15]) # desde el principio de la lista hasta la posición 15\n",
    "print('numbers[::4] :', numbers[::4]) # desde el principio de la lista, tomando de a 4\n",
    "print('numbers[::-1] :', numbers[::-1]) # tomando toda la lista, pero invertida\n",
    "print('numbers[::-2] :', numbers[::-2]) # tomando toda la lista invertida, pero de a 2"
   ]
  },
  {
   "attachments": {},
   "cell_type": "markdown",
   "metadata": {},
   "source": [
    "#### `Copiando listas`\n",
    "Para mantener una lista original, muchas veces es útil hacer una copia de ella, y así no se generan otras que apunten al mismo lugar en memoria, ya que esto produce que si una se se altera la otra también. Para evitar esto, se debe hacer una copia de la lista, y guardarla en una variable."
   ]
  },
  {
   "cell_type": "code",
   "execution_count": 63,
   "metadata": {},
   "outputs": [
    {
     "name": "stdout",
     "output_type": "stream",
     "text": [
      "new_cart: ['gum', 'sunglasses', 'toys', 'grapes']\n",
      "amazon_cart: ['notebook', 'sunglasses', 'toys', 'grapes']\n",
      "letters: ['a', 'x', 'b', 'c', 'd', 'e', 'd']\n",
      "letters2: ['a', 'x', 'b', 'c', 'd', 'e', 'd']\n"
     ]
    }
   ],
   "source": [
    "# Dos o más listas, pueden apuntar al mismo lugar en memoria\n",
    "# para no modificar una y alterar la otra, hay que hacer una copia\n",
    "\n",
    "# new_cart = amazon_cart # apuntan a la misma dirección en memoria\n",
    "amazon_cart = ['notebook', 'sunglasses', 'toys', 'grapes']\n",
    "# copia una lista y la retorna. Útil para guardarla en una variable\n",
    "new_cart = amazon_cart[:]\n",
    "new_cart[0] = 'gum'\n",
    "print('new_cart:', new_cart) # ['gum', 'sunglasses', 'toys', 'grapes']\n",
    "print('amazon_cart:', amazon_cart) # ['laptop', 'sunglasses', 'toys', 'grapes']\n",
    "\n",
    "# Lo mismo de otra manera. Con el método copy\n",
    "letters = ['a', 'x', 'b', 'c', 'd', 'e', 'd']\n",
    "letters2 = letters.copy() # con esto no se modifica la original al cambiar letters2\n",
    "print('letters:', letters)\n",
    "print('letters2:', letters2)\n"
   ]
  },
  {
   "attachments": {},
   "cell_type": "markdown",
   "metadata": {},
   "source": [
    "#### `Concatenación de listas`"
   ]
  },
  {
   "cell_type": "code",
   "execution_count": 60,
   "metadata": {},
   "outputs": [
    {
     "name": "stdout",
     "output_type": "stream",
     "text": [
      "['enero', 'febrero', 'marzo', 'abril', 'mayo', 'junio', 'julio', 'agosto', 'septiembre', 'octubre', 'noviembre', 'diciembre']\n",
      "['enero', 'febrero', 'marzo', 'abril', 'mayo', 'junio', 'julio', 'agosto', 'septiembre', 'octubre', 'noviembre', 'diciembre']\n",
      "[1, 2, 3, 4, 5]\n",
      "[1, 2, 3, 4, 5, 100, 101]\n"
     ]
    }
   ],
   "source": [
    "# Concatenación de listas\n",
    "meses1 = ['enero', 'febrero', 'marzo', 'abril', 'mayo', 'junio']\n",
    "meses2 = ['julio', 'agosto', 'septiembre', 'octubre', 'noviembre', 'diciembre']\n",
    "print(meses1 + meses2)\n",
    "# junta las dos listas en una misma lista y lo retorna. Es importante saber eso para poder guardarlo en una variable.\n",
    "meses_totales = meses1 + meses2\n",
    "print(meses_totales)\n",
    "# print(my_list - my_other_list)\n",
    "\n",
    "basket = [1,2,3,4,5]\n",
    "print(basket)\n",
    "# adding con extend, no retorna una nueva lista, modifica la original\n",
    "basket.extend([100, 101]) # basket = [1,2,3,4,5,100,101]\n",
    "print(basket)"
   ]
  },
  {
   "attachments": {},
   "cell_type": "markdown",
   "metadata": {},
   "source": [
    "#### `Creación, inserción, actualización y eliminación`"
   ]
  },
  {
   "cell_type": "code",
   "execution_count": 81,
   "metadata": {},
   "outputs": [
    {
     "name": "stdout",
     "output_type": "stream",
     "text": [
      "['notebook', 'sunglasses', 'toys', 'grapes']\n",
      "['notebook', 'sunglasses', 'toys', 'grapes', 'mouse']\n",
      "['notebook', 'laptop', 'sunglasses', 'toys', 'grapes', 'mouse']\n",
      "['notebook', 'laptop Lenovo', 'sunglasses', 'toys', 'grapes', 'mouse']\n",
      "['notebook', 'laptop Lenovo', 'toys', 'grapes', 'mouse']\n",
      "mouse\n",
      "['notebook', 'laptop Lenovo', 'toys', 'grapes']\n",
      "toys\n",
      "['notebook', 'laptop Lenovo', 'grapes']\n",
      "['notebook', 'laptop Lenovo']\n",
      "[1, 2, 3, 4, 5, 6, 7, 8, 9, 10, 11, 12, 13, 14, 15, 16, 17, 18, 19, 20, 21, 22, 23, 24, 25, 26, 27, 28, 29, 30]\n",
      "[]\n"
     ]
    }
   ],
   "source": [
    "# Creación, inserción, actualización y eliminación\n",
    "\n",
    "#Creando la lista amazon_cart\n",
    "amazon_cart = ['notebook', 'sunglasses', 'toys', 'grapes']\n",
    "print(amazon_cart)\n",
    "\n",
    "# Inserción\n",
    "# append agrega al final\n",
    "amazon_cart.append(\"mouse\")\n",
    "print(amazon_cart)\n",
    "# insert usa dos parámetros, el primero indica el indice \n",
    "# donde se agrega, el segundo el elemento a agregar\n",
    "amazon_cart.insert(1, \"laptop\")\n",
    "print(amazon_cart)\n",
    "\n",
    "# Actualizando: indicando la posición del elemento\n",
    "amazon_cart[1] = \"laptop Lenovo\"\n",
    "print(amazon_cart)\n",
    "\n",
    "# Eliminación\n",
    "# eliminando un elemento por su valor\n",
    "amazon_cart.remove(\"sunglasses\")\n",
    "print(amazon_cart)\n",
    "# eliminando el último elemento. Retorna el elemento borrado\n",
    "print(amazon_cart.pop())\n",
    "print(amazon_cart)\n",
    "# eliminando un elemento por su posición (su índice). Retorna el elemento borrado\n",
    "my_pop_element = amazon_cart.pop(2)\n",
    "print(my_pop_element)\n",
    "print(amazon_cart)\n",
    "# eliminando un elemento por su posición, de otra manera\n",
    "del amazon_cart[2]\n",
    "print(amazon_cart)\n",
    "\n",
    "# elimina todos los elementos de una lista\n",
    "numbers = [1,2,3,4,5,6,7,8,9,10,11,12,13,14,15,16,17,18,19,20,21,22,23,24,25,26,27,28,29,30]\n",
    "print(numbers)\n",
    "numbers.clear()\n",
    "print(numbers)"
   ]
  },
  {
   "attachments": {},
   "cell_type": "markdown",
   "metadata": {},
   "source": [
    "### `Métodos de ordenamiento`"
   ]
  },
  {
   "attachments": {},
   "cell_type": "markdown",
   "metadata": {},
   "source": [
    "#### `reverse`\n",
    "Invierte todos los elementos de una lista, del final al principio. Modifica la lista original"
   ]
  },
  {
   "cell_type": "code",
   "execution_count": 79,
   "metadata": {},
   "outputs": [
    {
     "name": "stdout",
     "output_type": "stream",
     "text": [
      "numbers: [1, 2, 3, 4, 5, 6, 7, 8, 9, 10, 11, 12, 13, 14, 15, 16, 17, 18, 19, 20, 21, 22, 23, 24, 25, 26, 27, 28, 29, 30]\n",
      "numbers.reverse() : [30, 29, 28, 27, 26, 25, 24, 23, 22, 21, 20, 19, 18, 17, 16, 15, 14, 13, 12, 11, 10, 9, 8, 7, 6, 5, 4, 3, 2, 1]\n",
      "\n",
      "numbers: [1, 2, 3, 4, 5, 6, 7, 8, 9, 10, 11, 12, 13, 14, 15, 16, 17, 18, 19, 20, 21, 22, 23, 24, 25, 26, 27, 28, 29, 30]\n",
      "numbers[::-1] : [30, 29, 28, 27, 26, 25, 24, 23, 22, 21, 20, 19, 18, 17, 16, 15, 14, 13, 12, 11, 10, 9, 8, 7, 6, 5, 4, 3, 2, 1]\n",
      "numbers_invertidos: [30, 29, 28, 27, 26, 25, 24, 23, 22, 21, 20, 19, 18, 17, 16, 15, 14, 13, 12, 11, 10, 9, 8, 7, 6, 5, 4, 3, 2, 1]\n"
     ]
    }
   ],
   "source": [
    "numbers = [1,2,3,4,5,6,7,8,9,10,11,12,13,14,15,16,17,18,19,20,21,22,23,24,25,26,27,28,29,30]\n",
    "print('numbers:', numbers)\n",
    "numbers.reverse() # afecta a la lista original\n",
    "print('numbers.reverse() :', numbers)\n",
    "print()\n",
    "numbers = [1,2,3,4,5,6,7,8,9,10,11,12,13,14,15,16,17,18,19,20,21,22,23,24,25,26,27,28,29,30]\n",
    "print('numbers:', numbers)\n",
    "print('numbers[::-1] :', numbers[::-1]) # lo mismo que reverse pero genera una copia de la lista haciendo slicing\n",
    "numbers_invertidos = numbers[::-1] # No modifica la lista original\n",
    "print('numbers_invertidos:', numbers_invertidos)\n"
   ]
  },
  {
   "attachments": {},
   "cell_type": "markdown",
   "metadata": {},
   "source": [
    "#### `sort y sorted`\n",
    "Para ordenar las listas"
   ]
  },
  {
   "cell_type": "code",
   "execution_count": 97,
   "metadata": {},
   "outputs": [
    {
     "name": "stdout",
     "output_type": "stream",
     "text": [
      "sort, modifica la lista original\n",
      "basket: ['a', 'x', 'b', 'c', 'd', 'e', 'd']\n",
      "basket: ['a', 'b', 'c', 'd', 'd', 'e', 'x']\n",
      "\n",
      "sorted, retorna una nueva lista, no modifica la original\n",
      "basket: ['a', 'x', 'b', 'c', 'd', 'e', 'd']\n",
      "sorted(basket) : ['a', 'b', 'c', 'd', 'd', 'e', 'x']\n",
      "basket ['a', 'x', 'b', 'c', 'd', 'e', 'd']\n",
      "basket_ordenada: ['a', 'b', 'c', 'd', 'd', 'e', 'x']\n"
     ]
    }
   ],
   "source": [
    "# sort, modifica la lista original\n",
    "print('sort, modifica la lista original')\n",
    "basket = ['a', 'x', 'b', 'c', 'd', 'e', 'd']\n",
    "print('basket:', basket)\n",
    "basket.sort() # la ordena\n",
    "print('basket:', basket) # modifica la lista original\n",
    "\n",
    "print()\n",
    "\n",
    "# sorted, retorna una nueva lista, no modifica la original\n",
    "print('sorted, retorna una nueva lista, no modifica la original')\n",
    "basket = ['a', 'x', 'b', 'c', 'd', 'e', 'd']\n",
    "print('basket:', basket)\n",
    "print('sorted(basket) :', sorted(basket))\n",
    "print('basket', basket) # esta lista no fue modificada\n",
    "basket_ordenada = sorted(basket)\n",
    "print('basket_ordenada:', basket_ordenada)"
   ]
  },
  {
   "attachments": {},
   "cell_type": "markdown",
   "metadata": {},
   "source": [
    "#### `split`\n",
    "Otra forma de crear una lista a partir de una cadena de caracteres. Por ejemplo, si exportamos datos desde una planilla de cálculo, con valores estarán separados por comas, y entonces los podemos separar usando el método `split()`:"
   ]
  },
  {
   "cell_type": "code",
   "execution_count": 107,
   "metadata": {},
   "outputs": [
    {
     "name": "stdout",
     "output_type": "stream",
     "text": [
      "['Manzana', '200', '390.10']\n",
      "<class 'list'>\n"
     ]
    }
   ],
   "source": [
    "line = 'Manzana,200,390.10'\n",
    "fila = line.split(',') # la coma indica el elemento que se usa como separador\n",
    "print(fila)\n",
    "print(type(fila))"
   ]
  },
  {
   "attachments": {},
   "cell_type": "markdown",
   "metadata": {},
   "source": [
    "#### `método join`"
   ]
  },
  {
   "cell_type": "code",
   "execution_count": 102,
   "metadata": {},
   "outputs": [
    {
     "name": "stdout",
     "output_type": "stream",
     "text": [
      "hi my name is Nahuel\n"
     ]
    }
   ],
   "source": [
    "# método join\n",
    "sentence = ' '\n",
    "new_sentence = sentence.join(['hi', 'my', 'name', 'is', 'Nahuel'])\n",
    "print(new_sentence)\n"
   ]
  },
  {
   "attachments": {},
   "cell_type": "markdown",
   "metadata": {},
   "source": [
    "#### `list unpacking`"
   ]
  },
  {
   "cell_type": "code",
   "execution_count": 101,
   "metadata": {},
   "outputs": [
    {
     "name": "stdout",
     "output_type": "stream",
     "text": [
      "Nahuel Lopez tiene 35 años y mide 1.78 metros\n",
      "\n",
      "35\n",
      "1\n",
      "2\n",
      "3\n",
      "[4, 5, 6, 7, 8]\n",
      "9\n"
     ]
    }
   ],
   "source": [
    "# list unpacking\n",
    "datos_persona = [35, 1.78, \"Nahuel\", \"Lopez\"]\n",
    "age, height, name, surname = datos_persona\n",
    "print(f'{name} {surname} tiene {age} años y mide {height} metros')\n",
    "\n",
    "print()\n",
    "name, height, age, surname = datos_persona[2], datos_persona[1], datos_persona[0], datos_persona[3]\n",
    "print(age)\n",
    "\n",
    "a,b,c, *other,d  = [1,2,3,4,5,6,7,8,9]\n",
    "print(a) # 1\n",
    "print(b) # 2\n",
    "print(c) # 3\n",
    "print(other) # [4,5,6,7,8]\n",
    "print(d) # 9"
   ]
  },
  {
   "attachments": {},
   "cell_type": "markdown",
   "metadata": {},
   "source": [
    "#### `range`"
   ]
  },
  {
   "cell_type": "code",
   "execution_count": 105,
   "metadata": {},
   "outputs": [
    {
     "name": "stdout",
     "output_type": "stream",
     "text": [
      "[0, 1, 2, 3, 4, 5, 6, 7, 8, 9, 10, 11, 12, 13, 14, 15, 16, 17, 18, 19, 20, 21, 22, 23, 24, 25, 26, 27, 28, 29, 30, 31, 32, 33, 34, 35, 36, 37, 38, 39, 40, 41, 42, 43, 44, 45, 46, 47, 48, 49, 50]\n",
      "[1, 2, 3, 4, 5, 6, 7, 8, 9, 10, 11, 12, 13, 14, 15, 16, 17, 18, 19, 20, 21, 22, 23, 24, 25, 26, 27, 28, 29, 30, 31, 32, 33, 34, 35, 36, 37, 38, 39, 40, 41, 42, 43, 44, 45, 46, 47, 48, 49, 50]\n"
     ]
    }
   ],
   "source": [
    "# llenando una lista con range\n",
    "print(list(range(51))) # desde el 0 al 100 (hay 101 números)\n",
    "print(list(range(1,51))) # desde el 1 al 99 (hay 99 números, 100-1)"
   ]
  },
  {
   "attachments": {},
   "cell_type": "markdown",
   "metadata": {},
   "source": [
    "#### `max, min y sum`\n",
    "Las listas también admiten algunas funciones básicas que las reducen a un sólo número, como `max()`, `min()` y `sum()`:"
   ]
  },
  {
   "cell_type": "code",
   "execution_count": 115,
   "metadata": {},
   "outputs": [
    {
     "name": "stdout",
     "output_type": "stream",
     "text": [
      "\n",
      "mínimo: 1\n",
      "\n",
      "máximo: 30\n",
      "\n",
      "sumatoria: 465\n"
     ]
    }
   ],
   "source": [
    "numbers = [1,2,3,4,5,6,7,8,9,10,11,12,13,14,15,16,17,18,19,20,21,22,23,24,25,26,27,28,29,30]\n",
    "\n",
    "print()\n",
    "minimo = min(numbers)\n",
    "print('mínimo:', minimo)\n",
    "\n",
    "print()\n",
    "maximo = max(numbers)\n",
    "print('máximo:', maximo)\n",
    "\n",
    "print()\n",
    "sumatoria = sum(numbers)\n",
    "print('sumatoria:', sumatoria)"
   ]
  },
  {
   "attachments": {},
   "cell_type": "markdown",
   "metadata": {},
   "source": [
    "#### `matrix`"
   ]
  },
  {
   "cell_type": "code",
   "execution_count": 103,
   "metadata": {},
   "outputs": [
    {
     "name": "stdout",
     "output_type": "stream",
     "text": [
      "2\n",
      "6\n"
     ]
    }
   ],
   "source": [
    "# matrix bidimensional\n",
    "matrix = [\n",
    "    [1,2,3],\n",
    "    [4,5,6],\n",
    "    [7,8,9]\n",
    "]\n",
    "\n",
    "print(matrix[0][1]) # 2\n",
    "print(matrix[1][2]) # 6"
   ]
  }
 ],
 "metadata": {
  "kernelspec": {
   "display_name": "Python 3",
   "language": "python",
   "name": "python3"
  },
  "language_info": {
   "codemirror_mode": {
    "name": "ipython",
    "version": 3
   },
   "file_extension": ".py",
   "mimetype": "text/x-python",
   "name": "python",
   "nbconvert_exporter": "python",
   "pygments_lexer": "ipython3",
   "version": "3.11.1"
  },
  "orig_nbformat": 4
 },
 "nbformat": 4,
 "nbformat_minor": 2
}
